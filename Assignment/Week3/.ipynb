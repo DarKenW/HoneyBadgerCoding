{
 "cells": [
  {
   "cell_type": "markdown",
   "metadata": {},
   "source": [
    "# Overview\n",
    "The purpose of this assignment is for you to become familiar with the basics of the Linux shell and the range of commands that are included in most Linux distributions. This very definitely does not include all of the commands you will need for this course. Instead, it is aimed to help you learn about some basic commands as well as how to discover more on your own. You should use the Linux Pocket Guide and the Linux man command to find specific commands needed to answer these questions and use the Pocket Guide to read about related commands and topics. Yes, Google is also useful, but you should learn your way around the Guide and the standard Linux documentation, which is the primary source.\n",
    "\n",
    "There are two parts of the assignment. In Part I you are asked to run several commands and capture the terminal session in a script file to hand in. Part II consists of several questions to be answered in a separate file. You should turn in both files when you are done.\n",
    "\n"
   ]
  },
  {
   "cell_type": "markdown",
   "metadata": {},
   "source": [
    "# Part I\n",
    "\n",
    "Use the command *script hw1.part1* to start a shell and save the input and output into a file *hw1.part1*. Then run the commands needed to answer the following questions. If you make a few small mistakes you don't need to start over, but either edit the file to remove any substantial errors or include comments (input lines starting with #) next to short goofs so we can follow your output easily. Also don't worry about \"invisible\" control characters like tabs and backspaces that are captured in the script file. That is normal and not something that needs to be fixed.\n",
    "\n",
    "It would also be helpful if you included some comments to identify answers to the different sets of questions to make it easier for the graders to navigate through the output."
   ]
  },
  {
   "cell_type": "code",
   "execution_count": 18,
   "metadata": {},
   "outputs": [
    {
     "name": "stdout",
     "output_type": "stream",
     "text": [
      "Bash Shell Homework.ipynb hw1.part1\r\n"
     ]
    }
   ],
   "source": [
    "!ls"
   ]
  },
  {
   "cell_type": "code",
   "execution_count": 16,
   "metadata": {},
   "outputs": [
    {
     "name": "stdout",
     "output_type": "stream",
     "text": [
      "Script started, output file is hw1.part1\n",
      "bash-3.2$ \n",
      "bash-3.2$ \n",
      "bash-3.2$ "
     ]
    }
   ],
   "source": [
    "!script hw1.part1"
   ]
  },
  {
   "cell_type": "code",
   "execution_count": 22,
   "metadata": {},
   "outputs": [
    {
     "name": "stdout",
     "output_type": "stream",
     "text": [
      "Script started on Tue Oct  9 14:30:52 2018\r\n",
      "\u001b[?1034hbash-3.2$ "
     ]
    }
   ],
   "source": [
    "!cat hw1.part1"
   ]
  },
  {
   "cell_type": "markdown",
   "metadata": {},
   "source": [
    "## Getting Started\n",
    "\n",
    "1. Enter a command to print \"Hello world\" on the screen.\n",
    "2. Change your password. (You can change it back later if you want - don't forget it, though, you'll need it to log in next time.)\n",
    "3. Display the current date and time on the screen."
   ]
  },
  {
   "cell_type": "code",
   "execution_count": 21,
   "metadata": {},
   "outputs": [
    {
     "name": "stdout",
     "output_type": "stream",
     "text": [
      "Hello World\r\n"
     ]
    }
   ],
   "source": [
    "#1\n",
    "!echo \"Hello World\""
   ]
  },
  {
   "cell_type": "code",
   "execution_count": 31,
   "metadata": {},
   "outputs": [
    {
     "name": "stdout",
     "output_type": "stream",
     "text": [
      "Password:\n"
     ]
    }
   ],
   "source": [
    "#2\n",
    "!sudo passwd"
   ]
  },
  {
   "cell_type": "code",
   "execution_count": 27,
   "metadata": {},
   "outputs": [
    {
     "name": "stdout",
     "output_type": "stream",
     "text": [
      "Tue Oct  9 14:37:54 EDT 2018\r\n"
     ]
    }
   ],
   "source": [
    "#3\n",
    "!date"
   ]
  },
  {
   "cell_type": "markdown",
   "metadata": {},
   "source": [
    "## File paths and directory navigation\n",
    "- Display the full path of your home directory.\n",
    "- Go to your home directory.\n",
    "- List all the files in your current directory.\n",
    "- Now, create a new folder called ‘temp’.\n",
    "- Rename this folder to ‘files’.\n",
    "- Go to the ‘files’ folder.\n",
    "- Run a command to get the current date and time and save the output to a file called 'now'\n",
    "- Copy ‘now’ to a file called 'before'\n",
    "- List all the files in this directory. Use a more detailed listing where you can see the files' permissions, date written, etc.\n",
    "- Create a file called 'temp' without using a text editor. (There are at least three easy ways to do this.) Rename 'temp' to 'test'\n",
    "- Go up one directory.\n",
    "- Delete the ‘files’ folder with a single command. (The command you use should also delete all of the files inside of the folder.)"
   ]
  },
  {
   "cell_type": "code",
   "execution_count": 92,
   "metadata": {},
   "outputs": [
    {
     "name": "stdout",
     "output_type": "stream",
     "text": [
      "/bin/sh: /Users/DaKanWei: is a directory\r\n"
     ]
    }
   ],
   "source": [
    "#1\n",
    "!$HOME"
   ]
  },
  {
   "cell_type": "code",
   "execution_count": 93,
   "metadata": {},
   "outputs": [
    {
     "name": "stdout",
     "output_type": "stream",
     "text": [
      "/Users/DaKanWei\r\n"
     ]
    }
   ],
   "source": [
    "#1\n",
    "!echo $HOME"
   ]
  },
  {
   "cell_type": "code",
   "execution_count": 94,
   "metadata": {
    "scrolled": true
   },
   "outputs": [
    {
     "name": "stdout",
     "output_type": "stream",
     "text": [
      "AmericasCardroom\n",
      "AnacondaProjects\n",
      "Applications\n",
      "Books\n",
      "Code Asylum.ipynb\n",
      "Desktop\n",
      "Documents\n",
      "Downloads\n",
      "Google Drive\n",
      "IdeaProjects\n",
      "Library\n",
      "Movies\n",
      "Music\n",
      "Pictures\n",
      "Public\n",
      "PycharmProjects\n",
      "Rplots.pdf\n",
      "Shhh.ipynb\n",
      "Sites\n",
      "Untitled.Rmd\n",
      "Untitled.nb.html\n",
      "VirtualBox VMs\n",
      "anaconda 23.58.56\n",
      "corrected.gz\n",
      "google-cloud-sdk\n",
      "jupyter-scala\n",
      "kddcup.data.gz\n",
      "kddcup.data_10_percent.gz\n",
      "nltk_data\n",
      "pwd\n",
      "result.png\n",
      "scikit_learn_data\n",
      "seaborn-data\n",
      "spark-warehouse\n",
      "stock_sh.xlsx\n",
      "system_profiler.txt.gz\n",
      "untitled.txt\n",
      "woxihuanchi0\n",
      "woxihuanchi0.pub\n",
      "yum\n",
      "丰溪里-Big-Daddy.ipynb\n",
      "丰溪里.ipynb\n",
      "武道館.ipynb\n",
      "塞米巴拉斯克.ipynb\n"
     ]
    }
   ],
   "source": [
    "%%bash\n",
    "cd ~\n",
    "ls"
   ]
  },
  {
   "cell_type": "code",
   "execution_count": 95,
   "metadata": {
    "scrolled": true
   },
   "outputs": [
    {
     "name": "stdout",
     "output_type": "stream",
     "text": [
      "AmericasCardroom\n",
      "AnacondaProjects\n",
      "Applications\n",
      "Books\n",
      "Code Asylum.ipynb\n",
      "Desktop\n",
      "Documents\n",
      "Downloads\n",
      "Google Drive\n",
      "IdeaProjects\n",
      "Library\n",
      "Movies\n",
      "Music\n",
      "Pictures\n",
      "Public\n",
      "PycharmProjects\n",
      "Rplots.pdf\n",
      "Shhh.ipynb\n",
      "Sites\n",
      "Untitled.Rmd\n",
      "Untitled.nb.html\n",
      "VirtualBox VMs\n",
      "anaconda 23.58.56\n",
      "corrected.gz\n",
      "google-cloud-sdk\n",
      "jupyter-scala\n",
      "kddcup.data.gz\n",
      "kddcup.data_10_percent.gz\n",
      "nltk_data\n",
      "pwd\n",
      "result.png\n",
      "scikit_learn_data\n",
      "seaborn-data\n",
      "spark-warehouse\n",
      "stock_sh.xlsx\n",
      "system_profiler.txt.gz\n",
      "untitled.txt\n",
      "woxihuanchi0\n",
      "woxihuanchi0.pub\n",
      "yum\n",
      "丰溪里-Big-Daddy.ipynb\n",
      "丰溪里.ipynb\n",
      "武道館.ipynb\n",
      "塞米巴拉斯克.ipynb\n"
     ]
    }
   ],
   "source": [
    "%%bash\n",
    "cd ~\n",
    "ls\n",
    "mkdir temp"
   ]
  },
  {
   "cell_type": "code",
   "execution_count": 96,
   "metadata": {
    "scrolled": true
   },
   "outputs": [],
   "source": [
    "%%bash\n",
    "cd ~\n",
    "mv temp files"
   ]
  },
  {
   "cell_type": "code",
   "execution_count": 97,
   "metadata": {},
   "outputs": [],
   "source": [
    "%%bash\n",
    "cd ~\n",
    "cd files\n",
    "ls"
   ]
  },
  {
   "cell_type": "code",
   "execution_count": 102,
   "metadata": {},
   "outputs": [],
   "source": [
    "%%bash\n",
    "cd ~\n",
    "cd files\n",
    "date > now"
   ]
  },
  {
   "cell_type": "code",
   "execution_count": 103,
   "metadata": {},
   "outputs": [],
   "source": [
    "%%bash\n",
    "cd ~\n",
    "cd files\n",
    "cp now  before"
   ]
  },
  {
   "cell_type": "code",
   "execution_count": 106,
   "metadata": {},
   "outputs": [
    {
     "name": "stdout",
     "output_type": "stream",
     "text": [
      "total 16\n",
      "drwxr-xr-x    5 DKanWei  staff   160 Oct  9 15:04 .\n",
      "drwxr-xr-x+ 110 DKanWei  staff  3520 Oct  9 15:01 ..\n",
      "drwxr-xr-x    2 DKanWei  staff    64 Oct  9 15:03 .ipynb_checkpoints\n",
      "-rw-r--r--    1 DKanWei  staff    29 Oct  9 15:04 before\n",
      "-rw-r--r--    1 DKanWei  staff    29 Oct  9 15:03 now\n"
     ]
    }
   ],
   "source": [
    "%%bash\n",
    "cd ~\n",
    "cd files\n",
    "ls -al"
   ]
  },
  {
   "cell_type": "code",
   "execution_count": 111,
   "metadata": {},
   "outputs": [
    {
     "name": "stdout",
     "output_type": "stream",
     "text": [
      "before\n",
      "now\n",
      "temp\n"
     ]
    }
   ],
   "source": [
    "%%bash\n",
    "cd ~\n",
    "cd files\n",
    "touch temp\n",
    "ls"
   ]
  },
  {
   "cell_type": "code",
   "execution_count": 112,
   "metadata": {},
   "outputs": [
    {
     "name": "stdout",
     "output_type": "stream",
     "text": [
      "before\n",
      "now\n",
      "test\n"
     ]
    }
   ],
   "source": [
    "%%bash\n",
    "cd ~\n",
    "cd files\n",
    "mv temp test\n",
    "ls"
   ]
  },
  {
   "cell_type": "code",
   "execution_count": 113,
   "metadata": {
    "scrolled": true
   },
   "outputs": [
    {
     "name": "stdout",
     "output_type": "stream",
     "text": [
      "AmericasCardroom\n",
      "AnacondaProjects\n",
      "Applications\n",
      "Books\n",
      "Code Asylum.ipynb\n",
      "Desktop\n",
      "Documents\n",
      "Downloads\n",
      "Google Drive\n",
      "IdeaProjects\n",
      "Library\n",
      "Movies\n",
      "Music\n",
      "Pictures\n",
      "Public\n",
      "PycharmProjects\n",
      "Rplots.pdf\n",
      "Shhh.ipynb\n",
      "Sites\n",
      "Untitled.Rmd\n",
      "Untitled.nb.html\n",
      "VirtualBox VMs\n",
      "anaconda 23.58.56\n",
      "corrected.gz\n",
      "files\n",
      "google-cloud-sdk\n",
      "jupyter-scala\n",
      "kddcup.data.gz\n",
      "kddcup.data_10_percent.gz\n",
      "nltk_data\n",
      "pwd\n",
      "result.png\n",
      "scikit_learn_data\n",
      "seaborn-data\n",
      "spark-warehouse\n",
      "stock_sh.xlsx\n",
      "system_profiler.txt.gz\n",
      "untitled.txt\n",
      "woxihuanchi0\n",
      "woxihuanchi0.pub\n",
      "yum\n",
      "丰溪里-Big-Daddy.ipynb\n",
      "丰溪里.ipynb\n",
      "武道館.ipynb\n",
      "塞米巴拉斯克.ipynb\n"
     ]
    }
   ],
   "source": [
    "%%bash\n",
    "cd ~\n",
    "cd files\n",
    "cd ..\n",
    "ls"
   ]
  },
  {
   "cell_type": "code",
   "execution_count": 114,
   "metadata": {},
   "outputs": [],
   "source": [
    "%%bash\n",
    "cd ~\n",
    "cd files\n",
    "cd ..\n",
    "rm -R files "
   ]
  },
  {
   "cell_type": "markdown",
   "metadata": {},
   "source": [
    "## permissions\n",
    "- Create a file called 'secretfile' containing the text “It's a secret!” using the echo command.\n",
    "- Change the permission of this file in such a way so that no one can write to it. Use the ls command to show the file name and permissions.\n",
    "- Try to add more text to 'secretfile' using the cat command.\n",
    "- Change permission of this file so that no one can read it. Use the ls command again to show the file name and permissions.\n",
    "- Try to read the file using cat."
   ]
  },
  {
   "cell_type": "code",
   "execution_count": 128,
   "metadata": {
    "scrolled": true
   },
   "outputs": [],
   "source": [
    "%%bash\n",
    "cd ~\n",
    "echo \"It's a secret!\"  > secretfile"
   ]
  },
  {
   "cell_type": "code",
   "execution_count": 131,
   "metadata": {},
   "outputs": [
    {
     "name": "stdout",
     "output_type": "stream",
     "text": [
      "-------r-x  1 DKanWei  staff  15 Oct  9 15:22 secretfile\n"
     ]
    }
   ],
   "source": [
    "%%bash\n",
    "cd ~\n",
    "chmod 5 secretfile\n",
    "ls -al secretfile"
   ]
  },
  {
   "cell_type": "code",
   "execution_count": 132,
   "metadata": {},
   "outputs": [
    {
     "name": "stderr",
     "output_type": "stream",
     "text": [
      "cat: secretfile: Permission denied\n"
     ]
    }
   ],
   "source": [
    "%%bash\n",
    "cd ~\n",
    "cat notsecretfile.txt > secretfile.txt\n",
    "cat secretfile"
   ]
  },
  {
   "cell_type": "code",
   "execution_count": 133,
   "metadata": {},
   "outputs": [
    {
     "name": "stdout",
     "output_type": "stream",
     "text": [
      "--------w-  1 DKanWei  staff  15 Oct  9 15:22 secretfile\n"
     ]
    }
   ],
   "source": [
    "%%bash\n",
    "cd ~\n",
    "chmod 2 secretfile\n",
    "ls -al secretfile"
   ]
  },
  {
   "cell_type": "code",
   "execution_count": 134,
   "metadata": {},
   "outputs": [
    {
     "name": "stderr",
     "output_type": "stream",
     "text": [
      "cat: secretfile: Permission denied\n"
     ]
    }
   ],
   "source": [
    "%%bash\n",
    "cd ~\n",
    "cat secretfile"
   ]
  },
  {
   "cell_type": "markdown",
   "metadata": {},
   "source": [
    "## Process Information\n",
    "- Enter a command to display the version of the Linux kernel that you are you using.\n",
    "- List all of the processes that are currently running."
   ]
  },
  {
   "cell_type": "code",
   "execution_count": 140,
   "metadata": {},
   "outputs": [
    {
     "name": "stdout",
     "output_type": "stream",
     "text": [
      "Darwin\r\n"
     ]
    }
   ],
   "source": [
    "!uname "
   ]
  },
  {
   "cell_type": "code",
   "execution_count": null,
   "metadata": {},
   "outputs": [],
   "source": [
    "!uname -a"
   ]
  },
  {
   "cell_type": "code",
   "execution_count": 161,
   "metadata": {},
   "outputs": [
    {
     "name": "stdout",
     "output_type": "stream",
     "text": [
      "  PID TTY           TIME CMD\r\n",
      "    1 ??        53:03.08 /sbin/launchd\r\n",
      "   55 ??         2:17.68 /usr/sbin/syslogd\r\n",
      "   56 ??         1:55.62 /usr/libexec/UserEventAgent (System)\r\n",
      "   59 ??         0:22.06 /System/Library/PrivateFrameworks/Uninstall.framework/\r\n",
      "   60 ??         0:14.19 /usr/libexec/kextd\r\n",
      "   61 ??         8:10.58 /System/Library/Frameworks/CoreServices.framework/Vers\r\n",
      "   63 ??         1:02.67 /opt/cisco/anyconnect/bin/vpnagentd -execv_instance\r\n",
      "   65 ??         0:04.37 /opt/cisco/hostscan/bin/ciscod -d\r\n",
      "   67 ??         0:14.68 /System/Library/CoreServices/appleeventsd --server\r\n",
      "   68 ??         1:47.14 /usr/sbin/systemstats --daemon\r\n",
      "   70 ??         4:56.87 /usr/libexec/configd\r\n",
      "   71 ??         5:20.21 /System/Library/CoreServices/powerd.bundle/powerd\r\n",
      "   74 ??         4:06.47 /usr/libexec/logd\r\n",
      "   80 ??         0:21.43 /usr/libexec/warmd\r\n",
      "   81 ??        33:14.66 /System/Library/Frameworks/CoreServices.framework/Fram\r\n",
      "   84 ??         1:18.73 /usr/libexec/diskarbitrationd\r\n",
      "   88 ??       478:32.23 /System/Library/CoreServices/backupd.bundle/Contents/R\r\n",
      "   89 ??         3:17.53 /usr/libexec/coreduetd\r\n",
      "   93 ??         4:45.09 /usr/libexec/opendirectoryd\r\n",
      "   95 ??        32:47.56 /Library/Application Support/Adobe/Adobe Desktop Commo\r\n",
      "   96 ??         0:03.95 /System/Library/PrivateFrameworks/Noticeboard.framewor\r\n",
      "   97 ??         1:58.68 /System/Library/CoreServices/launchservicesd\r\n",
      "   99 ??         1:39.60 /usr/sbin/securityd -i\r\n",
      "  102 ??         7:16.00 /usr/libexec/locationd\r\n",
      "  103 ??         0:00.07 autofsd\r\n",
      "  104 ??         0:02.03 /usr/libexec/displaypolicyd -k 1\r\n",
      "  106 ??         1:28.31 /usr/libexec/dasd\r\n",
      "  109 ??         3:21.83 /System/Library/CoreServices/loginwindow.app/Contents/\r\n",
      "  110 ??         0:00.76 /System/Library/CoreServices/logind\r\n",
      "  111 ??         0:03.03 /System/Library/PrivateFrameworks/GenerationalStorage.\r\n",
      "  112 ??         0:00.07 /usr/sbin/KernelEventAgent\r\n",
      "  114 ??         5:54.59 /usr/sbin/bluetoothd\r\n",
      "  115 ??        96:52.42 /usr/libexec/hidd\r\n",
      "  116 ??         1:09.57 /usr/libexec/corebrightnessd --launchd\r\n",
      "  117 ??         2:25.84 /usr/libexec/AirPlayXPCHelper\r\n",
      "  119 ??         4:33.98 /usr/sbin/notifyd\r\n",
      "  122 ??         0:52.31 /usr/sbin/distnoted daemon\r\n",
      "  123 ??         1:11.45 /usr/sbin/cfprefsd daemon\r\n",
      "  133 ??         0:26.89 /System/Library/Frameworks/Security.framework/Versions\r\n",
      "  134 ??         1:15.73 /System/Library/CoreServices/coreservicesd\r\n",
      "  162 ??         0:00.02 /System/Library/Frameworks/PCSC.framework/Versions/A/X\r\n",
      "  173 ??         1:44.89 /usr/libexec/trustd\r\n",
      "  174 ??        15:07.81 /usr/libexec/airportd\r\n",
      "  175 ??         7:47.18 /usr/sbin/coreaudiod\r\n",
      "  180 ??         0:36.83 /usr/libexec/nsurlsessiond --privileged\r\n",
      "  190 ??         0:08.43 /usr/libexec/lsd runAsRoot\r\n",
      "  205 ??         0:36.72 /System/Library/PrivateFrameworks/WirelessDiagnostics.\r\n",
      "  207 ??         3:08.93 /usr/sbin/mDNSResponder\r\n",
      "  212 ??         0:23.54 /usr/sbin/mDNSResponderHelper\r\n",
      "  218 ??         0:50.05 /usr/libexec/mobileassetd\r\n",
      "  222 ??       520:55.57 /System/Library/PrivateFrameworks/SkyLight.framework/R\r\n",
      "  223 ??         3:35.36 /usr/libexec/symptomsd\r\n",
      "  224 ??         0:01.00 /usr/libexec/apfsd\r\n",
      "  225 ??         0:02.34 /usr/libexec/xartstorageremoted\r\n",
      "  226 ??         0:11.09 /usr/libexec/biometrickitd --launchd\r\n",
      "  227 ??         5:58.99 /System/Library/Frameworks/CoreMediaIO.framework/Resou\r\n",
      "  232 ??         0:12.04 /System/Library/PrivateFrameworks/SignpostNotification\r\n",
      "  234 ??         0:59.54 /usr/libexec/ApplicationFirewall/socketfilterfw\r\n",
      "  235 ??         0:01.72 /usr/libexec/eoshostd\r\n",
      "  236 ??         0:04.84 /usr/libexec/watchdogd\r\n",
      "  237 ??        83:36.32 /System/Library/Frameworks/CoreServices.framework/Fram\r\n",
      "  243 ??         0:01.04 /usr/sbin/cfprefsd agent\r\n",
      "  244 ??         0:01.92 /usr/libexec/thermald\r\n",
      "  254 ??         0:03.37 /System/Library/PrivateFrameworks/CoreSymbolication.fr\r\n",
      "  255 ??        36:42.08 /usr/libexec/TouchBarServer\r\n",
      "  257 ??         0:00.15 /System/Library/Frameworks/OpenGL.framework/Versions/A\r\n",
      "  274 ??         0:22.74 /usr/sbin/systemstats --logger-helper /private/var/db/\r\n",
      "  288 ??         0:06.85 /usr/libexec/diskmanagementd\r\n",
      "  290 ??         0:04.63 /System/Library/CoreServices/sharedfilelistd\r\n",
      "  297 ??         0:25.84 /System/Library/PrivateFrameworks/PerformanceAnalysis.\r\n",
      "  299 ??         3:06.17 /System/Library/Frameworks/LocalAuthentication.framewo\r\n",
      "  300 ??         4:14.74 /opt/cisco/anyconnect/bin/acwebsecagent -console\r\n",
      "  304 ??         0:01.65 /usr/libexec/biokitaggdd\r\n",
      "  307 ??         5:04.88 /System/Library/PrivateFrameworks/AmbientDisplay.frame\r\n",
      "  308 ??         0:52.48 /System/Library/PrivateFrameworks/ApplePushService.fra\r\n",
      "  317 ??         0:00.07 /usr/libexec/securityd_service\r\n",
      "  319 ??         3:21.46 /usr/libexec/UserEventAgent (Aqua)\r\n",
      "  321 ??        22:36.08 /usr/sbin/distnoted agent\r\n",
      "  322 ??         1:00.50 /usr/sbin/universalaccessd launchd -s\r\n",
      "  323 ??         1:56.16 /System/Library/Frameworks/CoreTelephony.framework/Sup\r\n",
      "  325 ??         0:23.42 /usr/libexec/lsd\r\n",
      "  326 ??         6:14.82 /usr/libexec/trustd --agent\r\n",
      "  328 ??         2:27.44 /usr/libexec/secd\r\n",
      "  329 ??         2:10.66 /System/Library/Frameworks/ApplicationServices.framewo\r\n",
      "  330 ??         1:42.97 /System/Library/PrivateFrameworks/CloudKitDaemon.frame\r\n",
      "  332 ??        13:40.27 /System/Library/PrivateFrameworks/CalendarAgent.framew\r\n",
      "  333 ??         0:02.07 /System/Library/CoreServices/SocialPushAgent.app/Conte\r\n",
      "  335 ??         1:00.53 /System/Library/PrivateFrameworks/IDS.framework/identi\r\n",
      "  342 ??         4:08.50 /System/Library/Frameworks/Accounts.framework/Versions\r\n",
      "  343 ??         0:21.36 /System/Library/PrivateFrameworks/TCC.framework/Resour\r\n",
      "  344 ??         0:51.14 /usr/libexec/nsurlsessiond\r\n",
      "  346 ??         0:17.73 /System/Library/PrivateFrameworks/IMCore.framework/ima\r\n",
      "  347 ??         0:26.34 /usr/sbin/usernoted\r\n",
      "  348 ??         5:08.99 /System/Library/PrivateFrameworks/CalendarNotification\r\n",
      "  349 ??         0:30.28 /System/Library/PrivateFrameworks/PassKitCore.framewor\r\n",
      "  351 ??         3:08.24 /System/Library/CoreServices/NotificationCenter.app/Co\r\n",
      "  352 ??         0:05.48 /usr/libexec/rapportd\r\n",
      "  358 ??         0:51.71 /System/Library/PrivateFrameworks/AssistantServices.fr\r\n",
      "  363 ??         4:24.82 /usr/libexec/sharingd\r\n",
      "  366 ??         0:12.85 /System/Library/PrivateFrameworks/CloudDocsDaemon.fram\r\n",
      "  368 ??         0:33.27 /usr/libexec/pboard\r\n",
      "  370 ??         0:08.15 /System/Library/CoreServices/sharedfilelistd\r\n",
      "  371 ??         0:45.20 /System/Library/CoreServices/talagent\r\n",
      "  372 ??         2:30.01 /usr/libexec/routined LAUNCHED_BY_LAUNCHD\r\n",
      "  373 ??         4:55.64 /System/Library/CoreServices/ControlStrip.app/Contents\r\n",
      "  375 ??         0:00.51 /System/Library/CoreServices/CrashReporterSupportHelpe\r\n",
      "  376 ??         0:27.81 /System/Library/Frameworks/InputMethodKit.framework/Re\r\n",
      "  380 ??         0:03.14 /System/Library/PrivateFrameworks/CommerceKit.framewor\r\n",
      "  383 ??         1:03.31 /System/Library/CoreServices/WiFiAgent.app/Contents/Ma\r\n",
      "  386 ??         0:46.81 /System/Library/PrivateFrameworks/CommerceKit.framewor\r\n",
      "  387 ??         0:52.24 /System/Library/Input Methods/PressAndHold.app/Content\r\n",
      "  388 ??         3:52.16 /System/Library/Input Methods/EmojiFunctionRowIM.app/C\r\n",
      "  393 ??         0:10.39 /usr/sbin/filecoordinationd\r\n",
      "  400 ??         0:38.09 /System/Library/CoreServices/Keychain Circle Notificat\r\n",
      "  402 ??         0:02.23 /System/Library/PrivateFrameworks/ProtectedCloudStorag\r\n",
      "  410 ??         1:41.90 /System/Library/PrivateFrameworks/ViewBridge.framework\r\n",
      "  416 ??         0:12.13 /System/Library/PrivateFrameworks/ContactsDonation.fra\r\n",
      "  417 ??         1:37.06 /usr/sbin/wirelessproxd\r\n",
      "  418 ??         0:20.66 /System/Library/PrivateFrameworks/IMFoundation.framewo\r\n",
      "  420 ??         1:50.51 /System/Library/PrivateFrameworks/UserActivity.framewo\r\n",
      "  421 ??         0:00.99 /System/Library/PrivateFrameworks/MediaRemote.framewor\r\n",
      "  423 ??         0:05.72 /System/Library/PrivateFrameworks/IMFoundation.framewo\r\n",
      "  426 ??       728:13.56 /Applications/Google Chrome.app/Contents/MacOS/Google \r\n",
      "  427 ??        31:59.41 /Applications/Mail.app/Contents/MacOS/Mail -psn_0_1433\r\n",
      "  428 ??         2:35.32 /Applications/Skim.app/Contents/MacOS/Skim -psn_0_1474\r\n",
      "  431 ??         2:14.85 /Applications/Messages.app/Contents/MacOS/Messages -ps\r\n",
      "  433 ??        12:44.06 /Applications/Utilities/Terminal.app/Contents/MacOS/Te\r\n",
      "  434 ??         5:29.71 /System/Library/CoreServices/Dock.app/Contents/MacOS/D\r\n",
      "  436 ??        11:57.38 /System/Library/CoreServices/Finder.app/Contents/MacOS\r\n",
      "  445 ??         0:51.45 /Applications/Utilities/Adobe Creative Cloud/CoreSync/\r\n",
      "  447 ??         0:01.56 /System/Library/Frameworks/LocalAuthentication.framewo\r\n",
      "  451 ??         0:00.68 /Applications/Google Chrome.app/Contents/Versions/68.0\r\n",
      "  454 ??         0:05.16 /System/Library/CoreServices/backgroundtaskmanagementa\r\n",
      "  459 ??       128:25.53 /Applications/Google Chrome.app/Contents/Versions/68.0\r\n",
      "  463 ??         0:46.19 /System/Library/CoreServices/Dock.app/Contents/XPCServ\r\n",
      "  472 ??         0:08.46 /usr/libexec/taskgated -s\r\n",
      "  474 ??         0:44.56 /System/Library/CoreServices/CoreLocationAgent.app/Con\r\n",
      "  485 ??         0:02.15 /System/Library/PrivateFrameworks/BookKit.framework/Ve\r\n",
      "  540 ??         0:08.71 /System/Library/PrivateFrameworks/CoreFP.framework/Ver\r\n",
      "  582 ??         3:24.88 /System/Library/PrivateFrameworks/CommerceKit.framewor\r\n",
      "  893 ??       206:17.59 /Applications/Google Chrome.app/Contents/Versions/68.0\r\n",
      "  894 ??         8:00.31 /Applications/Google Chrome.app/Contents/Versions/68.0\r\n",
      " 1248 ??         0:02.61 /System/Library/PrivateFrameworks/FileProvider.framewo\r\n",
      " 1249 ??         2:16.76 /usr/sbin/spindump\r\n",
      " 1251 ??         2:44.11 /System/Library/CoreServices/SubmitDiagInfo server-ini\r\n",
      " 1262 ??         0:01.62 /System/Library/PrivateFrameworks/CloudDocs.framework/\r\n",
      " 1264 ??        34:34.03 /Applications/Google Chrome.app/Contents/Versions/68.0\r\n",
      " 1270 ??         0:57.23 /Applications/Google Chrome.app/Contents/Versions/68.0\r\n",
      " 1271 ??         2:43.46 /Applications/Google Chrome.app/Contents/Versions/68.0\r\n",
      " 1273 ??         3:17.37 /Applications/Google Chrome.app/Contents/Versions/68.0\r\n",
      " 1274 ??         1:41.82 /Applications/Google Chrome.app/Contents/Versions/68.0\r\n",
      " 1276 ??         1:31.79 /Applications/Google Chrome.app/Contents/Versions/68.0\r\n",
      " 1277 ??         1:10.61 /Applications/Google Chrome.app/Contents/Versions/68.0\r\n",
      " 1278 ??         5:55.39 /Applications/Google Chrome.app/Contents/Versions/68.0\r\n",
      " 1280 ??         0:56.29 /Applications/Google Chrome.app/Contents/Versions/68.0\r\n",
      " 1281 ??         7:30.64 /Applications/Google Chrome.app/Contents/Versions/68.0\r\n",
      " 1293 ??         0:55.64 /System/Library/Frameworks/WebKit.framework/Versions/A\r\n",
      " 2493 ??         5:40.56 /System/Library/Services/AppleSpell.service/Contents/M\r\n",
      " 2505 ??         0:03.75 /System/Library/Frameworks/VideoToolbox.framework/Vers\r\n",
      " 2608 ??         1:26.68 /System/Library/CoreServices/Siri.app/Contents/MacOS/S\r\n",
      " 2609 ??         0:29.72 /System/Library/Image Capture/Support/icdd\r\n",
      " 2613 ??         0:47.17 /System/Library/CoreServices/AirPlayUIAgent.app/Conten\r\n",
      " 2614 ??         0:55.98 /System/Library/CoreServices/cloudpaird\r\n",
      " 2617 ??         1:03.05 /System/Library/PrivateFrameworks/Noticeboard.framewor\r\n",
      " 2618 ??         1:27.03 QA2G25RMZ4.com.wunderkinder.wunderlist-helper\r\n",
      " 2619 ??         0:22.00 /System/Library/CoreServices/diagnostics_agent\r\n",
      " 2623 ??         2:29.63 /Applications/UPEdit.app/Contents/MacOS/UPEdit\r\n",
      " 2624 ??         0:02.04 /System/Library/Frameworks/CryptoTokenKit.framework/ct\r\n",
      " 2625 ??        89:35.55 /Applications/Backup and Sync.app/Contents/MacOS/Backu\r\n",
      " 2627 ??         0:47.40 /System/Library/CoreServices/Menu Extras/TextInput.men\r\n",
      " 2631 ??         6:49.70 /System/Library/PrivateFrameworks/CacheDelete.framewor\r\n",
      " 2633 ??         0:02.82 /usr/libexec/AssetCache/AssetCache\r\n",
      " 2634 ??         0:57.39 /System/Library/CoreServices/cloudphotosd.app/Contents\r\n",
      " 2635 ??         6:42.15 /System/Library/PrivateFrameworks/PackageKit.framework\r\n",
      " 2636 ??         2:07.87 /System/Library/PrivateFrameworks/PackageKit.framework\r\n",
      " 2637 ??         0:02.69 /System/Library/PrivateFrameworks/QuickLookThumbnailin\r\n",
      " 2638 ??         0:03.49 /usr/bin/sysdiagnose\r\n",
      " 2644 ??         0:03.46 /System/Library/PrivateFrameworks/CloudPhotoServices.f\r\n",
      " 2647 ??         2:56.45 /Applications/Utilities/Adobe Application Manager/IPC/\r\n",
      " 2666 ??         6:16.52 /Library/Application Support/Adobe/Adobe Desktop Commo\r\n",
      " 2673 ??        12:32.07 /Library/Application Support/Adobe/Adobe Desktop Commo\r\n",
      " 2834 ??         1:24.07 /Applications/Utilities/Adobe Creative Cloud/CoreSync/\r\n",
      " 2835 ??         0:35.53 /Applications/Utilities/Adobe Creative Cloud/CCXProces\r\n",
      " 2850 ??        12:32.36 /Applications/Utilities/Adobe Creative Cloud/CoreSync/\r\n",
      " 2861 ??        29:10.52 /Applications/Google Chrome.app/Contents/Versions/68.0\r\n",
      " 2873 ??         3:55.85 /System/Library/CoreServices/Software Update.app/Conte\r\n",
      " 2874 ??         0:03.60 /System/Library/CoreServices/Software Update.app/Conte\r\n",
      " 2877 ??         0:00.91 /System/Library/PrivateFrameworks/CommerceKit.framewor\r\n",
      " 2878 ??         0:08.17 /System/Library/Frameworks/MediaLibrary.framework/Vers\r\n",
      " 2879 ??        16:39.57 /System/Library/PrivateFrameworks/PhotoLibraryPrivate.\r\n",
      " 2887 ??        16:05.32 /System/Library/PrivateFrameworks/PhotoAnalysis.framew\r\n",
      " 2892 ??        77:03.70 /Applications/Google Chrome.app/Contents/Versions/68.0\r\n",
      " 2898 ??         1:05.37 /System/Library/Frameworks/ApplicationServices.framewo\r\n",
      " 2903 ??        55:23.76 /Applications/Google Chrome.app/Contents/Versions/68.0\r\n",
      " 2907 ??         7:49.18 /Applications/Google Chrome.app/Contents/Versions/68.0\r\n",
      " 2924 ??        12:16.05 /Applications/Google Chrome.app/Contents/Versions/68.0\r\n",
      " 2944 ??        12:28.77 /Applications/Google Chrome.app/Contents/Versions/68.0\r\n",
      " 2965 ??         1:53.97 /System/Library/CoreServices/Siri.app/Contents/XPCServ\r\n",
      " 2969 ??         0:34.01 /System/Library/PrivateFrameworks/CommerceKit.framewor\r\n",
      " 2973 ??         7:49.22 /Applications/Google Chrome.app/Contents/Versions/68.0\r\n",
      " 2975 ??         0:41.21 /System/Library/PrivateFrameworks/CommerceKit.framewor\r\n",
      " 2984 ??        10:06.78 /Applications/Google Chrome.app/Contents/Versions/68.0\r\n",
      " 2996 ??         0:25.01 /System/Library/Frameworks/CoreServices.framework/Fram\r\n",
      " 3024 ??         0:04.22 /usr/sbin/distnoted agent\r\n",
      " 3053 ??         0:05.53 /System/Library/Frameworks/CoreServices.framework/Fram\r\n",
      " 3061 ??         0:01.12 /usr/sbin/cfprefsd agent\r\n",
      " 3069 ??         0:00.91 /usr/libexec/lsd\r\n",
      " 3080 ??         0:46.74 /System/Library/Frameworks/LocalAuthentication.framewo\r\n",
      " 3101 ??         0:00.57 /usr/libexec/USBAgent\r\n",
      " 3741 ??        17:43.59 /Applications/Google Chrome.app/Contents/Versions/68.0\r\n",
      " 3827 ??         0:51.19 /Applications/Utilities/Adobe Creative Cloud/CoreSync/\r\n",
      " 3834 ??         0:46.55 /System/Library/Frameworks/Quartz.framework/Versions/A\r\n",
      " 4004 ??         0:53.31 /System/Library/CoreServices/PowerChime.app/Contents/M\r\n",
      " 4011 ??         0:02.39 /System/Library/PrivateFrameworks/IMDPersistence.frame\r\n",
      " 4026 ??         0:00.61 /System/Library/Frameworks/CoreServices.framework/Fram\r\n",
      " 4027 ??         0:19.32 /System/Library/Frameworks/CoreServices.framework/Fram\r\n",
      " 4030 ??         0:46.48 /System/Library/Frameworks/CoreServices.framework/Fram\r\n",
      " 4094 ??         0:00.73 /System/Library/PrivateFrameworks/CommerceKit.framewor\r\n",
      " 4133 ??         0:00.07 /bin/sh /Applications/anaconda/Anaconda-Navigator.app/\r\n",
      " 4582 ??        11:31.28 /Applications/anaconda/bin/python /Applications/anacon\r\n",
      " 4611 ??         0:00.00 (bash)\r\n",
      " 5778 ??         0:22.05 /Applications/anaconda/bin/python -m ipykernel_launche\r\n",
      " 5810 ??         0:58.78 /System/Library/Frameworks/Foundation.framework/Versio\r\n",
      " 9238 ??         0:19.55 /usr/sbin/cupsd -l\r\n",
      " 9621 ??         0:22.74 /usr/libexec/rtcreportingd\r\n",
      "10704 ??         0:35.69 /System/Library/PrivateFrameworks/CommerceKit.framewor\r\n",
      "10717 ??         0:46.65 /System/Library/Frameworks/Foundation.framework/Versio\r\n",
      "11093 ??        46:20.75 /Applications/Google Chrome.app/Contents/Versions/68.0\r\n",
      "11835 ??         0:43.09 /System/Library/Frameworks/Foundation.framework/Versio\r\n",
      "12342 ??         0:04.55 /System/Library/PrivateFrameworks/IMFoundation.framewo\r\n",
      "12693 ??         0:53.06 /System/Library/Frameworks/Quartz.framework/Versions/A\r\n",
      "13517 ??         0:43.33 /usr/libexec/avconferenced\r\n",
      "13537 ??         0:04.35 /System/Library/PrivateFrameworks/IMFoundation.framewo\r\n",
      "13646 ??        26:46.02 /Applications/Skype.app/Contents/MacOS/Skype\r\n",
      "13648 ??         0:00.33 /Applications/Skype.app/Contents/Frameworks/Electron F\r\n",
      "13650 ??        11:32.31 /Applications/Skype.app/Contents/Frameworks/Skype Help\r\n",
      "13651 ??        82:22.04 /Applications/Skype.app/Contents/Frameworks/Skype Help\r\n",
      "13948 ??         0:00.31 /System/Library/PrivateFrameworks/KerberosHelper/Helpe\r\n",
      "15197 ??         0:16.44 /Applications/anaconda/bin/python -m ipykernel_launche\r\n",
      "15344 ??        13:29.76 /Applications/Google Chrome.app/Contents/Versions/68.0\r\n",
      "15437 ??         0:00.49 /System/Library/Frameworks/CryptoTokenKit.framework/Pl\r\n",
      "15438 ??         0:19.82 /usr/libexec/syspolicyd\r\n",
      "15688 ??         0:27.30 /usr/libexec/pkd\r\n",
      "15693 ??         0:00.97 /System/Library/Frameworks/ApplicationServices.framewo\r\n",
      "15707 ??         0:40.08 /usr/libexec/secinitd\r\n",
      "16032 ??         0:40.19 /System/Library/Frameworks/Foundation.framework/Versio\r\n",
      "16319 ??         4:09.67 /Applications/Google Chrome.app/Contents/Versions/68.0\r\n",
      "16320 ??         4:11.76 /Applications/Google Chrome.app/Contents/Versions/68.0\r\n",
      "21384 ??         0:38.11 /Applications/Utilities/Adobe Creative Cloud/CoreSync/\r\n",
      "23525 ??         0:49.15 /System/Library/Frameworks/WebKit.framework/Versions/A\r\n",
      "24071 ??         0:35.03 /System/Library/Frameworks/Foundation.framework/Versio\r\n",
      "28372 ??         0:17.12 /Applications/anaconda/bin/python -m ipykernel_launche\r\n",
      "28610 ??        13:53.97 /usr/bin/java -noverify -jar /Users/DaKanWei/Library/J\r\n",
      "28649 ??         0:57.15 /System/Library/Frameworks/WebKit.framework/Versions/A\r\n",
      "28720 ??         0:26.93 /System/Library/PreferencePanes/Displays.prefPane/Cont\r\n",
      "29560 ??         0:34.09 /Applications/Utilities/Adobe Creative Cloud/CoreSync/\r\n",
      "32793 ??         0:46.30 /System/Library/CoreServices/Spotlight.app/Contents/Ma\r\n",
      "33013 ??        11:30.90 /System/Library/CoreServices/SystemUIServer.app/Conten\r\n",
      "33014 ??         0:12.74 /System/Library/PrivateFrameworks/CoreWLANKit.framewor\r\n",
      "33023 ??         0:28.20 /Library/Input Methods/SogouInput.app/Contents/SogouSe\r\n",
      "33985 ??       100:57.30 /Applications/WeChat.app/Contents/MacOS/WeChat\r\n",
      "39599 ??         0:00.07 /Library/PrivilegedHelperTools/com.macpaw.zh.CleanMyMa\r\n",
      "39802 ??         0:00.51 /System/Library/PrivateFrameworks/FamilyCircle.framewo\r\n",
      "40323 ??         0:00.84 /System/Library/Frameworks/Security.framework/Versions\r\n",
      "40355 ??         0:03.43 /usr/libexec/timed\r\n",
      "40387 ??         0:04.26 aslmanager\r\n",
      "40389 ??        21:08.93 /usr/libexec/sysmond\r\n",
      "40498 ??         0:05.44 /System/Library/PrivateFrameworks/CoreAnalytics.framew\r\n",
      "40557 ??         0:01.20 /usr/sbin/systemsoundserverd\r\n",
      "40559 ??         0:23.12 /System/Library/CoreServices/iconservicesagent\r\n",
      "40566 ??         0:12.75 /usr/libexec/gamecontrollerd\r\n",
      "40741 ??         0:10.19 /usr/libexec/knowledge-agent\r\n",
      "40966 ??         0:02.80 /System/Library/Frameworks/ApplicationServices.framewo\r\n",
      "40994 ??         4:29.00 /Applications/Google Chrome.app/Contents/Versions/68.0\r\n",
      "41010 ??         0:15.47 /System/Library/PrivateFrameworks/CoreParsec.framework\r\n",
      "41026 ??         0:04.34 /System/Library/PrivateFrameworks/IMDPersistence.frame\r\n",
      "41167 ??         9:25.24 /Applications/anaconda/bin/python -m ipykernel_launche\r\n",
      "41201 ??         0:00.47 /usr/libexec/networkserviceproxy\r\n",
      "41224 ??         6:31.06 /Applications/Google Chrome.app/Contents/Versions/68.0\r\n",
      "41526 ??         0:18.07 /System/Library/PrivateFrameworks/TelephonyUtilities.f\r\n",
      "42012 ??        11:36.73 /Library/Input Methods/SogouInput.app/Contents/MacOS/S\r\n",
      "42151 ??         0:18.68 /System/Library/CoreServices/OSDUIHelper.app/Contents/\r\n",
      "42384 ??         1:20.20 /Applications/Telegram.app/Contents/MacOS/Telegram\r\n",
      "43428 ??         0:00.20 /usr/bin/ssh-agent -l\r\n",
      "43451 ??         0:00.03 ssh-agent -s\r\n",
      "45133 ??         5:22.17 /Applications/Google Chrome.app/Contents/Versions/68.0\r\n",
      "45135 ??         3:17.25 /Applications/Google Chrome.app/Contents/Versions/68.0\r\n",
      "47918 ??         3:00.77 /Applications/Google Chrome.app/Contents/Versions/68.0\r\n",
      "49561 ??         0:00.02 /usr/libexec/ApplicationFirewall/Firewall\r\n",
      "49568 ??         4:06.48 /Applications/Google Chrome.app/Contents/Versions/68.0\r\n",
      "49575 ??         1:30.21 /Applications/Google Chrome.app/Contents/Versions/68.0\r\n",
      "49576 ??         2:42.87 /Applications/Google Chrome.app/Contents/Versions/68.0\r\n",
      "52536 ??         0:19.90 /usr/sbin/cfprefsd agent\r\n",
      "55098 ??        22:05.81 /Library/Java/JavaVirtualMachines/jdk-10.0.1.jdk/Conte\r\n",
      "55215 ??         0:37.45 /Applications/Backup and Sync.app/Contents/PlugIns/Fin\r\n",
      "55216 ??         0:38.38 /Applications/Backup and Sync.app/Contents/PlugIns/Fin\r\n",
      "55217 ??         0:11.26 /Applications/Backup and Sync.app/Contents/PlugIns/Fin\r\n",
      "55218 ??         0:39.19 /Applications/Backup and Sync.app/Contents/PlugIns/Fin\r\n",
      "56148 ??         2:35.32 /Applications/Utilities/Activity Monitor.app/Contents/\r\n",
      "56157 ??        55:37.53 /Applications/IntelliJ IDEA CE.app/Contents/MacOS/idea\r\n",
      "56479 ??         0:09.14 /Applications/IntelliJ IDEA CE.app/Contents/bin/fsnoti\r\n",
      "57807 ??         0:09.26 /Applications/Utilities/Adobe Creative Cloud/CoreSync/\r\n",
      "57808 ??         0:28.38 /Applications/Backup and Sync.app/Contents/PlugIns/Fin\r\n",
      "58600 ??         0:08.62 /System/Library/Frameworks/Foundation.framework/Versio\r\n",
      "58774 ??         0:01.84 /usr/libexec/powerlogd\r\n",
      "58807 ??         0:00.20 /System/Library/PrivateFrameworks/MobileDevice.framewo\r\n",
      "59001 ??         0:21.36 /System/Library/Frameworks/AppKit.framework/Versions/C\r\n",
      "59004 ??         0:08.57 /Applications/Utilities/Adobe Creative Cloud/CoreSync/\r\n",
      "59005 ??         0:26.87 /Applications/Backup and Sync.app/Contents/PlugIns/Fin\r\n",
      "59017 ??         3:15.40 /Applications/Google Chrome.app/Contents/Versions/68.0\r\n",
      "59076 ??         2:05.92 /Applications/Google Chrome.app/Contents/Versions/68.0\r\n",
      "59097 ??         1:54.86 /Applications/Google Chrome.app/Contents/Versions/68.0\r\n",
      "59107 ??         2:08.81 /Applications/Google Chrome.app/Contents/Versions/68.0\r\n",
      "59109 ??         2:59.93 /Applications/Google Chrome.app/Contents/Versions/68.0\r\n",
      "59115 ??         3:02.30 /Applications/Google Chrome.app/Contents/Versions/68.0\r\n",
      "59120 ??         2:09.92 /Applications/Google Chrome.app/Contents/Versions/68.0\r\n",
      "59140 ??         2:07.95 /Applications/Google Chrome.app/Contents/Versions/68.0\r\n",
      "59148 ??         1:55.42 /Applications/Google Chrome.app/Contents/Versions/68.0\r\n",
      "59151 ??         2:04.23 /Applications/Google Chrome.app/Contents/Versions/68.0\r\n",
      "59154 ??         2:20.69 /Applications/Google Chrome.app/Contents/Versions/68.0\r\n",
      "59199 ??         3:44.24 /Applications/Google Chrome.app/Contents/Versions/68.0\r\n",
      "59818 ??         1:41.48 /Applications/Google Chrome.app/Contents/Versions/68.0\r\n",
      "59835 ??         2:28.54 /Applications/Google Chrome.app/Contents/Versions/68.0\r\n",
      "59836 ??         0:13.05 /Applications/Google Chrome.app/Contents/Versions/68.0\r\n",
      "59849 ??        11:06.59 /Applications/Google Chrome.app/Contents/Versions/68.0\r\n",
      "60203 ??         1:46.06 /Applications/Google Chrome.app/Contents/Versions/68.0\r\n",
      "60207 ??         2:39.05 /Applications/Google Chrome.app/Contents/Versions/68.0\r\n",
      "60209 ??         2:26.13 /Applications/Google Chrome.app/Contents/Versions/68.0\r\n",
      "60210 ??         1:05.91 /Applications/Google Chrome.app/Contents/Versions/68.0\r\n",
      "60213 ??         2:38.12 /Applications/Google Chrome.app/Contents/Versions/68.0\r\n",
      "60216 ??         2:12.09 /Applications/Google Chrome.app/Contents/Versions/68.0\r\n",
      "60219 ??         2:44.72 /Applications/Google Chrome.app/Contents/Versions/68.0\r\n",
      "60223 ??         2:46.93 /Applications/Google Chrome.app/Contents/Versions/68.0\r\n",
      "60224 ??         2:02.79 /Applications/Google Chrome.app/Contents/Versions/68.0\r\n",
      "60228 ??         2:28.03 /Applications/Google Chrome.app/Contents/Versions/68.0\r\n",
      "60495 ??         4:49.00 /Applications/Google Chrome.app/Contents/Versions/68.0\r\n",
      "60751 ??         0:00.53 /usr/libexec/nfcd\r\n",
      "60754 ??         0:03.26 /System/Library/PrivateFrameworks/MessagesKit.framewor\r\n",
      "60755 ??         0:00.97 /System/Library/Frameworks/AddressBook.framework/Execu\r\n",
      "60756 ??         0:02.57 /System/Library/PrivateFrameworks/MediaRemote.framewor\r\n",
      "60767 ??         0:00.88 /usr/sbin/WirelessRadioManagerd\r\n",
      "60770 ??         0:04.03 /usr/libexec/nsurlstoraged\r\n",
      "60772 ??         0:30.17 /System/Library/PrivateFrameworks/CoreSuggestions.fram\r\n",
      "60774 ??         0:02.43 /System/Library/PrivateFrameworks/CoreRecents.framewor\r\n",
      "60775 ??         0:03.51 /System/Library/PrivateFrameworks/AuthKit.framework/Ve\r\n",
      "60776 ??         0:00.45 /System/Library/PrivateFrameworks/CoreADI.framework/ad\r\n",
      "60777 ??         0:00.06 /System/Library/PrivateFrameworks/AccountPolicy.framew\r\n",
      "60778 ??         0:00.12 /System/Library/PrivateFrameworks/CoreFollowUp.framewo\r\n",
      "60791 ??         0:00.32 /usr/libexec/keyboardservicesd\r\n",
      "60793 ??         0:00.18 /System/Library/CoreServices/EscrowSecurityAlert.app/C\r\n",
      "60796 ??         0:03.63 /System/Library/PrivateFrameworks/CloudServices.framew\r\n",
      "61192 ??         0:00.62 /System/Library/PrivateFrameworks/CoreSuggestions.fram\r\n",
      "61202 ??         0:00.01 /usr/libexec/periodic-wrapper daily\r\n",
      "61204 ??         0:00.55 /System/Library/CoreServices/mapspushd\r\n",
      "61205 ??         0:02.54 /usr/sbin/ckkeyrolld\r\n",
      "61206 ??         0:00.47 /usr/libexec/silhouette\r\n",
      "61209 ??         0:07.52 /System/Library/PrivateFrameworks/AssistantServices.fr\r\n",
      "61210 ??         0:00.16 /usr/libexec/nehelper\r\n",
      "61238 ??         0:00.50 /System/Library/PrivateFrameworks/PhotoLibraryPrivate.\r\n",
      "61240 ??         0:00.10 /System/Library/CoreServices/Software Update.app/Conte\r\n",
      "61262 ??         0:00.56 /Library/Frameworks/iTunesLibrary.framework/Versions/A\r\n",
      "61266 ??         0:04.43 /System/Library/PrivateFrameworks/GeoServices.framewor\r\n",
      "61268 ??         0:05.59 /usr/libexec/sandboxd\r\n",
      "61285 ??         0:00.21 /System/Library/PrivateFrameworks/CommerceKit.framewor\r\n",
      "61298 ??         9:34.99 /Applications/Google Chrome.app/Contents/Versions/68.0\r\n",
      "61317 ??         0:00.79 /System/Library/CoreServices/ScopedBookmarkAgent\r\n",
      "61319 ??         0:00.25 /System/Library/CoreServices/pbs\r\n",
      "61343 ??         0:00.87 /usr/libexec/amfid\r\n",
      "61364 ??         1:08.29 /Applications/Google Chrome.app/Contents/Versions/68.0\r\n",
      "61497 ??         0:00.16 /System/Library/CoreServices/ControlStrip.app/Contents\r\n",
      "61498 ??         0:06.19 /System/Library/PrivateFrameworks/AssistantServices.fr\r\n",
      "61500 ??         0:00.22 /System/Library/Frameworks/VideoToolbox.framework/Vers\r\n",
      "61608 ??         0:00.19 /System/Library/Frameworks/Security.framework/Versions\r\n",
      "61609 ??         0:00.08 /System/Library/Frameworks/CryptoTokenKit.framework/ct\r\n",
      "61610 ??         0:00.36 /System/Library/Frameworks/Security.framework/Versions\r\n",
      "61611 ??         0:00.09 /System/Library/Frameworks/CryptoTokenKit.framework/ct\r\n",
      "61620 ??         0:00.25 /usr/libexec/usbd\r\n",
      "61621 ??         0:00.05 /System/Library/CryptoTokenKit/com.apple.ifdreader.slo\r\n",
      "61622 ??         0:05.96 /System/Library/PrivateFrameworks/PrintingPrivate.fram\r\n",
      "61672 ??         0:00.61 /usr/libexec/dprivacyd\r\n",
      "61851 ??         0:00.20 /System/Library/PrivateFrameworks/NotesShared.framewor\r\n",
      "61909 ??         0:00.23 /usr/libexec/findmydeviced\r\n",
      "62192 ??         0:00.06 /System/Library/PrivateFrameworks/TCC.framework/Resour\r\n",
      "62194 ??         0:00.06 /System/Library/Frameworks/MediaAccessibility.framewor\r\n",
      "62232 ??         1:24.38 /Applications/Google Chrome.app/Contents/Versions/68.0\r\n",
      "62236 ??        20:27.34 /Applications/Google Chrome.app/Contents/Versions/68.0\r\n",
      "62620 ??         0:02.83 /Applications/anaconda/bin/python -m ipykernel_launche\r\n",
      "62707 ??         0:00.18 /System/Library/PrivateFrameworks/CloudDocsDaemon.fram\r\n",
      "62731 ??         0:00.46 /usr/libexec/trustd --agent\r\n",
      "62732 ??         0:00.49 /usr/libexec/trustd --agent\r\n",
      "62772 ??         1:18.20 /Applications/Google Chrome.app/Contents/Versions/68.0\r\n",
      "62988 ??         0:35.13 /System/Library/Frameworks/CoreServices.framework/Fram\r\n",
      "62994 ??         0:33.13 /System/Library/Frameworks/CoreServices.framework/Fram\r\n",
      "62997 ??         0:35.79 /System/Library/Frameworks/CoreServices.framework/Fram\r\n",
      "62998 ??         0:34.81 /System/Library/Frameworks/CoreServices.framework/Fram\r\n",
      "63004 ??         0:00.22 /usr/libexec/videosubscriptionsd\r\n",
      "63243 ??         0:01.39 /System/Library/Frameworks/CoreServices.framework/Fram\r\n",
      "63296 ??         0:00.09 /System/Library/PrivateFrameworks/DistributedEvaluatio\r\n",
      "63323 ??         8:51.55 /Applications/Google Chrome.app/Contents/Versions/68.0\r\n",
      "63520 ??         0:00.05 /System/Library/PrivateFrameworks/StorageManagement.fr\r\n",
      "63524 ??         0:00.02 /usr/libexec/keybagd -t 15\r\n",
      "63744 ??         0:00.65 /System/Library/PrivateFrameworks/CallHistory.framewor\r\n",
      "63761 ??         0:00.50 /System/Library/PrivateFrameworks/CallHistory.framewor\r\n",
      "63820 ??         0:00.23 /Library/Frameworks/iTunesLibrary.framework/Versions/A\r\n",
      "63822 ??         0:00.14 /usr/libexec/siriknowledged\r\n",
      "63829 ??         0:05.26 /System/Library/CoreServices/SafariSupport.bundle/Cont\r\n",
      "63830 ??         0:05.02 /usr/libexec/SafariCloudHistoryPushAgent\r\n",
      "64153 ??         0:00.02 /Applications/Google Chrome.app/Contents/Versions/68.0\r\n",
      "64259 ??         0:00.15 /usr/sbin/netbiosd\r\n",
      "64267 ??         0:04.68 /Applications/Google Chrome.app/Contents/Versions/68.0\r\n",
      "64271 ??         0:00.22 /Applications/Skype.app/Contents/Frameworks/Skype Help\r\n",
      "64303 ??         0:07.65 /Applications/anaconda/bin/python -m ipykernel_launche\r\n",
      "64407 ??         0:00.53 /System/Library/CoreServices/CoreServicesUIAgent.app/C\r\n",
      "64433 ??         0:00.10 /System/Library/PrivateFrameworks/ContextKit.framework\r\n",
      "64939 ??         0:19.62 /Applications/Google Chrome.app/Contents/Versions/68.0\r\n",
      "64940 ??         0:04.44 /Applications/Google Chrome.app/Contents/Versions/68.0\r\n",
      "64941 ??         0:02.76 /Applications/Google Chrome.app/Contents/Versions/68.0\r\n",
      "64942 ??         0:06.90 /Applications/Google Chrome.app/Contents/Versions/68.0\r\n",
      "64943 ??         0:12.42 /Applications/Google Chrome.app/Contents/Versions/68.0\r\n",
      "64978 ??         0:25.72 /Applications/Google Chrome.app/Contents/Versions/68.0\r\n",
      "64979 ??         0:03.03 /Applications/Google Chrome.app/Contents/Versions/68.0\r\n",
      "65002 ??         0:11.35 /Applications/Google Chrome.app/Contents/Versions/68.0\r\n",
      "65044 ??         0:00.04 /usr/sbin/ocspd\r\n",
      "65141 ??         0:00.27 /System/Library/PrivateFrameworks/AOSKit.framework/Ver\r\n",
      "65166 ??         0:00.62 /System/Library/Frameworks/VideoToolbox.framework/Vers\r\n",
      "66157 ??         0:00.07 /System/Library/Frameworks/CoreServices.framework/Fram\r\n",
      "66206 ??         0:32.88 /Applications/Google Chrome.app/Contents/Versions/68.0\r\n",
      "66207 ??         0:01.14 /Applications/Google Chrome.app/Contents/Versions/68.0\r\n",
      "66232 ??         0:02.38 /Applications/Google Chrome.app/Contents/Versions/68.0\r\n",
      "66251 ??         0:00.16 /System/Library/Frameworks/QuickLook.framework/Resourc\r\n",
      "66269 ??         0:02.41 /Applications/Google Chrome.app/Contents/Versions/68.0\r\n",
      "66270 ??         0:00.34 /Applications/Google Chrome.app/Contents/Versions/68.0\r\n",
      "66271 ??         0:00.08 /Applications/Google Chrome.app/Contents/Versions/68.0\r\n",
      "66272 ??         0:00.07 /System/Library/Frameworks/CoreServices.framework/Fram\r\n",
      " 5409 ttys000    0:00.04 login -pf DKanWei\r\n"
     ]
    },
    {
     "name": "stdout",
     "output_type": "stream",
     "text": [
      " 5410 ttys000    0:00.01 -bash\r\n",
      " 5762 ttys000    0:00.00 -bash\r\n",
      " 5764 ttys000    8:15.26 /Applications/anaconda/bin/python /Applications/anacon\r\n",
      "64520 ttys001    0:00.10 login -pf DKanWei\r\n",
      "64521 ttys001    0:00.06 -bash\r\n",
      "40590 ttys002    0:00.04 login -pf DKanWei\r\n",
      "40592 ttys002    0:00.03 -bash\r\n",
      "40950 ttys002    0:02.40 /Applications/anaconda/bin/python /Applications/anacon\r\n",
      "66274 ttys003    0:00.01 ps -ax\r\n"
     ]
    }
   ],
   "source": [
    "!ps -ax"
   ]
  },
  {
   "cell_type": "markdown",
   "metadata": {},
   "source": [
    "## Searching\n",
    "- Use grep to display the entry with your username in the file '/etc/passwd'."
   ]
  },
  {
   "cell_type": "code",
   "execution_count": 176,
   "metadata": {},
   "outputs": [
    {
     "name": "stdout",
     "output_type": "stream",
     "text": [
      "DKanWei\r\n"
     ]
    }
   ],
   "source": [
    "!id -un"
   ]
  },
  {
   "cell_type": "code",
   "execution_count": 177,
   "metadata": {},
   "outputs": [
    {
     "name": "stdout",
     "output_type": "stream",
     "text": [
      "DKanWei\r\n"
     ]
    }
   ],
   "source": [
    "!echo $USER"
   ]
  },
  {
   "cell_type": "code",
   "execution_count": 179,
   "metadata": {},
   "outputs": [
    {
     "name": "stdout",
     "output_type": "stream",
     "text": [
      "##\n",
      "# User Database\n",
      "# \n",
      "# Note that this file is consulted directly only when the system is running\n",
      "# in single-user mode.  At other times this information is provided by\n",
      "# Open Directory.\n",
      "#\n",
      "# See the opendirectoryd(8) man page for additional information about\n",
      "# Open Directory.\n",
      "##\n",
      "nobody:*:-2:-2:Unprivileged User:/var/empty:/usr/bin/false\n",
      "root:*:0:0:System Administrator:/var/root:/bin/sh\n",
      "daemon:*:1:1:System Services:/var/root:/usr/bin/false\n",
      "_uucp:*:4:4:Unix to Unix Copy Protocol:/var/spool/uucp:/usr/sbin/uucico\n",
      "_taskgated:*:13:13:Task Gate Daemon:/var/empty:/usr/bin/false\n",
      "_networkd:*:24:24:Network Services:/var/networkd:/usr/bin/false\n",
      "_installassistant:*:25:25:Install Assistant:/var/empty:/usr/bin/false\n",
      "_lp:*:26:26:Printing Services:/var/spool/cups:/usr/bin/false\n",
      "_postfix:*:27:27:Postfix Mail Server:/var/spool/postfix:/usr/bin/false\n",
      "_scsd:*:31:31:Service Configuration Service:/var/empty:/usr/bin/false\n",
      "_ces:*:32:32:Certificate Enrollment Service:/var/empty:/usr/bin/false\n",
      "_mcxalr:*:54:54:MCX AppLaunch:/var/empty:/usr/bin/false\n",
      "_appleevents:*:55:55:AppleEvents Daemon:/var/empty:/usr/bin/false\n",
      "_geod:*:56:56:Geo Services Daemon:/var/db/geod:/usr/bin/false\n",
      "_serialnumberd:*:58:58:Serial Number Daemon:/var/empty:/usr/bin/false\n",
      "_devdocs:*:59:59:Developer Documentation:/var/empty:/usr/bin/false\n",
      "_sandbox:*:60:60:Seatbelt:/var/empty:/usr/bin/false\n",
      "_mdnsresponder:*:65:65:mDNSResponder:/var/empty:/usr/bin/false\n",
      "_ard:*:67:67:Apple Remote Desktop:/var/empty:/usr/bin/false\n",
      "_www:*:70:70:World Wide Web Server:/Library/WebServer:/usr/bin/false\n",
      "_eppc:*:71:71:Apple Events User:/var/empty:/usr/bin/false\n",
      "_cvs:*:72:72:CVS Server:/var/empty:/usr/bin/false\n",
      "_svn:*:73:73:SVN Server:/var/empty:/usr/bin/false\n",
      "_mysql:*:74:74:MySQL Server:/var/empty:/usr/bin/false\n",
      "_sshd:*:75:75:sshd Privilege separation:/var/empty:/usr/bin/false\n",
      "_qtss:*:76:76:QuickTime Streaming Server:/var/empty:/usr/bin/false\n",
      "_cyrus:*:77:6:Cyrus Administrator:/var/imap:/usr/bin/false\n",
      "_mailman:*:78:78:Mailman List Server:/var/empty:/usr/bin/false\n",
      "_appserver:*:79:79:Application Server:/var/empty:/usr/bin/false\n",
      "_clamav:*:82:82:ClamAV Daemon:/var/virusmails:/usr/bin/false\n",
      "_amavisd:*:83:83:AMaViS Daemon:/var/virusmails:/usr/bin/false\n",
      "_jabber:*:84:84:Jabber XMPP Server:/var/empty:/usr/bin/false\n",
      "_appowner:*:87:87:Application Owner:/var/empty:/usr/bin/false\n",
      "_windowserver:*:88:88:WindowServer:/var/empty:/usr/bin/false\n",
      "_spotlight:*:89:89:Spotlight:/var/empty:/usr/bin/false\n",
      "_tokend:*:91:91:Token Daemon:/var/empty:/usr/bin/false\n",
      "_securityagent:*:92:92:SecurityAgent:/var/db/securityagent:/usr/bin/false\n",
      "_calendar:*:93:93:Calendar:/var/empty:/usr/bin/false\n",
      "_teamsserver:*:94:94:TeamsServer:/var/teamsserver:/usr/bin/false\n",
      "_update_sharing:*:95:-2:Update Sharing:/var/empty:/usr/bin/false\n",
      "_installer:*:96:-2:Installer:/var/empty:/usr/bin/false\n",
      "_atsserver:*:97:97:ATS Server:/var/empty:/usr/bin/false\n",
      "_ftp:*:98:-2:FTP Daemon:/var/empty:/usr/bin/false\n",
      "_unknown:*:99:99:Unknown User:/var/empty:/usr/bin/false\n",
      "_softwareupdate:*:200:200:Software Update Service:/var/empty:/usr/bin/false\n",
      "_coreaudiod:*:202:202:Core Audio Daemon:/var/empty:/usr/bin/false\n",
      "_screensaver:*:203:203:Screensaver:/var/empty:/usr/bin/false\n",
      "_locationd:*:205:205:Location Daemon:/var/db/locationd:/usr/bin/false\n",
      "_trustevaluationagent:*:208:208:Trust Evaluation Agent:/var/empty:/usr/bin/false\n",
      "_timezone:*:210:210:AutoTimeZoneDaemon:/var/empty:/usr/bin/false\n",
      "_lda:*:211:211:Local Delivery Agent:/var/empty:/usr/bin/false\n",
      "_cvmsroot:*:212:212:CVMS Root:/var/empty:/usr/bin/false\n",
      "_usbmuxd:*:213:213:iPhone OS Device Helper:/var/db/lockdown:/usr/bin/false\n",
      "_dovecot:*:214:6:Dovecot Administrator:/var/empty:/usr/bin/false\n",
      "_dpaudio:*:215:215:DP Audio:/var/empty:/usr/bin/false\n",
      "_postgres:*:216:216:PostgreSQL Server:/var/empty:/usr/bin/false\n",
      "_krbtgt:*:217:-2:Kerberos Ticket Granting Ticket:/var/empty:/usr/bin/false\n",
      "_kadmin_admin:*:218:-2:Kerberos Admin Service:/var/empty:/usr/bin/false\n",
      "_kadmin_changepw:*:219:-2:Kerberos Change Password Service:/var/empty:/usr/bin/false\n",
      "_devicemgr:*:220:220:Device Management Server:/var/empty:/usr/bin/false\n",
      "_webauthserver:*:221:221:Web Auth Server:/var/empty:/usr/bin/false\n",
      "_netbios:*:222:222:NetBIOS:/var/empty:/usr/bin/false\n",
      "_warmd:*:224:224:Warm Daemon:/var/empty:/usr/bin/false\n",
      "_dovenull:*:227:227:Dovecot Authentication:/var/empty:/usr/bin/false\n",
      "_netstatistics:*:228:228:Network Statistics Daemon:/var/empty:/usr/bin/false\n",
      "_avbdeviced:*:229:-2:Ethernet AVB Device Daemon:/var/empty:/usr/bin/false\n",
      "_krb_krbtgt:*:230:-2:Open Directory Kerberos Ticket Granting Ticket:/var/empty:/usr/bin/false\n",
      "_krb_kadmin:*:231:-2:Open Directory Kerberos Admin Service:/var/empty:/usr/bin/false\n",
      "_krb_changepw:*:232:-2:Open Directory Kerberos Change Password Service:/var/empty:/usr/bin/false\n",
      "_krb_kerberos:*:233:-2:Open Directory Kerberos:/var/empty:/usr/bin/false\n",
      "_krb_anonymous:*:234:-2:Open Directory Kerberos Anonymous:/var/empty:/usr/bin/false\n",
      "_assetcache:*:235:235:Asset Cache Service:/var/empty:/usr/bin/false\n",
      "_coremediaiod:*:236:236:Core Media IO Daemon:/var/empty:/usr/bin/false\n",
      "_launchservicesd:*:239:239:_launchservicesd:/var/empty:/usr/bin/false\n",
      "_iconservices:*:240:240:IconServices:/var/empty:/usr/bin/false\n",
      "_distnote:*:241:241:DistNote:/var/empty:/usr/bin/false\n",
      "_nsurlsessiond:*:242:242:NSURLSession Daemon:/var/db/nsurlsessiond:/usr/bin/false\n",
      "_nsurlstoraged:*:243:243:NSURLStorage Daemon:/var/empty:/usr/bin/false\n",
      "_displaypolicyd:*:244:244:Display Policy Daemon:/var/empty:/usr/bin/false\n",
      "_astris:*:245:245:Astris Services:/var/db/astris:/usr/bin/false\n",
      "_krbfast:*:246:-2:Kerberos FAST Account:/var/empty:/usr/bin/false\n",
      "_gamecontrollerd:*:247:247:Game Controller Daemon:/var/empty:/usr/bin/false\n",
      "_mbsetupuser:*:248:248:Setup User:/var/setup:/bin/bash\n",
      "_ondemand:*:249:249:On Demand Resource Daemon:/var/db/ondemand:/usr/bin/false\n",
      "_xserverdocs:*:251:251:macOS Server Documents Service:/var/empty:/usr/bin/false\n",
      "_wwwproxy:*:252:252:WWW Proxy:/var/empty:/usr/bin/false\n",
      "_mobileasset:*:253:253:MobileAsset User:/var/ma:/usr/bin/false\n",
      "_findmydevice:*:254:254:Find My Device Daemon:/var/db/findmydevice:/usr/bin/false\n",
      "_datadetectors:*:257:257:DataDetectors:/var/db/datadetectors:/usr/bin/false\n",
      "_captiveagent:*:258:258:captiveagent:/var/empty:/usr/bin/false\n",
      "_ctkd:*:259:259:ctkd Account:/var/empty:/usr/bin/false\n",
      "_applepay:*:260:260:applepay Account:/var/db/applepay:/usr/bin/false\n",
      "_hidd:*:261:261:HID Service User:/var/empty:/usr/bin/false\n"
     ]
    }
   ],
   "source": [
    "%%bash\n",
    "cat /etc/passwd | grep -w DKanWei "
   ]
  },
  {
   "cell_type": "markdown",
   "metadata": {},
   "source": [
    "# Part II\n",
    "Use a text editor (emacs suggested - you should learn how to use it at some point, even if you later use something else) to create a plain text file named hw1.part2 containing answers to the following questions:\n",
    "\n",
    "- Use the man pages to find out what wc does. Give a brief description of it here. What does the -l option for wc do?\n",
    "- Run wc on the directory '/etc/passwd' and copy and paste your findings.\n",
    "- What command would you use to a terminate (stop) a process?\n",
    "- What information does the environment variable  \\$HOME store? (Hint: use `echo \\$HOME` to investigate.)\n",
    "- List two other important environment variables on your computer and what they store. Why are these variables important?\n",
    "- If you created a file 'bigredbutton' somewhere on your computer and couldn't remember what folder it was in, what command could you use to find it? Just give the name of the command. You do not need to describe all of the necessary arguments.\n",
    "- How is the command in the answer to the previous question different from the 'which' command?\n",
    "- How does the command “echo Hello World! > something” differ from “echo Hello World!”?\n",
    "- Assume we have run the first echo command from the previous question and now we execute “echo more text > something”. Describe what this does.\n",
    "- Now assume we have run the commands in the previous two questions and now we execute “echo yet more text >> something”. Describe what this does."
   ]
  },
  {
   "cell_type": "code",
   "execution_count": 158,
   "metadata": {
    "scrolled": true
   },
   "outputs": [
    {
     "name": "stdout",
     "output_type": "stream",
     "text": [
      "\n",
      "WC(1)                     BSD General Commands Manual                    WC(1)\n",
      "\n",
      "NAME\n",
      "     wc -- word, line, character, and byte count\n",
      "\n",
      "SYNOPSIS\n",
      "     wc [-clmw] [file ...]\n",
      "\n",
      "DESCRIPTION\n",
      "     The wc utility displays the number of lines, words, and bytes contained\n",
      "     in each input file, or standard input (if no file is specified) to the\n",
      "     standard output.  A line is defined as a string of characters delimited\n",
      "     by a <newline> character.  Characters beyond the final <newline> charac-\n",
      "     ter will not be included in the line count.\n",
      "\n",
      "     A word is defined as a string of characters delimited by white space\n",
      "     characters.  White space characters are the set of characters for which\n",
      "     the iswspace(3) function returns true.  If more than one input file is\n",
      "     specified, a line of cumulative counts for all the files is displayed on\n",
      "     a separate line after the output for the last file.\n",
      "\n",
      "     The following options are available:\n",
      "\n",
      "     -c      The number of bytes in each input file is written to the standard\n",
      "             output.  This will cancel out any prior usage of the -m option.\n",
      "\n",
      "     -l      The number of lines in each input file is written to the standard\n",
      "             output.\n",
      "\n",
      "     -m      The number of characters in each input file is written to the\n",
      "             standard output.  If the current locale does not support multi-\n",
      "             byte characters, this is equivalent to the -c option.  This will\n",
      "             cancel out any prior usage of the -c option.\n",
      "\n",
      "     -w      The number of words in each input file is written to the standard\n",
      "             output.\n",
      "\n",
      "     When an option is specified, wc only reports the information requested by\n",
      "     that option.  The order of output always takes the form of line, word,\n",
      "     byte, and file name.  The default action is equivalent to specifying the\n",
      "     -c, -l and -w options.\n",
      "\n",
      "     If no files are specified, the standard input is used and no file name is\n",
      "     displayed.  The prompt will accept input until receiving EOF, or [^D] in\n",
      "     most environments.\n",
      "\n",
      "ENVIRONMENT\n",
      "     The LANG, LC_ALL and LC_CTYPE environment variables affect the execution\n",
      "     of wc as described in environ(7).\n",
      "\n",
      "EXIT STATUS\n",
      "     The wc utility exits 0 on success, and >0 if an error occurs.\n",
      "\n",
      "EXAMPLES\n",
      "     Count the number of characters, words and lines in each of the files\n",
      "     report1 and report2 as well as the totals for both:\n",
      "\n",
      "           wc -mlw report1 report2\n",
      "\n",
      "COMPATIBILITY\n",
      "     Historically, the wc utility was documented to define a word as a ``maxi-\n",
      "     mal string of characters delimited by <space>, <tab> or <newline> charac-\n",
      "     ters''.  The implementation, however, did not handle non-printing charac-\n",
      "     ters correctly so that ``  ^D^E  '' counted as 6 spaces, while\n",
      "     ``foo^D^Ebar'' counted as 8 characters.  4BSD systems after 4.3BSD modi-\n",
      "     fied the implementation to be consistent with the documentation.  This\n",
      "     implementation defines a ``word'' in terms of the iswspace(3) function,\n",
      "     as required by IEEE Std 1003.2 (``POSIX.2'').\n",
      "\n",
      "SEE ALSO\n",
      "     iswspace(3)\n",
      "\n",
      "STANDARDS\n",
      "     The wc utility conforms to IEEE Std 1003.1-2001 (``POSIX.1'').\n",
      "\n",
      "HISTORY\n",
      "     A wc command appeared in Version 1 AT&T UNIX.\n",
      "\n",
      "BSD                            February 23, 2005                           BSD\n"
     ]
    }
   ],
   "source": [
    "!man wc"
   ]
  },
  {
   "cell_type": "code",
   "execution_count": 159,
   "metadata": {},
   "outputs": [
    {
     "name": "stdout",
     "output_type": "stream",
     "text": [
      "     108     294    6774 /etc/passwd\r\n"
     ]
    }
   ],
   "source": [
    "!wc /etc/passwd"
   ]
  },
  {
   "cell_type": "code",
   "execution_count": 160,
   "metadata": {},
   "outputs": [],
   "source": [
    "!kill 5410"
   ]
  },
  {
   "cell_type": "code",
   "execution_count": 162,
   "metadata": {},
   "outputs": [
    {
     "name": "stdout",
     "output_type": "stream",
     "text": [
      "/Users/DaKanWei\r\n"
     ]
    }
   ],
   "source": [
    "!echo $HOME"
   ]
  },
  {
   "cell_type": "code",
   "execution_count": 166,
   "metadata": {
    "scrolled": true
   },
   "outputs": [
    {
     "name": "stdout",
     "output_type": "stream",
     "text": [
      "Apple_PubSub_Socket_Render=/private/tmp/com.apple.launchd.9dGEpUHzhe/Render\r\n",
      "BASH=/bin/sh\r\n",
      "BASH_ARGC=()\r\n",
      "BASH_ARGV=()\r\n",
      "BASH_EXECUTION_STRING=set\r\n",
      "BASH_LINENO=()\r\n",
      "BASH_SOURCE=()\r\n",
      "BASH_VERSINFO=([0]=\"3\" [1]=\"2\" [2]=\"57\" [3]=\"1\" [4]=\"release\" [5]=\"x86_64-apple-darwin17\")\r\n",
      "BASH_VERSION='3.2.57(1)-release'\r\n",
      "CLICOLOR=1\r\n",
      "DIRSTACK=()\r\n",
      "DISPLAY=/private/tmp/com.apple.launchd.e5YBFZas1T/org.macosforge.xquartz:0\r\n",
      "EUID=501\r\n",
      "GIT_PAGER=cat\r\n",
      "GROUPS=()\r\n",
      "HADOOP_HOME=/usr/local/Cellar/hadoop/hdfs/libexec\r\n",
      "HOME=/Users/DaKanWei\r\n",
      "HOSTNAME=DKs-MacBook-Pro.local\r\n",
      "HOSTTYPE=x86_64\r\n",
      "IFS=' \t\r\n",
      "'\r\n",
      "JAVA_HOME=/Library/Java/JavaVirtualMachines/jdk1.8.0_171.jdk/Contents/Home\r\n",
      "JPY_PARENT_PID=5764\r\n",
      "LANG=en_US.UTF-8\r\n",
      "LOGNAME=DKanWei\r\n",
      "MACHTYPE=x86_64-apple-darwin17\r\n",
      "MPLBACKEND=module://ipykernel.pylab.backend_inline\r\n",
      "OPTERR=1\r\n",
      "OPTIND=1\r\n",
      "OSTYPE=darwin17\r\n",
      "PAGER=cat\r\n",
      "PATH=/Users/DaKanWei/anaconda/bin:/Applications/anaconda/bin:/Library/Frameworks/Python.framework/Versions/3.6/bin:/Users/DaKanWei/anaconda/bin:/Library/Frameworks/Python.framework/Versions/3.4/bin:/usr/local/bin:/usr/bin:/bin:/usr/sbin:/sbin:/Library/TeX/texbin:/opt/X11/bin\r\n",
      "POSIXLY_CORRECT=y\r\n",
      "PPID=64303\r\n",
      "PS4='+ '\r\n",
      "PWD=/Users/DaKanWei/Desktop/HoneyBadgerCoding/Assignment/Week3\r\n",
      "PYTHONPATH=/usr/local/Cellar/apache-spark/2.3.1/libexec/python:\r\n",
      "SECURITYSESSIONID=186a8\r\n",
      "SHELL=/bin/bash\r\n",
      "SHELLOPTS=braceexpand:hashall:interactive-comments:posix\r\n",
      "SHLVL=3\r\n",
      "SPARK_HOME=/usr/local/Cellar/apache-spark/2.3.1/libexec\r\n",
      "SSH_AUTH_SOCK=/private/tmp/com.apple.launchd.bgJrr4ceXl/Listeners\r\n",
      "TERM=xterm-color\r\n",
      "TERM_PROGRAM=Apple_Terminal\r\n",
      "TERM_PROGRAM_VERSION=404\r\n",
      "TERM_SESSION_ID=DD659710-AFA8-4ACB-A4CE-2327FA150A7D\r\n",
      "TMPDIR=/var/folders/x2/rwr8_g2x0_v7z00l90vswnwc0000gn/T/\r\n",
      "UID=501\r\n",
      "USER=DKanWei\r\n",
      "XPC_FLAGS=0x0\r\n",
      "XPC_SERVICE_NAME=0\r\n",
      "_=/Applications/anaconda/bin/jupyter-notebook\r\n"
     ]
    }
   ],
   "source": [
    "!set"
   ]
  },
  {
   "cell_type": "code",
   "execution_count": 168,
   "metadata": {},
   "outputs": [
    {
     "name": "stdout",
     "output_type": "stream",
     "text": [
      "/Users/DaKanWei/anaconda/bin:/Applications/anaconda/bin:/Library/Frameworks/Python.framework/Versions/3.6/bin:/Users/DaKanWei/anaconda/bin:/Library/Frameworks/Python.framework/Versions/3.4/bin:/usr/local/bin:/usr/bin:/bin:/usr/sbin:/sbin:/Library/TeX/texbin:/opt/X11/bin\r\n"
     ]
    }
   ],
   "source": [
    "!echo $PATH"
   ]
  },
  {
   "cell_type": "code",
   "execution_count": 169,
   "metadata": {},
   "outputs": [
    {
     "name": "stdout",
     "output_type": "stream",
     "text": [
      "501\r\n"
     ]
    }
   ],
   "source": [
    "!echo $UID"
   ]
  },
  {
   "cell_type": "code",
   "execution_count": null,
   "metadata": {},
   "outputs": [],
   "source": [
    "!find / -name bigredbutton"
   ]
  },
  {
   "cell_type": "code",
   "execution_count": null,
   "metadata": {},
   "outputs": [],
   "source": [
    "!which bigredbutton"
   ]
  },
  {
   "cell_type": "markdown",
   "metadata": {},
   "source": [
    "`echo Hello World! > something` will create a file called \"something\", but `echo Hello World!` will not, it just shows it"
   ]
  },
  {
   "cell_type": "markdown",
   "metadata": {},
   "source": [
    "it will overwrite \"something\" with \"more text\""
   ]
  },
  {
   "cell_type": "code",
   "execution_count": null,
   "metadata": {},
   "outputs": [],
   "source": []
  },
  {
   "cell_type": "code",
   "execution_count": null,
   "metadata": {},
   "outputs": [],
   "source": []
  }
 ],
 "metadata": {
  "kernelspec": {
   "display_name": "Python 3",
   "language": "python",
   "name": "python3"
  },
  "language_info": {
   "codemirror_mode": {
    "name": "ipython",
    "version": 3
   },
   "file_extension": ".py",
   "mimetype": "text/x-python",
   "name": "python",
   "nbconvert_exporter": "python",
   "pygments_lexer": "ipython3",
   "version": "3.6.5"
  }
 },
 "nbformat": 4,
 "nbformat_minor": 2
}
