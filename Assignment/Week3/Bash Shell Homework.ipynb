{
 "cells": [
  {
   "cell_type": "markdown",
   "metadata": {},
   "source": [
    "# Overview\n",
    "The purpose of this assignment is for you to become familiar with the basics of the Linux shell and the range of commands that are included in most Linux distributions. This very definitely does not include all of the commands you will need for this course. Instead, it is aimed to help you learn about some basic commands as well as how to discover more on your own. You should use the Linux Pocket Guide and the Linux man command to find specific commands needed to answer these questions and use the Pocket Guide to read about related commands and topics. Yes, Google is also useful, but you should learn your way around the Guide and the standard Linux documentation, which is the primary source.\n",
    "\n",
    "There are two parts of the assignment. In Part I you are asked to run several commands and capture the terminal session in a script file to hand in. Part II consists of several questions to be answered in a separate file. You should turn in both files when you are done.\n",
    "\n"
   ]
  },
  {
   "cell_type": "markdown",
   "metadata": {},
   "source": [
    "# Part I\n",
    "\n",
    "Use the command *script hw1.part1* to start a shell and save the input and output into a file *hw1.part1*. Then run the commands needed to answer the following questions. If you make a few small mistakes you don't need to start over, but either edit the file to remove any substantial errors or include comments (input lines starting with #) next to short goofs so we can follow your output easily. Also don't worry about \"invisible\" control characters like tabs and backspaces that are captured in the script file. That is normal and not something that needs to be fixed.\n",
    "\n",
    "It would also be helpful if you included some comments to identify answers to the different sets of questions to make it easier for the graders to navigate through the output."
   ]
  },
  {
   "cell_type": "code",
   "execution_count": 1,
   "metadata": {},
   "outputs": [
    {
     "name": "stdout",
     "output_type": "stream",
     "text": [
      "'Bash Shell Homework.ipynb'   hw1.part1\r\n"
     ]
    }
   ],
   "source": [
    "!ls"
   ]
  },
  {
   "cell_type": "code",
   "execution_count": 2,
   "metadata": {},
   "outputs": [
    {
     "name": "stdout",
     "output_type": "stream",
     "text": [
      "Script started, file is hw1.part1\n",
      "\u001b]0;dawei@dw-omen: ~/Documents/HoneyBadgerCoding/Assignment/Week3\u0007\u001b[01;32mdawei@dw-omen\u001b[00m:\u001b[01;34m~/Documents/HoneyBadgerCoding/Assignment/Week3\u001b[00m$ ^C\n",
      "\n",
      "\u001b]0;dawei@dw-omen: ~/Documents/HoneyBadgerCoding/Assignment/Week3\u0007\u001b[01;32mdawei@dw-omen\u001b[00m:\u001b[01;34m~/Documents/HoneyBadgerCoding/Assignment/Week3\u001b[00m$ "
     ]
    }
   ],
   "source": [
    "!script hw1.part1"
   ]
  },
  {
   "cell_type": "code",
   "execution_count": 3,
   "metadata": {},
   "outputs": [],
   "source": [
    "!cat hw1.part1"
   ]
  },
  {
   "cell_type": "markdown",
   "metadata": {},
   "source": [
    "## Getting Started\n",
    "\n",
    "1. Enter a command to print \"Hello world\" on the screen.\n",
    "2. Change your password. (You can change it back later if you want - don't forget it, though, you'll need it to log in next time.)\n",
    "3. Display the current date and time on the screen."
   ]
  },
  {
   "cell_type": "code",
   "execution_count": 4,
   "metadata": {},
   "outputs": [
    {
     "name": "stdout",
     "output_type": "stream",
     "text": [
      "Hello World\r\n"
     ]
    }
   ],
   "source": [
    "#1\n",
    "!echo \"Hello World\""
   ]
  },
  {
   "cell_type": "code",
   "execution_count": 5,
   "metadata": {},
   "outputs": [
    {
     "name": "stdout",
     "output_type": "stream",
     "text": [
      "[sudo] password for dawei: \n"
     ]
    }
   ],
   "source": [
    "#2\n",
    "!sudo passwd"
   ]
  },
  {
   "cell_type": "code",
   "execution_count": 6,
   "metadata": {},
   "outputs": [
    {
     "name": "stdout",
     "output_type": "stream",
     "text": [
      "Tue Oct  9 19:10:53 EDT 2018\r\n"
     ]
    }
   ],
   "source": [
    "#3\n",
    "!date"
   ]
  },
  {
   "cell_type": "markdown",
   "metadata": {},
   "source": [
    "## File paths and directory navigation\n",
    "- Display the full path of your home directory.\n",
    "- Go to your home directory.\n",
    "- List all the files in your current directory.\n",
    "- Now, create a new folder called ‘temp’.\n",
    "- Rename this folder to ‘files’.\n",
    "- Go to the ‘files’ folder.\n",
    "- Run a command to get the current date and time and save the output to a file called 'now'\n",
    "- Copy ‘now’ to a file called 'before'\n",
    "- List all the files in this directory. Use a more detailed listing where you can see the files' permissions, date written, etc.\n",
    "- Create a file called 'temp' without using a text editor. (There are at least three easy ways to do this.) Rename 'temp' to 'test'\n",
    "- Go up one directory.\n",
    "- Delete the ‘files’ folder with a single command. (The command you use should also delete all of the files inside of the folder.)"
   ]
  },
  {
   "cell_type": "code",
   "execution_count": 7,
   "metadata": {},
   "outputs": [
    {
     "name": "stdout",
     "output_type": "stream",
     "text": [
      "/bin/sh: 1: /home/dawei: Permission denied\r\n"
     ]
    }
   ],
   "source": [
    "#1\n",
    "!$HOME"
   ]
  },
  {
   "cell_type": "code",
   "execution_count": 8,
   "metadata": {},
   "outputs": [
    {
     "name": "stdout",
     "output_type": "stream",
     "text": [
      "/home/dawei\r\n"
     ]
    }
   ],
   "source": [
    "#1\n",
    "!echo $HOME"
   ]
  },
  {
   "cell_type": "code",
   "execution_count": 9,
   "metadata": {
    "scrolled": true
   },
   "outputs": [
    {
     "name": "stdout",
     "output_type": "stream",
     "text": [
      "anaconda3\n",
      "Desktop\n",
      "Documents\n",
      "Downloads\n",
      "examples.desktop\n",
      "IdeaProjects\n",
      "Maildir\n",
      "Music\n",
      "Pictures\n",
      "Public\n",
      "snap\n",
      "target\n",
      "Templates\n",
      "Videos\n"
     ]
    }
   ],
   "source": [
    "%%bash\n",
    "cd ~\n",
    "ls"
   ]
  },
  {
   "cell_type": "code",
   "execution_count": 10,
   "metadata": {
    "scrolled": true
   },
   "outputs": [
    {
     "name": "stdout",
     "output_type": "stream",
     "text": [
      "anaconda3\n",
      "Desktop\n",
      "Documents\n",
      "Downloads\n",
      "examples.desktop\n",
      "IdeaProjects\n",
      "Maildir\n",
      "Music\n",
      "Pictures\n",
      "Public\n",
      "snap\n",
      "target\n",
      "Templates\n",
      "Videos\n"
     ]
    }
   ],
   "source": [
    "%%bash\n",
    "cd ~\n",
    "ls\n",
    "mkdir temp"
   ]
  },
  {
   "cell_type": "code",
   "execution_count": 11,
   "metadata": {
    "scrolled": true
   },
   "outputs": [],
   "source": [
    "%%bash\n",
    "cd ~\n",
    "mv temp files"
   ]
  },
  {
   "cell_type": "code",
   "execution_count": 12,
   "metadata": {},
   "outputs": [],
   "source": [
    "%%bash\n",
    "cd ~\n",
    "cd files\n",
    "ls"
   ]
  },
  {
   "cell_type": "code",
   "execution_count": 13,
   "metadata": {},
   "outputs": [],
   "source": [
    "%%bash\n",
    "cd ~\n",
    "cd files\n",
    "date > now"
   ]
  },
  {
   "cell_type": "code",
   "execution_count": 14,
   "metadata": {},
   "outputs": [],
   "source": [
    "%%bash\n",
    "cd ~\n",
    "cd files\n",
    "cp now  before"
   ]
  },
  {
   "cell_type": "code",
   "execution_count": 15,
   "metadata": {},
   "outputs": [
    {
     "name": "stdout",
     "output_type": "stream",
     "text": [
      "total 16\n",
      "drwxr-xr-x  2 dawei dawei 4096 Oct  9 19:11 .\n",
      "drwxr-xr-x 43 dawei dawei 4096 Oct  9 19:11 ..\n",
      "-rw-r--r--  1 dawei dawei   29 Oct  9 19:11 before\n",
      "-rw-r--r--  1 dawei dawei   29 Oct  9 19:11 now\n"
     ]
    }
   ],
   "source": [
    "%%bash\n",
    "cd ~\n",
    "cd files\n",
    "ls -al"
   ]
  },
  {
   "cell_type": "code",
   "execution_count": 16,
   "metadata": {},
   "outputs": [
    {
     "name": "stdout",
     "output_type": "stream",
     "text": [
      "before\n",
      "now\n",
      "temp\n"
     ]
    }
   ],
   "source": [
    "%%bash\n",
    "cd ~\n",
    "cd files\n",
    "touch temp\n",
    "ls"
   ]
  },
  {
   "cell_type": "code",
   "execution_count": 17,
   "metadata": {},
   "outputs": [
    {
     "name": "stdout",
     "output_type": "stream",
     "text": [
      "before\n",
      "now\n",
      "test\n"
     ]
    }
   ],
   "source": [
    "%%bash\n",
    "cd ~\n",
    "cd files\n",
    "mv temp test\n",
    "ls"
   ]
  },
  {
   "cell_type": "code",
   "execution_count": 18,
   "metadata": {
    "scrolled": true
   },
   "outputs": [
    {
     "name": "stdout",
     "output_type": "stream",
     "text": [
      "anaconda3\n",
      "Desktop\n",
      "Documents\n",
      "Downloads\n",
      "examples.desktop\n",
      "files\n",
      "IdeaProjects\n",
      "Maildir\n",
      "Music\n",
      "Pictures\n",
      "Public\n",
      "snap\n",
      "target\n",
      "Templates\n",
      "Videos\n"
     ]
    }
   ],
   "source": [
    "%%bash\n",
    "cd ~\n",
    "cd files\n",
    "cd ..\n",
    "ls"
   ]
  },
  {
   "cell_type": "code",
   "execution_count": 19,
   "metadata": {},
   "outputs": [],
   "source": [
    "%%bash\n",
    "cd ~\n",
    "cd files\n",
    "cd ..\n",
    "rm -R files "
   ]
  },
  {
   "cell_type": "markdown",
   "metadata": {},
   "source": [
    "## permissions\n",
    "- Create a file called 'secretfile' containing the text “It's a secret!” using the echo command.\n",
    "- Change the permission of this file in such a way so that no one can write to it. Use the ls command to show the file name and permissions.\n",
    "- Try to add more text to 'secretfile' using the cat command.\n",
    "- Change permission of this file so that no one can read it. Use the ls command again to show the file name and permissions.\n",
    "- Try to read the file using cat."
   ]
  },
  {
   "cell_type": "code",
   "execution_count": 20,
   "metadata": {
    "scrolled": true
   },
   "outputs": [],
   "source": [
    "%%bash\n",
    "cd ~\n",
    "echo \"It's a secret!\"  > secretfile"
   ]
  },
  {
   "cell_type": "code",
   "execution_count": 42,
   "metadata": {},
   "outputs": [
    {
     "name": "stdout",
     "output_type": "stream",
     "text": [
      "-------r-x 1 dawei dawei 15 Oct  9 19:11 secretfile\n"
     ]
    }
   ],
   "source": [
    "%%bash\n",
    "cd ~\n",
    "chmod 5 secretfile\n",
    "ls -al secretfile"
   ]
  },
  {
   "cell_type": "code",
   "execution_count": 43,
   "metadata": {},
   "outputs": [
    {
     "name": "stderr",
     "output_type": "stream",
     "text": [
      "cat: secretfile: Permission denied\n"
     ]
    },
    {
     "ename": "CalledProcessError",
     "evalue": "Command 'b'cd ~\\ncat notsecretfile.txt >> secretfile.txt\\ncat secretfile\\n'' returned non-zero exit status 1",
     "output_type": "error",
     "traceback": [
      "\u001b[0;31m---------------------------------------------------------------------------\u001b[0m",
      "\u001b[0;31mCalledProcessError\u001b[0m                        Traceback (most recent call last)",
      "\u001b[0;32m<ipython-input-43-c8c48a3f587a>\u001b[0m in \u001b[0;36m<module>\u001b[0;34m\u001b[0m\n\u001b[0;32m----> 1\u001b[0;31m \u001b[0mget_ipython\u001b[0m\u001b[0;34m(\u001b[0m\u001b[0;34m)\u001b[0m\u001b[0;34m.\u001b[0m\u001b[0mrun_cell_magic\u001b[0m\u001b[0;34m(\u001b[0m\u001b[0;34m'bash'\u001b[0m\u001b[0;34m,\u001b[0m \u001b[0;34m''\u001b[0m\u001b[0;34m,\u001b[0m \u001b[0;34m'cd ~\\ncat notsecretfile.txt >> secretfile.txt\\ncat secretfile\\n'\u001b[0m\u001b[0;34m)\u001b[0m\u001b[0;34m\u001b[0m\u001b[0m\n\u001b[0m",
      "\u001b[0;32m~/anaconda3/lib/python3.5/site-packages/IPython/core/interactiveshell.py\u001b[0m in \u001b[0;36mrun_cell_magic\u001b[0;34m(self, magic_name, line, cell)\u001b[0m\n\u001b[1;32m   2319\u001b[0m             \u001b[0mmagic_arg_s\u001b[0m \u001b[0;34m=\u001b[0m \u001b[0mself\u001b[0m\u001b[0;34m.\u001b[0m\u001b[0mvar_expand\u001b[0m\u001b[0;34m(\u001b[0m\u001b[0mline\u001b[0m\u001b[0;34m,\u001b[0m \u001b[0mstack_depth\u001b[0m\u001b[0;34m)\u001b[0m\u001b[0;34m\u001b[0m\u001b[0m\n\u001b[1;32m   2320\u001b[0m             \u001b[0;32mwith\u001b[0m \u001b[0mself\u001b[0m\u001b[0;34m.\u001b[0m\u001b[0mbuiltin_trap\u001b[0m\u001b[0;34m:\u001b[0m\u001b[0;34m\u001b[0m\u001b[0m\n\u001b[0;32m-> 2321\u001b[0;31m                 \u001b[0mresult\u001b[0m \u001b[0;34m=\u001b[0m \u001b[0mfn\u001b[0m\u001b[0;34m(\u001b[0m\u001b[0mmagic_arg_s\u001b[0m\u001b[0;34m,\u001b[0m \u001b[0mcell\u001b[0m\u001b[0;34m)\u001b[0m\u001b[0;34m\u001b[0m\u001b[0m\n\u001b[0m\u001b[1;32m   2322\u001b[0m             \u001b[0;32mreturn\u001b[0m \u001b[0mresult\u001b[0m\u001b[0;34m\u001b[0m\u001b[0m\n\u001b[1;32m   2323\u001b[0m \u001b[0;34m\u001b[0m\u001b[0m\n",
      "\u001b[0;32m~/anaconda3/lib/python3.5/site-packages/IPython/core/magics/script.py\u001b[0m in \u001b[0;36mnamed_script_magic\u001b[0;34m(line, cell)\u001b[0m\n\u001b[1;32m    140\u001b[0m             \u001b[0;32melse\u001b[0m\u001b[0;34m:\u001b[0m\u001b[0;34m\u001b[0m\u001b[0m\n\u001b[1;32m    141\u001b[0m                 \u001b[0mline\u001b[0m \u001b[0;34m=\u001b[0m \u001b[0mscript\u001b[0m\u001b[0;34m\u001b[0m\u001b[0m\n\u001b[0;32m--> 142\u001b[0;31m             \u001b[0;32mreturn\u001b[0m \u001b[0mself\u001b[0m\u001b[0;34m.\u001b[0m\u001b[0mshebang\u001b[0m\u001b[0;34m(\u001b[0m\u001b[0mline\u001b[0m\u001b[0;34m,\u001b[0m \u001b[0mcell\u001b[0m\u001b[0;34m)\u001b[0m\u001b[0;34m\u001b[0m\u001b[0m\n\u001b[0m\u001b[1;32m    143\u001b[0m \u001b[0;34m\u001b[0m\u001b[0m\n\u001b[1;32m    144\u001b[0m         \u001b[0;31m# write a basic docstring:\u001b[0m\u001b[0;34m\u001b[0m\u001b[0;34m\u001b[0m\u001b[0m\n",
      "\u001b[0;32m<decorator-gen-109>\u001b[0m in \u001b[0;36mshebang\u001b[0;34m(self, line, cell)\u001b[0m\n",
      "\u001b[0;32m~/anaconda3/lib/python3.5/site-packages/IPython/core/magic.py\u001b[0m in \u001b[0;36m<lambda>\u001b[0;34m(f, *a, **k)\u001b[0m\n\u001b[1;32m    185\u001b[0m     \u001b[0;31m# but it's overkill for just that one bit of state.\u001b[0m\u001b[0;34m\u001b[0m\u001b[0;34m\u001b[0m\u001b[0m\n\u001b[1;32m    186\u001b[0m     \u001b[0;32mdef\u001b[0m \u001b[0mmagic_deco\u001b[0m\u001b[0;34m(\u001b[0m\u001b[0marg\u001b[0m\u001b[0;34m)\u001b[0m\u001b[0;34m:\u001b[0m\u001b[0;34m\u001b[0m\u001b[0m\n\u001b[0;32m--> 187\u001b[0;31m         \u001b[0mcall\u001b[0m \u001b[0;34m=\u001b[0m \u001b[0;32mlambda\u001b[0m \u001b[0mf\u001b[0m\u001b[0;34m,\u001b[0m \u001b[0;34m*\u001b[0m\u001b[0ma\u001b[0m\u001b[0;34m,\u001b[0m \u001b[0;34m**\u001b[0m\u001b[0mk\u001b[0m\u001b[0;34m:\u001b[0m \u001b[0mf\u001b[0m\u001b[0;34m(\u001b[0m\u001b[0;34m*\u001b[0m\u001b[0ma\u001b[0m\u001b[0;34m,\u001b[0m \u001b[0;34m**\u001b[0m\u001b[0mk\u001b[0m\u001b[0;34m)\u001b[0m\u001b[0;34m\u001b[0m\u001b[0m\n\u001b[0m\u001b[1;32m    188\u001b[0m \u001b[0;34m\u001b[0m\u001b[0m\n\u001b[1;32m    189\u001b[0m         \u001b[0;32mif\u001b[0m \u001b[0mcallable\u001b[0m\u001b[0;34m(\u001b[0m\u001b[0marg\u001b[0m\u001b[0;34m)\u001b[0m\u001b[0;34m:\u001b[0m\u001b[0;34m\u001b[0m\u001b[0m\n",
      "\u001b[0;32m~/anaconda3/lib/python3.5/site-packages/IPython/core/magics/script.py\u001b[0m in \u001b[0;36mshebang\u001b[0;34m(self, line, cell)\u001b[0m\n\u001b[1;32m    243\u001b[0m             \u001b[0msys\u001b[0m\u001b[0;34m.\u001b[0m\u001b[0mstderr\u001b[0m\u001b[0;34m.\u001b[0m\u001b[0mflush\u001b[0m\u001b[0;34m(\u001b[0m\u001b[0;34m)\u001b[0m\u001b[0;34m\u001b[0m\u001b[0m\n\u001b[1;32m    244\u001b[0m         \u001b[0;32mif\u001b[0m \u001b[0margs\u001b[0m\u001b[0;34m.\u001b[0m\u001b[0mraise_error\u001b[0m \u001b[0;32mand\u001b[0m \u001b[0mp\u001b[0m\u001b[0;34m.\u001b[0m\u001b[0mreturncode\u001b[0m\u001b[0;34m!=\u001b[0m\u001b[0;36m0\u001b[0m\u001b[0;34m:\u001b[0m\u001b[0;34m\u001b[0m\u001b[0m\n\u001b[0;32m--> 245\u001b[0;31m             \u001b[0;32mraise\u001b[0m \u001b[0mCalledProcessError\u001b[0m\u001b[0;34m(\u001b[0m\u001b[0mp\u001b[0m\u001b[0;34m.\u001b[0m\u001b[0mreturncode\u001b[0m\u001b[0;34m,\u001b[0m \u001b[0mcell\u001b[0m\u001b[0;34m,\u001b[0m \u001b[0moutput\u001b[0m\u001b[0;34m=\u001b[0m\u001b[0mout\u001b[0m\u001b[0;34m,\u001b[0m \u001b[0mstderr\u001b[0m\u001b[0;34m=\u001b[0m\u001b[0merr\u001b[0m\u001b[0;34m)\u001b[0m\u001b[0;34m\u001b[0m\u001b[0m\n\u001b[0m\u001b[1;32m    246\u001b[0m \u001b[0;34m\u001b[0m\u001b[0m\n\u001b[1;32m    247\u001b[0m     \u001b[0;32mdef\u001b[0m \u001b[0m_run_script\u001b[0m\u001b[0;34m(\u001b[0m\u001b[0mself\u001b[0m\u001b[0;34m,\u001b[0m \u001b[0mp\u001b[0m\u001b[0;34m,\u001b[0m \u001b[0mcell\u001b[0m\u001b[0;34m,\u001b[0m \u001b[0mto_close\u001b[0m\u001b[0;34m)\u001b[0m\u001b[0;34m:\u001b[0m\u001b[0;34m\u001b[0m\u001b[0m\n",
      "\u001b[0;31mCalledProcessError\u001b[0m: Command 'b'cd ~\\ncat notsecretfile.txt >> secretfile.txt\\ncat secretfile\\n'' returned non-zero exit status 1"
     ]
    }
   ],
   "source": [
    "%%bash\n",
    "cd ~\n",
    "cat notsecretfile.txt >> secretfile.txt\n",
    "cat secretfile"
   ]
  },
  {
   "cell_type": "code",
   "execution_count": 24,
   "metadata": {},
   "outputs": [
    {
     "name": "stdout",
     "output_type": "stream",
     "text": [
      "--------w- 1 dawei dawei 15 Oct  9 19:11 secretfile\n"
     ]
    }
   ],
   "source": [
    "%%bash\n",
    "cd ~\n",
    "chmod 2 secretfile\n",
    "ls -al secretfile"
   ]
  },
  {
   "cell_type": "code",
   "execution_count": 25,
   "metadata": {},
   "outputs": [
    {
     "name": "stderr",
     "output_type": "stream",
     "text": [
      "cat: secretfile: Permission denied\n"
     ]
    },
    {
     "ename": "CalledProcessError",
     "evalue": "Command 'b'cd ~\\ncat secretfile\\n'' returned non-zero exit status 1",
     "output_type": "error",
     "traceback": [
      "\u001b[0;31m---------------------------------------------------------------------------\u001b[0m",
      "\u001b[0;31mCalledProcessError\u001b[0m                        Traceback (most recent call last)",
      "\u001b[0;32m<ipython-input-25-8fbc39fb7332>\u001b[0m in \u001b[0;36m<module>\u001b[0;34m\u001b[0m\n\u001b[0;32m----> 1\u001b[0;31m \u001b[0mget_ipython\u001b[0m\u001b[0;34m(\u001b[0m\u001b[0;34m)\u001b[0m\u001b[0;34m.\u001b[0m\u001b[0mrun_cell_magic\u001b[0m\u001b[0;34m(\u001b[0m\u001b[0;34m'bash'\u001b[0m\u001b[0;34m,\u001b[0m \u001b[0;34m''\u001b[0m\u001b[0;34m,\u001b[0m \u001b[0;34m'cd ~\\ncat secretfile\\n'\u001b[0m\u001b[0;34m)\u001b[0m\u001b[0;34m\u001b[0m\u001b[0m\n\u001b[0m",
      "\u001b[0;32m~/anaconda3/lib/python3.5/site-packages/IPython/core/interactiveshell.py\u001b[0m in \u001b[0;36mrun_cell_magic\u001b[0;34m(self, magic_name, line, cell)\u001b[0m\n\u001b[1;32m   2319\u001b[0m             \u001b[0mmagic_arg_s\u001b[0m \u001b[0;34m=\u001b[0m \u001b[0mself\u001b[0m\u001b[0;34m.\u001b[0m\u001b[0mvar_expand\u001b[0m\u001b[0;34m(\u001b[0m\u001b[0mline\u001b[0m\u001b[0;34m,\u001b[0m \u001b[0mstack_depth\u001b[0m\u001b[0;34m)\u001b[0m\u001b[0;34m\u001b[0m\u001b[0m\n\u001b[1;32m   2320\u001b[0m             \u001b[0;32mwith\u001b[0m \u001b[0mself\u001b[0m\u001b[0;34m.\u001b[0m\u001b[0mbuiltin_trap\u001b[0m\u001b[0;34m:\u001b[0m\u001b[0;34m\u001b[0m\u001b[0m\n\u001b[0;32m-> 2321\u001b[0;31m                 \u001b[0mresult\u001b[0m \u001b[0;34m=\u001b[0m \u001b[0mfn\u001b[0m\u001b[0;34m(\u001b[0m\u001b[0mmagic_arg_s\u001b[0m\u001b[0;34m,\u001b[0m \u001b[0mcell\u001b[0m\u001b[0;34m)\u001b[0m\u001b[0;34m\u001b[0m\u001b[0m\n\u001b[0m\u001b[1;32m   2322\u001b[0m             \u001b[0;32mreturn\u001b[0m \u001b[0mresult\u001b[0m\u001b[0;34m\u001b[0m\u001b[0m\n\u001b[1;32m   2323\u001b[0m \u001b[0;34m\u001b[0m\u001b[0m\n",
      "\u001b[0;32m~/anaconda3/lib/python3.5/site-packages/IPython/core/magics/script.py\u001b[0m in \u001b[0;36mnamed_script_magic\u001b[0;34m(line, cell)\u001b[0m\n\u001b[1;32m    140\u001b[0m             \u001b[0;32melse\u001b[0m\u001b[0;34m:\u001b[0m\u001b[0;34m\u001b[0m\u001b[0m\n\u001b[1;32m    141\u001b[0m                 \u001b[0mline\u001b[0m \u001b[0;34m=\u001b[0m \u001b[0mscript\u001b[0m\u001b[0;34m\u001b[0m\u001b[0m\n\u001b[0;32m--> 142\u001b[0;31m             \u001b[0;32mreturn\u001b[0m \u001b[0mself\u001b[0m\u001b[0;34m.\u001b[0m\u001b[0mshebang\u001b[0m\u001b[0;34m(\u001b[0m\u001b[0mline\u001b[0m\u001b[0;34m,\u001b[0m \u001b[0mcell\u001b[0m\u001b[0;34m)\u001b[0m\u001b[0;34m\u001b[0m\u001b[0m\n\u001b[0m\u001b[1;32m    143\u001b[0m \u001b[0;34m\u001b[0m\u001b[0m\n\u001b[1;32m    144\u001b[0m         \u001b[0;31m# write a basic docstring:\u001b[0m\u001b[0;34m\u001b[0m\u001b[0;34m\u001b[0m\u001b[0m\n",
      "\u001b[0;32m<decorator-gen-109>\u001b[0m in \u001b[0;36mshebang\u001b[0;34m(self, line, cell)\u001b[0m\n",
      "\u001b[0;32m~/anaconda3/lib/python3.5/site-packages/IPython/core/magic.py\u001b[0m in \u001b[0;36m<lambda>\u001b[0;34m(f, *a, **k)\u001b[0m\n\u001b[1;32m    185\u001b[0m     \u001b[0;31m# but it's overkill for just that one bit of state.\u001b[0m\u001b[0;34m\u001b[0m\u001b[0;34m\u001b[0m\u001b[0m\n\u001b[1;32m    186\u001b[0m     \u001b[0;32mdef\u001b[0m \u001b[0mmagic_deco\u001b[0m\u001b[0;34m(\u001b[0m\u001b[0marg\u001b[0m\u001b[0;34m)\u001b[0m\u001b[0;34m:\u001b[0m\u001b[0;34m\u001b[0m\u001b[0m\n\u001b[0;32m--> 187\u001b[0;31m         \u001b[0mcall\u001b[0m \u001b[0;34m=\u001b[0m \u001b[0;32mlambda\u001b[0m \u001b[0mf\u001b[0m\u001b[0;34m,\u001b[0m \u001b[0;34m*\u001b[0m\u001b[0ma\u001b[0m\u001b[0;34m,\u001b[0m \u001b[0;34m**\u001b[0m\u001b[0mk\u001b[0m\u001b[0;34m:\u001b[0m \u001b[0mf\u001b[0m\u001b[0;34m(\u001b[0m\u001b[0;34m*\u001b[0m\u001b[0ma\u001b[0m\u001b[0;34m,\u001b[0m \u001b[0;34m**\u001b[0m\u001b[0mk\u001b[0m\u001b[0;34m)\u001b[0m\u001b[0;34m\u001b[0m\u001b[0m\n\u001b[0m\u001b[1;32m    188\u001b[0m \u001b[0;34m\u001b[0m\u001b[0m\n\u001b[1;32m    189\u001b[0m         \u001b[0;32mif\u001b[0m \u001b[0mcallable\u001b[0m\u001b[0;34m(\u001b[0m\u001b[0marg\u001b[0m\u001b[0;34m)\u001b[0m\u001b[0;34m:\u001b[0m\u001b[0;34m\u001b[0m\u001b[0m\n",
      "\u001b[0;32m~/anaconda3/lib/python3.5/site-packages/IPython/core/magics/script.py\u001b[0m in \u001b[0;36mshebang\u001b[0;34m(self, line, cell)\u001b[0m\n\u001b[1;32m    243\u001b[0m             \u001b[0msys\u001b[0m\u001b[0;34m.\u001b[0m\u001b[0mstderr\u001b[0m\u001b[0;34m.\u001b[0m\u001b[0mflush\u001b[0m\u001b[0;34m(\u001b[0m\u001b[0;34m)\u001b[0m\u001b[0;34m\u001b[0m\u001b[0m\n\u001b[1;32m    244\u001b[0m         \u001b[0;32mif\u001b[0m \u001b[0margs\u001b[0m\u001b[0;34m.\u001b[0m\u001b[0mraise_error\u001b[0m \u001b[0;32mand\u001b[0m \u001b[0mp\u001b[0m\u001b[0;34m.\u001b[0m\u001b[0mreturncode\u001b[0m\u001b[0;34m!=\u001b[0m\u001b[0;36m0\u001b[0m\u001b[0;34m:\u001b[0m\u001b[0;34m\u001b[0m\u001b[0m\n\u001b[0;32m--> 245\u001b[0;31m             \u001b[0;32mraise\u001b[0m \u001b[0mCalledProcessError\u001b[0m\u001b[0;34m(\u001b[0m\u001b[0mp\u001b[0m\u001b[0;34m.\u001b[0m\u001b[0mreturncode\u001b[0m\u001b[0;34m,\u001b[0m \u001b[0mcell\u001b[0m\u001b[0;34m,\u001b[0m \u001b[0moutput\u001b[0m\u001b[0;34m=\u001b[0m\u001b[0mout\u001b[0m\u001b[0;34m,\u001b[0m \u001b[0mstderr\u001b[0m\u001b[0;34m=\u001b[0m\u001b[0merr\u001b[0m\u001b[0;34m)\u001b[0m\u001b[0;34m\u001b[0m\u001b[0m\n\u001b[0m\u001b[1;32m    246\u001b[0m \u001b[0;34m\u001b[0m\u001b[0m\n\u001b[1;32m    247\u001b[0m     \u001b[0;32mdef\u001b[0m \u001b[0m_run_script\u001b[0m\u001b[0;34m(\u001b[0m\u001b[0mself\u001b[0m\u001b[0;34m,\u001b[0m \u001b[0mp\u001b[0m\u001b[0;34m,\u001b[0m \u001b[0mcell\u001b[0m\u001b[0;34m,\u001b[0m \u001b[0mto_close\u001b[0m\u001b[0;34m)\u001b[0m\u001b[0;34m:\u001b[0m\u001b[0;34m\u001b[0m\u001b[0m\n",
      "\u001b[0;31mCalledProcessError\u001b[0m: Command 'b'cd ~\\ncat secretfile\\n'' returned non-zero exit status 1"
     ]
    }
   ],
   "source": [
    "%%bash\n",
    "cd ~\n",
    "cat secretfile"
   ]
  },
  {
   "cell_type": "markdown",
   "metadata": {},
   "source": [
    "## Process Information\n",
    "- Enter a command to display the version of the Linux kernel that you are you using.\n",
    "- List all of the processes that are currently running."
   ]
  },
  {
   "cell_type": "code",
   "execution_count": 26,
   "metadata": {},
   "outputs": [
    {
     "name": "stdout",
     "output_type": "stream",
     "text": [
      "Linux\r\n"
     ]
    }
   ],
   "source": [
    "!uname "
   ]
  },
  {
   "cell_type": "code",
   "execution_count": 27,
   "metadata": {},
   "outputs": [
    {
     "name": "stdout",
     "output_type": "stream",
     "text": [
      "Linux dw-omen 4.15.0-36-generic #39-Ubuntu SMP Mon Sep 24 16:19:09 UTC 2018 x86_64 x86_64 x86_64 GNU/Linux\r\n"
     ]
    }
   ],
   "source": [
    "!uname -a"
   ]
  },
  {
   "cell_type": "code",
   "execution_count": 28,
   "metadata": {},
   "outputs": [
    {
     "name": "stdout",
     "output_type": "stream",
     "text": [
      "  PID TTY      STAT   TIME COMMAND\n",
      "    1 ?        Ss     0:03 /sbin/init splash\n",
      "    2 ?        S      0:00 [kthreadd]\n",
      "    4 ?        I<     0:00 [kworker/0:0H]\n",
      "    5 ?        I      0:00 [kworker/u16:0]\n",
      "    6 ?        I<     0:00 [mm_percpu_wq]\n",
      "    7 ?        S      0:00 [ksoftirqd/0]\n",
      "    8 ?        I      0:00 [rcu_sched]\n",
      "    9 ?        I      0:00 [rcu_bh]\n",
      "   10 ?        S      0:00 [migration/0]\n",
      "   11 ?        S      0:00 [watchdog/0]\n",
      "   12 ?        S      0:00 [cpuhp/0]\n",
      "   13 ?        S      0:00 [cpuhp/1]\n",
      "   14 ?        S      0:00 [watchdog/1]\n",
      "   15 ?        S      0:00 [migration/1]\n",
      "   16 ?        S      0:00 [ksoftirqd/1]\n",
      "   18 ?        I<     0:00 [kworker/1:0H]\n",
      "   19 ?        S      0:00 [cpuhp/2]\n",
      "   20 ?        S      0:00 [watchdog/2]\n",
      "   21 ?        S      0:00 [migration/2]\n",
      "   22 ?        S      0:00 [ksoftirqd/2]\n",
      "   24 ?        I<     0:00 [kworker/2:0H]\n",
      "   25 ?        S      0:00 [cpuhp/3]\n",
      "   26 ?        S      0:00 [watchdog/3]\n",
      "   27 ?        S      0:00 [migration/3]\n",
      "   28 ?        S      0:00 [ksoftirqd/3]\n",
      "   30 ?        I<     0:00 [kworker/3:0H]\n",
      "   31 ?        S      0:00 [cpuhp/4]\n",
      "   32 ?        S      0:00 [watchdog/4]\n",
      "   33 ?        S      0:00 [migration/4]\n",
      "   34 ?        S      0:00 [ksoftirqd/4]\n",
      "   36 ?        I<     0:00 [kworker/4:0H]\n",
      "   37 ?        S      0:00 [cpuhp/5]\n",
      "   38 ?        S      0:00 [watchdog/5]\n",
      "   39 ?        S      0:00 [migration/5]\n",
      "   40 ?        S      0:00 [ksoftirqd/5]\n",
      "   42 ?        I<     0:00 [kworker/5:0H]\n",
      "   43 ?        S      0:00 [cpuhp/6]\n",
      "   44 ?        S      0:00 [watchdog/6]\n",
      "   45 ?        S      0:00 [migration/6]\n",
      "   46 ?        S      0:00 [ksoftirqd/6]\n",
      "   48 ?        I<     0:00 [kworker/6:0H]\n",
      "   49 ?        S      0:00 [cpuhp/7]\n",
      "   50 ?        S      0:00 [watchdog/7]\n",
      "   51 ?        S      0:00 [migration/7]\n",
      "   52 ?        S      0:00 [ksoftirqd/7]\n",
      "   53 ?        I      0:00 [kworker/7:0]\n",
      "   54 ?        I<     0:00 [kworker/7:0H]\n",
      "   55 ?        S      0:00 [kdevtmpfs]\n",
      "   56 ?        I<     0:00 [netns]\n",
      "   57 ?        S      0:00 [rcu_tasks_kthre]\n",
      "   58 ?        S      0:00 [kauditd]\n",
      "   59 ?        I      0:00 [kworker/0:1]\n",
      "   60 ?        I      0:00 [kworker/1:1]\n",
      "   61 ?        I      0:00 [kworker/2:1]\n",
      "   62 ?        S      0:00 [khungtaskd]\n",
      "   63 ?        S      0:00 [oom_reaper]\n",
      "   64 ?        I<     0:00 [writeback]\n",
      "   65 ?        S      0:00 [kcompactd0]\n",
      "   66 ?        SN     0:00 [ksmd]\n",
      "   67 ?        SN     0:00 [khugepaged]\n",
      "   68 ?        I<     0:00 [crypto]\n",
      "   69 ?        I<     0:00 [kintegrityd]\n",
      "   70 ?        I<     0:00 [kblockd]\n",
      "   71 ?        I      0:00 [kworker/3:1]\n",
      "   73 ?        I      0:00 [kworker/5:1]\n",
      "   74 ?        I      0:00 [kworker/6:1]\n",
      "   75 ?        I      0:00 [kworker/7:1]\n",
      "   76 ?        I<     0:00 [ata_sff]\n",
      "   77 ?        I<     0:00 [md]\n",
      "   78 ?        I<     0:00 [edac-poller]\n",
      "   79 ?        I<     0:00 [devfreq_wq]\n",
      "   80 ?        I<     0:00 [watchdogd]\n",
      "   83 ?        S      0:00 [kswapd0]\n",
      "   84 ?        S      0:00 [ecryptfs-kthrea]\n",
      "  126 ?        I<     0:00 [kthrotld]\n",
      "  127 ?        I<     0:00 [acpi_thermal_pm]\n",
      "  132 ?        I<     0:00 [ipv6_addrconf]\n",
      "  142 ?        I<     0:00 [kstrp]\n",
      "  163 ?        I<     0:00 [charger_manager]\n",
      "  219 ?        S      0:00 [scsi_eh_0]\n",
      "  220 ?        I<     0:00 [scsi_tmf_0]\n",
      "  221 ?        S      0:00 [scsi_eh_1]\n",
      "  222 ?        I<     0:00 [scsi_tmf_1]\n",
      "  223 ?        S      0:00 [scsi_eh_2]\n",
      "  224 ?        I<     0:00 [scsi_tmf_2]\n",
      "  225 ?        S      0:00 [scsi_eh_3]\n",
      "  226 ?        I<     0:00 [scsi_tmf_3]\n",
      "  227 ?        I      0:00 [kworker/u16:3]\n",
      "  228 ?        I      0:00 [kworker/1:2]\n",
      "  229 ?        I      0:00 [kworker/3:2]\n",
      "  231 ?        I<     0:00 [ttm_swap]\n",
      "  232 ?        S      0:02 [gfx]\n",
      "  233 ?        S      0:00 [comp_1.0.0]\n",
      "  234 ?        S      0:00 [comp_1.1.0]\n",
      "  235 ?        S      0:00 [comp_1.2.0]\n",
      "  236 ?        S      0:00 [comp_1.3.0]\n",
      "  237 ?        S      0:00 [comp_1.0.1]\n",
      "  238 ?        S      0:00 [comp_1.1.1]\n",
      "  239 ?        S      0:00 [comp_1.2.1]\n",
      "  240 ?        S      0:00 [comp_1.3.1]\n",
      "  241 ?        S      0:00 [sdma0]\n",
      "  242 ?        S      0:00 [sdma1]\n",
      "  243 ?        S      0:00 [uvd]\n",
      "  244 ?        S      0:00 [uvd_enc0]\n",
      "  245 ?        S      0:00 [uvd_enc1]\n",
      "  246 ?        S      0:00 [vce0]\n",
      "  247 ?        S      0:00 [vce1]\n",
      "  248 ?        I<     0:00 [dm_timer_queue]\n",
      "  251 ?        I<     0:00 [kworker/4:1H]\n",
      "  252 ?        I<     0:00 [kworker/7:1H]\n",
      "  262 ?        I<     0:00 [kworker/1:1H]\n",
      "  290 ?        S      0:00 [jbd2/sda7-8]\n",
      "  291 ?        I<     0:00 [ext4-rsv-conver]\n",
      "  317 ?        I<     0:00 [kworker/6:1H]\n",
      "  323 ?        S<s    0:00 /lib/systemd/systemd-journald\n",
      "  331 ?        I<     0:00 [kworker/2:1H]\n",
      "  337 ?        I      0:00 [kworker/6:2]\n",
      "  338 ?        I      0:00 [kworker/7:2]\n",
      "  348 ?        I      0:00 [kworker/0:2]\n",
      "  351 ?        I<     0:00 [kworker/5:1H]\n",
      "  352 ?        I      0:00 [kworker/4:2]\n",
      "  356 ?        I      0:00 [kworker/5:2]\n",
      "  357 ?        Ss     0:00 /lib/systemd/systemd-udevd\n",
      "  360 ?        S<     0:00 [loop0]\n",
      "  374 ?        S<     0:00 [loop1]\n",
      "  396 ?        S<     0:00 [loop2]\n",
      "  426 ?        S<     0:00 [loop3]\n",
      "  437 ?        I<     0:00 [kmemstick]\n",
      "  438 ?        I<     0:00 [cfg80211]\n",
      "  440 ?        S      0:01 [irq/130-iwlwifi]\n",
      "  441 ?        I<     0:00 [kworker/u17:0]\n",
      "  443 ?        S<     0:00 [loop4]\n",
      "  445 ?        S<     0:00 [loop5]\n",
      "  476 ?        I<     0:00 [kworker/3:1H]\n",
      "  580 ?        S      0:00 [irq/131-mei_me]\n",
      "  589 ?        I<     0:00 [kworker/u17:2]\n",
      "  601 ?        S<     0:00 [loop6]\n",
      "  617 ?        I      0:00 [kworker/4:3]\n",
      "  624 ?        S<     0:00 [loop7]\n",
      "  628 ?        I<     0:00 [kworker/0:1H]\n",
      "  630 ?        S<     0:00 [loop8]\n",
      "  632 ?        S<     0:00 [loop9]\n",
      "  634 ?        S<     0:00 [loop10]\n",
      "  637 ?        S<     0:00 [loop11]\n",
      "  640 ?        S<     0:00 [loop12]\n",
      "  641 ?        S<     0:00 [loop13]\n",
      "  644 ?        S<     0:00 [loop14]\n",
      "  645 ?        S<     0:00 [loop15]\n",
      "  648 ?        S<     0:00 [loop16]\n",
      "  649 ?        S<     0:00 [loop17]\n",
      "  650 ?        S<     0:00 [loop18]\n",
      "  794 ?        S      0:00 [jbd2/sda9-8]\n",
      "  795 ?        I<     0:00 [ext4-rsv-conver]\n",
      "  797 ?        D      0:00 [jbd2/sda10-8]\n",
      "  798 ?        I<     0:00 [ext4-rsv-conver]\n",
      "  818 ?        Ssl    0:00 /lib/systemd/systemd-timesyncd\n",
      "  819 ?        Ss     0:00 /lib/systemd/systemd-resolved\n",
      "  926 ?        Ssl    0:00 /usr/bin/python3 /usr/bin/networkd-dispatcher --run-s\n",
      "  928 ?        Ssl    0:00 /usr/sbin/irqbalance --foreground\n",
      "  929 ?        Ss     0:00 /usr/lib/bluetooth/bluetoothd\n",
      "  931 ?        Ssl    0:04 /usr/sbin/iio-sensor-proxy\n",
      "  932 ?        Ssl    0:00 /usr/sbin/thermald --no-daemon --dbus-enable\n",
      "  933 ?        Ss     0:04 /usr/sbin/acpid\n",
      "  934 ?        Ssl    0:00 /usr/lib/accountsservice/accounts-daemon\n",
      "  935 ?        Ssl    0:00 /usr/sbin/ModemManager\n",
      "  936 ?        Ssl    0:00 /usr/sbin/rsyslogd -n\n",
      "  945 ?        Ssl    0:00 /usr/lib/udisks2/udisksd\n",
      "  949 ?        Ss     0:00 /usr/bin/dbus-daemon --system --address=systemd: --no\n",
      "  964 ?        S      0:00 /usr/sbin/courierlogger -pid=/run/courier/authdaemon/\n",
      "  965 ?        S      0:00 /usr/lib/courier/courier-authlib/authdaemond\n",
      "  978 ?        S      0:00 /usr/lib/courier/courier-authlib/authdaemond\n",
      "  979 ?        S      0:00 /usr/lib/courier/courier-authlib/authdaemond\n",
      "  980 ?        S      0:00 /usr/lib/courier/courier-authlib/authdaemond\n",
      "  981 ?        S      0:00 /usr/lib/courier/courier-authlib/authdaemond\n",
      "  982 ?        S      0:00 /usr/lib/courier/courier-authlib/authdaemond\n",
      "  987 ?        Ss     0:00 /usr/sbin/cron -f\n",
      "  989 ?        Ss     0:00 /lib/systemd/systemd-logind\n",
      "  990 ?        Ss     0:00 /sbin/wpa_supplicant -u -s -O /run/wpa_supplicant\n",
      "  991 ?        Ssl    0:00 /usr/sbin/NetworkManager --no-daemon\n",
      "  992 ?        Ss     0:00 avahi-daemon: running [dw-omen.local]\n",
      "  993 ?        Ssl    0:00 /usr/lib/snapd/snapd\n",
      " 1005 ?        Ssl    0:00 /usr/lib/policykit-1/polkitd --no-debug\n",
      " 1013 ?        S      0:00 /usr/lib/courier/courier/courierfilter start\n",
      " 1015 ?        S      0:00 /usr/lib/courier/courier/courierd\n",
      " 1017 ?        S      0:00 /usr/sbin/courierlogger courierfilter\n",
      " 1036 ?        S      0:00 avahi-daemon: chroot helper\n",
      " 1063 ?        S      0:00 /usr/lib/courier/courier/courierd\n",
      " 1064 ?        S      0:00 /bin/sh -c ./courieruucp\n",
      " 1065 ?        S      0:00 /bin/sh -c ./courierlocal\n",
      " 1066 ?        S      0:00 /bin/sh -c ./courierfax\n",
      " 1067 ?        S      0:00 /bin/sh -c ./courieresmtp\n",
      " 1069 ?        S      0:00 /bin/sh -c ./courierdsn\n",
      " 1070 ?        S      0:00 ./courieruucp\n",
      " 1071 ?        S      0:00 ./courierlocal\n",
      " 1072 ?        S      0:00 ./courierdsn\n",
      " 1073 ?        S      0:00 ./courieresmtp\n",
      " 1074 ?        S      0:00 ./courierfax\n",
      " 1090 ?        S      0:00 /usr/sbin/couriertcpd -stderrlogger=/usr/sbin/courier\n",
      " 1092 ?        S      0:00 /usr/sbin/courierlogger courieresmtpd\n",
      " 1116 ?        Ssl    0:00 /usr/sbin/gdm3\n",
      " 1122 ?        Sl     0:00 gdm-session-worker [pam/gdm-launch-environment]\n",
      " 1135 ?        Ss     0:00 /lib/systemd/systemd --user\n",
      " 1136 ?        S      0:00 (sd-pam)\n",
      " 1158 tty1     Ssl+   0:00 /usr/lib/gdm3/gdm-wayland-session gnome-session --aut\n",
      " 1160 ?        Ss     0:00 /usr/bin/dbus-daemon --session --address=systemd: --n\n",
      " 1162 tty1     Sl+    0:00 /usr/lib/gnome-session/gnome-session-binary --autosta\n",
      " 1186 tty1     Sl+    0:04 /usr/bin/gnome-shell\n",
      " 1193 ?        Ssl    0:00 /usr/lib/upower/upowerd\n",
      " 1227 tty1     Sl+    0:00 /usr/bin/Xwayland :1024 -rootless -terminate -accessx\n",
      " 1246 ?        Ssl    0:00 /usr/lib/at-spi2-core/at-spi-bus-launcher\n",
      " 1251 ?        S      0:00 /usr/bin/dbus-daemon --config-file=/usr/share/default\n",
      " 1253 ?        Sl     0:00 /usr/lib/at-spi2-core/at-spi2-registryd --use-gnome-s\n",
      " 1257 ?        Ssl    0:00 /usr/bin/pulseaudio --daemonize=no\n",
      " 1258 ?        SNsl   0:00 /usr/lib/rtkit/rtkit-daemon\n",
      " 1290 ?        S      0:00 /sbin/dhclient -d -q -sf /usr/lib/NetworkManager/nm-d\n",
      " 1352 tty1     Sl     0:00 ibus-daemon --xim --panel disable\n",
      " 1355 tty1     Sl     0:00 /usr/lib/ibus/ibus-dconf\n",
      " 1357 tty1     Sl     0:00 /usr/lib/ibus/ibus-x11 --kill-daemon\n",
      " 1360 ?        Sl     0:00 /usr/lib/ibus/ibus-portal\n",
      " 1368 ?        S      0:00 /sbin/dhclient -d -q -6 -N -sf /usr/lib/NetworkManage\n",
      " 1378 ?        Ssl    0:00 /usr/lib/x86_64-linux-gnu/boltd\n",
      " 1379 ?        Ssl    0:06 /usr/lib/packagekit/packagekitd\n",
      " 1380 tty1     Sl+    0:00 /usr/lib/gnome-settings-daemon/gsd-xsettings\n",
      " 1383 tty1     Sl+    0:00 /usr/lib/gnome-settings-daemon/gsd-a11y-settings\n",
      " 1385 tty1     Sl+    0:00 /usr/lib/gnome-settings-daemon/gsd-clipboard\n",
      " 1386 tty1     Sl+    0:00 /usr/lib/gnome-settings-daemon/gsd-color\n",
      " 1389 tty1     Sl+    0:00 /usr/lib/gnome-settings-daemon/gsd-datetime\n",
      " 1390 tty1     Sl+    0:00 /usr/lib/gnome-settings-daemon/gsd-housekeeping\n",
      " 1391 tty1     Sl+    0:00 /usr/lib/gnome-settings-daemon/gsd-keyboard\n",
      " 1392 tty1     Sl+    0:00 /usr/lib/gnome-settings-daemon/gsd-media-keys\n",
      " 1396 tty1     Sl+    0:00 /usr/lib/gnome-settings-daemon/gsd-mouse\n",
      " 1397 tty1     Sl+    0:00 /usr/lib/gnome-settings-daemon/gsd-power\n",
      " 1399 tty1     Sl+    0:00 /usr/lib/gnome-settings-daemon/gsd-print-notification\n",
      " 1401 tty1     Sl+    0:00 /usr/lib/gnome-settings-daemon/gsd-rfkill\n",
      " 1404 tty1     Sl+    0:00 /usr/lib/gnome-settings-daemon/gsd-screensaver-proxy\n",
      " 1408 tty1     Sl+    0:00 /usr/lib/gnome-settings-daemon/gsd-sharing\n",
      " 1410 tty1     Sl+    0:00 /usr/lib/gnome-settings-daemon/gsd-smartcard\n",
      " 1413 tty1     Sl+    0:00 /usr/lib/gnome-settings-daemon/gsd-sound\n",
      " 1420 tty1     Sl+    0:00 /usr/lib/gnome-settings-daemon/gsd-wacom\n",
      " 1441 ?        Ssl    0:00 /usr/bin/whoopsie -f\n",
      " 1442 ?        Ssl    0:00 /snap/canonical-livepatch/50/canonical-livepatchd\n",
      " 1443 ?        Ssl    0:02 dockerd -G docker --debug --log-level=debug --exec-ro\n",
      " 1444 ?        Ss     0:00 /usr/sbin/kerneloops --test\n",
      " 1456 ?        Ss     0:00 /usr/sbin/kerneloops\n",
      " 1552 tty1     Sl     0:00 /usr/lib/ibus/ibus-engine-simple\n",
      " 1640 ?        Ssl    0:00 /usr/lib/colord/colord\n",
      " 1719 ?        I      0:00 [kworker/u16:4]\n",
      " 1785 ?        Ssl    0:00 docker-containerd -l unix:///var/snap/docker/179/run/\n",
      " 2875 ?        Sl     0:00 gdm-session-worker [pam/gdm-password]\n",
      " 2878 ?        Ss     0:00 /lib/systemd/systemd --user\n",
      " 2879 ?        S      0:00 (sd-pam)\n",
      " 2892 ?        SLl    0:02 /usr/bin/gnome-keyring-daemon --daemonize --login\n",
      " 2896 tty2     Ssl+   0:00 /usr/lib/gdm3/gdm-x-session --run-script env GNOME_SH\n",
      " 2898 tty2     Sl+    0:29 /usr/lib/xorg/Xorg vt2 -displayfd 3 -auth /run/user/1\n",
      " 2912 ?        Ss     0:00 /usr/bin/dbus-daemon --session --address=systemd: --n\n",
      " 2915 tty2     Sl+    0:00 /usr/lib/gnome-session/gnome-session-binary --session\n",
      " 2997 ?        Ss     0:00 /usr/bin/ssh-agent /usr/bin/im-launch env GNOME_SHELL\n",
      " 3006 ?        Ssl    0:00 /usr/lib/at-spi2-core/at-spi-bus-launcher\n",
      " 3011 ?        S      0:00 /usr/bin/dbus-daemon --config-file=/usr/share/default\n",
      " 3013 ?        Sl     0:00 /usr/lib/at-spi2-core/at-spi2-registryd --use-gnome-s\n",
      " 3038 tty2     Sl+    0:53 /usr/bin/gnome-shell\n",
      " 3053 ?        Ssl    0:00 /usr/lib/gvfs/gvfsd\n",
      " 3058 ?        Sl     0:00 /usr/lib/gvfs/gvfsd-fuse /run/user/1000/gvfs -f -o bi\n",
      " 3069 ?        S<l    0:00 /usr/bin/pulseaudio --start --log-target=syslog\n",
      " 3076 ?        S<     0:00 [krfcommd]\n",
      " 3094 tty2     Sl     0:02 ibus-daemon --xim --panel disable\n",
      " 3098 tty2     Sl     0:00 /usr/lib/ibus/ibus-dconf\n",
      " 3100 tty2     Sl     0:00 /usr/lib/ibus/ibus-x11 --kill-daemon\n",
      " 3102 ?        Sl     0:00 /usr/lib/ibus/ibus-portal\n",
      " 3114 ?        Sl     0:00 /usr/lib/gnome-shell/gnome-shell-calendar-server\n",
      " 3121 ?        Ssl    0:00 /usr/lib/gvfs/gvfs-udisks2-volume-monitor\n",
      " 3125 ?        Ssl    0:00 /usr/lib/gvfs/gvfs-mtp-volume-monitor\n",
      " 3129 ?        Ssl    0:00 /usr/lib/gvfs/gvfs-gphoto2-volume-monitor\n",
      " 3133 ?        Ssl    0:00 /usr/lib/evolution/evolution-source-registry\n",
      " 3137 ?        Ssl    0:00 /usr/lib/gvfs/gvfs-goa-volume-monitor\n",
      " 3141 ?        SLl    0:00 /usr/lib/gnome-online-accounts/goa-daemon\n",
      " 3154 ?        Sl     0:00 /usr/lib/gnome-online-accounts/goa-identity-service\n",
      " 3159 ?        Ssl    0:00 /usr/lib/gvfs/gvfs-afc-volume-monitor\n",
      " 3164 tty2     Sl+    0:00 /usr/lib/gnome-settings-daemon/gsd-power\n",
      " 3166 tty2     Sl+    0:00 /usr/lib/gnome-settings-daemon/gsd-print-notification\n",
      " 3167 tty2     Sl+    0:00 /usr/lib/gnome-settings-daemon/gsd-rfkill\n",
      " 3168 tty2     Sl+    0:00 /usr/lib/gnome-settings-daemon/gsd-screensaver-proxy\n",
      " 3169 tty2     Sl+    0:00 /usr/lib/gnome-settings-daemon/gsd-sharing\n",
      " 3171 tty2     Sl+    0:00 /usr/lib/gnome-settings-daemon/gsd-xsettings\n",
      " 3177 tty2     Sl+    0:00 /usr/lib/gnome-settings-daemon/gsd-wacom\n",
      " 3179 tty2     Sl+    0:00 /usr/lib/gnome-settings-daemon/gsd-sound\n",
      " 3183 tty2     Sl+    0:00 /usr/lib/gnome-settings-daemon/gsd-smartcard\n",
      " 3197 tty2     Sl+    0:00 /usr/lib/gnome-settings-daemon/gsd-clipboard\n",
      " 3202 tty2     Sl+    0:00 /usr/lib/gnome-settings-daemon/gsd-a11y-settings\n",
      " 3205 tty2     Sl+    0:00 /usr/lib/gnome-settings-daemon/gsd-datetime\n",
      " 3208 tty2     Sl+    0:00 /usr/lib/gnome-settings-daemon/gsd-color\n",
      " 3210 tty2     Sl+    0:00 /usr/lib/gnome-settings-daemon/gsd-keyboard\n",
      " 3211 tty2     Sl+    0:00 /usr/lib/gnome-settings-daemon/gsd-housekeeping\n",
      " 3215 tty2     Sl+    0:00 /usr/lib/gnome-settings-daemon/gsd-mouse\n",
      " 3220 tty2     Sl+    0:00 /usr/lib/gnome-settings-daemon/gsd-media-keys\n",
      " 3238 tty2     Sl+    0:00 /usr/lib/gnome-settings-daemon/gsd-printer\n",
      " 3261 tty2     SLl+   0:02 /usr/bin/gnome-software --gapplication-service\n",
      " 3263 tty2     Sl+    0:00 /usr/lib/gnome-disk-utility/gsd-disk-utility-notify\n",
      " 3265 tty2     Sl+    0:01 nautilus-desktop\n",
      " 3280 ?        Ssl    0:00 /usr/lib/evolution/evolution-calendar-factory\n",
      " 3292 ?        Sl     0:00 /usr/lib/gvfs/gvfsd-trash --spawner :1.22 /org/gtk/gv\n",
      " 3300 tty2     Sl     0:00 /usr/lib/ibus/ibus-engine-simple\n",
      " 3324 ?        Sl     0:00 /usr/lib/dconf/dconf-service\n",
      " 3328 ?        Ssl    0:00 /usr/lib/fwupd/fwupd\n",
      " 3333 ?        Sl     0:00 /usr/lib/evolution/evolution-calendar-factory-subproc\n",
      " 3346 ?        Ssl    0:00 /usr/lib/evolution/evolution-addressbook-factory\n",
      " 3359 ?        Sl     0:00 /usr/lib/evolution/evolution-addressbook-factory-subp\n",
      " 3412 ?        S      0:00 /usr/lib/x86_64-linux-gnu/gconf/gconfd-2\n",
      " 3505 ?        Ssl    0:02 /usr/lib/gnome-terminal/gnome-terminal-server\n",
      " 3514 pts/0    Ss     0:00 bash\n",
      " 3531 ?        Sl     0:03 /usr/bin/nautilus --gapplication-service\n",
      " 3558 tty2     Sl+    0:00 update-notifier\n",
      " 3614 tty2     SLl+   0:56 /opt/google/chrome/chrome\n",
      " 3620 tty2     S+     0:00 cat\n",
      " 3621 tty2     S+     0:00 cat\n",
      " 3624 tty2     S+     0:00 /opt/google/chrome/chrome --type=zygote\n",
      " 3625 tty2     S+     0:00 /opt/google/chrome/nacl_helper\n",
      " 3628 tty2     S+     0:00 /opt/google/chrome/chrome --type=zygote\n",
      " 3657 tty2     Sl+    0:23 /opt/google/chrome/chrome --type=gpu-process --field-\n",
      " 3845 tty2     Sl+    0:01 /opt/google/chrome/chrome --type=renderer --field-tri\n",
      " 3847 tty2     Sl+    0:00 /opt/google/chrome/chrome --type=renderer --field-tri\n",
      " 3849 tty2     Sl+    0:00 /opt/google/chrome/chrome --type=utility --field-tria\n",
      " 3913 tty2     Sl+    0:02 /opt/google/chrome/chrome --type=renderer --field-tri\n",
      " 3927 tty2     Sl+    0:12 /opt/google/chrome/chrome --type=renderer --field-tri\n",
      " 3935 tty2     Sl+    0:00 /opt/google/chrome/chrome --type=renderer --field-tri\n",
      " 3942 tty2     Sl+    0:00 /opt/google/chrome/chrome --type=renderer --field-tri\n",
      " 3943 tty2     Sl+    0:01 /opt/google/chrome/chrome --type=renderer --field-tri\n",
      " 3950 tty2     Sl+    0:00 /opt/google/chrome/chrome --type=renderer --field-tri\n",
      " 3963 tty2     Sl+    0:00 /opt/google/chrome/chrome --type=renderer --field-tri\n",
      " 3964 tty2     Sl+    0:01 /opt/google/chrome/chrome --type=renderer --field-tri\n",
      " 3970 tty2     Sl+    0:00 /opt/google/chrome/chrome --type=renderer --field-tri\n",
      " 3978 tty2     Sl+    0:00 /opt/google/chrome/chrome --type=renderer --field-tri\n",
      " 3991 tty2     Sl+    0:00 /opt/google/chrome/chrome --type=renderer --field-tri\n",
      " 3992 tty2     Sl+    0:03 /opt/google/chrome/chrome --type=renderer --field-tri\n",
      " 3997 tty2     Sl+    0:00 /opt/google/chrome/chrome --type=renderer --field-tri\n",
      " 4006 tty2     Sl+    0:00 /opt/google/chrome/chrome --type=renderer --field-tri\n",
      " 4270 tty2     Sl+    0:02 /opt/google/chrome/chrome --type=renderer --field-tri\n",
      " 4425 ?        I      0:00 [kworker/2:3]\n",
      " 4426 ?        I      0:00 [kworker/6:3]\n",
      " 4434 tty2     Sl+    0:07 /opt/google/chrome/chrome --type=renderer --field-tri\n",
      " 4457 tty2     Sl+    0:00 /usr/lib/deja-dup/deja-dup-monitor\n",
      " 4530 tty2     Sl+    0:06 /opt/google/chrome/chrome --type=renderer --field-tri\n",
      " 4801 ?        I      0:00 [kworker/7:3]\n",
      " 4806 ?        S      0:00 /usr/bin/ssh-agent -D -a /run/user/1000/keyring/.ssh\n",
      " 4833 ?        Ssl    0:00 /usr/lib/gvfs/gvfsd-metadata\n",
      " 4839 ?        Ssl    0:00 /usr/bin/zeitgeist-daemon\n",
      " 4847 ?        Ssl    0:00 /usr/lib/zeitgeist/zeitgeist/zeitgeist-fts\n",
      " 5146 ?        Ss     0:00 /usr/sbin/cupsd -l\n",
      " 5147 ?        Ssl    0:00 /usr/sbin/cups-browsed\n",
      " 5555 ?        I      0:00 [kworker/0:0]\n",
      " 5602 tty2     Sl+    0:04 /opt/google/chrome/chrome --type=renderer --field-tri\n",
      " 5634 ?        I      0:00 [kworker/3:0]\n",
      " 5659 pts/0    Sl+    0:10 /home/dawei/anaconda3/bin/python /home/dawei/anaconda\n",
      " 5777 ?        I      0:00 [kworker/2:0]\n",
      " 5825 ?        I      0:00 [kworker/6:0]\n",
      " 5848 ?        I      0:00 [kworker/6:4]\n",
      " 5853 ?        I      0:00 [kworker/6:5]\n",
      " 5879 ?        I      0:00 [kworker/3:3]\n",
      " 5886 ?        I      0:00 [kworker/3:4]\n",
      " 5892 ?        I      0:00 [kworker/3:5]\n",
      " 5922 ?        I      0:00 [kworker/7:4]\n",
      " 5927 ?        I      0:00 [kworker/7:5]\n",
      " 5938 ?        I      0:00 [kworker/5:0]\n",
      " 5949 ?        I      0:00 [kworker/2:2]\n",
      " 6062 tty2     Sl+    0:03 /opt/google/chrome/chrome --type=renderer --field-tri\n",
      " 6085 tty2     Rl+    0:34 /opt/google/chrome/chrome --type=renderer --field-tri\n",
      " 6158 pts/0    S+     0:00 bash /home/dawei/.anaconda/navigator/scripts/notebook\n",
      " 6162 pts/0    Sl+    0:02 /home/dawei/anaconda3/bin/python /home/dawei/anaconda\n",
      " 6280 tty2     Sl+    0:00 /opt/google/chrome/chrome --type=renderer --field-tri\n",
      " 6307 ?        I      0:00 [kworker/4:0]\n",
      " 6327 ?        Ssl    0:01 /home/dawei/anaconda3/bin/python -m ipykernel_launche\n",
      " 6417 ?        I      0:00 [kworker/1:0]\n",
      " 6575 pts/1    Ss+    0:00 /bin/sh -c ps -ax\n",
      " 6576 pts/1    R+     0:00 ps -ax\n"
     ]
    }
   ],
   "source": [
    "!ps -ax"
   ]
  },
  {
   "cell_type": "markdown",
   "metadata": {},
   "source": [
    "## Searching\n",
    "- Use grep to display the entry with your username in the file '/etc/passwd'."
   ]
  },
  {
   "cell_type": "code",
   "execution_count": 45,
   "metadata": {},
   "outputs": [
    {
     "name": "stdout",
     "output_type": "stream",
     "text": [
      "dawei\r\n"
     ]
    }
   ],
   "source": [
    "!id -un"
   ]
  },
  {
   "cell_type": "code",
   "execution_count": 46,
   "metadata": {},
   "outputs": [
    {
     "name": "stdout",
     "output_type": "stream",
     "text": [
      "dawei\r\n"
     ]
    }
   ],
   "source": [
    "!echo $USER"
   ]
  },
  {
   "cell_type": "code",
   "execution_count": 48,
   "metadata": {},
   "outputs": [
    {
     "name": "stdout",
     "output_type": "stream",
     "text": [
      "root:x:0:0:root:/root:/bin/bash\n",
      "daemon:x:1:1:daemon:/usr/sbin:/usr/sbin/nologin\n",
      "bin:x:2:2:bin:/bin:/usr/sbin/nologin\n",
      "sys:x:3:3:sys:/dev:/usr/sbin/nologin\n",
      "sync:x:4:65534:sync:/bin:/bin/sync\n",
      "games:x:5:60:games:/usr/games:/usr/sbin/nologin\n",
      "man:x:6:12:man:/var/cache/man:/usr/sbin/nologin\n",
      "lp:x:7:7:lp:/var/spool/lpd:/usr/sbin/nologin\n",
      "mail:x:8:8:mail:/var/mail:/usr/sbin/nologin\n",
      "news:x:9:9:news:/var/spool/news:/usr/sbin/nologin\n",
      "uucp:x:10:10:uucp:/var/spool/uucp:/usr/sbin/nologin\n",
      "proxy:x:13:13:proxy:/bin:/usr/sbin/nologin\n",
      "www-data:x:33:33:www-data:/var/www:/usr/sbin/nologin\n",
      "backup:x:34:34:backup:/var/backups:/usr/sbin/nologin\n",
      "list:x:38:38:Mailing List Manager:/var/list:/usr/sbin/nologin\n",
      "irc:x:39:39:ircd:/var/run/ircd:/usr/sbin/nologin\n",
      "gnats:x:41:41:Gnats Bug-Reporting System (admin):/var/lib/gnats:/usr/sbin/nologin\n",
      "nobody:x:65534:65534:nobody:/nonexistent:/usr/sbin/nologin\n",
      "systemd-network:x:100:102:systemd Network Management,,,:/run/systemd/netif:/usr/sbin/nologin\n",
      "systemd-resolve:x:101:103:systemd Resolver,,,:/run/systemd/resolve:/usr/sbin/nologin\n",
      "syslog:x:102:106::/home/syslog:/usr/sbin/nologin\n",
      "messagebus:x:103:107::/nonexistent:/usr/sbin/nologin\n",
      "_apt:x:104:65534::/nonexistent:/usr/sbin/nologin\n",
      "uuidd:x:105:111::/run/uuidd:/usr/sbin/nologin\n",
      "avahi-autoipd:x:106:112:Avahi autoip daemon,,,:/var/lib/avahi-autoipd:/usr/sbin/nologin\n",
      "usbmux:x:107:46:usbmux daemon,,,:/var/lib/usbmux:/usr/sbin/nologin\n",
      "dnsmasq:x:108:65534:dnsmasq,,,:/var/lib/misc:/usr/sbin/nologin\n",
      "rtkit:x:109:114:RealtimeKit,,,:/proc:/usr/sbin/nologin\n",
      "cups-pk-helper:x:110:116:user for cups-pk-helper service,,,:/home/cups-pk-helper:/usr/sbin/nologin\n",
      "speech-dispatcher:x:111:29:Speech Dispatcher,,,:/var/run/speech-dispatcher:/bin/false\n",
      "whoopsie:x:112:117::/nonexistent:/bin/false\n",
      "kernoops:x:113:65534:Kernel Oops Tracking Daemon,,,:/:/usr/sbin/nologin\n",
      "saned:x:114:119::/var/lib/saned:/usr/sbin/nologin\n",
      "pulse:x:115:120:PulseAudio daemon,,,:/var/run/pulse:/usr/sbin/nologin\n",
      "avahi:x:116:122:Avahi mDNS daemon,,,:/var/run/avahi-daemon:/usr/sbin/nologin\n",
      "colord:x:117:123:colord colour management daemon,,,:/var/lib/colord:/usr/sbin/nologin\n",
      "hplip:x:118:7:HPLIP system user,,,:/var/run/hplip:/bin/false\n",
      "geoclue:x:119:124::/var/lib/geoclue:/usr/sbin/nologin\n",
      "gnome-initial-setup:x:120:65534::/run/gnome-initial-setup/:/bin/false\n",
      "gdm:x:121:125:Gnome Display Manager:/var/lib/gdm3:/bin/false\n",
      "dawei:x:1000:1000:dawei,,,:/home/dawei:/bin/bash\n",
      "sbt:x:999:999:sbt daemon-user:/home/sbt:/bin/false\n",
      "courier:x:122:127::/var/lib/courier:/usr/sbin/nologin\n",
      "scala:x:998:998:scala daemon-user:/home/scala:/bin/false\n"
     ]
    }
   ],
   "source": [
    "%%bash\n",
    "cat /etc/passwd"
   ]
  },
  {
   "cell_type": "code",
   "execution_count": 49,
   "metadata": {},
   "outputs": [
    {
     "name": "stdout",
     "output_type": "stream",
     "text": [
      "Assignment/Week3/Bash Shell Homework.ipynb:     \"evalue\": \"Command 'b'cat grep -w DKanWei\\\\n'' returned non-zero exit status 1\",\n",
      "Assignment/Week3/Bash Shell Homework.ipynb:      \"\\u001b[0;32m<ipython-input-47-a8d52b303d1a>\\u001b[0m in \\u001b[0;36m<module>\\u001b[0;34m\\u001b[0m\\n\\u001b[0;32m----> 1\\u001b[0;31m \\u001b[0mget_ipython\\u001b[0m\\u001b[0;34m(\\u001b[0m\\u001b[0;34m)\\u001b[0m\\u001b[0;34m.\\u001b[0m\\u001b[0mrun_cell_magic\\u001b[0m\\u001b[0;34m(\\u001b[0m\\u001b[0;34m'bash'\\u001b[0m\\u001b[0;34m,\\u001b[0m \\u001b[0;34m''\\u001b[0m\\u001b[0;34m,\\u001b[0m \\u001b[0;34m'cat grep -w DKanWei\\\\n'\\u001b[0m\\u001b[0;34m)\\u001b[0m\\u001b[0;34m\\u001b[0m\\u001b[0m\\n\\u001b[0m\",\n",
      "Assignment/Week3/Bash Shell Homework.ipynb:      \"\\u001b[0;31mCalledProcessError\\u001b[0m: Command 'b'cat grep -w DKanWei\\\\n'' returned non-zero exit status 1\"\n",
      "Assignment/Week3/Bash Shell Homework.ipynb:    \"cat /etc/passwd | grep -w DKanWei \"\n",
      "Assignment/Week3/Bash Shell Homework.ipynb:      \"LOGNAME=DKanWei\\r\\n\",\n",
      "Assignment/Week3/Bash Shell Homework.ipynb:      \"USER=DKanWei\\r\\n\",\n",
      "Assignment/Week3/.ipynb_checkpoints/Bash Shell Homework-checkpoint.ipynb:      \"drwxr-xr-x    5 DKanWei  staff   160 Oct  9 15:04 .\\n\",\n",
      "Assignment/Week3/.ipynb_checkpoints/Bash Shell Homework-checkpoint.ipynb:      \"drwxr-xr-x+ 110 DKanWei  staff  3520 Oct  9 15:01 ..\\n\",\n",
      "Assignment/Week3/.ipynb_checkpoints/Bash Shell Homework-checkpoint.ipynb:      \"drwxr-xr-x    2 DKanWei  staff    64 Oct  9 15:03 .ipynb_checkpoints\\n\",\n",
      "Assignment/Week3/.ipynb_checkpoints/Bash Shell Homework-checkpoint.ipynb:      \"-rw-r--r--    1 DKanWei  staff    29 Oct  9 15:04 before\\n\",\n",
      "Assignment/Week3/.ipynb_checkpoints/Bash Shell Homework-checkpoint.ipynb:      \"-rw-r--r--    1 DKanWei  staff    29 Oct  9 15:03 now\\n\"\n",
      "Assignment/Week3/.ipynb_checkpoints/Bash Shell Homework-checkpoint.ipynb:      \"-------r-x  1 DKanWei  staff  15 Oct  9 15:22 secretfile\\n\"\n",
      "Assignment/Week3/.ipynb_checkpoints/Bash Shell Homework-checkpoint.ipynb:      \"--------w-  1 DKanWei  staff  15 Oct  9 15:22 secretfile\\n\"\n",
      "Assignment/Week3/.ipynb_checkpoints/Bash Shell Homework-checkpoint.ipynb:      \" 5409 ttys000    0:00.04 login -pf DKanWei\\r\\n\"\n",
      "Assignment/Week3/.ipynb_checkpoints/Bash Shell Homework-checkpoint.ipynb:      \"64520 ttys001    0:00.10 login -pf DKanWei\\r\\n\",\n",
      "Assignment/Week3/.ipynb_checkpoints/Bash Shell Homework-checkpoint.ipynb:      \"40590 ttys002    0:00.04 login -pf DKanWei\\r\\n\",\n",
      "Assignment/Week3/.ipynb_checkpoints/Bash Shell Homework-checkpoint.ipynb:      \"DKanWei\\r\\n\"\n",
      "Assignment/Week3/.ipynb_checkpoints/Bash Shell Homework-checkpoint.ipynb:      \"DKanWei\\r\\n\"\n",
      "Assignment/Week3/.ipynb_checkpoints/Bash Shell Homework-checkpoint.ipynb:    \"cat /etc/passwd | grep -w DKanWei \"\n",
      "Assignment/Week3/.ipynb_checkpoints/Bash Shell Homework-checkpoint.ipynb:      \"LOGNAME=DKanWei\\r\\n\",\n",
      "Assignment/Week3/.ipynb_checkpoints/Bash Shell Homework-checkpoint.ipynb:      \"USER=DKanWei\\r\\n\",\n",
      "Assignment/Week3/.ipynb_checkpoints/.ipynb-checkpoint:      \"drwxr-xr-x    5 DKanWei  staff   160 Oct  9 15:04 .\\n\",\n",
      "Assignment/Week3/.ipynb_checkpoints/.ipynb-checkpoint:      \"drwxr-xr-x+ 110 DKanWei  staff  3520 Oct  9 15:01 ..\\n\",\n",
      "Assignment/Week3/.ipynb_checkpoints/.ipynb-checkpoint:      \"drwxr-xr-x    2 DKanWei  staff    64 Oct  9 15:03 .ipynb_checkpoints\\n\",\n",
      "Assignment/Week3/.ipynb_checkpoints/.ipynb-checkpoint:      \"-rw-r--r--    1 DKanWei  staff    29 Oct  9 15:04 before\\n\",\n",
      "Assignment/Week3/.ipynb_checkpoints/.ipynb-checkpoint:      \"-rw-r--r--    1 DKanWei  staff    29 Oct  9 15:03 now\\n\"\n",
      "Assignment/Week3/.ipynb_checkpoints/.ipynb-checkpoint:      \"-------r-x  1 DKanWei  staff  15 Oct  9 15:22 secretfile\\n\"\n",
      "Assignment/Week3/.ipynb_checkpoints/.ipynb-checkpoint:      \"--------w-  1 DKanWei  staff  15 Oct  9 15:22 secretfile\\n\"\n",
      "Assignment/Week3/.ipynb_checkpoints/.ipynb-checkpoint:      \" 5409 ttys000    0:00.04 login -pf DKanWei\\r\\n\"\n",
      "Assignment/Week3/.ipynb_checkpoints/.ipynb-checkpoint:      \"64520 ttys001    0:00.10 login -pf DKanWei\\r\\n\",\n",
      "Assignment/Week3/.ipynb_checkpoints/.ipynb-checkpoint:      \"40590 ttys002    0:00.04 login -pf DKanWei\\r\\n\",\n",
      "Assignment/Week3/.ipynb_checkpoints/.ipynb-checkpoint:      \"DKanWei\\r\\n\"\n",
      "Assignment/Week3/.ipynb_checkpoints/.ipynb-checkpoint:      \"DKanWei\\r\\n\"\n",
      "Assignment/Week3/.ipynb_checkpoints/.ipynb-checkpoint:    \"cat /etc/passwd | grep -w DKanWei \"\n",
      "Assignment/Week3/.ipynb_checkpoints/.ipynb-checkpoint:      \"LOGNAME=DKanWei\\r\\n\",\n",
      "Assignment/Week3/.ipynb_checkpoints/.ipynb-checkpoint:      \"USER=DKanWei\\r\\n\",\n",
      "Assignment/Week3/.ipynb:      \"drwxr-xr-x    5 DKanWei  staff   160 Oct  9 15:04 .\\n\",\n",
      "Assignment/Week3/.ipynb:      \"drwxr-xr-x+ 110 DKanWei  staff  3520 Oct  9 15:01 ..\\n\",\n",
      "Assignment/Week3/.ipynb:      \"drwxr-xr-x    2 DKanWei  staff    64 Oct  9 15:03 .ipynb_checkpoints\\n\",\n",
      "Assignment/Week3/.ipynb:      \"-rw-r--r--    1 DKanWei  staff    29 Oct  9 15:04 before\\n\",\n",
      "Assignment/Week3/.ipynb:      \"-rw-r--r--    1 DKanWei  staff    29 Oct  9 15:03 now\\n\"\n",
      "Assignment/Week3/.ipynb:      \"-------r-x  1 DKanWei  staff  15 Oct  9 15:22 secretfile\\n\"\n",
      "Assignment/Week3/.ipynb:      \"--------w-  1 DKanWei  staff  15 Oct  9 15:22 secretfile\\n\"\n",
      "Assignment/Week3/.ipynb:      \" 5409 ttys000    0:00.04 login -pf DKanWei\\r\\n\"\n",
      "Assignment/Week3/.ipynb:      \"64520 ttys001    0:00.10 login -pf DKanWei\\r\\n\",\n",
      "Assignment/Week3/.ipynb:      \"40590 ttys002    0:00.04 login -pf DKanWei\\r\\n\",\n",
      "Assignment/Week3/.ipynb:      \"DKanWei\\r\\n\"\n",
      "Assignment/Week3/.ipynb:      \"DKanWei\\r\\n\"\n",
      "Assignment/Week3/.ipynb:    \"cat /etc/passwd | grep -w DKanWei \"\n",
      "Assignment/Week3/.ipynb:      \"LOGNAME=DKanWei\\r\\n\",\n",
      "Assignment/Week3/.ipynb:      \"USER=DKanWei\\r\\n\",\n"
     ]
    }
   ],
   "source": [
    "%%bash\n",
    "cat /etc/passwd | grep -r DKanWei "
   ]
  },
  {
   "cell_type": "markdown",
   "metadata": {},
   "source": [
    "# Part II\n",
    "Use a text editor (emacs suggested - you should learn how to use it at some point, even if you later use something else) to create a plain text file named hw1.part2 containing answers to the following questions:\n",
    "\n",
    "- Use the man pages to find out what wc does. Give a brief description of it here. What does the -l option for wc do?\n",
    "- Run wc on the directory '/etc/passwd' and copy and paste your findings.\n",
    "- What command would you use to a terminate (stop) a process?\n",
    "- What information does the environment variable  \\$HOME store? (Hint: use `echo \\$HOME` to investigate.)\n",
    "- List two other imp\n",
    "ortant environment variables on your computer and what they store. Why are these variables important?\n",
    "- If you created a file 'bigredbutton' somewhere on your computer and couldn't remember what folder it was in, what command could you use to find it? Just give the name of the command. You do not need to describe all of the necessary arguments.\n",
    "- How is the command in the answer to the previous question different from the 'which' command?\n",
    "- How does the command “echo Hello World! > something” differ from “echo Hello World!”?\n",
    "- Assume we have run the first echo command from the previous question and now we execute “echo more text > something”. Describe what this does.\n",
    "- Now assume we have run the commands in the previous two questions and now we execute “echo yet more text >> something”. Describe what this does."
   ]
  },
  {
   "cell_type": "code",
   "execution_count": 50,
   "metadata": {
    "scrolled": true
   },
   "outputs": [
    {
     "name": "stdout",
     "output_type": "stream",
     "text": [
      "WC(1)                            User Commands                           WC(1)\r\n",
      "\r\n",
      "N\bNA\bAM\bME\bE\r\n",
      "       wc - print newline, word, and byte counts for each file\r\n",
      "\r\n",
      "S\bSY\bYN\bNO\bOP\bPS\bSI\bIS\bS\r\n",
      "       w\bwc\bc [_\bO_\bP_\bT_\bI_\bO_\bN]... [_\bF_\bI_\bL_\bE]...\r\n",
      "       w\bwc\bc [_\bO_\bP_\bT_\bI_\bO_\bN]... _\b-_\b-_\bf_\bi_\bl_\be_\bs_\b0_\b-_\bf_\br_\bo_\bm_\b=_\bF\r\n",
      "\r\n",
      "D\bDE\bES\bSC\bCR\bRI\bIP\bPT\bTI\bIO\bON\bN\r\n",
      "       Print newline, word, and byte counts for each FILE, and a total line if\r\n",
      "       more than one FILE is specified.  A word is a non-zero-length  sequence\r\n",
      "       of characters delimited by white space.\r\n",
      "\r\n",
      "       With no FILE, or when FILE is -, read standard input.\r\n",
      "\r\n",
      "       The  options  below  may  be  used  to select which counts are printed,\r\n",
      "       always in the following order: newline, word, character, byte,  maximum\r\n",
      "       line length.\r\n",
      "\r\n",
      "       -\b-c\bc, -\b--\b-b\bby\byt\bte\bes\bs\r\n",
      "              print the byte counts\r\n",
      "\r\n",
      "       -\b-m\bm, -\b--\b-c\bch\bha\bar\brs\bs\r\n",
      "              print the character counts\r\n",
      "\r\n",
      "       -\b-l\bl, -\b--\b-l\bli\bin\bne\bes\bs\r\n",
      "              print the newline counts\r\n",
      "\r\n",
      "       -\b--\b-f\bfi\bil\ble\bes\bs0\b0-\b-f\bfr\bro\bom\bm=_\bF\r\n",
      "              read  input  from the files specified by NUL-terminated names in\r\n",
      "              file F; If F is - then read names from standard input\r\n",
      "\r\n",
      "       -\b-L\bL, -\b--\b-m\bma\bax\bx-\b-l\bli\bin\bne\be-\b-l\ble\ben\bng\bgt\bth\bh\r\n",
      "              print the maximum display width\r\n",
      "\r\n",
      "       -\b-w\bw, -\b--\b-w\bwo\bor\brd\bds\bs\r\n",
      "              print the word counts\r\n",
      "\r\n",
      "       -\b--\b-h\bhe\bel\blp\bp display this help and exit\r\n",
      "\r\n",
      "       -\b--\b-v\bve\ber\brs\bsi\bio\bon\bn\r\n",
      "              output version information and exit\r\n",
      "\r\n",
      "A\bAU\bUT\bTH\bHO\bOR\bR\r\n",
      "       Written by Paul Rubin and David MacKenzie.\r\n",
      "\r\n",
      "R\bRE\bEP\bPO\bOR\bRT\bTI\bIN\bNG\bG B\bBU\bUG\bGS\bS\r\n",
      "       GNU coreutils online help: <http://www.gnu.org/software/coreutils/>\r\n",
      "       Report wc translation bugs to <http://translationproject.org/team/>\r\n",
      "\r\n",
      "C\bCO\bOP\bPY\bYR\bRI\bIG\bGH\bHT\bT\r\n",
      "       Copyright © 2017 Free Software Foundation, Inc.   License  GPLv3+:  GNU\r\n",
      "       GPL version 3 or later <http://gnu.org/licenses/gpl.html>.\r\n",
      "       This  is  free  software:  you  are free to change and redistribute it.\r\n",
      "       There is NO WARRANTY, to the extent permitted by law.\r\n",
      "\r\n",
      "S\bSE\bEE\bE A\bAL\bLS\bSO\bO\r\n",
      "       Full documentation at: <http://www.gnu.org/software/coreutils/wc>\r\n",
      "       or available locally via: info '(coreutils) wc invocation'\r\n",
      "\r\n",
      "GNU coreutils 8.28               January 2018                            WC(1)\r\n"
     ]
    }
   ],
   "source": [
    "!man wc"
   ]
  },
  {
   "cell_type": "code",
   "execution_count": 51,
   "metadata": {},
   "outputs": [
    {
     "name": "stdout",
     "output_type": "stream",
     "text": [
      "  44   74 2566 /etc/passwd\r\n"
     ]
    }
   ],
   "source": [
    "!wc /etc/passwd"
   ]
  },
  {
   "cell_type": "code",
   "execution_count": 54,
   "metadata": {},
   "outputs": [
    {
     "name": "stdout",
     "output_type": "stream",
     "text": [
      "USER       PID %CPU %MEM    VSZ   RSS TTY      STAT START   TIME COMMAND\r\n",
      "root         1  0.4  0.0 225940  9784 ?        Ss   19:00   0:05 /sbin/init spla\r\n",
      "root         2  0.0  0.0      0     0 ?        S    19:00   0:00 [kthreadd]\r\n",
      "root         4  0.0  0.0      0     0 ?        I<   19:00   0:00 [kworker/0:0H]\r\n",
      "root         5  0.0  0.0      0     0 ?        R    19:00   0:00 [kworker/u16:0]\r\n",
      "root         6  0.0  0.0      0     0 ?        I<   19:00   0:00 [mm_percpu_wq]\r\n",
      "root         7  0.0  0.0      0     0 ?        S    19:00   0:00 [ksoftirqd/0]\r\n",
      "root         8  0.0  0.0      0     0 ?        I    19:00   0:01 [rcu_sched]\r\n",
      "root         9  0.0  0.0      0     0 ?        I    19:00   0:00 [rcu_bh]\r\n",
      "root        10  0.0  0.0      0     0 ?        S    19:00   0:00 [migration/0]\r\n",
      "root        11  0.0  0.0      0     0 ?        S    19:00   0:00 [watchdog/0]\r\n",
      "root        12  0.0  0.0      0     0 ?        S    19:00   0:00 [cpuhp/0]\r\n",
      "root        13  0.0  0.0      0     0 ?        S    19:00   0:00 [cpuhp/1]\r\n",
      "root        14  0.0  0.0      0     0 ?        S    19:00   0:00 [watchdog/1]\r\n",
      "root        15  0.0  0.0      0     0 ?        S    19:00   0:00 [migration/1]\r\n",
      "root        16  0.0  0.0      0     0 ?        S    19:00   0:00 [ksoftirqd/1]\r\n",
      "root        18  0.0  0.0      0     0 ?        I<   19:00   0:00 [kworker/1:0H]\r\n",
      "root        19  0.0  0.0      0     0 ?        S    19:00   0:00 [cpuhp/2]\r\n",
      "root        20  0.0  0.0      0     0 ?        S    19:00   0:00 [watchdog/2]\r\n",
      "root        21  0.0  0.0      0     0 ?        S    19:00   0:00 [migration/2]\r\n",
      "root        22  0.0  0.0      0     0 ?        S    19:00   0:00 [ksoftirqd/2]\r\n",
      "root        24  0.0  0.0      0     0 ?        I<   19:00   0:00 [kworker/2:0H]\r\n",
      "root        25  0.0  0.0      0     0 ?        S    19:00   0:00 [cpuhp/3]\r\n",
      "root        26  0.0  0.0      0     0 ?        S    19:00   0:00 [watchdog/3]\r\n",
      "root        27  0.0  0.0      0     0 ?        S    19:00   0:00 [migration/3]\r\n",
      "root        28  0.0  0.0      0     0 ?        S    19:00   0:00 [ksoftirqd/3]\r\n",
      "root        30  0.0  0.0      0     0 ?        I<   19:00   0:00 [kworker/3:0H]\r\n",
      "root        31  0.0  0.0      0     0 ?        S    19:00   0:00 [cpuhp/4]\r\n",
      "root        32  0.0  0.0      0     0 ?        S    19:00   0:00 [watchdog/4]\r\n",
      "root        33  0.0  0.0      0     0 ?        S    19:00   0:00 [migration/4]\r\n",
      "root        34  0.0  0.0      0     0 ?        S    19:00   0:00 [ksoftirqd/4]\r\n",
      "root        36  0.0  0.0      0     0 ?        I<   19:00   0:00 [kworker/4:0H]\r\n",
      "root        37  0.0  0.0      0     0 ?        S    19:00   0:00 [cpuhp/5]\r\n",
      "root        38  0.0  0.0      0     0 ?        S    19:00   0:00 [watchdog/5]\r\n",
      "root        39  0.0  0.0      0     0 ?        S    19:00   0:00 [migration/5]\r\n",
      "root        40  0.0  0.0      0     0 ?        S    19:00   0:00 [ksoftirqd/5]\r\n",
      "root        42  0.0  0.0      0     0 ?        I<   19:00   0:00 [kworker/5:0H]\r\n",
      "root        43  0.0  0.0      0     0 ?        S    19:00   0:00 [cpuhp/6]\r\n",
      "root        44  0.0  0.0      0     0 ?        S    19:00   0:00 [watchdog/6]\r\n",
      "root        45  0.0  0.0      0     0 ?        S    19:00   0:00 [migration/6]\r\n",
      "root        46  0.0  0.0      0     0 ?        S    19:00   0:00 [ksoftirqd/6]\r\n",
      "root        48  0.0  0.0      0     0 ?        I<   19:00   0:00 [kworker/6:0H]\r\n",
      "root        49  0.0  0.0      0     0 ?        S    19:00   0:00 [cpuhp/7]\r\n",
      "root        50  0.0  0.0      0     0 ?        S    19:00   0:00 [watchdog/7]\r\n",
      "root        51  0.0  0.0      0     0 ?        S    19:00   0:00 [migration/7]\r\n",
      "root        52  0.0  0.0      0     0 ?        S    19:00   0:00 [ksoftirqd/7]\r\n",
      "root        53  0.0  0.0      0     0 ?        I    19:00   0:00 [kworker/7:0]\r\n",
      "root        54  0.0  0.0      0     0 ?        I<   19:00   0:00 [kworker/7:0H]\r\n",
      "root        55  0.0  0.0      0     0 ?        S    19:00   0:00 [kdevtmpfs]\r\n",
      "root        56  0.0  0.0      0     0 ?        I<   19:00   0:00 [netns]\r\n",
      "root        57  0.0  0.0      0     0 ?        S    19:00   0:00 [rcu_tasks_kthr\r\n",
      "root        58  0.0  0.0      0     0 ?        S    19:00   0:00 [kauditd]\r\n",
      "root        60  0.0  0.0      0     0 ?        I    19:00   0:00 [kworker/1:1]\r\n",
      "root        61  0.0  0.0      0     0 ?        I    19:00   0:00 [kworker/2:1]\r\n",
      "root        62  0.0  0.0      0     0 ?        S    19:00   0:00 [khungtaskd]\r\n",
      "root        63  0.0  0.0      0     0 ?        S    19:00   0:00 [oom_reaper]\r\n",
      "root        64  0.0  0.0      0     0 ?        I<   19:00   0:00 [writeback]\r\n",
      "root        65  0.0  0.0      0     0 ?        S    19:00   0:00 [kcompactd0]\r\n",
      "root        66  0.0  0.0      0     0 ?        SN   19:00   0:00 [ksmd]\r\n",
      "root        67  0.0  0.0      0     0 ?        SN   19:00   0:00 [khugepaged]\r\n",
      "root        68  0.0  0.0      0     0 ?        I<   19:00   0:00 [crypto]\r\n",
      "root        69  0.0  0.0      0     0 ?        I<   19:00   0:00 [kintegrityd]\r\n",
      "root        70  0.0  0.0      0     0 ?        I<   19:00   0:00 [kblockd]\r\n",
      "root        74  0.0  0.0      0     0 ?        I    19:00   0:01 [kworker/6:1]\r\n",
      "root        76  0.0  0.0      0     0 ?        I<   19:00   0:00 [ata_sff]\r\n",
      "root        77  0.0  0.0      0     0 ?        I<   19:00   0:00 [md]\r\n",
      "root        78  0.0  0.0      0     0 ?        I<   19:00   0:00 [edac-poller]\r\n",
      "root        79  0.0  0.0      0     0 ?        I<   19:00   0:00 [devfreq_wq]\r\n",
      "root        80  0.0  0.0      0     0 ?        I<   19:00   0:00 [watchdogd]\r\n",
      "root        83  0.0  0.0      0     0 ?        S    19:00   0:00 [kswapd0]\r\n",
      "root        84  0.0  0.0      0     0 ?        S    19:00   0:00 [ecryptfs-kthre\r\n",
      "root       126  0.0  0.0      0     0 ?        I<   19:00   0:00 [kthrotld]\r\n",
      "root       127  0.0  0.0      0     0 ?        I<   19:00   0:00 [acpi_thermal_p\r\n",
      "root       132  0.0  0.0      0     0 ?        I<   19:00   0:00 [ipv6_addrconf]\r\n",
      "root       142  0.0  0.0      0     0 ?        I<   19:00   0:00 [kstrp]\r\n",
      "root       163  0.0  0.0      0     0 ?        I<   19:00   0:00 [charger_manage\r\n",
      "root       219  0.0  0.0      0     0 ?        S    19:00   0:00 [scsi_eh_0]\r\n",
      "root       220  0.0  0.0      0     0 ?        I<   19:00   0:00 [scsi_tmf_0]\r\n",
      "root       221  0.0  0.0      0     0 ?        S    19:00   0:00 [scsi_eh_1]\r\n",
      "root       222  0.0  0.0      0     0 ?        I<   19:00   0:00 [scsi_tmf_1]\r\n",
      "root       223  0.0  0.0      0     0 ?        S    19:00   0:00 [scsi_eh_2]\r\n",
      "root       224  0.0  0.0      0     0 ?        I<   19:00   0:00 [scsi_tmf_2]\r\n",
      "root       225  0.0  0.0      0     0 ?        S    19:00   0:00 [scsi_eh_3]\r\n",
      "root       226  0.0  0.0      0     0 ?        I<   19:00   0:00 [scsi_tmf_3]\r\n",
      "root       227  0.0  0.0      0     0 ?        I    19:00   0:00 [kworker/u16:3]\r\n",
      "root       231  0.0  0.0      0     0 ?        I<   19:00   0:00 [ttm_swap]\r\n",
      "root       232  0.4  0.0      0     0 ?        S    19:00   0:05 [gfx]\r\n",
      "root       233  0.0  0.0      0     0 ?        S    19:00   0:00 [comp_1.0.0]\r\n",
      "root       234  0.0  0.0      0     0 ?        S    19:00   0:00 [comp_1.1.0]\r\n",
      "root       235  0.0  0.0      0     0 ?        S    19:00   0:00 [comp_1.2.0]\r\n",
      "root       236  0.0  0.0      0     0 ?        S    19:00   0:00 [comp_1.3.0]\r\n",
      "root       237  0.0  0.0      0     0 ?        S    19:00   0:00 [comp_1.0.1]\r\n",
      "root       238  0.0  0.0      0     0 ?        S    19:00   0:00 [comp_1.1.1]\r\n",
      "root       239  0.0  0.0      0     0 ?        S    19:00   0:00 [comp_1.2.1]\r\n",
      "root       240  0.0  0.0      0     0 ?        S    19:00   0:00 [comp_1.3.1]\r\n",
      "root       241  0.0  0.0      0     0 ?        S    19:00   0:00 [sdma0]\r\n",
      "root       242  0.0  0.0      0     0 ?        S    19:00   0:00 [sdma1]\r\n",
      "root       243  0.0  0.0      0     0 ?        S    19:00   0:00 [uvd]\r\n",
      "root       244  0.0  0.0      0     0 ?        S    19:00   0:00 [uvd_enc0]\r\n",
      "root       245  0.0  0.0      0     0 ?        S    19:00   0:00 [uvd_enc1]\r\n",
      "root       246  0.0  0.0      0     0 ?        S    19:00   0:00 [vce0]\r\n",
      "root       247  0.0  0.0      0     0 ?        S    19:00   0:00 [vce1]\r\n",
      "root       248  0.0  0.0      0     0 ?        I<   19:00   0:00 [dm_timer_queue\r\n",
      "root       251  0.0  0.0      0     0 ?        I<   19:00   0:00 [kworker/4:1H]\r\n",
      "root       252  0.0  0.0      0     0 ?        I<   19:00   0:00 [kworker/7:1H]\r\n",
      "root       262  0.0  0.0      0     0 ?        I<   19:00   0:00 [kworker/1:1H]\r\n",
      "root       290  0.0  0.0      0     0 ?        S    19:00   0:00 [jbd2/sda7-8]\r\n",
      "root       291  0.0  0.0      0     0 ?        I<   19:00   0:00 [ext4-rsv-conve\r\n",
      "root       317  0.0  0.0      0     0 ?        I<   19:00   0:00 [kworker/6:1H]\r\n",
      "root       323  0.0  0.3 152516 47760 ?        S<s  19:00   0:00 /lib/systemd/sy\r\n",
      "root       331  0.0  0.0      0     0 ?        I<   19:00   0:00 [kworker/2:1H]\r\n",
      "root       337  0.0  0.0      0     0 ?        I    19:00   0:00 [kworker/6:2]\r\n",
      "root       348  0.0  0.0      0     0 ?        I    19:00   0:00 [kworker/0:2]\r\n",
      "root       351  0.0  0.0      0     0 ?        I<   19:00   0:00 [kworker/5:1H]\r\n",
      "root       356  0.0  0.0      0     0 ?        I    19:00   0:00 [kworker/5:2]\r\n",
      "root       357  0.0  0.0  34512  4692 ?        Ss   19:00   0:00 /lib/systemd/sy\r\n",
      "root       360  0.0  0.0      0     0 ?        S<   19:00   0:00 [loop0]\r\n",
      "root       374  0.0  0.0      0     0 ?        S<   19:00   0:00 [loop1]\r\n",
      "root       396  0.0  0.0      0     0 ?        S<   19:00   0:00 [loop2]\r\n",
      "root       426  0.0  0.0      0     0 ?        S<   19:00   0:00 [loop3]\r\n",
      "root       437  0.0  0.0      0     0 ?        I<   19:00   0:00 [kmemstick]\r\n",
      "root       438  0.0  0.0      0     0 ?        I<   19:00   0:00 [cfg80211]\r\n",
      "root       440  0.1  0.0      0     0 ?        S    19:00   0:01 [irq/130-iwlwif\r\n",
      "root       441  0.0  0.0      0     0 ?        I<   19:00   0:00 [kworker/u17:0]\r\n",
      "root       443  0.0  0.0      0     0 ?        S<   19:00   0:00 [loop4]\r\n",
      "root       445  0.0  0.0      0     0 ?        S<   19:00   0:00 [loop5]\r\n",
      "root       476  0.0  0.0      0     0 ?        I<   19:00   0:00 [kworker/3:1H]\r\n",
      "root       580  0.0  0.0      0     0 ?        S    19:00   0:00 [irq/131-mei_me\r\n",
      "root       589  0.0  0.0      0     0 ?        I<   19:00   0:00 [kworker/u17:2]\r\n",
      "root       601  0.0  0.0      0     0 ?        S<   19:00   0:00 [loop6]\r\n",
      "root       617  0.0  0.0      0     0 ?        I    19:00   0:00 [kworker/4:3]\r\n",
      "root       624  0.0  0.0      0     0 ?        S<   19:00   0:00 [loop7]\r\n",
      "root       628  0.0  0.0      0     0 ?        I<   19:00   0:00 [kworker/0:1H]\r\n",
      "root       630  0.0  0.0      0     0 ?        S<   19:00   0:00 [loop8]\r\n",
      "root       632  0.0  0.0      0     0 ?        S<   19:00   0:00 [loop9]\r\n",
      "root       634  0.0  0.0      0     0 ?        S<   19:00   0:00 [loop10]\r\n",
      "root       637  0.0  0.0      0     0 ?        S<   19:00   0:00 [loop11]\r\n",
      "root       640  0.0  0.0      0     0 ?        S<   19:00   0:00 [loop12]\r\n",
      "root       641  0.0  0.0      0     0 ?        S<   19:00   0:00 [loop13]\r\n",
      "root       644  0.0  0.0      0     0 ?        S<   19:00   0:00 [loop14]\r\n",
      "root       645  0.0  0.0      0     0 ?        S<   19:00   0:00 [loop15]\r\n",
      "root       648  0.0  0.0      0     0 ?        S<   19:00   0:00 [loop16]\r\n",
      "root       649  0.0  0.0      0     0 ?        S<   19:00   0:00 [loop17]\r\n",
      "root       650  0.0  0.0      0     0 ?        S<   19:00   0:00 [loop18]\r\n",
      "root       794  0.0  0.0      0     0 ?        S    19:00   0:00 [jbd2/sda9-8]\r\n",
      "root       795  0.0  0.0      0     0 ?        I<   19:00   0:00 [ext4-rsv-conve\r\n",
      "root       797  0.0  0.0      0     0 ?        D    19:00   0:00 [jbd2/sda10-8]\r\n",
      "root       798  0.0  0.0      0     0 ?        I<   19:00   0:00 [ext4-rsv-conve\r\n",
      "systemd+   818  0.0  0.0 146096  3208 ?        Ssl  19:00   0:00 /lib/systemd/sy\r\n",
      "systemd+   819  0.0  0.0  70876  6140 ?        Ss   19:00   0:00 /lib/systemd/sy\r\n",
      "root       926  0.0  0.1 177672 17420 ?        Ssl  19:00   0:00 /usr/bin/python\r\n",
      "root       928  0.0  0.0 110480  3524 ?        Ssl  19:00   0:00 /usr/sbin/irqba\r\n",
      "root       929  0.0  0.0  36480  4568 ?        Ss   19:00   0:00 /usr/lib/blueto\r\n",
      "root       931  0.5  0.0 269820  5852 ?        Ssl  19:00   0:06 /usr/sbin/iio-s\r\n",
      "root       932  0.0  0.0 186944  9312 ?        Ssl  19:00   0:00 /usr/sbin/therm\r\n",
      "root       933  0.6  0.0   4552   792 ?        Ss   19:00   0:07 /usr/sbin/acpid\r\n",
      "root       934  0.0  0.0 294736  7060 ?        Ssl  19:00   0:00 /usr/lib/accoun\r\n",
      "root       935  0.0  0.0 427260  9084 ?        Ssl  19:00   0:00 /usr/sbin/Modem\r\n",
      "syslog     936  0.0  0.0 269332  4644 ?        Ssl  19:00   0:00 /usr/sbin/rsysl\r\n",
      "root       945  0.0  0.0 503868 12132 ?        Ssl  19:00   0:00 /usr/lib/udisks\r\n",
      "message+   949  0.1  0.0  51716  6380 ?        Ss   19:00   0:01 /usr/bin/dbus-d\r\n",
      "root       964  0.0  0.0   4520    76 ?        S    19:00   0:00 /usr/sbin/couri\r\n",
      "root       965  0.0  0.0  33076  3624 ?        S    19:00   0:00 /usr/lib/courie\r\n",
      "root       978  0.0  0.0  41532  2568 ?        S    19:00   0:00 /usr/lib/courie\r\n",
      "root       979  0.0  0.0  33076   288 ?        S    19:00   0:00 /usr/lib/courie\r\n",
      "root       980  0.0  0.0  33076   288 ?        S    19:00   0:00 /usr/lib/courie\r\n",
      "root       981  0.0  0.0  33076   288 ?        S    19:00   0:00 /usr/lib/courie\r\n",
      "root       982  0.0  0.0  41532  2604 ?        S    19:00   0:00 /usr/lib/courie\r\n",
      "root       987  0.0  0.0  38428  3232 ?        Ss   19:00   0:00 /usr/sbin/cron \r\n",
      "root       989  0.0  0.0  70716  6228 ?        Ss   19:00   0:00 /lib/systemd/sy\r\n",
      "root       990  0.0  0.0  45016  7564 ?        Ss   19:00   0:00 /sbin/wpa_suppl\r\n",
      "root       991  0.1  0.1 566384 17704 ?        Ssl  19:00   0:01 /usr/sbin/Netwo\r\n",
      "avahi      992  0.0  0.0  47264  3228 ?        Ss   19:00   0:00 avahi-daemon: r\r\n",
      "root       993  0.3  0.2 1002356 33504 ?       Ssl  19:00   0:03 /usr/lib/snapd/\r\n",
      "root      1005  0.0  0.0 303440  9864 ?        Ssl  19:00   0:00 /usr/lib/policy\r\n",
      "courier   1013  0.0  0.0  12976   120 ?        S    19:00   0:00 /usr/lib/courie\r\n",
      "root      1015  0.0  0.0  31364  3452 ?        S    19:00   0:00 /usr/lib/courie\r\n",
      "courier   1017  0.0  0.0   4520   716 ?        S    19:00   0:00 /usr/sbin/couri\r\n",
      "avahi     1036  0.0  0.0  47076   340 ?        S    19:00   0:00 avahi-daemon: c\r\n",
      "courier   1063  0.0  0.0  31516  2896 ?        S    19:00   0:00 /usr/lib/courie\r\n",
      "root      1064  0.0  0.0   4628   816 ?        S    19:00   0:00 /bin/sh -c ./co\r\n",
      "root      1065  0.0  0.0   4628   760 ?        S    19:00   0:00 /bin/sh -c ./co\r\n",
      "root      1066  0.0  0.0   4628   800 ?        S    19:00   0:00 /bin/sh -c ./co\r\n",
      "root      1067  0.0  0.0   4628   808 ?        S    19:00   0:00 /bin/sh -c ./co\r\n",
      "root      1069  0.0  0.0   4628   772 ?        S    19:00   0:00 /bin/sh -c ./co\r\n",
      "uucp      1070  0.0  0.0  29196  3432 ?        S    19:00   0:00 ./courieruucp\r\n",
      "root      1071  0.0  0.0   6672   884 ?        S    19:00   0:00 ./courierlocal\r\n",
      "courier   1072  0.0  0.0  13016  1932 ?        S    19:00   0:00 ./courierdsn\r\n",
      "courier   1073  0.0  0.0  33456  3516 ?        S    19:00   0:00 ./courieresmtp\r\n",
      "root      1074  0.0  0.0  18644  2072 ?        S    19:00   0:00 ./courierfax\r\n",
      "courier   1090  0.0  0.0  21700  2096 ?        S    19:00   0:00 /usr/sbin/couri\r\n",
      "courier   1092  0.0  0.0   4520   720 ?        S    19:00   0:00 /usr/sbin/couri\r\n",
      "root      1116  0.0  0.0 308180  7960 ?        Ssl  19:00   0:00 /usr/sbin/gdm3\r\n",
      "root      1122  0.0  0.0 261552  8120 ?        Sl   19:00   0:00 gdm-session-wor\r\n",
      "gdm       1135  0.0  0.0  77136  8164 ?        Ss   19:00   0:00 /lib/systemd/sy\r\n",
      "gdm       1136  0.0  0.0 114308  2868 ?        S    19:00   0:00 (sd-pam)\r\n",
      "gdm       1158  0.0  0.0 197796  5364 tty1     Ssl+ 19:00   0:00 /usr/lib/gdm3/g\r\n",
      "gdm       1160  0.0  0.0  50236  4424 ?        Ss   19:00   0:00 /usr/bin/dbus-d\r\n",
      "gdm       1162  0.0  0.1 558940 13900 tty1     Sl+  19:00   0:00 /usr/lib/gnome-\r\n",
      "gdm       1186  0.3  1.2 4289008 147728 tty1   Sl+  19:00   0:04 /usr/bin/gnome-\r\n",
      "root      1193  0.0  0.0 322448  8780 ?        Ssl  19:00   0:00 /usr/lib/upower\r\n",
      "gdm       1227  0.0  0.4 1419808 59332 tty1    Sl+  19:00   0:00 /usr/bin/Xwayla\r\n",
      "gdm       1246  0.0  0.0 349264  6076 ?        Ssl  19:00   0:00 /usr/lib/at-spi\r\n",
      "gdm       1251  0.0  0.0  49928  3676 ?        S    19:00   0:00 /usr/bin/dbus-d\r\n",
      "gdm       1253  0.0  0.0 220760  6996 ?        Sl   19:00   0:00 /usr/lib/at-spi\r\n",
      "gdm       1257  0.0  0.0 1227372 11568 ?       Ssl  19:00   0:00 /usr/bin/pulsea\r\n",
      "rtkit     1258  0.0  0.0 183504  3044 ?        SNsl 19:00   0:00 /usr/lib/rtkit/\r\n",
      "root      1290  0.0  0.0  25656  6080 ?        S    19:00   0:00 /sbin/dhclient \r\n",
      "gdm       1352  0.0  0.0 361484  7672 tty1     Sl   19:00   0:00 ibus-daemon --x\r\n",
      "gdm       1355  0.0  0.0 280740  5964 tty1     Sl   19:00   0:00 /usr/lib/ibus/i\r\n",
      "gdm       1357  0.0  0.4 998316 50840 tty1     Sl   19:00   0:00 /usr/lib/ibus/i\r\n",
      "gdm       1360  0.0  0.0 278556  6000 ?        Sl   19:00   0:00 /usr/lib/ibus/i\r\n",
      "root      1368  0.0  0.0  25656  5916 ?        S    19:00   0:00 /sbin/dhclient \r\n",
      "root      1378  0.0  0.0 296820  6860 ?        Ssl  19:00   0:00 /usr/lib/x86_64\r\n",
      "root      1379  0.5  0.3 449220 39088 ?        Ssl  19:00   0:06 /usr/lib/packag\r\n",
      "gdm       1380  0.0  0.4 1149060 52348 tty1    Sl+  19:00   0:00 /usr/lib/gnome-\r\n",
      "gdm       1383  0.0  0.0 278148  5752 tty1     Sl+  19:00   0:00 /usr/lib/gnome-\r\n",
      "gdm       1385  0.0  0.4 997956 50048 tty1     Sl+  19:00   0:00 /usr/lib/gnome-\r\n",
      "gdm       1386  0.0  0.4 1184196 53516 tty1    Sl+  19:00   0:00 /usr/lib/gnome-\r\n",
      "gdm       1389  0.0  0.1 393704 13584 tty1     Sl+  19:00   0:00 /usr/lib/gnome-\r\n",
      "gdm       1390  0.0  0.0 283740  5544 tty1     Sl+  19:00   0:00 /usr/lib/gnome-\r\n",
      "gdm       1391  0.0  0.4 1152364 50460 tty1    Sl+  19:00   0:00 /usr/lib/gnome-\r\n",
      "gdm       1392  0.0  0.4 1660024 52648 tty1    Sl+  19:00   0:00 /usr/lib/gnome-\r\n",
      "gdm       1396  0.0  0.0 201996  4668 tty1     Sl+  19:00   0:00 /usr/lib/gnome-\r\n",
      "gdm       1397  0.0  0.4 1163160 52100 tty1    Sl+  19:00   0:00 /usr/lib/gnome-\r\n",
      "gdm       1399  0.0  0.0 267004  8796 tty1     Sl+  19:00   0:00 /usr/lib/gnome-\r\n",
      "gdm       1401  0.0  0.0 202016  4516 tty1     Sl+  19:00   0:00 /usr/lib/gnome-\r\n",
      "gdm       1404  0.0  0.0 275732  5084 tty1     Sl+  19:00   0:00 /usr/lib/gnome-\r\n",
      "gdm       1408  0.0  0.0 305100  8120 tty1     Sl+  19:00   0:00 /usr/lib/gnome-\r\n",
      "gdm       1410  0.0  0.0 377928  7936 tty1     Sl+  19:00   0:00 /usr/lib/gnome-\r\n",
      "gdm       1413  0.0  0.0 332852  7904 tty1     Sl+  19:00   0:00 /usr/lib/gnome-\r\n",
      "gdm       1420  0.0  0.4 1083112 51272 tty1    Sl+  19:00   0:00 /usr/lib/gnome-\r\n",
      "whoopsie  1441  0.0  0.1 462184 12704 ?        Ssl  19:00   0:00 /usr/bin/whoops\r\n",
      "root      1442  0.0  0.0 437032  7696 ?        Ssl  19:00   0:00 /snap/canonical\r\n",
      "kernoops  1444  0.0  0.0  56936   416 ?        Ss   19:00   0:00 /usr/sbin/kerne\r\n",
      "kernoops  1456  0.0  0.0  56936   420 ?        Ss   19:00   0:00 /usr/sbin/kerne\r\n",
      "gdm       1552  0.0  0.0 204888  6560 tty1     Sl   19:00   0:00 /usr/lib/ibus/i\r\n",
      "colord    1640  0.0  0.1 325004 13972 ?        Ssl  19:00   0:00 /usr/lib/colord\r\n",
      "root      1719  0.0  0.0      0     0 ?        I    19:00   0:00 [kworker/u16:4]\r\n",
      "root      2875  0.0  0.0 267740  8304 ?        Sl   19:01   0:00 gdm-session-wor\r\n",
      "dawei     2878  0.0  0.0  77184  8488 ?        Ss   19:01   0:00 /lib/systemd/sy\r\n",
      "dawei     2879  0.0  0.0 114308  2872 ?        S    19:01   0:00 (sd-pam)\r\n",
      "dawei     2892  0.3  0.1 519684 17524 ?        SLl  19:01   0:03 /usr/bin/gnome-\r\n",
      "dawei     2896  0.0  0.0 212128  5944 tty2     Ssl+ 19:01   0:00 /usr/lib/gdm3/g\r\n",
      "dawei     2898  4.3  0.7 1023952 85872 tty2    Sl+  19:01   0:49 /usr/lib/xorg/X\r\n",
      "dawei     2912  0.0  0.0  51452  5736 ?        Ss   19:01   0:01 /usr/bin/dbus-d\r\n",
      "dawei     2915  0.0  0.1 567816 14552 tty2     Sl+  19:01   0:00 /usr/lib/gnome-\r\n",
      "dawei     2997  0.0  0.0  11304   316 ?        Ss   19:01   0:00 /usr/bin/ssh-ag\r\n",
      "dawei     3006  0.0  0.0 349364  6280 ?        Ssl  19:01   0:00 /usr/lib/at-spi\r\n",
      "dawei     3011  0.0  0.0  49924  4128 ?        S    19:01   0:00 /usr/bin/dbus-d\r\n",
      "dawei     3013  0.0  0.0 220704  6828 ?        Sl   19:01   0:00 /usr/lib/at-spi\r\n",
      "dawei     3038  7.1  2.5 4746860 312100 tty2   Sl+  19:01   1:20 /usr/bin/gnome-\r\n",
      "dawei     3053  0.0  0.0 291964  7056 ?        Ssl  19:01   0:00 /usr/lib/gvfs/g\r\n",
      "dawei     3058  0.0  0.0 416112  5304 ?        Sl   19:01   0:00 /usr/lib/gvfs/g\r\n",
      "dawei     3069  0.0  0.1 1508440 12768 ?       S<l  19:01   0:00 /usr/bin/pulsea\r\n",
      "root      3076  0.0  0.0      0     0 ?        S<   19:01   0:00 [krfcommd]\r\n",
      "dawei     3094  0.3  0.0 435488  8136 tty2     Sl   19:01   0:03 ibus-daemon --x\r\n",
      "dawei     3098  0.0  0.0 280752  6600 tty2     Sl   19:01   0:00 /usr/lib/ibus/i\r\n",
      "dawei     3100  0.0  0.1 344028 20768 tty2     Sl   19:01   0:00 /usr/lib/ibus/i\r\n",
      "dawei     3102  0.0  0.0 278556  5876 ?        Sl   19:01   0:00 /usr/lib/ibus/i\r\n",
      "dawei     3114  0.0  0.1 689764 20276 ?        Sl   19:01   0:00 /usr/lib/gnome-\r\n",
      "dawei     3121  0.0  0.0 306440  8852 ?        Ssl  19:01   0:00 /usr/lib/gvfs/g\r\n",
      "dawei     3125  0.0  0.0 275868  4956 ?        Ssl  19:01   0:00 /usr/lib/gvfs/g\r\n",
      "dawei     3129  0.0  0.0 288784  6456 ?        Ssl  19:01   0:00 /usr/lib/gvfs/g\r\n",
      "dawei     3133  0.0  0.2 692204 25540 ?        Ssl  19:01   0:00 /usr/lib/evolut\r\n",
      "dawei     3137  0.0  0.0 274044  5916 ?        Ssl  19:01   0:00 /usr/lib/gvfs/g\r\n",
      "dawei     3141  0.0  0.2 774296 32540 ?        SLl  19:01   0:00 /usr/lib/gnome-\r\n",
      "dawei     3154  0.0  0.0 303356  7496 ?        Sl   19:01   0:00 /usr/lib/gnome-\r\n",
      "dawei     3159  0.0  0.0 378812  7848 ?        Ssl  19:01   0:00 /usr/lib/gvfs/g\r\n",
      "dawei     3164  0.0  0.1 517244 22264 tty2     Sl+  19:01   0:00 /usr/lib/gnome-\r\n",
      "dawei     3166  0.0  0.0 349320 10196 tty2     Sl+  19:01   0:00 /usr/lib/gnome-\r\n",
      "dawei     3167  0.0  0.0 423344  5792 tty2     Sl+  19:01   0:00 /usr/lib/gnome-\r\n",
      "dawei     3168  0.0  0.0 275732  4732 tty2     Sl+  19:01   0:00 /usr/lib/gnome-\r\n",
      "dawei     3169  0.0  0.0 452972  9688 tty2     Sl+  19:01   0:00 /usr/lib/gnome-\r\n",
      "dawei     3171  0.0  0.1 494820 22176 tty2     Sl+  19:01   0:00 /usr/lib/gnome-\r\n",
      "dawei     3177  0.0  0.1 428464 21160 tty2     Sl+  19:01   0:00 /usr/lib/gnome-\r\n",
      "dawei     3179  0.0  0.0 332864  7892 tty2     Sl+  19:01   0:00 /usr/lib/gnome-\r\n",
      "dawei     3183  0.0  0.0 451668  8056 tty2     Sl+  19:01   0:00 /usr/lib/gnome-\r\n",
      "dawei     3197  0.0  0.1 343616 20148 tty2     Sl+  19:01   0:00 /usr/lib/gnome-\r\n",
      "dawei     3202  0.0  0.0 278160  5844 tty2     Sl+  19:01   0:00 /usr/lib/gnome-\r\n",
      "dawei     3205  0.0  0.1 474940 21036 tty2     Sl+  19:01   0:00 /usr/lib/gnome-\r\n",
      "dawei     3208  0.0  0.1 677304 23300 tty2     Sl+  19:01   0:00 /usr/lib/gnome-\r\n",
      "dawei     3210  0.0  0.1 498040 20708 tty2     Sl+  19:01   0:00 /usr/lib/gnome-\r\n",
      "dawei     3211  0.0  0.0 364456  7024 tty2     Sl+  19:01   0:00 /usr/lib/gnome-\r\n",
      "dawei     3215  0.0  0.0 278172  5836 tty2     Sl+  19:01   0:00 /usr/lib/gnome-\r\n",
      "dawei     3220  0.0  0.1 940368 21928 tty2     Sl+  19:01   0:00 /usr/lib/gnome-\r\n",
      "dawei     3238  0.0  0.1 508756 12708 tty2     Sl+  19:01   0:00 /usr/lib/gnome-\r\n",
      "dawei     3261  0.2  1.3 1327788 169812 tty2   SLl+ 19:01   0:02 /usr/bin/gnome-\r\n",
      "dawei     3263  0.0  0.0 271932  6412 tty2     Sl+  19:01   0:00 /usr/lib/gnome-\r\n",
      "dawei     3265  0.1  0.4 825992 54928 tty2     Sl+  19:01   0:01 nautilus-deskto\r\n",
      "dawei     3280  0.0  0.5 891528 66320 ?        Ssl  19:01   0:00 /usr/lib/evolut\r\n",
      "dawei     3292  0.0  0.0 368236  7516 ?        Sl   19:01   0:00 /usr/lib/gvfs/g\r\n",
      "dawei     3300  0.0  0.0 204884  6200 tty2     Sl   19:01   0:01 /usr/lib/ibus/i\r\n",
      "dawei     3324  0.0  0.0 188036  5168 ?        Sl   19:01   0:00 /usr/lib/dconf/\r\n",
      "root      3328  0.0  0.1 624532 19864 ?        Ssl  19:01   0:00 /usr/lib/fwupd/\r\n",
      "dawei     3333  0.0  0.5 1135212 61564 ?       Sl   19:01   0:00 /usr/lib/evolut\r\n",
      "dawei     3346  0.0  0.1 732684 23884 ?        Ssl  19:01   0:00 /usr/lib/evolut\r\n",
      "dawei     3359  0.0  0.2 943468 26704 ?        Sl   19:01   0:00 /usr/lib/evolut\r\n",
      "dawei     3412  0.0  0.0  79956  5692 ?        S    19:01   0:00 /usr/lib/x86_64\r\n",
      "dawei     3505  0.2  0.2 728032 36716 ?        Ssl  19:01   0:02 /usr/lib/gnome-\r\n",
      "dawei     3514  0.0  0.0  30212  5632 pts/0    Ss   19:01   0:00 bash\r\n",
      "dawei     3531  0.3  0.4 1391264 59872 ?       Sl   19:01   0:03 /usr/bin/nautil\r\n",
      "dawei     3558  0.0  0.2 591808 25004 tty2     Sl+  19:02   0:00 update-notifier\r\n",
      "dawei     3614  9.1  2.5 1573520 306336 tty2   SLl+ 19:02   1:35 /opt/google/chr\r\n",
      "dawei     3620  0.0  0.0  14716   824 tty2     S+   19:02   0:00 cat\r\n",
      "dawei     3621  0.0  0.0  14716   776 tty2     S+   19:02   0:00 cat\r\n",
      "dawei     3624  0.0  0.4 432628 55328 tty2     S+   19:02   0:00 /opt/google/chr\r\n",
      "dawei     3625  0.0  0.0  26540  4356 tty2     S+   19:02   0:00 /opt/google/chr\r\n",
      "dawei     3628  0.0  0.1 432628 14628 tty2     S+   19:02   0:00 /opt/google/chr\r\n",
      "dawei     3657  4.4  1.1 1025040 143608 tty2   Sl+  19:02   0:45 /opt/google/chr\r\n",
      "dawei     3845  0.2  0.9 807504 114944 tty2    Sl+  19:02   0:02 /opt/google/chr\r\n",
      "dawei     3847  0.0  0.7 765876 94936 tty2     Sl+  19:02   0:01 /opt/google/chr\r\n",
      "dawei     3849  0.0  0.2 609468 34168 tty2     Sl+  19:02   0:00 /opt/google/chr\r\n",
      "dawei     3913  0.3  0.9 793260 111716 tty2    Sl+  19:02   0:04 /opt/google/chr\r\n",
      "dawei     3927  1.4  1.9 1548652 233652 tty2   Sl+  19:02   0:14 /opt/google/chr\r\n",
      "dawei     3935  0.0  0.5 714048 72556 tty2     Sl+  19:02   0:00 /opt/google/chr\r\n",
      "dawei     3942  0.0  0.6 734048 80548 tty2     Sl+  19:02   0:00 /opt/google/chr\r\n",
      "dawei     3943  0.2  0.6 760656 85372 tty2     Sl+  19:02   0:02 /opt/google/chr\r\n",
      "dawei     3950  0.0  0.6 745960 85640 tty2     Sl+  19:02   0:00 /opt/google/chr\r\n",
      "dawei     3963  0.0  0.7 738596 90824 tty2     Sl+  19:02   0:00 /opt/google/chr\r\n",
      "dawei     3964  0.1  0.7 768948 92376 tty2     Sl+  19:02   0:01 /opt/google/chr\r\n",
      "dawei     3970  0.0  0.6 719680 77600 tty2     Sl+  19:02   0:00 /opt/google/chr\r\n",
      "dawei     3978  0.0  0.6 738980 80248 tty2     Sl+  19:02   0:00 /opt/google/chr\r\n",
      "dawei     3991  0.0  0.6 755536 80960 tty2     Sl+  19:02   0:00 /opt/google/chr\r\n",
      "dawei     3992  0.5  0.8 797404 109532 tty2    Sl+  19:02   0:05 /opt/google/chr\r\n",
      "dawei     3997  0.0  0.6 744848 78040 tty2     Sl+  19:02   0:00 /opt/google/chr\r\n",
      "dawei     4006  0.0  0.7 765364 93052 tty2     Sl+  19:02   0:01 /opt/google/chr\r\n",
      "dawei     4270  0.3  0.9 805856 116684 tty2    Sl+  19:02   0:03 /opt/google/chr\r\n",
      "dawei     4434  0.7  1.6 1094984 206700 tty2   Sl+  19:03   0:07 /opt/google/chr\r\n",
      "dawei     4457  0.0  0.2 787620 31612 tty2     Sl+  19:03   0:00 /usr/lib/deja-d\r\n",
      "dawei     4530  0.6  1.5 918416 191744 tty2    Sl+  19:04   0:06 /opt/google/chr\r\n",
      "root      4801  0.0  0.0      0     0 ?        I    19:04   0:00 [kworker/7:3]\r\n",
      "dawei     4806  0.0  0.0  11304  1552 ?        S    19:04   0:00 /usr/bin/ssh-ag\r\n",
      "dawei     4833  0.0  0.0 204488  5716 ?        Ssl  19:05   0:00 /usr/lib/gvfs/g\r\n",
      "dawei     4839  0.0  0.0 433540  8680 ?        Ssl  19:05   0:00 /usr/bin/zeitge\r\n",
      "dawei     4847  0.0  0.1 328552 18088 ?        Ssl  19:05   0:00 /usr/lib/zeitge\r\n",
      "root      5146  0.0  0.0 107684  8208 ?        Ss   19:05   0:00 /usr/sbin/cupsd\r\n",
      "root      5147  0.0  0.0 303520 10924 ?        Ssl  19:05   0:00 /usr/sbin/cups-\r\n",
      "root      5555  0.0  0.0      0     0 ?        I    19:07   0:00 [kworker/0:0]\r\n",
      "dawei     5602  0.7  1.4 882992 183396 tty2    Sl+  19:08   0:05 /opt/google/chr\r\n",
      "dawei     5659  1.6  3.3 1573656 410580 pts/0  Sl+  19:08   0:11 /home/dawei/ana\r\n",
      "root      5879  0.0  0.0      0     0 ?        I    19:08   0:00 [kworker/3:3]\r\n",
      "root      5886  0.2  0.0      0     0 ?        I    19:08   0:01 [kworker/3:4]\r\n",
      "root      5938  0.0  0.0      0     0 ?        I    19:08   0:00 [kworker/5:0]\r\n",
      "root      5949  0.0  0.0      0     0 ?        I    19:08   0:00 [kworker/2:2]\r\n",
      "dawei     6062  0.6  1.5 887652 184844 tty2    Sl+  19:09   0:04 /opt/google/chr\r\n",
      "dawei     6085 14.2  2.5 1064260 314268 tty2   Rl+  19:09   1:32 /opt/google/chr\r\n",
      "dawei     6158  0.0  0.0  20124  3252 pts/0    S+   19:09   0:00 bash /home/dawe\r\n",
      "dawei     6162  0.4  0.5 361444 67324 pts/0    Sl+  19:09   0:02 /home/dawei/ana\r\n",
      "root      6307  0.0  0.0      0     0 ?        I    19:09   0:00 [kworker/4:0]\r\n",
      "dawei     6327  0.4  0.4 639456 49136 ?        Ssl  19:09   0:02 /home/dawei/ana\r\n",
      "root      6417  0.0  0.0      0     0 ?        I    19:10   0:00 [kworker/1:0]\r\n",
      "root      6716  0.0  0.0      0     0 ?        I    19:14   0:00 [kworker/0:1]\r\n",
      "root      6751  0.0  0.0      0     0 ?        I    19:15   0:00 [kworker/6:0]\r\n",
      "root      6837  0.0  0.0      0     0 ?        I    19:15   0:00 [kworker/7:1]\r\n",
      "root      6917  0.0  0.0      0     0 ?        I    19:15   0:00 [kworker/u16:1]\r\n",
      "root      6918  0.0  0.0      0     0 ?        I    19:15   0:00 [kworker/u16:2]\r\n",
      "root      6933  0.0  0.0      0     0 ?        I    19:15   0:00 [kworker/2:0]\r\n",
      "root      6935  0.0  0.0      0     0 ?        I    19:15   0:00 [kworker/2:3]\r\n",
      "root      6938  0.0  0.0      0     0 ?        S<   19:15   0:00 [loop19]\r\n",
      "root      6939  0.0  0.0      0     0 ?        I    19:15   0:00 [kworker/2:4]\r\n",
      "root      6940  0.0  0.0      0     0 ?        I    19:15   0:00 [kworker/2:5]\r\n",
      "root      6941  0.0  0.0      0     0 ?        I    19:15   0:00 [kworker/2:6]\r\n",
      "root      6942  0.0  0.0      0     0 ?        I    19:15   0:00 [kworker/2:7]\r\n",
      "root      6948  0.0  0.0      0     0 ?        I    19:15   0:00 [kworker/5:1]\r\n",
      "root      6966  0.0  0.0      0     0 ?        I    19:15   0:00 [kworker/0:3]\r\n",
      "root      6967  0.0  0.0      0     0 ?        I    19:15   0:00 [kworker/0:4]\r\n",
      "root      6968  0.0  0.0      0     0 ?        I    19:15   0:00 [kworker/0:5]\r\n",
      "root      6969  0.0  0.0      0     0 ?        I    19:15   0:00 [kworker/0:6]\r\n",
      "root      6970  0.0  0.0      0     0 ?        I    19:15   0:00 [kworker/0:7]\r\n",
      "root      7049  0.0  0.0      0     0 ?        I    19:15   0:00 [kworker/u16:5]\r\n",
      "root      7064  0.0  0.0      0     0 ?        I    19:15   0:00 [kworker/5:3]\r\n",
      "root      7065  0.0  0.0      0     0 ?        I    19:15   0:00 [kworker/5:4]\r\n",
      "root      7066  0.0  0.0      0     0 ?        I    19:15   0:00 [kworker/5:5]\r\n",
      "root      7067  0.0  0.0      0     0 ?        I    19:15   0:00 [kworker/5:6]\r\n",
      "root      7068  0.0  0.0      0     0 ?        I    19:15   0:00 [kworker/5:7]\r\n",
      "root      7082  0.7  0.5 707632 67948 ?        Ssl  19:15   0:01 dockerd -G dock\r\n",
      "root      7130  0.4  0.2 739472 34476 ?        Ssl  19:15   0:01 docker-containe\r\n",
      "root      7351  0.0  0.0      0     0 ?        I    19:16   0:00 [kworker/3:0]\r\n",
      "dawei     7847 13.4  1.4 894724 176488 tty2    Sl+  19:19   0:02 /opt/google/chr\r\n",
      "dawei     7871  1.1  0.7 740980 96556 tty2     Sl+  19:19   0:00 /opt/google/chr\r\n",
      "dawei     7888  0.0  0.4 687420 49248 tty2     Sl+  19:19   0:00 /opt/google/chr\r\n",
      "root      7916  0.0  0.0      0     0 ?        I    19:19   0:00 [kworker/3:1]\r\n",
      "dawei     7927  0.0  0.0   4628   860 pts/1    Ss+  19:19   0:00 /bin/sh -c ps -\r\n",
      "dawei     7928  0.0  0.0  46772  3548 pts/1    R+   19:19   0:00 ps -aux\r\n"
     ]
    }
   ],
   "source": [
    "!ps -aux"
   ]
  },
  {
   "cell_type": "code",
   "execution_count": 55,
   "metadata": {},
   "outputs": [],
   "source": [
    "!kill 3514"
   ]
  },
  {
   "cell_type": "code",
   "execution_count": 56,
   "metadata": {},
   "outputs": [
    {
     "name": "stdout",
     "output_type": "stream",
     "text": [
      "/home/dawei\r\n"
     ]
    }
   ],
   "source": [
    "!echo $HOME"
   ]
  },
  {
   "cell_type": "code",
   "execution_count": 57,
   "metadata": {
    "scrolled": true
   },
   "outputs": [
    {
     "name": "stdout",
     "output_type": "stream",
     "text": [
      "CLICOLOR='1'\r\n",
      "CLUTTER_IM_MODULE='ibus'\r\n",
      "COLORTERM='truecolor'\r\n",
      "CONDA_DEFAULT_ENV='base'\r\n",
      "CONDA_EXE='/home/dawei/anaconda3/bin/conda'\r\n",
      "CONDA_PREFIX='/home/dawei/anaconda3'\r\n",
      "CONDA_PROMPT_MODIFIER='(base) '\r\n",
      "CONDA_PYTHON_EXE='/home/dawei/anaconda3/bin/python'\r\n",
      "CONDA_ROOT='/home/dawei/anaconda3'\r\n",
      "CONDA_SHLVL='1'\r\n",
      "DBUS_SESSION_BUS_ADDRESS='unix:path=/run/user/1000/bus'\r\n",
      "DEFAULTS_PATH='/usr/share/gconf/ubuntu.default.path'\r\n",
      "DERBY_HOME='/usr/lib/jvm/java-8-oracle/db'\r\n",
      "DESKTOP_SESSION='ubuntu'\r\n",
      "DISPLAY=':0'\r\n",
      "GDMSESSION='ubuntu'\r\n",
      "GIT_PAGER='cat'\r\n",
      "GJS_DEBUG_OUTPUT='stderr'\r\n",
      "GJS_DEBUG_TOPICS='JS ERROR;JS LOG'\r\n",
      "GNOME_DESKTOP_SESSION_ID='this-is-deprecated'\r\n",
      "GNOME_SHELL_SESSION_MODE='ubuntu'\r\n",
      "GNOME_TERMINAL_SCREEN='/org/gnome/Terminal/screen/12d9f6c5_1d14_4ec5_aca7_a4328aded914'\r\n",
      "GNOME_TERMINAL_SERVICE=':1.73'\r\n",
      "GPG_AGENT_INFO='/run/user/1000/gnupg/S.gpg-agent:0:1'\r\n",
      "GTK_IM_MODULE='ibus'\r\n",
      "GTK_MODULES='gail:atk-bridge'\r\n",
      "HOME='/home/dawei'\r\n",
      "IFS=' \t\r\n",
      "'\r\n",
      "IM_CONFIG_PHASE='2'\r\n",
      "J2REDIR='/usr/lib/jvm/java-8-oracle/jre'\r\n",
      "J2SDKDIR='/usr/lib/jvm/java-8-oracle'\r\n",
      "JAVA_HOME='/usr/lib/jvm/java-8-oracle'\r\n",
      "JPY_PARENT_PID='6162'\r\n",
      "LANG='en_US.UTF-8'\r\n",
      "LESSCLOSE='/usr/bin/lesspipe %s %s'\r\n",
      "LESSOPEN='| /usr/bin/lesspipe %s'\r\n",
      "LOGNAME='dawei'\r\n",
      "LS_COLORS='rs=0:di=01;34:ln=01;36:mh=00:pi=40;33:so=01;35:do=01;35:bd=40;33;01:cd=40;33;01:or=40;31;01:mi=00:su=37;41:sg=30;43:ca=30;41:tw=30;42:ow=34;42:st=37;44:ex=01;32:*.tar=01;31:*.tgz=01;31:*.arc=01;31:*.arj=01;31:*.taz=01;31:*.lha=01;31:*.lz4=01;31:*.lzh=01;31:*.lzma=01;31:*.tlz=01;31:*.txz=01;31:*.tzo=01;31:*.t7z=01;31:*.zip=01;31:*.z=01;31:*.Z=01;31:*.dz=01;31:*.gz=01;31:*.lrz=01;31:*.lz=01;31:*.lzo=01;31:*.xz=01;31:*.zst=01;31:*.tzst=01;31:*.bz2=01;31:*.bz=01;31:*.tbz=01;31:*.tbz2=01;31:*.tz=01;31:*.deb=01;31:*.rpm=01;31:*.jar=01;31:*.war=01;31:*.ear=01;31:*.sar=01;31:*.rar=01;31:*.alz=01;31:*.ace=01;31:*.zoo=01;31:*.cpio=01;31:*.7z=01;31:*.rz=01;31:*.cab=01;31:*.wim=01;31:*.swm=01;31:*.dwm=01;31:*.esd=01;31:*.jpg=01;35:*.jpeg=01;35:*.mjpg=01;35:*.mjpeg=01;35:*.gif=01;35:*.bmp=01;35:*.pbm=01;35:*.pgm=01;35:*.ppm=01;35:*.tga=01;35:*.xbm=01;35:*.xpm=01;35:*.tif=01;35:*.tiff=01;35:*.png=01;35:*.svg=01;35:*.svgz=01;35:*.mng=01;35:*.pcx=01;35:*.mov=01;35:*.mpg=01;35:*.mpeg=01;35:*.m2v=01;35:*.mkv=01;35:*.webm=01;35:*.ogm=01;35:*.mp4=01;35:*.m4v=01;35:*.mp4v=01;35:*.vob=01;35:*.qt=01;35:*.nuv=01;35:*.wmv=01;35:*.asf=01;35:*.rm=01;35:*.rmvb=01;35:*.flc=01;35:*.avi=01;35:*.fli=01;35:*.flv=01;35:*.gl=01;35:*.dl=01;35:*.xcf=01;35:*.xwd=01;35:*.yuv=01;35:*.cgm=01;35:*.emf=01;35:*.ogv=01;35:*.ogx=01;35:*.aac=00;36:*.au=00;36:*.flac=00;36:*.m4a=00;36:*.mid=00;36:*.midi=00;36:*.mka=00;36:*.mp3=00;36:*.mpc=00;36:*.ogg=00;36:*.ra=00;36:*.wav=00;36:*.oga=00;36:*.opus=00;36:*.spx=00;36:*.xspf=00;36:'\r\n",
      "MANDATORY_PATH='/usr/share/gconf/ubuntu.mandatory.path'\r\n",
      "MPLBACKEND='module://ipykernel.pylab.backend_inline'\r\n",
      "OLDPWD='/home/dawei/Documents'\r\n",
      "OPTIND='1'\r\n",
      "PAGER='cat'\r\n",
      "PATH='/home/dawei/Downloads/google-cloud-sdk/bin:/home/dawei/anaconda3/bin:/home/dawei/.local/share/umake/bin:/home/dawei/.local/bin:/usr/local/sbin:/usr/local/bin:/usr/sbin:/usr/bin:/sbin:/bin:/usr/games:/usr/local/games:/snap/bin:/usr/lib/jvm/java-8-oracle/bin:/usr/lib/jvm/java-8-oracle/db/bin:/usr/lib/jvm/java-8-oracle/jre/bin'\r\n",
      "PPID='6327'\r\n",
      "PS1='$ '\r\n",
      "PS2='> '\r\n",
      "PS4='+ '\r\n",
      "PWD='/home/dawei/Documents/HoneyBadgerCoding'\r\n",
      "QT4_IM_MODULE='ibus'\r\n",
      "QT_ACCESSIBILITY='1'\r\n",
      "QT_IM_MODULE='ibus'\r\n",
      "SESSION_MANAGER='local/dw-omen:@/tmp/.ICE-unix/2915,unix/dw-omen:/tmp/.ICE-unix/2915'\r\n",
      "SHELL='/bin/bash'\r\n",
      "SHLVL='2'\r\n",
      "SSH_AGENT_PID='2997'\r\n",
      "SSH_AUTH_SOCK='/run/user/1000/keyring/ssh'\r\n",
      "TERM='xterm-color'\r\n",
      "TEXTDOMAIN='im-config'\r\n",
      "TEXTDOMAINDIR='/usr/share/locale/'\r\n",
      "USER='dawei'\r\n",
      "USERNAME='dawei'\r\n",
      "VTE_VERSION='5202'\r\n",
      "WINDOWPATH='2'\r\n",
      "XAUTHORITY='/run/user/1000/gdm/Xauthority'\r\n",
      "XDG_CONFIG_DIRS='/etc/xdg/xdg-ubuntu:/etc/xdg'\r\n",
      "XDG_CURRENT_DESKTOP='ubuntu:GNOME'\r\n",
      "XDG_DATA_DIRS='/usr/share/ubuntu:/usr/local/share:/usr/share:/var/lib/snapd/desktop'\r\n",
      "XDG_MENU_PREFIX='gnome-'\r\n",
      "XDG_RUNTIME_DIR='/run/user/1000'\r\n",
      "XDG_SEAT='seat0'\r\n",
      "XDG_SESSION_DESKTOP='ubuntu'\r\n",
      "XDG_SESSION_ID='2'\r\n",
      "XDG_SESSION_TYPE='x11'\r\n",
      "XDG_VTNR='2'\r\n",
      "XMODIFIERS='@im=ibus'\r\n",
      "_='/home/dawei/anaconda3/bin/jupyter-notebook'\r\n"
     ]
    }
   ],
   "source": [
    "!set"
   ]
  },
  {
   "cell_type": "code",
   "execution_count": 58,
   "metadata": {},
   "outputs": [
    {
     "name": "stdout",
     "output_type": "stream",
     "text": [
      "/home/dawei/Downloads/google-cloud-sdk/bin:/home/dawei/anaconda3/bin:/home/dawei/.local/share/umake/bin:/home/dawei/.local/bin:/usr/local/sbin:/usr/local/bin:/usr/sbin:/usr/bin:/sbin:/bin:/usr/games:/usr/local/games:/snap/bin:/usr/lib/jvm/java-8-oracle/bin:/usr/lib/jvm/java-8-oracle/db/bin:/usr/lib/jvm/java-8-oracle/jre/bin\r\n"
     ]
    }
   ],
   "source": [
    "!echo $PATH"
   ]
  },
  {
   "cell_type": "code",
   "execution_count": 66,
   "metadata": {},
   "outputs": [
    {
     "name": "stdout",
     "output_type": "stream",
     "text": [
      "\r\n"
     ]
    }
   ],
   "source": [
    "!echo $UID"
   ]
  },
  {
   "cell_type": "code",
   "execution_count": 61,
   "metadata": {},
   "outputs": [
    {
     "name": "stdout",
     "output_type": "stream",
     "text": [
      "find: ‘/tmp/systemd-private-0f2ce46003e44a369cbe63f79f87d955-systemd-timesyncd.service-ycLj8a’: Permission denied\n",
      "find: ‘/tmp/systemd-private-0f2ce46003e44a369cbe63f79f87d955-rtkit-daemon.service-9rR3My’: Permission denied\n",
      "find: ‘/tmp/systemd-private-0f2ce46003e44a369cbe63f79f87d955-colord.service-H516Lu’: Permission denied\n",
      "find: ‘/tmp/systemd-private-0f2ce46003e44a369cbe63f79f87d955-fwupd.service-JmqGFi’: Permission denied\n",
      "find: ‘/tmp/systemd-private-0f2ce46003e44a369cbe63f79f87d955-iio-sensor-proxy.service-3WAp21’: Permission denied\n",
      "find: ‘/tmp/snap.0_docker_Gl6Dwb’: Permission denied\n",
      "find: ‘/tmp/snap.0_canonical-livepatch_kBZqC1’: Permission denied\n",
      "find: ‘/tmp/systemd-private-0f2ce46003e44a369cbe63f79f87d955-systemd-resolved.service-zy0QT5’: Permission denied\n",
      "find: ‘/tmp/systemd-private-0f2ce46003e44a369cbe63f79f87d955-bolt.service-QmFanp’: Permission denied\n",
      "find: ‘/lost+found’: Permission denied\n",
      "find: ‘/root’: Permission denied\n",
      "find: ‘/boot/lost+found’: Permission denied\n",
      "find: ‘/boot/efi’: Permission denied\n",
      "find: ‘/sys/kernel/debug’: Permission denied\n",
      "find: ‘/sys/fs/pstore’: Permission denied\n",
      "find: ‘/run/docker’: Permission denied\n",
      "find: ‘/run/wpa_supplicant’: Permission denied\n",
      "find: ‘/run/gdm3’: Permission denied\n",
      "find: ‘/run/udisks2’: Permission denied\n",
      "find: ‘/run/cups/certs’: Permission denied\n",
      "find: ‘/run/user/121’: Permission denied\n",
      "find: ‘/run/sudo’: Permission denied\n",
      "find: ‘/run/systemd/resolve/netif’: Permission denied\n",
      "find: ‘/run/systemd/unit-root’: Permission denied\n",
      "find: ‘/run/systemd/inaccessible’: Permission denied\n",
      "find: ‘/home/lost+found’: Permission denied\n",
      "^C\n"
     ]
    }
   ],
   "source": [
    "!find / -name bigredbutton"
   ]
  },
  {
   "cell_type": "code",
   "execution_count": 63,
   "metadata": {},
   "outputs": [],
   "source": [
    "!which bigredbutton"
   ]
  },
  {
   "cell_type": "markdown",
   "metadata": {},
   "source": [
    "`echo Hello World! > something` will create a file called \"something\", but `echo Hello World!` will not, it just shows it"
   ]
  },
  {
   "cell_type": "markdown",
   "metadata": {},
   "source": [
    "it will overwrite \"something\" with \"more text\""
   ]
  },
  {
   "cell_type": "code",
   "execution_count": null,
   "metadata": {},
   "outputs": [],
   "source": []
  },
  {
   "cell_type": "code",
   "execution_count": null,
   "metadata": {},
   "outputs": [],
   "source": []
  }
 ],
 "metadata": {
  "kernelspec": {
   "display_name": "Python 3",
   "language": "python",
   "name": "python3"
  },
  "language_info": {
   "codemirror_mode": {
    "name": "ipython",
    "version": 3
   },
   "file_extension": ".py",
   "mimetype": "text/x-python",
   "name": "python",
   "nbconvert_exporter": "python",
   "pygments_lexer": "ipython3",
   "version": "3.5.5"
  }
 },
 "nbformat": 4,
 "nbformat_minor": 2
}
