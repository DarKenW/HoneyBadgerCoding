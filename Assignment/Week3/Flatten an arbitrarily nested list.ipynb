{
 "cells": [
  {
   "cell_type": "markdown",
   "metadata": {},
   "source": [
    "Write a program to flatten an arbitrarily nested list in python or scala, passing the test cases seen below."
   ]
  },
  {
   "cell_type": "markdown",
   "metadata": {},
   "source": [
    "in:  \n",
    "flattenArray([1, 2, [3, 4, [5],[]], [6]])  \n",
    "out:  \n",
    "[1,2,3,4,5,6]  \n",
    "\n",
    "in:  \n",
    "flattenArray([1, 2, [3, 4, [5],['hi']], [6, [[[7, 'hello']]]]])  \n",
    "out \n",
    "[1, 2, 3, 4, 5, 'hi', 6, 7, 'hello']  \n",
    "\n",
    "in:  \n",
    "flattenArray([1,2,3, [4,5], 6, [7,8], 9])  \n",
    "out:\n",
    "[1,2,3,4,5,6,7,8,9]  "
   ]
  },
  {
   "cell_type": "code",
   "execution_count": 158,
   "metadata": {},
   "outputs": [],
   "source": [
    "a = [1, 2, [3, 4, [5],[]], [6]]\n",
    "b = [1, 2, [3, 4, [5],['hi']], [6, [[[7, 'hello']]]]]\n",
    "c = [1,2,3, [4,5], 6, [7,8], 9]"
   ]
  },
  {
   "cell_type": "markdown",
   "metadata": {},
   "source": [
    "This `sum` method below can help us easily join all lists in list *lst*  \n",
    "[sum( lst, [     ])](https://www.programiz.com/python-programming/methods/built-in/sum)  \n",
    "e.g.  \n",
    "lst = [[1], [2], [\"hello\"]]  \n",
    "[sum( lst , [   ])] = [1, 2, 'hello']"
   ]
  },
  {
   "cell_type": "code",
   "execution_count": 159,
   "metadata": {},
   "outputs": [],
   "source": [
    "def joinList(lst):\n",
    "    return sum([[i] if isinstance(i,list) != True else i for i in lst ], [])"
   ]
  },
  {
   "cell_type": "code",
   "execution_count": 160,
   "metadata": {},
   "outputs": [],
   "source": [
    "def flattenList(lst):\n",
    "    while any(isinstance(item, list) == True for item in lst):\n",
    "        lst = joinList(lst)\n",
    "    return lst"
   ]
  },
  {
   "cell_type": "code",
   "execution_count": 161,
   "metadata": {},
   "outputs": [
    {
     "name": "stdout",
     "output_type": "stream",
     "text": [
      "CPU times: user 5 µs, sys: 0 ns, total: 5 µs\n",
      "Wall time: 9.06 µs\n"
     ]
    },
    {
     "data": {
      "text/plain": [
       "[1, 2, 3, 4, 5, 6]"
      ]
     },
     "execution_count": 161,
     "metadata": {},
     "output_type": "execute_result"
    }
   ],
   "source": [
    "%time\n",
    "flattenList(a)"
   ]
  },
  {
   "cell_type": "code",
   "execution_count": 162,
   "metadata": {},
   "outputs": [
    {
     "name": "stdout",
     "output_type": "stream",
     "text": [
      "CPU times: user 2 µs, sys: 0 ns, total: 2 µs\n",
      "Wall time: 3.81 µs\n"
     ]
    },
    {
     "data": {
      "text/plain": [
       "[1, 2, 3, 4, 5, 'hi', 6, 7, 'hello']"
      ]
     },
     "execution_count": 162,
     "metadata": {},
     "output_type": "execute_result"
    }
   ],
   "source": [
    "%time\n",
    "flattenList(b)"
   ]
  },
  {
   "cell_type": "code",
   "execution_count": 163,
   "metadata": {},
   "outputs": [
    {
     "name": "stdout",
     "output_type": "stream",
     "text": [
      "CPU times: user 2 µs, sys: 0 ns, total: 2 µs\n",
      "Wall time: 3.34 µs\n"
     ]
    },
    {
     "data": {
      "text/plain": [
       "[1, 2, 3, 4, 5, 6, 7, 8, 9]"
      ]
     },
     "execution_count": 163,
     "metadata": {},
     "output_type": "execute_result"
    }
   ],
   "source": [
    "%time\n",
    "flattenList(c)"
   ]
  }
 ],
 "metadata": {
  "kernelspec": {
   "display_name": "Python 3",
   "language": "python",
   "name": "python3"
  },
  "language_info": {
   "codemirror_mode": {
    "name": "ipython",
    "version": 3
   },
   "file_extension": ".py",
   "mimetype": "text/x-python",
   "name": "python",
   "nbconvert_exporter": "python",
   "pygments_lexer": "ipython3",
   "version": "3.5.5"
  }
 },
 "nbformat": 4,
 "nbformat_minor": 2
}
