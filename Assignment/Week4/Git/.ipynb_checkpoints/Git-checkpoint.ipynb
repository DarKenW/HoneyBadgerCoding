{
 "cells": [
  {
   "cell_type": "markdown",
   "metadata": {
    "colab_type": "text",
    "id": "5dOH5Q5JtSEW"
   },
   "source": [
    "# Git Homework assignment"
   ]
  },
  {
   "cell_type": "markdown",
   "metadata": {
    "colab_type": "text",
    "id": "wh1ZdvIutSEX"
   },
   "source": [
    "## part 1\n",
    "- Create (somewhere on your computer) a new empty folder named Inf43Hw2. In that folder, create a plain text file with your name and student ID # on a single line. Don't use MS Word for this, use a text editor, for example Notepad or TextEdit (you may need to choose Plain Text under Format or Preferences). Save the file as file1.txt.\n",
    "- In your Git shell, navigate to Inf43Hw2. Use the cd command to change your current folder/directory. Note that the Windows Git Bash shell follows Unix/Linux shell conventions so if you're on Windows, you still need to use Linux-style paths with forward slashes (e.g., c:\\my_folder\\my_subfolder would be /c/my_folder/my_subfolder). Linux commands like ls, pwd, and grep should all work in the Git Bash shell.\n",
    "- Note: At this point you may find that Git wants you to tell it your name and email address. You can do this with two commands like these: \n",
    "- - git config --global user.name \"John Doe\"\n",
    "- - git config --global user.email \"fake@gmail.com\"\n",
    "- - To look at all your configuration information: git config --global -1\n",
    "- Create a local Git repo by running the command git init.\n",
    "- Run git status. Note that file1.txt is listed as untracked. We want Git to track it, so run git add file1.txt. When you \"add\" a file you are telling Git to keep track of it. \"add\" also tells Git to stage the file, which means put it in the stage of being ready to be committed. \n",
    "- Run git status again. Note that file1.txt is now listed as a file to be committed (i.e., it's staged).\n",
    "- Let's commit file1.txt to our repository. Run git commit -m \"Committing a new file with my name\". When you \"commit,\", you in effect copy all staged files to the repository. The \"-m\" is a flag (that's what the hyphen indicates) which tells Git that the following string is a message to record with the commit.\n",
    "- Run git log. This will display the history of changes made to the repository. The one and only entry will be for the commit of file1.txt you just did.\n",
    "- Edit file1.txt and change the spelling of your name to something incorrect. Save file1.txt with the error. (This small error stands in for a long complex series of edits that you want to undo.)\n",
    "- Run **git reset --hard**. \"reset --hard\" removes all uncommitted changes, so all files in the repo will return to their contents as of the latest commit. There are many ways to undo changes in git, and \"reset --hard\" is generally considered to be dangerous. Look at file1.txt and observe the effect of reset --hard.\n",
    "- Edit file1.txt to remove your student ID# and include the name of your major, and save the file.\n",
    "- Commit with git commit -m \"Now has my major\". This doesn't work. Git tells you there are \"changes not staged for commit\".\n",
    "- Try again with **git commit -a -m \"Now has my major\"**. The power of the \"-a\" flag is that it tells git to automatically stage all tracked, modified files before the commit.\n",
    "- You can also explicitly stage a file. Add the name of your favorite restaurant and favorite movie to to file1.txt, save it, and run git stage file1.txt. Now run git commit -m \"Added favorite restaurant\" to commit. \"git stage\" is really just another name for \"git add\".\n",
    "- You set the commit message to \"Added favorite restaurant\", but the file also includes your favorite movie, so maybe we should have included that in our commit message. Amend your commit message with **git commit --amend -m \"Added favorite restaurant and movie\"**.\n",
    "- Run git log to make sure you have successfully changed history.\n",
    "- You removed your student ID# a few steps back. Let that edit stand in for deleting, a few months ago, a block of code that you now want to examine. git will help you go back in time. Note that each commit has long, seemingly random, string of hexadecimal digits associated with it. This is called a \"hash\" and is a unique identifier for the commit. Find the hash associated with the “Committing a new file with my name“ commit. Run **git checkout xxxx**, replacing xxxx with the first four digits from that hash (thankfully typing in the entire hash is not required). You will see a frightening message about a detached HEAD.\n",
    "- git can keep track of separate, parallel, streams of edits to a project. Each stream of edits is called a branch, and a branch can have a name. For instance, multiple programmers who are working on and commiting changes to the same file will probably establish different branches. HEAD is git-ese for the current (not necessarily the last) commit in the current branch. Since we've gone back in time and are potentially (but haven't yet) starting a new branch, HEAD is \"detached\" (from any established, named branch). Ouch!\n",
    "- Take a look at file1.txt and note the later-deleted Student ID#. Now to return to the present: **git checkout master**. \"master\" is the name of the default branch created when the repository was made. Look at file1.txt again. Run git log again and you'll see it has the same three commits.\n",
    "- Create a new text file called file2.txt that contains your expected graduation year and first job title on a single line.\n",
    "- Stage file2.txt, and then commit it with a useful message.\n",
    "- Run git log. Notice that you see log entries for both commits that you've performed.\n",
    "- Run git log file2.txt. Notice that you only see the log entry involving file2.txt.\n",
    "- Modify file1.txt to have the name of your favorite color on a new line.\n",
    "- Delete file2.txt.\n",
    "- Run git status. Note that file2.txt is listed as deleted. Also note that the status information helpfully says \"git add/rm ...\" to update what will be committed.\n",
    "- You use the git add command to stage a new or modified file. However, to stage the deletion of a file, you need to use the git rm command. So run the commands git add file1.txt and **git rm file2.txt** to set the stage.\n",
    "- Commit the changes with the commit message \"Deleting file2.txt\". \t\n",
    "- Run the command **git log -p -3**. The -p flag will show you the diffs for each change. The -3 will limit what's displayed to the last 3 log entries. Take a few minutes to look carefully at the output log and see if you can figure out how to interpret it.\n",
    "- Note: A command such as git log sends text output to the shell using a bash command named \"less\" to display one windowfull of output at a time (\"less\" is named after a similar, earlier utility named \"more\", in a classic example of hilarious techie humor). At the : prompt, you can press h for help, q to exit, Enter to advance one line, or Space to advance one screenfull.\n",
    "- Now you decide you actually wanted to keep file2.txt, but you deleted it! Fortunately, you had added it to git, so you can still get it back. There are several ways to do this. The simplest is probably to use the command **git checkout HEAD~1 file2.txt** What does this do? HEAD represents the most recent commit or snapshot. ~1 tells Git to go back one version from the most recent snapshot (i.e., HEAD). In this older snapshot, file2.txt still existed, and checkout tells Git to retrieve it. If you now look in your folder, you'll see file2.txt. And is file1.txt changed?\n",
    "- Run git add file2.txt to stage file2.\n",
    "- Run git status. Note that file2.txt is staged. Commit it with the commit message \"Re-adding file2.txt\".\n",
    "- Run the command git log -p to see all of the log entries.\n",
    "- Now run the command **git log -p > git_log_partB.txt**. (The > is a shell command that redirects the output of the program on >'s left to the file named on >'s right.)\n",
    "- Open git_log_partB.txt. It should like just like the output you saw for step 33. If you're on Windows and viewing it in Notepad, the spacing will probably look wrong, so try opening it in a different text editor (like Wordpad or Notepad++).\n",
    "- Upload git_log_partB.txt when you submit your assignment on the google classroom\n"
   ]
  },
  {
   "cell_type": "markdown",
   "metadata": {
    "colab_type": "text",
    "id": "yX_tL1pDtSEX"
   },
   "source": [
    "## part 2\n",
    "- Much of Git's power comes from the interaction between your local repository and remote repositories. Remote Git repositories help you collaborate with others on a software project.\n",
    "- There are several services out there that will host a remote git repository for you for free, the most popular of which is GitHub.com. GitHub.com is particularly popular among the open source community, and there are pieces of software you probably use every day that are hosted on GitHub.com. Reddit is one such software (web application) that is maintained on Github\n",
    "- Let's use git to view the Reddit source code repository hosted on GitHub. Start git, use cd to navigate to an empty folder, and run the command git clone https://github.com/reddit/reddit.git.\n",
    "- You now have a local copy (on your computer) of the remote repository. It's important to understand that this is not only a copy of the source code, but also a copy of the history of changes stored by git. And since it's a local repository, all the commands you used in the previous part of the assignment will work. To try this out, run the command cd reddit to go inside the reddit project folder, then run git log. This shows you the most recent log messages for changes made to the Reddit source code.\n",
    "- Here's another variation on the git log command to try: **git log -1 -p --before='2014-03-31 11:52:45'**. This is nothing new except for the --before='2014-03-31 11:52:45' part. That tells git you only want to see log entries for changes made before March 31, 2014 at 11:52:45am. As you saw in part B, the -1 means you only want to see one entry, and the -p means you want to see a diff of the changes. As you can see, a contributor named \"Andre D\" changed the mouseover property to \"cancelTimeout\" from \"queueShow\" in the file r2/r2/public/static/js/saved.js.\n",
    "- Since we have a complete copy of the Reddit project's repository, we also have a copy of every snapshot going all the way back to the beginning of the project. To see the log entries for the earliest commits, run the command git log --reverse.\n",
    "- Recall that each commit is given a unique hash (aka SHA1). Many commands in Git can take a hash as input. For example, try **git log -1 4778b17e939e119417cc5ec25b82c4e9a65621b2** and git show 4778b17e939e119417cc5ec25b82c4e9a65621b2. (Don't forget that you can use only the first four digits of the hash. If git complains that the short SHA1 is ambiguous (because more than one commit has the same first four digits), try adding a few more digits from the long hash.)\n",
    "- One more git log option to know about is --skip=N, where N is a non-negative integer. This means to skip N commits before starting to show the commit output. Try **git log --skip=100 -5**.\n",
    "- Run a log showing five commits to Reddit, skipping the first N commits, where N is your favorite number. Leading zeros are no problem. Redirect the log output to a text file and upload it to the google classroom.\n",
    "- If you wanted (and had the permissions), you could modify part of the Reddit source, commit your changes (on your local repo), and then use git push to copy your local branch back to the GitHub repository. That's beyond the scope of class, but it's good to know that git is a sophisticated tool that facilitates multiple people updating shared files, logging their updates, and assisting with the resolution of updates that conflict.\n"
   ]
  },
  {
   "cell_type": "code",
   "execution_count": 0,
   "metadata": {
    "colab": {},
    "colab_type": "code",
    "id": "0Pgrttd4tSEZ"
   },
   "outputs": [],
   "source": []
  }
 ],
 "metadata": {
  "colab": {
   "collapsed_sections": [],
   "name": "Git.ipynb",
   "provenance": [],
   "version": "0.3.2"
  },
  "kernelspec": {
   "display_name": "Python 3",
   "language": "python",
   "name": "python3"
  },
  "language_info": {
   "codemirror_mode": {
    "name": "ipython",
    "version": 3
   },
   "file_extension": ".py",
   "mimetype": "text/x-python",
   "name": "python",
   "nbconvert_exporter": "python",
   "pygments_lexer": "ipython3",
   "version": "3.5.5"
  }
 },
 "nbformat": 4,
 "nbformat_minor": 1
}
