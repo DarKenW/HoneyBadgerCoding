{
 "cells": [
  {
   "cell_type": "markdown",
   "metadata": {
    "colab_type": "text",
    "id": "FIhIYpvnj7sX"
   },
   "source": []
  },
  {
   "cell_type": "code",
   "execution_count": 1,
   "metadata": {
    "colab": {},
    "colab_type": "code",
    "id": "qqvQbs2uj7sZ"
   },
   "outputs": [],
   "source": [
    "import numpy as np\n",
    "x = np.arange(0,100)\n",
    "y = x*2\n",
    "z = x**2"
   ]
  },
  {
   "cell_type": "markdown",
   "metadata": {
    "colab_type": "text",
    "id": "V7SHVzH3j7sc"
   },
   "source": []
  },
  {
   "cell_type": "code",
   "execution_count": 2,
   "metadata": {
    "colab": {},
    "colab_type": "code",
    "id": "vMemtOhHj7sd"
   },
   "outputs": [
    {
     "name": "stderr",
     "output_type": "stream",
     "text": [
      "UsageError: unrecognized arguments: #make your plot outputs appear and be stored within the notebook.\n"
     ]
    }
   ],
   "source": [
    "import matplotlib.pyplot as plt\n",
    "%matplotlib inline   #make your plot outputs appear and be stored within the notebook."
   ]
  },
  {
   "cell_type": "markdown",
   "metadata": {
    "colab_type": "text",
    "id": "CZdgSPlkkOUv"
   },
   "source": [
    "instructions recreate the plots below for each exercise"
   ]
  },
  {
   "cell_type": "markdown",
   "metadata": {
    "colab_type": "text",
    "id": "ISttpqDxj7sg"
   },
   "source": [
    "## Exercise 1"
   ]
  },
  {
   "cell_type": "code",
   "execution_count": 3,
   "metadata": {},
   "outputs": [
    {
     "data": {
      "image/png": "[encoded data removed]",
      "text/plain": [
       "<Figure size 648x432 with 1 Axes>"
      ]
     },
     "metadata": {},
     "output_type": "display_data"
    }
   ],
   "source": [
    "fig = plt.figure(figsize=(9,6))\n",
    "plt.plot([0,100],[0,200])\n",
    "plt.xlabel('x', fontsize=12)\n",
    "plt.ylabel('y', fontsize=12)\n",
    "plt.title('title', fontsize=12)\n",
    "plt.show()"
   ]
  },
  {
   "cell_type": "markdown",
   "metadata": {
    "colab_type": "text",
    "id": "oA7b_z6xj7sm"
   },
   "source": [
    "## Exercise 2\n",
    "** Create a figure object and put two axes on it, ax1 and ax2. Located at [0,0,1,1] and [0.2,0.5,.2,.2] respectively.**"
   ]
  },
  {
   "cell_type": "code",
   "execution_count": 4,
   "metadata": {
    "colab": {},
    "colab_type": "code",
    "id": "XcSui6ZRj7sn",
    "outputId": "a92be8dc-3920-4ae3-bdaa-52eab3fd8b95"
   },
   "outputs": [],
   "source": [
    "fig = plt.figure()\n",
    "\n",
    "ax1 = fig.add_axes([0,0,1,1])     #each axis system represents a plot \n",
    "ax2 = fig.add_axes([0.2,0.5,.2,.2])  # create two plots with same configuration, but their location and shape are distinct. "
   ]
  },
  {
   "cell_type": "markdown",
   "metadata": {
    "colab_type": "text",
    "id": "bk7mQLjXj7sp"
   },
   "source": [
    "** Now plot (x,y) on both axes. And call your figure object to show it.**"
   ]
  },
  {
   "cell_type": "code",
   "execution_count": 5,
   "metadata": {
    "colab": {},
    "colab_type": "code",
    "id": "VVjtWI7Uj7sr",
    "outputId": "c9ff77d0-0fe0-47fb-c0fb-ee6412cacfc5"
   },
   "outputs": [
    {
     "data": {
      "text/plain": [
       "[<matplotlib.lines.Line2D at 0x11d1ca710>]"
      ]
     },
     "execution_count": 5,
     "metadata": {},
     "output_type": "execute_result"
    }
   ],
   "source": [
    "fig = plt.figure()\n",
    "\n",
    "ax1 = fig.add_axes([0,0,1,1])  # (0, 0) represents location of bigger plt, (1, 1) represents width, height \n",
    "ax2 = fig.add_axes([0.2,0.5,.2,.2]) # (0.2, 0.2) represents location of smaller plt, (0.2, 0.2) represents width, height \n",
    "\n",
    "ax1.plot(x,y)\n",
    "ax2.plot(x,y)"
   ]
  },
  {
   "cell_type": "markdown",
   "metadata": {
    "colab_type": "text",
    "id": "n-JV0Vb4j7st"
   },
   "source": [
    "## Exercise 3\n",
    "\n",
    "** Create the plot below by adding two axes to a figure object at [0,0,1,1] and [0.2,0.5,.4,.4]**"
   ]
  },
  {
   "cell_type": "code",
   "execution_count": 6,
   "metadata": {
    "colab": {},
    "colab_type": "code",
    "id": "KlzrWHrEj7su",
    "outputId": "9c411d41-094b-4110-9993-57b1f4cbf72b"
   },
   "outputs": [],
   "source": [
    "fig = plt.figure()\n",
    "\n",
    "ax1 = fig.add_axes([0,0,1,1])\n",
    "ax2 = fig.add_axes([0.2,0.5,.4,.4])"
   ]
  },
  {
   "cell_type": "markdown",
   "metadata": {
    "colab_type": "text",
    "id": "MgjmsmHxj7sz"
   },
   "source": [
    "** Now use x,y, and z arrays to recreate the plot below. Notice the xlimits and y limits on the inserted plot:**"
   ]
  },
  {
   "cell_type": "code",
   "execution_count": 7,
   "metadata": {
    "colab": {},
    "colab_type": "code",
    "id": "OkDf6Qq_j7s0",
    "outputId": "3a6f4cdd-9f62-4fb3-c290-8100a63b28d9"
   },
   "outputs": [
    {
     "data": {
      "text/plain": [
       "[<matplotlib.lines.Line2D at 0x11d25df60>]"
      ]
     },
     "execution_count": 7,
     "metadata": {},
     "output_type": "execute_result"
    }
   ],
   "source": [
    "fig1 = plt.figure()\n",
    "ax0 = fig1.add_axes([0,0,1,1])\n",
    "ax1 = fig1.add_axes([0.2,0.5,.4,.4])\n",
    "\n",
    "ax0.set_xlabel('X')\n",
    "ax0.set_ylabel('Z')\n",
    "\n",
    "ax1.set_xlabel('X')\n",
    "ax1.set_ylabel('Z')\n",
    "\n",
    "ax0.set_ylim(30,50)   \n",
    "ax0.set_xlim(20,22)\n",
    "\n",
    "ax1.set_ylim(30,50)\n",
    "ax1.set_xlim(20,22)\n",
    "\n",
    "ax0.plot(x,z)\n",
    "ax1.plot(x,y)"
   ]
  },
  {
   "cell_type": "markdown",
   "metadata": {
    "colab_type": "text",
    "id": "0kY-Duf6j7s3"
   },
   "source": [
    "## Exercise 4\n",
    "\n",
    "** Use plt.subplots(nrows=1, ncols=2) to create the plot below.**"
   ]
  },
  {
   "cell_type": "code",
   "execution_count": 8,
   "metadata": {
    "colab": {},
    "colab_type": "code",
    "id": "ubXee6O2j7s3",
    "outputId": "38e1808d-835c-486c-b694-07384a9f71b8"
   },
   "outputs": [],
   "source": [
    "fig,axes = plt.subplots(nrows=1,ncols=2)"
   ]
  },
  {
   "cell_type": "markdown",
   "metadata": {
    "colab_type": "text",
    "id": "h_mHPN4mj7s8"
   },
   "source": [
    "** Now plot (x,y) and (x,z) on the axes. Play around with the linewidth and style**"
   ]
  },
  {
   "cell_type": "code",
   "execution_count": 9,
   "metadata": {
    "colab": {},
    "colab_type": "code",
    "id": "obI7_iyOj7s9",
    "outputId": "bcea0931-ac6f-43f6-ecfb-c655093efee6"
   },
   "outputs": [
    {
     "data": {
      "text/plain": [
       "[<matplotlib.lines.Line2D at 0x11d352400>]"
      ]
     },
     "execution_count": 9,
     "metadata": {},
     "output_type": "execute_result"
    }
   ],
   "source": [
    "fig,axes = plt.subplots(nrows=1,ncols=2)\n",
    "\n",
    "axes[0].plot(x,y,color='red',lw= 5,ls=\"--\")\n",
    "axes[1].plot(x,z,color='blue',lw= 5)"
   ]
  },
  {
   "cell_type": "markdown",
   "metadata": {
    "colab_type": "text",
    "id": "dCdcc-drj7tA"
   },
   "source": [
    "** See if you can resize the plot by adding the figsize() argument in plt.subplots() are copying and pasting your previous code.**"
   ]
  },
  {
   "cell_type": "code",
   "execution_count": 10,
   "metadata": {
    "colab": {},
    "colab_type": "code",
    "id": "rIQHWqL6j7tC",
    "outputId": "13f598e0-e0c2-4f26-febe-ea5047490f2a"
   },
   "outputs": [
    {
     "data": {
      "text/plain": [
       "[<matplotlib.lines.Line2D at 0x11d3b33c8>]"
      ]
     },
     "execution_count": 10,
     "metadata": {},
     "output_type": "execute_result"
    }
   ],
   "source": [
    "fig,axes = plt.subplots(nrows=1,ncols=2, figsize=(20,10))\n",
    "\n",
    "axes[0].plot(x,y,color='red',lw= 5,ls=\"--\")\n",
    "axes[1].plot(x,z,color='blue',lw= 5)"
   ]
  },
  {
   "cell_type": "code",
   "execution_count": 11,
   "metadata": {
    "scrolled": false
   },
   "outputs": [
    {
     "data": {
      "image/png": "[encoded data removed]",
      "text/plain": [
       "<Figure size 432x288 with 1 Axes>"
      ]
     },
     "execution_count": 11,
     "metadata": {},
     "output_type": "execute_result"
    }
   ],
   "source": [
    "plt.rcParams.update({'font.size': 18, 'font.family': 'STIXGeneral', 'mathtext.fontset': 'stix'})\n",
    "\n",
    "fig = plt.figure()\n",
    "\n",
    "ax = fig.add_axes([0,0,1,1])\n",
    "\n",
    "ax.plot(x, x**2, 'b.-', label=r\"$y = \\alpha^2$\",color=\"red\", )   #plot first, then set parameters\n",
    "ax.plot(x, x**3, 'g--', label=r\"$y = \\alpha^3$\", )\n",
    "\n",
    "ax.grid(True)\n",
    "ax.set_xticks([0, 4, 8, 12])\n",
    "ax.set_yticks([0, 200, 500, 800, 1000])\n",
    "\n",
    "ax.set_ylim(10,1000)\n",
    "ax.set_xlim(1,12)\n",
    "ax.legend(loc=2) \n",
    "ax.set_xlabel(r'$\\alpha$', fontsize=18)\n",
    "ax.set_ylabel(r'$\\beta$', fontsize=18)\n",
    "ax.set_title(\"title\")\n",
    "ax.legend(loc=2) \n",
    "\n",
    "fig   #replace   plt.show()"
   ]
  },
  {
   "cell_type": "markdown",
   "metadata": {
    "colab_type": "text",
    "id": "92LNm-Ioj7tF"
   },
   "source": [
    "# Great Job!"
   ]
  }
 ],
 "metadata": {
  "colab": {
   "collapsed_sections": [],
   "name": "Matplotlib Exercises .ipynb",
   "provenance": [],
   "version": "0.3.2"
  },
  "kernelspec": {
   "display_name": "Python 3",
   "language": "python",
   "name": "python3"
  },
  "language_info": {
   "codemirror_mode": {
    "name": "ipython",
    "version": 3
   },
   "file_extension": ".py",
   "mimetype": "text/x-python",
   "name": "python",
   "nbconvert_exporter": "python",
   "pygments_lexer": "ipython3",
   "version": "3.6.5"
  }
 },
 "nbformat": 4,
 "nbformat_minor": 1
}
