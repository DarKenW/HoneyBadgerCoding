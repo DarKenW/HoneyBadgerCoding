{
 "cells": [
  {
   "cell_type": "markdown",
   "metadata": {},
   "source": [
    "# Tensorflow homework 2"
   ]
  },
  {
   "cell_type": "markdown",
   "metadata": {},
   "source": [
    "Create a neural network that is capable of finding the volume of a cylinder given the radius of its base (r) and its height (h). Assume that the radius and height of the cylinder are both in the range 0.5 to 2.0. \n",
    "\n",
    "However, unlike last time assume that your measurements of r, h and V are all rounded off to the nearest 0.1. Simulate the necessary training dataset. This time, you will need a lot more data to get a good predictor.\n",
    "\n",
    "Now modify the \"noise\" so that instead of just rounding off the value, there is up to a 10% error (uniformly distributed) in the measurement followed by rounding off."
   ]
  },
  {
   "cell_type": "code",
   "execution_count": 210,
   "metadata": {},
   "outputs": [],
   "source": [
    "import tensorflow as tf\n",
    "from tensorflow.estimator import DNNRegressor \n",
    "from tensorflow.estimator.inputs import numpy_input_fn \n",
    "from sklearn import preprocessing, model_selection, metrics\n",
    "from tensorflow.python.training import optimizer\n",
    "import pandas as pd\n",
    "import random\n",
    "import numpy as np"
   ]
  },
  {
   "cell_type": "code",
   "execution_count": 211,
   "metadata": {},
   "outputs": [],
   "source": [
    "# generate the data and added some noise to it. + np.random.rand(999)\n",
    "radius =  np.random.uniform(0.5, 2, 750000) \n",
    "height =  np.random.uniform(0.5, 2, 750000) \n",
    "volume = 3.14 * radius**2 * height\n",
    "\n",
    "train = pd.DataFrame({\"radius\": radius, \"height\": height, \"volume\": volume})"
   ]
  },
  {
   "cell_type": "code",
   "execution_count": 212,
   "metadata": {},
   "outputs": [
    {
     "data": {
      "text/html": [
       "<div>\n",
       "<style>\n",
       "    .dataframe thead tr:only-child th {\n",
       "        text-align: right;\n",
       "    }\n",
       "\n",
       "    .dataframe thead th {\n",
       "        text-align: left;\n",
       "    }\n",
       "\n",
       "    .dataframe tbody tr th {\n",
       "        vertical-align: top;\n",
       "    }\n",
       "</style>\n",
       "<table border=\"1\" class=\"dataframe\">\n",
       "  <thead>\n",
       "    <tr style=\"text-align: right;\">\n",
       "      <th></th>\n",
       "      <th>height</th>\n",
       "      <th>radius</th>\n",
       "      <th>volume</th>\n",
       "    </tr>\n",
       "  </thead>\n",
       "  <tbody>\n",
       "    <tr>\n",
       "      <th>0</th>\n",
       "      <td>1.032294</td>\n",
       "      <td>0.719073</td>\n",
       "      <td>1.676019</td>\n",
       "    </tr>\n",
       "    <tr>\n",
       "      <th>1</th>\n",
       "      <td>1.544020</td>\n",
       "      <td>1.175022</td>\n",
       "      <td>6.693828</td>\n",
       "    </tr>\n",
       "    <tr>\n",
       "      <th>2</th>\n",
       "      <td>1.362213</td>\n",
       "      <td>1.060952</td>\n",
       "      <td>4.814663</td>\n",
       "    </tr>\n",
       "    <tr>\n",
       "      <th>3</th>\n",
       "      <td>1.851530</td>\n",
       "      <td>1.062301</td>\n",
       "      <td>6.560787</td>\n",
       "    </tr>\n",
       "    <tr>\n",
       "      <th>4</th>\n",
       "      <td>1.722461</td>\n",
       "      <td>1.443177</td>\n",
       "      <td>11.264669</td>\n",
       "    </tr>\n",
       "  </tbody>\n",
       "</table>\n",
       "</div>"
      ],
      "text/plain": [
       "     height    radius     volume\n",
       "0  1.032294  0.719073   1.676019\n",
       "1  1.544020  1.175022   6.693828\n",
       "2  1.362213  1.060952   4.814663\n",
       "3  1.851530  1.062301   6.560787\n",
       "4  1.722461  1.443177  11.264669"
      ]
     },
     "execution_count": 212,
     "metadata": {},
     "output_type": "execute_result"
    }
   ],
   "source": [
    "X.head()"
   ]
  },
  {
   "cell_type": "code",
   "execution_count": 213,
   "metadata": {},
   "outputs": [],
   "source": [
    "radius =  np.random.uniform(0.5, 2, 250000) \n",
    "height =  np.random.uniform(0.5, 2, 250000) \n",
    "volume = 3.14 * radius**2 * height\n",
    "\n",
    "test = pd.DataFrame({\"radius\": radius, \"height\": height, \"volume\": volume})"
   ]
  },
  {
   "cell_type": "code",
   "execution_count": 214,
   "metadata": {},
   "outputs": [],
   "source": [
    "feature_columns = [\n",
    "  tf.feature_column.numeric_column(\"radius\"),\n",
    "  tf.feature_column.numeric_column(\"height\")\n",
    "]"
   ]
  },
  {
   "cell_type": "code",
   "execution_count": 215,
   "metadata": {},
   "outputs": [
    {
     "name": "stdout",
     "output_type": "stream",
     "text": [
      "INFO:tensorflow:Using default config.\n",
      "WARNING:tensorflow:Using temporary folder as model directory: /var/folders/x2/rwr8_g2x0_v7z00l90vswnwc0000gn/T/tmpgyipos0t\n",
      "INFO:tensorflow:Using config: {'_model_dir': '/var/folders/x2/rwr8_g2x0_v7z00l90vswnwc0000gn/T/tmpgyipos0t', '_tf_random_seed': None, '_save_summary_steps': 100, '_save_checkpoints_steps': None, '_save_checkpoints_secs': 600, '_session_config': allow_soft_placement: true\n",
      "graph_options {\n",
      "  rewrite_options {\n",
      "    meta_optimizer_iterations: ONE\n",
      "  }\n",
      "}\n",
      ", '_keep_checkpoint_max': 5, '_keep_checkpoint_every_n_hours': 10000, '_log_step_count_steps': 100, '_train_distribute': None, '_device_fn': None, '_protocol': None, '_eval_distribute': None, '_experimental_distribute': None, '_service': None, '_cluster_spec': <tensorflow.python.training.server_lib.ClusterSpec object at 0x1285e72e8>, '_task_type': 'worker', '_task_id': 0, '_global_id_in_cluster': 0, '_master': '', '_evaluation_master': '', '_is_chief': True, '_num_ps_replicas': 0, '_num_worker_replicas': 1}\n",
      "INFO:tensorflow:Calling model_fn.\n",
      "INFO:tensorflow:Done calling model_fn.\n",
      "INFO:tensorflow:Create CheckpointSaverHook.\n",
      "INFO:tensorflow:Graph was finalized.\n",
      "INFO:tensorflow:Running local_init_op.\n",
      "INFO:tensorflow:Done running local_init_op.\n",
      "INFO:tensorflow:Saving checkpoints for 0 into /var/folders/x2/rwr8_g2x0_v7z00l90vswnwc0000gn/T/tmpgyipos0t/model.ckpt.\n",
      "INFO:tensorflow:loss = 64574.195, step = 1\n",
      "INFO:tensorflow:global_step/sec: 160.472\n",
      "INFO:tensorflow:loss = 1132.4127, step = 101 (0.624 sec)\n",
      "INFO:tensorflow:global_step/sec: 183.931\n",
      "INFO:tensorflow:loss = 284.74323, step = 201 (0.544 sec)\n",
      "INFO:tensorflow:global_step/sec: 180.729\n",
      "INFO:tensorflow:loss = 328.8052, step = 301 (0.553 sec)\n",
      "INFO:tensorflow:global_step/sec: 181.207\n",
      "INFO:tensorflow:loss = 62.162704, step = 401 (0.552 sec)\n",
      "INFO:tensorflow:global_step/sec: 185.455\n",
      "INFO:tensorflow:loss = 42.799675, step = 501 (0.539 sec)\n",
      "INFO:tensorflow:global_step/sec: 172.192\n",
      "INFO:tensorflow:loss = 59.619476, step = 601 (0.581 sec)\n",
      "INFO:tensorflow:global_step/sec: 181.784\n",
      "INFO:tensorflow:loss = 136.55374, step = 701 (0.550 sec)\n",
      "INFO:tensorflow:global_step/sec: 167.816\n",
      "INFO:tensorflow:loss = 14.515661, step = 801 (0.596 sec)\n",
      "INFO:tensorflow:global_step/sec: 183.415\n",
      "INFO:tensorflow:loss = 16.912436, step = 901 (0.545 sec)\n",
      "INFO:tensorflow:global_step/sec: 183.372\n",
      "INFO:tensorflow:loss = 35.59134, step = 1001 (0.545 sec)\n",
      "INFO:tensorflow:global_step/sec: 175.053\n",
      "INFO:tensorflow:loss = 62.526062, step = 1101 (0.571 sec)\n",
      "INFO:tensorflow:global_step/sec: 174.961\n",
      "INFO:tensorflow:loss = 9.728133, step = 1201 (0.572 sec)\n",
      "INFO:tensorflow:global_step/sec: 175.775\n",
      "INFO:tensorflow:loss = 14.0739765, step = 1301 (0.569 sec)\n",
      "INFO:tensorflow:global_step/sec: 182.024\n",
      "INFO:tensorflow:loss = 28.283028, step = 1401 (0.549 sec)\n",
      "INFO:tensorflow:global_step/sec: 184.91\n",
      "INFO:tensorflow:loss = 9.2435055, step = 1501 (0.541 sec)\n",
      "INFO:tensorflow:global_step/sec: 184.345\n",
      "INFO:tensorflow:loss = 17.507465, step = 1601 (0.542 sec)\n",
      "INFO:tensorflow:global_step/sec: 180.273\n",
      "INFO:tensorflow:loss = 4.2085114, step = 1701 (0.555 sec)\n",
      "INFO:tensorflow:global_step/sec: 178.576\n",
      "INFO:tensorflow:loss = 3.9066017, step = 1801 (0.560 sec)\n",
      "INFO:tensorflow:global_step/sec: 167.75\n",
      "INFO:tensorflow:loss = 7.6541915, step = 1901 (0.596 sec)\n",
      "INFO:tensorflow:global_step/sec: 178.291\n",
      "INFO:tensorflow:loss = 5.4220247, step = 2001 (0.561 sec)\n",
      "INFO:tensorflow:global_step/sec: 183.823\n",
      "INFO:tensorflow:loss = 4.868282, step = 2101 (0.544 sec)\n",
      "INFO:tensorflow:global_step/sec: 176.446\n",
      "INFO:tensorflow:loss = 9.0057125, step = 2201 (0.567 sec)\n",
      "INFO:tensorflow:global_step/sec: 185.534\n",
      "INFO:tensorflow:loss = 4.9976845, step = 2301 (0.539 sec)\n",
      "INFO:tensorflow:global_step/sec: 179.914\n",
      "INFO:tensorflow:loss = 4.1093974, step = 2401 (0.556 sec)\n",
      "INFO:tensorflow:global_step/sec: 184.435\n",
      "INFO:tensorflow:loss = 2.6360242, step = 2501 (0.542 sec)\n",
      "INFO:tensorflow:global_step/sec: 170.476\n",
      "INFO:tensorflow:loss = 3.749067, step = 2601 (0.587 sec)\n",
      "INFO:tensorflow:global_step/sec: 173.347\n",
      "INFO:tensorflow:loss = 19.377138, step = 2701 (0.577 sec)\n",
      "INFO:tensorflow:global_step/sec: 183.02\n",
      "INFO:tensorflow:loss = 3.1951013, step = 2801 (0.547 sec)\n",
      "INFO:tensorflow:global_step/sec: 176.579\n",
      "INFO:tensorflow:loss = 3.9470882, step = 2901 (0.566 sec)\n",
      "INFO:tensorflow:global_step/sec: 180.907\n",
      "INFO:tensorflow:loss = 7.601755, step = 3001 (0.553 sec)\n",
      "INFO:tensorflow:global_step/sec: 181.984\n",
      "INFO:tensorflow:loss = 12.808633, step = 3101 (0.550 sec)\n",
      "INFO:tensorflow:global_step/sec: 179.824\n",
      "INFO:tensorflow:loss = 2.2514024, step = 3201 (0.556 sec)\n",
      "INFO:tensorflow:global_step/sec: 182.593\n",
      "INFO:tensorflow:loss = 1.883158, step = 3301 (0.547 sec)\n",
      "INFO:tensorflow:global_step/sec: 184.636\n",
      "INFO:tensorflow:loss = 5.654316, step = 3401 (0.542 sec)\n",
      "INFO:tensorflow:global_step/sec: 183.298\n",
      "INFO:tensorflow:loss = 4.5482407, step = 3501 (0.545 sec)\n",
      "INFO:tensorflow:global_step/sec: 185.246\n",
      "INFO:tensorflow:loss = 4.009206, step = 3601 (0.540 sec)\n",
      "INFO:tensorflow:global_step/sec: 184.912\n",
      "INFO:tensorflow:loss = 3.5318985, step = 3701 (0.541 sec)\n",
      "INFO:tensorflow:global_step/sec: 183.187\n",
      "INFO:tensorflow:loss = 4.795087, step = 3801 (0.546 sec)\n",
      "INFO:tensorflow:global_step/sec: 184.291\n",
      "INFO:tensorflow:loss = 2.534079, step = 3901 (0.542 sec)\n",
      "INFO:tensorflow:global_step/sec: 177.317\n",
      "INFO:tensorflow:loss = 1.9241812, step = 4001 (0.564 sec)\n",
      "INFO:tensorflow:global_step/sec: 184.794\n",
      "INFO:tensorflow:loss = 2.1066241, step = 4101 (0.541 sec)\n",
      "INFO:tensorflow:global_step/sec: 178.94\n",
      "INFO:tensorflow:loss = 2.1899636, step = 4201 (0.559 sec)\n",
      "INFO:tensorflow:global_step/sec: 174.627\n",
      "INFO:tensorflow:loss = 3.265465, step = 4301 (0.572 sec)\n",
      "INFO:tensorflow:global_step/sec: 177.866\n",
      "INFO:tensorflow:loss = 1.7054412, step = 4401 (0.562 sec)\n",
      "INFO:tensorflow:global_step/sec: 179.612\n",
      "INFO:tensorflow:loss = 5.832241, step = 4501 (0.557 sec)\n",
      "INFO:tensorflow:global_step/sec: 185.028\n",
      "INFO:tensorflow:loss = 12.125426, step = 4601 (0.540 sec)\n",
      "INFO:tensorflow:global_step/sec: 184.936\n",
      "INFO:tensorflow:loss = 1.8129005, step = 4701 (0.541 sec)\n",
      "INFO:tensorflow:global_step/sec: 182.555\n",
      "INFO:tensorflow:loss = 1.619489, step = 4801 (0.548 sec)\n",
      "INFO:tensorflow:global_step/sec: 185.025\n",
      "INFO:tensorflow:loss = 2.6475568, step = 4901 (0.540 sec)\n",
      "INFO:tensorflow:Saving checkpoints for 5000 into /var/folders/x2/rwr8_g2x0_v7z00l90vswnwc0000gn/T/tmpgyipos0t/model.ckpt.\n",
      "INFO:tensorflow:Loss for final step: 2.0777683.\n"
     ]
    },
    {
     "data": {
      "text/plain": [
       "<tensorflow.python.estimator.canned.dnn.DNNRegressor at 0x12ac43518>"
      ]
     },
     "execution_count": 215,
     "metadata": {},
     "output_type": "execute_result"
    }
   ],
   "source": [
    "train_input_fn = tf.estimator.inputs.pandas_input_fn(\n",
    "    x=train, \n",
    "    y=train['volume'],     \n",
    "    batch_size=1000,\n",
    "    num_epochs=None,\n",
    "    shuffle=True)\n",
    "#returns input function that would feed dict of numpy arrays into the model.\n",
    "\n",
    "\n",
    "DNN_Reg = DNNRegressor(feature_columns=feature_columns, \n",
    "                         hidden_units=[64, 32, 32, 16],\n",
    "                        optimizer=tf.train.AdagradOptimizer(learning_rate=0.05)   #添加 optimizer\n",
    ")\n",
    "                         \n",
    "DNN_Reg.train(input_fn=train_input_fn, max_steps=5000) "
   ]
  },
  {
   "cell_type": "code",
   "execution_count": 222,
   "metadata": {},
   "outputs": [
    {
     "name": "stdout",
     "output_type": "stream",
     "text": [
      "INFO:tensorflow:Calling model_fn.\n",
      "INFO:tensorflow:Done calling model_fn.\n",
      "INFO:tensorflow:Graph was finalized.\n",
      "INFO:tensorflow:Restoring parameters from /var/folders/x2/rwr8_g2x0_v7z00l90vswnwc0000gn/T/tmpgyipos0t/model.ckpt-5000\n",
      "INFO:tensorflow:Running local_init_op.\n",
      "INFO:tensorflow:Done running local_init_op.\n",
      "[2.83240769]\n",
      "[[2.7972226]]\n"
     ]
    }
   ],
   "source": [
    "#take a look\n",
    "radius =  np.random.uniform(0.5, 2, 1) \n",
    "height =  np.random.uniform(0.5, 2, 1) \n",
    "volume = 3.14 * radius**2 * height\n",
    "\n",
    "test_take_a_look = pd.DataFrame({\"radius\": radius, \"height\": height, \"volume\": volume})\n",
    "\n",
    "test_input_fn = tf.estimator.inputs.pandas_input_fn(x=test_take_a_look, \n",
    "                                  y=test_take_a_look['volume'],\n",
    "                                  shuffle=False)\n",
    "\n",
    "predictions = DNN_Reg.predict(input_fn=test_input_fn)\n",
    "y_predicted = np.array(list(p['predictions'] for p in predictions))\n",
    "print(3.14*radius**2*height)\n",
    "print(y_predicted)"
   ]
  },
  {
   "cell_type": "code",
   "execution_count": 224,
   "metadata": {},
   "outputs": [
    {
     "name": "stdout",
     "output_type": "stream",
     "text": [
      "INFO:tensorflow:Calling model_fn.\n",
      "INFO:tensorflow:Done calling model_fn.\n",
      "INFO:tensorflow:Graph was finalized.\n",
      "INFO:tensorflow:Restoring parameters from /var/folders/x2/rwr8_g2x0_v7z00l90vswnwc0000gn/T/tmpgyipos0t/model.ckpt-5000\n",
      "INFO:tensorflow:Running local_init_op.\n",
      "INFO:tensorflow:Done running local_init_op.\n"
     ]
    }
   ],
   "source": [
    "test_input_fn = tf.estimator.inputs.pandas_input_fn(x=test, \n",
    "                                  y=test['volume'],\n",
    "                                  shuffle=False)\n",
    "predictions = DNN_Reg.predict(input_fn=test_input_fn)\n",
    "y_predicted = np.array(list(p['predictions'] for p in predictions))\n",
    "y_predicted = y_predicted.reshape(np.array(test['volume']).shape)"
   ]
  },
  {
   "cell_type": "code",
   "execution_count": 225,
   "metadata": {},
   "outputs": [
    {
     "name": "stdout",
     "output_type": "stream",
     "text": [
      "INFO:tensorflow:Calling model_fn.\n",
      "INFO:tensorflow:Done calling model_fn.\n",
      "INFO:tensorflow:Starting evaluation at 2018-10-29-03:23:21\n",
      "INFO:tensorflow:Graph was finalized.\n",
      "INFO:tensorflow:Restoring parameters from /var/folders/x2/rwr8_g2x0_v7z00l90vswnwc0000gn/T/tmpljygbynh/model.ckpt-1465\n",
      "INFO:tensorflow:Running local_init_op.\n",
      "INFO:tensorflow:Done running local_init_op.\n",
      "INFO:tensorflow:Finished evaluation at 2018-10-29-03:23:21\n",
      "INFO:tensorflow:Saving dict for global step 1465: average_loss = 0.0005107032, global_step = 1465, label/mean = 4.443495, loss = 0.0005107032, prediction/mean = 4.4660935\n",
      "INFO:tensorflow:Saving 'checkpoint_path' summary for global step 1465: /var/folders/x2/rwr8_g2x0_v7z00l90vswnwc0000gn/T/tmpljygbynh/model.ckpt-1465\n"
     ]
    },
    {
     "data": {
      "text/plain": [
       "{'average_loss': 0.0005107032,\n",
       " 'global_step': 1465,\n",
       " 'label/mean': 4.443495,\n",
       " 'loss': 0.0005107032,\n",
       " 'prediction/mean': 4.4660935}"
      ]
     },
     "execution_count": 225,
     "metadata": {},
     "output_type": "execute_result"
    }
   ],
   "source": [
    "regressor.evaluate(input_fn = test_input_fn)"
   ]
  },
  {
   "cell_type": "code",
   "execution_count": 226,
   "metadata": {},
   "outputs": [
    {
     "name": "stdout",
     "output_type": "stream",
     "text": [
      "RMSE = 0.085379\n"
     ]
    }
   ],
   "source": [
    "score_sklearn = metrics.mean_squared_error(y_predicted, test['volume'])\n",
    "print('RMSE = {0:f}'.format(score_sklearn**(0.5)))"
   ]
  },
  {
   "cell_type": "code",
   "execution_count": null,
   "metadata": {},
   "outputs": [],
   "source": []
  },
  {
   "cell_type": "code",
   "execution_count": null,
   "metadata": {},
   "outputs": [],
   "source": []
  }
 ],
 "metadata": {
  "kernelspec": {
   "display_name": "Python 3",
   "language": "python",
   "name": "python3"
  },
  "language_info": {
   "codemirror_mode": {
    "name": "ipython",
    "version": 3
   },
   "file_extension": ".py",
   "mimetype": "text/x-python",
   "name": "python",
   "nbconvert_exporter": "python",
   "pygments_lexer": "ipython3",
   "version": "3.6.5"
  }
 },
 "nbformat": 4,
 "nbformat_minor": 2
}
