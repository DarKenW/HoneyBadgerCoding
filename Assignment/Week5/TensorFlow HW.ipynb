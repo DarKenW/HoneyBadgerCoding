{
 "cells": [
  {
   "cell_type": "markdown",
   "metadata": {},
   "source": [
    "# Tensorflow HW"
   ]
  },
  {
   "cell_type": "markdown",
   "metadata": {},
   "source": [
    "Using the DNN regressor in TF, construct a Neural Network capable of finding the volume of a cylinder given a radius (r) and (h). Simulate the data, which will be comprised of r,h, and V. Generate more data if the results are poor as measure by RMSE."
   ]
  },
  {
   "cell_type": "code",
   "execution_count": 21,
   "metadata": {},
   "outputs": [],
   "source": [
    "import tensorflow as tf\n",
    "from tensorflow.estimator import DNNRegressor \n",
    "from tensorflow.estimator.inputs import numpy_input_fn \n",
    "from sklearn import preprocessing, model_selection, metrics\n",
    "import pandas as pd\n",
    "import random\n",
    "import numpy as np"
   ]
  },
  {
   "cell_type": "markdown",
   "metadata": {},
   "source": [
    "## Data preparation"
   ]
  },
  {
   "cell_type": "code",
   "execution_count": 22,
   "metadata": {},
   "outputs": [],
   "source": [
    "# generate the data and added some noise to it. + np.random.rand(999)\n",
    "radius =  np.random.uniform(1, 100, 1000000) \n",
    "height = np.random.uniform(1, 100, 1000000) \n",
    "volume = np.pi * radius**2 * height"
   ]
  },
  {
   "cell_type": "code",
   "execution_count": 23,
   "metadata": {},
   "outputs": [],
   "source": [
    "X = pd.DataFrame({\"radius\": radius, \"height\": height})\n",
    "y = volume"
   ]
  },
  {
   "cell_type": "code",
   "execution_count": 24,
   "metadata": {},
   "outputs": [],
   "source": [
    "x_train, x_test, y_train, y_test = model_selection.train_test_split(X, y, test_size=0.25, random_state=42)"
   ]
  },
  {
   "cell_type": "code",
   "execution_count": 25,
   "metadata": {},
   "outputs": [],
   "source": [
    "scaler = preprocessing.StandardScaler()\n",
    "x_train = scaler.fit_transform(x_train)"
   ]
  },
  {
   "cell_type": "code",
   "execution_count": 26,
   "metadata": {},
   "outputs": [],
   "source": [
    "feature_columns = [tf.feature_column.numeric_column('x', shape=np.array(x_train).shape[1:])]"
   ]
  },
  {
   "cell_type": "markdown",
   "metadata": {},
   "source": [
    "## Training model"
   ]
  },
  {
   "cell_type": "code",
   "execution_count": 27,
   "metadata": {},
   "outputs": [
    {
     "name": "stdout",
     "output_type": "stream",
     "text": [
      "INFO:tensorflow:Using default config.\n",
      "WARNING:tensorflow:Using temporary folder as model directory: /var/folders/x2/rwr8_g2x0_v7z00l90vswnwc0000gn/T/tmpb61p33nn\n",
      "INFO:tensorflow:Using config: {'_model_dir': '/var/folders/x2/rwr8_g2x0_v7z00l90vswnwc0000gn/T/tmpb61p33nn', '_tf_random_seed': None, '_save_summary_steps': 100, '_save_checkpoints_steps': None, '_save_checkpoints_secs': 600, '_session_config': allow_soft_placement: true\n",
      "graph_options {\n",
      "  rewrite_options {\n",
      "    meta_optimizer_iterations: ONE\n",
      "  }\n",
      "}\n",
      ", '_keep_checkpoint_max': 5, '_keep_checkpoint_every_n_hours': 10000, '_log_step_count_steps': 100, '_train_distribute': None, '_device_fn': None, '_protocol': None, '_eval_distribute': None, '_experimental_distribute': None, '_service': None, '_cluster_spec': <tensorflow.python.training.server_lib.ClusterSpec object at 0x132b679b0>, '_task_type': 'worker', '_task_id': 0, '_global_id_in_cluster': 0, '_master': '', '_evaluation_master': '', '_is_chief': True, '_num_ps_replicas': 0, '_num_worker_replicas': 1}\n",
      "INFO:tensorflow:Calling model_fn.\n",
      "INFO:tensorflow:Done calling model_fn.\n",
      "INFO:tensorflow:Create CheckpointSaverHook.\n",
      "INFO:tensorflow:Graph was finalized.\n",
      "INFO:tensorflow:Running local_init_op.\n",
      "INFO:tensorflow:Done running local_init_op.\n",
      "INFO:tensorflow:Saving checkpoints for 0 into /var/folders/x2/rwr8_g2x0_v7z00l90vswnwc0000gn/T/tmpb61p33nn/model.ckpt.\n",
      "INFO:tensorflow:loss = 60955980000000.0, step = 1\n",
      "INFO:tensorflow:global_step/sec: 165.029\n",
      "INFO:tensorflow:loss = 2212162000000.0, step = 101 (0.607 sec)\n",
      "INFO:tensorflow:global_step/sec: 186.664\n",
      "INFO:tensorflow:loss = 1236764200000.0, step = 201 (0.536 sec)\n",
      "INFO:tensorflow:global_step/sec: 170.331\n",
      "INFO:tensorflow:loss = 712820650000.0, step = 301 (0.587 sec)\n",
      "INFO:tensorflow:global_step/sec: 152.261\n",
      "INFO:tensorflow:loss = 343515630000.0, step = 401 (0.657 sec)\n",
      "INFO:tensorflow:global_step/sec: 145.292\n",
      "INFO:tensorflow:loss = 353051150000.0, step = 501 (0.689 sec)\n",
      "INFO:tensorflow:global_step/sec: 123.277\n",
      "INFO:tensorflow:loss = 261684900000.0, step = 601 (0.811 sec)\n",
      "INFO:tensorflow:global_step/sec: 184.012\n",
      "INFO:tensorflow:loss = 178551540000.0, step = 701 (0.543 sec)\n",
      "INFO:tensorflow:global_step/sec: 177.143\n",
      "INFO:tensorflow:loss = 251723600000.0, step = 801 (0.564 sec)\n",
      "INFO:tensorflow:global_step/sec: 183.357\n",
      "INFO:tensorflow:loss = 166003110000.0, step = 901 (0.545 sec)\n",
      "INFO:tensorflow:global_step/sec: 180.957\n",
      "INFO:tensorflow:loss = 94689804000.0, step = 1001 (0.553 sec)\n",
      "INFO:tensorflow:global_step/sec: 174.178\n",
      "INFO:tensorflow:loss = 76807210000.0, step = 1101 (0.574 sec)\n",
      "INFO:tensorflow:global_step/sec: 173.625\n",
      "INFO:tensorflow:loss = 105528205000.0, step = 1201 (0.576 sec)\n",
      "INFO:tensorflow:global_step/sec: 172.226\n",
      "INFO:tensorflow:loss = 134378370000.0, step = 1301 (0.581 sec)\n",
      "INFO:tensorflow:global_step/sec: 181.683\n",
      "INFO:tensorflow:loss = 100238750000.0, step = 1401 (0.550 sec)\n",
      "INFO:tensorflow:global_step/sec: 178.527\n",
      "INFO:tensorflow:loss = 91495610000.0, step = 1501 (0.560 sec)\n",
      "INFO:tensorflow:global_step/sec: 179.928\n",
      "INFO:tensorflow:loss = 74777230000.0, step = 1601 (0.556 sec)\n",
      "INFO:tensorflow:global_step/sec: 167.323\n",
      "INFO:tensorflow:loss = 74946140000.0, step = 1701 (0.598 sec)\n",
      "INFO:tensorflow:global_step/sec: 179.201\n",
      "INFO:tensorflow:loss = 132884910000.0, step = 1801 (0.558 sec)\n",
      "INFO:tensorflow:global_step/sec: 186.41\n",
      "INFO:tensorflow:loss = 49984418000.0, step = 1901 (0.536 sec)\n",
      "INFO:tensorflow:global_step/sec: 185.621\n",
      "INFO:tensorflow:loss = 70422280000.0, step = 2001 (0.539 sec)\n",
      "INFO:tensorflow:global_step/sec: 182.585\n",
      "INFO:tensorflow:loss = 60912804000.0, step = 2101 (0.548 sec)\n",
      "INFO:tensorflow:global_step/sec: 185.148\n",
      "INFO:tensorflow:loss = 65426317000.0, step = 2201 (0.540 sec)\n",
      "INFO:tensorflow:global_step/sec: 183.99\n",
      "INFO:tensorflow:loss = 52893570000.0, step = 2301 (0.543 sec)\n",
      "INFO:tensorflow:global_step/sec: 174.311\n",
      "INFO:tensorflow:loss = 56472887000.0, step = 2401 (0.574 sec)\n",
      "INFO:tensorflow:global_step/sec: 187.734\n",
      "INFO:tensorflow:loss = 65884254000.0, step = 2501 (0.533 sec)\n",
      "INFO:tensorflow:global_step/sec: 180.13\n",
      "INFO:tensorflow:loss = 47416484000.0, step = 2601 (0.555 sec)\n",
      "INFO:tensorflow:global_step/sec: 179.886\n",
      "INFO:tensorflow:loss = 61002486000.0, step = 2701 (0.556 sec)\n",
      "INFO:tensorflow:global_step/sec: 185.614\n",
      "INFO:tensorflow:loss = 52604015000.0, step = 2801 (0.539 sec)\n",
      "INFO:tensorflow:global_step/sec: 185.102\n",
      "INFO:tensorflow:loss = 39936705000.0, step = 2901 (0.540 sec)\n",
      "INFO:tensorflow:global_step/sec: 187.208\n",
      "INFO:tensorflow:loss = 38671213000.0, step = 3001 (0.534 sec)\n",
      "INFO:tensorflow:global_step/sec: 181.509\n",
      "INFO:tensorflow:loss = 41516933000.0, step = 3101 (0.551 sec)\n",
      "INFO:tensorflow:global_step/sec: 187.237\n",
      "INFO:tensorflow:loss = 67454968000.0, step = 3201 (0.534 sec)\n",
      "INFO:tensorflow:global_step/sec: 181.656\n",
      "INFO:tensorflow:loss = 41238634000.0, step = 3301 (0.551 sec)\n",
      "INFO:tensorflow:global_step/sec: 187.546\n",
      "INFO:tensorflow:loss = 47113640000.0, step = 3401 (0.533 sec)\n",
      "INFO:tensorflow:global_step/sec: 174.417\n",
      "INFO:tensorflow:loss = 33917567000.0, step = 3501 (0.573 sec)\n",
      "INFO:tensorflow:global_step/sec: 186.302\n",
      "INFO:tensorflow:loss = 63385035000.0, step = 3601 (0.537 sec)\n",
      "INFO:tensorflow:global_step/sec: 182.419\n",
      "INFO:tensorflow:loss = 41599713000.0, step = 3701 (0.548 sec)\n",
      "INFO:tensorflow:global_step/sec: 179.996\n",
      "INFO:tensorflow:loss = 34217861000.0, step = 3801 (0.556 sec)\n",
      "INFO:tensorflow:global_step/sec: 186.195\n",
      "INFO:tensorflow:loss = 31054300000.0, step = 3901 (0.537 sec)\n",
      "INFO:tensorflow:global_step/sec: 184.015\n",
      "INFO:tensorflow:loss = 23183075000.0, step = 4001 (0.544 sec)\n",
      "INFO:tensorflow:global_step/sec: 186.681\n",
      "INFO:tensorflow:loss = 20362113000.0, step = 4101 (0.536 sec)\n",
      "INFO:tensorflow:global_step/sec: 177.166\n",
      "INFO:tensorflow:loss = 21867821000.0, step = 4201 (0.564 sec)\n",
      "INFO:tensorflow:global_step/sec: 185.913\n",
      "INFO:tensorflow:loss = 17627111000.0, step = 4301 (0.538 sec)\n",
      "INFO:tensorflow:global_step/sec: 184.276\n",
      "INFO:tensorflow:loss = 19350974000.0, step = 4401 (0.543 sec)\n",
      "INFO:tensorflow:global_step/sec: 188.727\n",
      "INFO:tensorflow:loss = 12209801000.0, step = 4501 (0.530 sec)\n",
      "INFO:tensorflow:global_step/sec: 173.976\n",
      "INFO:tensorflow:loss = 19237630000.0, step = 4601 (0.575 sec)\n",
      "INFO:tensorflow:global_step/sec: 189.584\n",
      "INFO:tensorflow:loss = 12575197000.0, step = 4701 (0.528 sec)\n",
      "INFO:tensorflow:global_step/sec: 185.844\n",
      "INFO:tensorflow:loss = 12502773000.0, step = 4801 (0.537 sec)\n",
      "INFO:tensorflow:global_step/sec: 181.776\n",
      "INFO:tensorflow:loss = 9517881000.0, step = 4901 (0.550 sec)\n",
      "INFO:tensorflow:global_step/sec: 188.783\n",
      "INFO:tensorflow:loss = 16420053000.0, step = 5001 (0.530 sec)\n",
      "INFO:tensorflow:global_step/sec: 186.351\n",
      "INFO:tensorflow:loss = 10916458000.0, step = 5101 (0.537 sec)\n",
      "INFO:tensorflow:global_step/sec: 187.876\n",
      "INFO:tensorflow:loss = 11284045000.0, step = 5201 (0.532 sec)\n",
      "INFO:tensorflow:global_step/sec: 184.291\n",
      "INFO:tensorflow:loss = 7725478000.0, step = 5301 (0.543 sec)\n",
      "INFO:tensorflow:global_step/sec: 189.012\n",
      "INFO:tensorflow:loss = 7212232700.0, step = 5401 (0.529 sec)\n",
      "INFO:tensorflow:global_step/sec: 186.02\n",
      "INFO:tensorflow:loss = 7407291000.0, step = 5501 (0.538 sec)\n",
      "INFO:tensorflow:global_step/sec: 188.994\n",
      "INFO:tensorflow:loss = 5523143700.0, step = 5601 (0.529 sec)\n",
      "INFO:tensorflow:global_step/sec: 177.948\n",
      "INFO:tensorflow:loss = 5938275300.0, step = 5701 (0.562 sec)\n",
      "INFO:tensorflow:global_step/sec: 183.697\n",
      "INFO:tensorflow:loss = 9658333000.0, step = 5801 (0.544 sec)\n",
      "INFO:tensorflow:Saving checkpoints for 5860 into /var/folders/x2/rwr8_g2x0_v7z00l90vswnwc0000gn/T/tmpb61p33nn/model.ckpt.\n",
      "INFO:tensorflow:Loss for final step: 2745996800.0.\n"
     ]
    },
    {
     "data": {
      "text/plain": [
       "<tensorflow.python.estimator.canned.dnn.DNNRegressor at 0x132b67828>"
      ]
     },
     "execution_count": 27,
     "metadata": {},
     "output_type": "execute_result"
    }
   ],
   "source": [
    "train_input_fn = numpy_input_fn(\n",
    "    x={'x': x_train}, \n",
    "    y=y_train,     \n",
    "    batch_size=128,\n",
    "    num_epochs=1,\n",
    "    shuffle=True,\n",
    "    queue_capacity=1000,\n",
    "    num_threads=1)\n",
    "#returns input function that would feed dict of numpy arrays into the model.\n",
    "\n",
    "\n",
    "regressor = DNNRegressor(feature_columns=feature_columns, hidden_units=[1024, 512, 256])\n",
    "regressor.train(input_fn=train_input_fn, steps=20000)"
   ]
  },
  {
   "cell_type": "markdown",
   "metadata": {},
   "source": [
    "## Predicting "
   ]
  },
  {
   "cell_type": "code",
   "execution_count": 28,
   "metadata": {},
   "outputs": [
    {
     "name": "stdout",
     "output_type": "stream",
     "text": [
      "INFO:tensorflow:Calling model_fn.\n",
      "INFO:tensorflow:Done calling model_fn.\n",
      "INFO:tensorflow:Graph was finalized.\n",
      "INFO:tensorflow:Restoring parameters from /var/folders/x2/rwr8_g2x0_v7z00l90vswnwc0000gn/T/tmpb61p33nn/model.ckpt-5860\n",
      "INFO:tensorflow:Running local_init_op.\n",
      "INFO:tensorflow:Done running local_init_op.\n"
     ]
    }
   ],
   "source": [
    "x_transformed = scaler.transform(x_test)\n",
    "test_input_fn = numpy_input_fn(x={'x': x_transformed}, y=y_test, num_epochs=1, shuffle=False)\n",
    "predictions = regressor.predict(input_fn=test_input_fn)\n",
    "y_predicted = np.array(list(p['predictions'] for p in predictions))\n",
    "y_predicted = y_predicted.reshape(np.array(y_test).shape)"
   ]
  },
  {
   "cell_type": "markdown",
   "metadata": {},
   "source": [
    "## Evaluation"
   ]
  },
  {
   "cell_type": "code",
   "execution_count": 29,
   "metadata": {},
   "outputs": [
    {
     "name": "stdout",
     "output_type": "stream",
     "text": [
      "RMSE = 6832.544658\n"
     ]
    }
   ],
   "source": [
    "score_sklearn = metrics.mean_squared_error(y_predicted, y_test)\n",
    "print('RMSE = {0:f}'.format(score_sklearn**(0.5)))"
   ]
  },
  {
   "cell_type": "code",
   "execution_count": null,
   "metadata": {},
   "outputs": [],
   "source": []
  }
 ],
 "metadata": {
  "kernelspec": {
   "display_name": "Python 3",
   "language": "python",
   "name": "python3"
  },
  "language_info": {
   "codemirror_mode": {
    "name": "ipython",
    "version": 3
   },
   "file_extension": ".py",
   "mimetype": "text/x-python",
   "name": "python",
   "nbconvert_exporter": "python",
   "pygments_lexer": "ipython3",
   "version": "3.6.5"
  }
 },
 "nbformat": 4,
 "nbformat_minor": 2
}
