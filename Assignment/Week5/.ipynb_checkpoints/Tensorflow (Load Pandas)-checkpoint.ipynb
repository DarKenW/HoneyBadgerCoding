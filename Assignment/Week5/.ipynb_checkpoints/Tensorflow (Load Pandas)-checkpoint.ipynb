{
 "cells": [
  {
   "cell_type": "markdown",
   "metadata": {},
   "source": [
    "# Tensorflow homework 2"
   ]
  },
  {
   "cell_type": "markdown",
   "metadata": {},
   "source": [
    "Create a neural network that is capable of finding the volume of a cylinder given the radius of its base (r) and its height (h). Assume that the radius and height of the cylinder are both in the range 0.5 to 2.0. \n",
    "\n",
    "However, unlike last time assume that your measurements of r, h and V are all rounded off to the nearest 0.1. Simulate the necessary training dataset. This time, you will need a lot more data to get a good predictor.\n",
    "\n",
    "Now modify the \"noise\" so that instead of just rounding off the value, there is up to a 10% error (uniformly distributed) in the measurement followed by rounding off."
   ]
  },
  {
   "cell_type": "code",
   "execution_count": 83,
   "metadata": {},
   "outputs": [],
   "source": [
    "import tensorflow as tf\n",
    "from tensorflow.estimator import DNNRegressor \n",
    "from tensorflow.estimator.inputs import numpy_input_fn \n",
    "from sklearn import preprocessing, model_selection, metrics\n",
    "from tensorflow.python.training import optimizer\n",
    "import pandas as pd\n",
    "import random\n",
    "import numpy as np"
   ]
  },
  {
   "cell_type": "code",
   "execution_count": 84,
   "metadata": {},
   "outputs": [],
   "source": [
    "# generate the data and added some noise to it. + np.random.rand(999)\n",
    "radius =  np.random.uniform(0.5, 2, 750000) \n",
    "height =  np.random.uniform(0.5, 2, 750000) \n",
    "volume = 3.14 * radius**2 * height\n",
    "\n",
    "train = pd.DataFrame({\"radius\": radius, \"height\": height, \"volume\": volume})"
   ]
  },
  {
   "cell_type": "code",
   "execution_count": 85,
   "metadata": {},
   "outputs": [],
   "source": [
    "radius =  np.random.uniform(0.5, 2, 250000) \n",
    "height =  np.random.uniform(0.5, 2, 250000) \n",
    "volume = 3.14 * radius**2 * height\n",
    "\n",
    "test = pd.DataFrame({\"radius\": radius, \"height\": height, \"volume\": volume})"
   ]
  },
  {
   "cell_type": "code",
   "execution_count": 86,
   "metadata": {},
   "outputs": [],
   "source": [
    "feature_columns = [\n",
    "  tf.feature_column.numeric_column(\"radius\"),\n",
    "  tf.feature_column.numeric_column(\"height\")\n",
    "]"
   ]
  },
  {
   "cell_type": "code",
   "execution_count": 87,
   "metadata": {},
   "outputs": [
    {
     "name": "stdout",
     "output_type": "stream",
     "text": [
      "INFO:tensorflow:Using default config.\n",
      "WARNING:tensorflow:Using temporary folder as model directory: /var/folders/x2/rwr8_g2x0_v7z00l90vswnwc0000gn/T/tmptast6w8x\n",
      "INFO:tensorflow:Using config: {'_model_dir': '/var/folders/x2/rwr8_g2x0_v7z00l90vswnwc0000gn/T/tmptast6w8x', '_tf_random_seed': None, '_save_summary_steps': 100, '_save_checkpoints_steps': None, '_save_checkpoints_secs': 600, '_session_config': allow_soft_placement: true\n",
      "graph_options {\n",
      "  rewrite_options {\n",
      "    meta_optimizer_iterations: ONE\n",
      "  }\n",
      "}\n",
      ", '_keep_checkpoint_max': 5, '_keep_checkpoint_every_n_hours': 10000, '_log_step_count_steps': 100, '_train_distribute': None, '_device_fn': None, '_protocol': None, '_eval_distribute': None, '_experimental_distribute': None, '_service': None, '_cluster_spec': <tensorflow.python.training.server_lib.ClusterSpec object at 0x12af4ff98>, '_task_type': 'worker', '_task_id': 0, '_global_id_in_cluster': 0, '_master': '', '_evaluation_master': '', '_is_chief': True, '_num_ps_replicas': 0, '_num_worker_replicas': 1}\n",
      "INFO:tensorflow:Calling model_fn.\n",
      "INFO:tensorflow:Done calling model_fn.\n",
      "INFO:tensorflow:Create CheckpointSaverHook.\n",
      "INFO:tensorflow:Graph was finalized.\n",
      "INFO:tensorflow:Running local_init_op.\n",
      "INFO:tensorflow:Done running local_init_op.\n",
      "INFO:tensorflow:Saving checkpoints for 0 into /var/folders/x2/rwr8_g2x0_v7z00l90vswnwc0000gn/T/tmptast6w8x/model.ckpt.\n",
      "INFO:tensorflow:loss = 73542.94, step = 1\n",
      "INFO:tensorflow:global_step/sec: 165.784\n",
      "INFO:tensorflow:loss = 953.4714, step = 101 (0.604 sec)\n",
      "INFO:tensorflow:global_step/sec: 184.733\n",
      "INFO:tensorflow:loss = 328.76318, step = 201 (0.541 sec)\n",
      "INFO:tensorflow:global_step/sec: 189.042\n",
      "INFO:tensorflow:loss = 183.55896, step = 301 (0.529 sec)\n",
      "INFO:tensorflow:global_step/sec: 187.205\n",
      "INFO:tensorflow:loss = 79.84591, step = 401 (0.534 sec)\n",
      "INFO:tensorflow:global_step/sec: 191.262\n",
      "INFO:tensorflow:loss = 138.94568, step = 501 (0.523 sec)\n",
      "INFO:tensorflow:global_step/sec: 188.801\n",
      "INFO:tensorflow:loss = 28.52895, step = 601 (0.530 sec)\n",
      "INFO:tensorflow:global_step/sec: 167.861\n",
      "INFO:tensorflow:loss = 28.428019, step = 701 (0.596 sec)\n",
      "INFO:tensorflow:global_step/sec: 185.742\n",
      "INFO:tensorflow:loss = 68.6631, step = 801 (0.538 sec)\n",
      "INFO:tensorflow:global_step/sec: 186.969\n",
      "INFO:tensorflow:loss = 29.585592, step = 901 (0.535 sec)\n",
      "INFO:tensorflow:global_step/sec: 189.352\n",
      "INFO:tensorflow:loss = 12.76898, step = 1001 (0.528 sec)\n",
      "INFO:tensorflow:global_step/sec: 187.984\n",
      "INFO:tensorflow:loss = 82.49191, step = 1101 (0.532 sec)\n",
      "INFO:tensorflow:global_step/sec: 190.204\n",
      "INFO:tensorflow:loss = 9.929805, step = 1201 (0.526 sec)\n",
      "INFO:tensorflow:global_step/sec: 185.237\n",
      "INFO:tensorflow:loss = 12.284744, step = 1301 (0.540 sec)\n",
      "INFO:tensorflow:global_step/sec: 187.849\n",
      "INFO:tensorflow:loss = 18.090609, step = 1401 (0.532 sec)\n",
      "INFO:tensorflow:global_step/sec: 183.833\n",
      "INFO:tensorflow:loss = 5.804894, step = 1501 (0.544 sec)\n",
      "INFO:tensorflow:global_step/sec: 188.763\n",
      "INFO:tensorflow:loss = 4.6712503, step = 1601 (0.530 sec)\n",
      "INFO:tensorflow:global_step/sec: 190.267\n",
      "INFO:tensorflow:loss = 21.15946, step = 1701 (0.526 sec)\n",
      "INFO:tensorflow:global_step/sec: 185.696\n",
      "INFO:tensorflow:loss = 4.538102, step = 1801 (0.539 sec)\n",
      "INFO:tensorflow:global_step/sec: 190.166\n",
      "INFO:tensorflow:loss = 3.8041558, step = 1901 (0.526 sec)\n",
      "INFO:tensorflow:global_step/sec: 189.065\n",
      "INFO:tensorflow:loss = 25.457485, step = 2001 (0.529 sec)\n",
      "INFO:tensorflow:global_step/sec: 190.015\n",
      "INFO:tensorflow:loss = 4.1485515, step = 2101 (0.526 sec)\n",
      "INFO:tensorflow:global_step/sec: 189.664\n",
      "INFO:tensorflow:loss = 3.7890115, step = 2201 (0.527 sec)\n",
      "INFO:tensorflow:global_step/sec: 188.934\n",
      "INFO:tensorflow:loss = 8.428408, step = 2301 (0.529 sec)\n",
      "INFO:tensorflow:global_step/sec: 190.045\n",
      "INFO:tensorflow:loss = 3.4338684, step = 2401 (0.526 sec)\n",
      "INFO:tensorflow:global_step/sec: 190.513\n",
      "INFO:tensorflow:loss = 3.1619434, step = 2501 (0.525 sec)\n",
      "INFO:tensorflow:global_step/sec: 179.661\n",
      "INFO:tensorflow:loss = 18.045717, step = 2601 (0.557 sec)\n",
      "INFO:tensorflow:global_step/sec: 189.126\n",
      "INFO:tensorflow:loss = 13.497161, step = 2701 (0.529 sec)\n",
      "INFO:tensorflow:global_step/sec: 187.973\n",
      "INFO:tensorflow:loss = 24.91485, step = 2801 (0.532 sec)\n",
      "INFO:tensorflow:global_step/sec: 190.416\n",
      "INFO:tensorflow:loss = 9.033068, step = 2901 (0.525 sec)\n",
      "INFO:tensorflow:global_step/sec: 186.375\n",
      "INFO:tensorflow:loss = 2.4978638, step = 3001 (0.537 sec)\n",
      "INFO:tensorflow:global_step/sec: 190.84\n",
      "INFO:tensorflow:loss = 2.7856734, step = 3101 (0.524 sec)\n",
      "INFO:tensorflow:global_step/sec: 189.751\n",
      "INFO:tensorflow:loss = 2.518764, step = 3201 (0.527 sec)\n",
      "INFO:tensorflow:global_step/sec: 190.607\n",
      "INFO:tensorflow:loss = 3.8656864, step = 3301 (0.525 sec)\n",
      "INFO:tensorflow:global_step/sec: 190.357\n",
      "INFO:tensorflow:loss = 8.0700245, step = 3401 (0.525 sec)\n",
      "INFO:tensorflow:global_step/sec: 189.072\n",
      "INFO:tensorflow:loss = 2.286602, step = 3501 (0.529 sec)\n",
      "INFO:tensorflow:global_step/sec: 188.802\n",
      "INFO:tensorflow:loss = 2.4299207, step = 3601 (0.530 sec)\n",
      "INFO:tensorflow:global_step/sec: 184.543\n",
      "INFO:tensorflow:loss = 4.1732855, step = 3701 (0.542 sec)\n",
      "INFO:tensorflow:global_step/sec: 181.554\n",
      "INFO:tensorflow:loss = 7.1584053, step = 3801 (0.551 sec)\n",
      "INFO:tensorflow:global_step/sec: 187.549\n",
      "INFO:tensorflow:loss = 5.1375613, step = 3901 (0.533 sec)\n",
      "INFO:tensorflow:global_step/sec: 188.913\n",
      "INFO:tensorflow:loss = 2.1896658, step = 4001 (0.529 sec)\n",
      "INFO:tensorflow:global_step/sec: 178.498\n",
      "INFO:tensorflow:loss = 5.578664, step = 4101 (0.560 sec)\n",
      "INFO:tensorflow:global_step/sec: 169.747\n",
      "INFO:tensorflow:loss = 2.1346135, step = 4201 (0.589 sec)\n",
      "INFO:tensorflow:global_step/sec: 178.853\n",
      "INFO:tensorflow:loss = 8.11647, step = 4301 (0.560 sec)\n",
      "INFO:tensorflow:global_step/sec: 181.327\n",
      "INFO:tensorflow:loss = 3.3059049, step = 4401 (0.551 sec)\n",
      "INFO:tensorflow:global_step/sec: 174.815\n",
      "INFO:tensorflow:loss = 2.7582567, step = 4501 (0.573 sec)\n",
      "INFO:tensorflow:global_step/sec: 181.405\n",
      "INFO:tensorflow:loss = 9.765219, step = 4601 (0.551 sec)\n",
      "INFO:tensorflow:global_step/sec: 184.405\n",
      "INFO:tensorflow:loss = 3.2312155, step = 4701 (0.542 sec)\n",
      "INFO:tensorflow:global_step/sec: 179.919\n",
      "INFO:tensorflow:loss = 2.660612, step = 4801 (0.556 sec)\n",
      "INFO:tensorflow:global_step/sec: 184.434\n",
      "INFO:tensorflow:loss = 1.4555166, step = 4901 (0.542 sec)\n",
      "INFO:tensorflow:Saving checkpoints for 5000 into /var/folders/x2/rwr8_g2x0_v7z00l90vswnwc0000gn/T/tmptast6w8x/model.ckpt.\n",
      "INFO:tensorflow:Loss for final step: 1.76765.\n"
     ]
    },
    {
     "data": {
      "text/plain": [
       "<tensorflow.python.estimator.canned.dnn.DNNRegressor at 0x12a074ef0>"
      ]
     },
     "execution_count": 87,
     "metadata": {},
     "output_type": "execute_result"
    }
   ],
   "source": [
    "train_input_fn = tf.estimator.inputs.pandas_input_fn(\n",
    "    x=train, \n",
    "    y=train['volume'],     \n",
    "    batch_size=1000,\n",
    "    num_epochs=None,\n",
    "    shuffle=True)\n",
    "#returns input function that would feed dict of numpy arrays into the model.\n",
    "\n",
    "\n",
    "DNN_Reg = DNNRegressor(feature_columns=feature_columns, \n",
    "                         hidden_units=[64, 32, 32, 16],\n",
    "                        optimizer=tf.train.AdagradOptimizer(learning_rate=0.05)   #添加 optimizer\n",
    ")\n",
    "                         \n",
    "DNN_Reg.train(input_fn=train_input_fn, max_steps=5000) "
   ]
  },
  {
   "cell_type": "code",
   "execution_count": 88,
   "metadata": {},
   "outputs": [
    {
     "name": "stdout",
     "output_type": "stream",
     "text": [
      "INFO:tensorflow:Calling model_fn.\n",
      "INFO:tensorflow:Done calling model_fn.\n",
      "INFO:tensorflow:Graph was finalized.\n",
      "INFO:tensorflow:Restoring parameters from /var/folders/x2/rwr8_g2x0_v7z00l90vswnwc0000gn/T/tmptast6w8x/model.ckpt-5000\n",
      "INFO:tensorflow:Running local_init_op.\n",
      "INFO:tensorflow:Done running local_init_op.\n",
      "[15.9859785]\n",
      "15.954689\n"
     ]
    }
   ],
   "source": [
    "#take a look\n",
    "radius =  np.random.uniform(0.5, 2, 1) \n",
    "height =  np.random.uniform(0.5, 2, 1) \n",
    "volume = 3.14 * radius**2 * height\n",
    "\n",
    "test_take_a_look = pd.DataFrame({\"radius\": radius, \"height\": height, \"volume\": volume})\n",
    "\n",
    "test_input_fn = tf.estimator.inputs.pandas_input_fn(x=test_take_a_look, \n",
    "                                  y=test_take_a_look['volume'],\n",
    "                                  shuffle=False)\n",
    "\n",
    "predictions = DNN_Reg.predict(input_fn=test_input_fn)   \n",
    "# y_predicted = [p['predictions'] for p in predictions][0][0]   #preditions is a generator, need to iterate it (next())\n",
    "y_predicted = next(predictions)['predictions'][0]\n",
    "print(3.14*radius**2*height)\n",
    "print(y_predicted)"
   ]
  },
  {
   "cell_type": "code",
   "execution_count": 89,
   "metadata": {},
   "outputs": [
    {
     "name": "stdout",
     "output_type": "stream",
     "text": [
      "INFO:tensorflow:Calling model_fn.\n",
      "INFO:tensorflow:Done calling model_fn.\n",
      "INFO:tensorflow:Graph was finalized.\n",
      "INFO:tensorflow:Restoring parameters from /var/folders/x2/rwr8_g2x0_v7z00l90vswnwc0000gn/T/tmptast6w8x/model.ckpt-5000\n",
      "INFO:tensorflow:Running local_init_op.\n",
      "INFO:tensorflow:Done running local_init_op.\n"
     ]
    }
   ],
   "source": [
    "test_input_fn = tf.estimator.inputs.pandas_input_fn(x=test, \n",
    "                                  y=test['volume'],\n",
    "                                  shuffle=False)\n",
    "predictions = DNN_Reg.predict(input_fn=test_input_fn)\n",
    "y_predicted = np.array(list(p['predictions'] for p in predictions))\n",
    "y_predicted = y_predicted.reshape(np.array(test['volume']).shape)"
   ]
  },
  {
   "cell_type": "code",
   "execution_count": 90,
   "metadata": {},
   "outputs": [
    {
     "name": "stdout",
     "output_type": "stream",
     "text": [
      "INFO:tensorflow:Calling model_fn.\n",
      "INFO:tensorflow:Done calling model_fn.\n",
      "INFO:tensorflow:Starting evaluation at 2018-10-29-15:52:12\n",
      "INFO:tensorflow:Graph was finalized.\n",
      "INFO:tensorflow:Restoring parameters from /var/folders/x2/rwr8_g2x0_v7z00l90vswnwc0000gn/T/tmptast6w8x/model.ckpt-5000\n",
      "INFO:tensorflow:Running local_init_op.\n",
      "INFO:tensorflow:Done running local_init_op.\n",
      "INFO:tensorflow:Finished evaluation at 2018-10-29-15:52:14\n",
      "INFO:tensorflow:Saving dict for global step 5000: average_loss = 0.0017336082, global_step = 5000, label/mean = 6.86372, loss = 0.22180247, prediction/mean = 6.8565264\n",
      "INFO:tensorflow:Saving 'checkpoint_path' summary for global step 5000: /var/folders/x2/rwr8_g2x0_v7z00l90vswnwc0000gn/T/tmptast6w8x/model.ckpt-5000\n"
     ]
    },
    {
     "data": {
      "text/plain": [
       "{'average_loss': 0.0017336082,\n",
       " 'global_step': 5000,\n",
       " 'label/mean': 6.86372,\n",
       " 'loss': 0.22180247,\n",
       " 'prediction/mean': 6.8565264}"
      ]
     },
     "execution_count": 90,
     "metadata": {},
     "output_type": "execute_result"
    }
   ],
   "source": [
    "DNN_Reg.evaluate(input_fn = test_input_fn)    #evaluation gives evaluation factors"
   ]
  },
  {
   "cell_type": "code",
   "execution_count": 91,
   "metadata": {},
   "outputs": [
    {
     "name": "stdout",
     "output_type": "stream",
     "text": [
      "RMSE = 0.041637\n"
     ]
    }
   ],
   "source": [
    "score_sklearn = metrics.mean_squared_error(y_predicted, test['volume'])\n",
    "print('RMSE = {0:f}'.format(score_sklearn**(0.5)))"
   ]
  }
 ],
 "metadata": {
  "kernelspec": {
   "display_name": "Python 3",
   "language": "python",
   "name": "python3"
  },
  "language_info": {
   "codemirror_mode": {
    "name": "ipython",
    "version": 3
   },
   "file_extension": ".py",
   "mimetype": "text/x-python",
   "name": "python",
   "nbconvert_exporter": "python",
   "pygments_lexer": "ipython3",
   "version": "3.6.5"
  }
 },
 "nbformat": 4,
 "nbformat_minor": 2
}
