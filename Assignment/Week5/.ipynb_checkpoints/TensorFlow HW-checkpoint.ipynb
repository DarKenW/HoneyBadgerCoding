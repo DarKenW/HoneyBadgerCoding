{
 "cells": [
  {
   "cell_type": "markdown",
   "metadata": {},
   "source": [
    "# Tensorflow HW"
   ]
  },
  {
   "cell_type": "markdown",
   "metadata": {},
   "source": [
    "Using the DNN regressor in TF, construct a Neural Network capable of finding the volume of a cylinder given a radius (r) and (h). Simulate the data, which will be comprised of r,h, and V. Generate more data if the results are poor as measure by RMSE."
   ]
  },
  {
   "cell_type": "code",
   "execution_count": 77,
   "metadata": {},
   "outputs": [],
   "source": [
    "import tensorflow as tf\n",
    "from tensorflow.estimator import DNNRegressor \n",
    "from tensorflow.estimator.inputs import numpy_input_fn \n",
    "from sklearn import preprocessing, model_selection, metrics\n",
    "from tensorflow.python.training import optimizer\n",
    "import pandas as pd\n",
    "import random\n",
    "import numpy as np"
   ]
  },
  {
   "cell_type": "markdown",
   "metadata": {},
   "source": [
    "## Data preparation"
   ]
  },
  {
   "cell_type": "code",
   "execution_count": 78,
   "metadata": {},
   "outputs": [],
   "source": [
    "# generate the data and added some noise to it. + np.random.rand(999)\n",
    "radius =  np.random.uniform(1, 100, 1000000) \n",
    "height = np.random.uniform(1, 100, 1000000) \n",
    "volume = np.pi * radius**2 * height"
   ]
  },
  {
   "cell_type": "code",
   "execution_count": 79,
   "metadata": {},
   "outputs": [],
   "source": [
    "X = pd.DataFrame({\"radius\": radius, \"height\": height})\n",
    "y = volume"
   ]
  },
  {
   "cell_type": "code",
   "execution_count": 80,
   "metadata": {},
   "outputs": [],
   "source": [
    "x_train, x_test, y_train, y_test = model_selection.train_test_split(X, y, test_size=0.25, random_state=42)"
   ]
  },
  {
   "cell_type": "code",
   "execution_count": 81,
   "metadata": {},
   "outputs": [],
   "source": [
    "scaler = preprocessing.StandardScaler()\n",
    "x_train = scaler.fit_transform(x_train)"
   ]
  },
  {
   "cell_type": "code",
   "execution_count": 82,
   "metadata": {},
   "outputs": [],
   "source": [
    "#machine learning models take numbers as input and outputs numbers for efficient implementation. \n",
    "#In Tensorflow, the models take Dense Tensors as input and outputs Dense Tensors\\\n",
    "#we only get numeric column here\n",
    "feature_columns = [tf.feature_column.numeric_column('x', shape=np.array(x_train).shape[1:])]"
   ]
  },
  {
   "cell_type": "markdown",
   "metadata": {},
   "source": [
    "## Training model"
   ]
  },
  {
   "cell_type": "code",
   "execution_count": 83,
   "metadata": {},
   "outputs": [
    {
     "name": "stdout",
     "output_type": "stream",
     "text": [
      "INFO:tensorflow:Using default config.\n",
      "WARNING:tensorflow:Using temporary folder as model directory: /var/folders/x2/rwr8_g2x0_v7z00l90vswnwc0000gn/T/tmpbcibyij8\n",
      "INFO:tensorflow:Using config: {'_model_dir': '/var/folders/x2/rwr8_g2x0_v7z00l90vswnwc0000gn/T/tmpbcibyij8', '_tf_random_seed': None, '_save_summary_steps': 100, '_save_checkpoints_steps': None, '_save_checkpoints_secs': 600, '_session_config': allow_soft_placement: true\n",
      "graph_options {\n",
      "  rewrite_options {\n",
      "    meta_optimizer_iterations: ONE\n",
      "  }\n",
      "}\n",
      ", '_keep_checkpoint_max': 5, '_keep_checkpoint_every_n_hours': 10000, '_log_step_count_steps': 100, '_train_distribute': None, '_device_fn': None, '_protocol': None, '_eval_distribute': None, '_experimental_distribute': None, '_service': None, '_cluster_spec': <tensorflow.python.training.server_lib.ClusterSpec object at 0x132a1d780>, '_task_type': 'worker', '_task_id': 0, '_global_id_in_cluster': 0, '_master': '', '_evaluation_master': '', '_is_chief': True, '_num_ps_replicas': 0, '_num_worker_replicas': 1}\n",
      "INFO:tensorflow:Calling model_fn.\n",
      "INFO:tensorflow:Done calling model_fn.\n",
      "INFO:tensorflow:Create CheckpointSaverHook.\n",
      "INFO:tensorflow:Graph was finalized.\n",
      "INFO:tensorflow:Running local_init_op.\n",
      "INFO:tensorflow:Done running local_init_op.\n",
      "INFO:tensorflow:Saving checkpoints for 0 into /var/folders/x2/rwr8_g2x0_v7z00l90vswnwc0000gn/T/tmpbcibyij8/model.ckpt.\n",
      "INFO:tensorflow:loss = 100642324000000.0, step = 1\n",
      "INFO:tensorflow:global_step/sec: 164.765\n",
      "INFO:tensorflow:loss = 1468389400000.0, step = 101 (0.608 sec)\n",
      "INFO:tensorflow:global_step/sec: 178.55\n",
      "INFO:tensorflow:loss = 768575540000.0, step = 201 (0.560 sec)\n",
      "INFO:tensorflow:global_step/sec: 184.523\n",
      "INFO:tensorflow:loss = 783600600000.0, step = 301 (0.542 sec)\n",
      "INFO:tensorflow:global_step/sec: 184.053\n",
      "INFO:tensorflow:loss = 522355640000.0, step = 401 (0.543 sec)\n",
      "INFO:tensorflow:global_step/sec: 184.469\n",
      "INFO:tensorflow:loss = 571083300000.0, step = 501 (0.542 sec)\n",
      "INFO:tensorflow:global_step/sec: 170.901\n",
      "INFO:tensorflow:loss = 265541520000.0, step = 601 (0.585 sec)\n",
      "INFO:tensorflow:global_step/sec: 184.975\n",
      "INFO:tensorflow:loss = 240798200000.0, step = 701 (0.541 sec)\n",
      "INFO:tensorflow:global_step/sec: 178.932\n",
      "INFO:tensorflow:loss = 240191210000.0, step = 801 (0.559 sec)\n",
      "INFO:tensorflow:global_step/sec: 182.95\n",
      "INFO:tensorflow:loss = 200218440000.0, step = 901 (0.547 sec)\n",
      "INFO:tensorflow:global_step/sec: 178.589\n",
      "INFO:tensorflow:loss = 148547400000.0, step = 1001 (0.560 sec)\n",
      "INFO:tensorflow:global_step/sec: 186.572\n",
      "INFO:tensorflow:loss = 69117000000.0, step = 1101 (0.536 sec)\n",
      "INFO:tensorflow:global_step/sec: 188.977\n",
      "INFO:tensorflow:loss = 89991480000.0, step = 1201 (0.529 sec)\n",
      "INFO:tensorflow:global_step/sec: 187.05\n",
      "INFO:tensorflow:loss = 79071860000.0, step = 1301 (0.535 sec)\n",
      "INFO:tensorflow:global_step/sec: 189.216\n",
      "INFO:tensorflow:loss = 73637050000.0, step = 1401 (0.529 sec)\n",
      "INFO:tensorflow:global_step/sec: 187.382\n",
      "INFO:tensorflow:loss = 85970220000.0, step = 1501 (0.534 sec)\n",
      "INFO:tensorflow:global_step/sec: 187.217\n",
      "INFO:tensorflow:loss = 108677620000.0, step = 1601 (0.535 sec)\n",
      "INFO:tensorflow:global_step/sec: 178.896\n",
      "INFO:tensorflow:loss = 80367290000.0, step = 1701 (0.559 sec)\n",
      "INFO:tensorflow:global_step/sec: 179.353\n",
      "INFO:tensorflow:loss = 111689210000.0, step = 1801 (0.557 sec)\n",
      "INFO:tensorflow:global_step/sec: 186.672\n",
      "INFO:tensorflow:loss = 79638315000.0, step = 1901 (0.536 sec)\n",
      "INFO:tensorflow:global_step/sec: 185.808\n",
      "INFO:tensorflow:loss = 46550690000.0, step = 2001 (0.538 sec)\n",
      "INFO:tensorflow:global_step/sec: 173.743\n",
      "INFO:tensorflow:loss = 78051340000.0, step = 2101 (0.576 sec)\n",
      "INFO:tensorflow:global_step/sec: 187.275\n",
      "INFO:tensorflow:loss = 60842360000.0, step = 2201 (0.534 sec)\n",
      "INFO:tensorflow:global_step/sec: 188.571\n",
      "INFO:tensorflow:loss = 69940330000.0, step = 2301 (0.530 sec)\n",
      "INFO:tensorflow:global_step/sec: 187.52\n",
      "INFO:tensorflow:loss = 51023905000.0, step = 2401 (0.533 sec)\n",
      "INFO:tensorflow:global_step/sec: 188.724\n",
      "INFO:tensorflow:loss = 29759867000.0, step = 2501 (0.530 sec)\n",
      "INFO:tensorflow:global_step/sec: 184.974\n",
      "INFO:tensorflow:loss = 39846085000.0, step = 2601 (0.541 sec)\n",
      "INFO:tensorflow:global_step/sec: 188.773\n",
      "INFO:tensorflow:loss = 48171725000.0, step = 2701 (0.530 sec)\n",
      "INFO:tensorflow:global_step/sec: 176.591\n",
      "INFO:tensorflow:loss = 63065645000.0, step = 2801 (0.566 sec)\n",
      "INFO:tensorflow:global_step/sec: 180.151\n",
      "INFO:tensorflow:loss = 48123757000.0, step = 2901 (0.555 sec)\n",
      "INFO:tensorflow:global_step/sec: 187.737\n",
      "INFO:tensorflow:loss = 31171990000.0, step = 3001 (0.533 sec)\n",
      "INFO:tensorflow:global_step/sec: 187.14\n",
      "INFO:tensorflow:loss = 28387789000.0, step = 3101 (0.534 sec)\n",
      "INFO:tensorflow:global_step/sec: 177.887\n",
      "INFO:tensorflow:loss = 25073877000.0, step = 3201 (0.562 sec)\n",
      "INFO:tensorflow:global_step/sec: 188.753\n",
      "INFO:tensorflow:loss = 25278558000.0, step = 3301 (0.530 sec)\n",
      "INFO:tensorflow:global_step/sec: 184.069\n",
      "INFO:tensorflow:loss = 29436699000.0, step = 3401 (0.543 sec)\n",
      "INFO:tensorflow:global_step/sec: 188.81\n",
      "INFO:tensorflow:loss = 16601821000.0, step = 3501 (0.530 sec)\n",
      "INFO:tensorflow:global_step/sec: 189.095\n",
      "INFO:tensorflow:loss = 24727929000.0, step = 3601 (0.528 sec)\n",
      "INFO:tensorflow:global_step/sec: 187.966\n",
      "INFO:tensorflow:loss = 30984569000.0, step = 3701 (0.532 sec)\n",
      "INFO:tensorflow:global_step/sec: 182.929\n",
      "INFO:tensorflow:loss = 18865584000.0, step = 3801 (0.547 sec)\n",
      "INFO:tensorflow:global_step/sec: 178.744\n",
      "INFO:tensorflow:loss = 15938564000.0, step = 3901 (0.559 sec)\n",
      "INFO:tensorflow:global_step/sec: 174.336\n",
      "INFO:tensorflow:loss = 11356427000.0, step = 4001 (0.574 sec)\n",
      "INFO:tensorflow:global_step/sec: 187.755\n",
      "INFO:tensorflow:loss = 29933560000.0, step = 4101 (0.533 sec)\n",
      "INFO:tensorflow:global_step/sec: 177.127\n",
      "INFO:tensorflow:loss = 10834678000.0, step = 4201 (0.565 sec)\n",
      "INFO:tensorflow:global_step/sec: 165.342\n",
      "INFO:tensorflow:loss = 14265315000.0, step = 4301 (0.605 sec)\n",
      "INFO:tensorflow:global_step/sec: 181.402\n",
      "INFO:tensorflow:loss = 12306446000.0, step = 4401 (0.551 sec)\n",
      "INFO:tensorflow:global_step/sec: 184.247\n",
      "INFO:tensorflow:loss = 21094027000.0, step = 4501 (0.543 sec)\n",
      "INFO:tensorflow:global_step/sec: 180.467\n",
      "INFO:tensorflow:loss = 12861957000.0, step = 4601 (0.554 sec)\n",
      "INFO:tensorflow:global_step/sec: 179.864\n",
      "INFO:tensorflow:loss = 20283562000.0, step = 4701 (0.556 sec)\n",
      "INFO:tensorflow:global_step/sec: 174.116\n",
      "INFO:tensorflow:loss = 8638246000.0, step = 4801 (0.574 sec)\n",
      "INFO:tensorflow:global_step/sec: 178.918\n",
      "INFO:tensorflow:loss = 12742728000.0, step = 4901 (0.559 sec)\n",
      "INFO:tensorflow:global_step/sec: 168.555\n",
      "INFO:tensorflow:loss = 10365832000.0, step = 5001 (0.593 sec)\n",
      "INFO:tensorflow:global_step/sec: 180.553\n",
      "INFO:tensorflow:loss = 6684815400.0, step = 5101 (0.554 sec)\n",
      "INFO:tensorflow:global_step/sec: 178.131\n",
      "INFO:tensorflow:loss = 8042536400.0, step = 5201 (0.561 sec)\n",
      "INFO:tensorflow:global_step/sec: 175.157\n",
      "INFO:tensorflow:loss = 5689166000.0, step = 5301 (0.571 sec)\n",
      "INFO:tensorflow:global_step/sec: 186.167\n",
      "INFO:tensorflow:loss = 4979582000.0, step = 5401 (0.537 sec)\n",
      "INFO:tensorflow:global_step/sec: 187.228\n",
      "INFO:tensorflow:loss = 11490039000.0, step = 5501 (0.534 sec)\n",
      "INFO:tensorflow:global_step/sec: 189.176\n",
      "INFO:tensorflow:loss = 5442461700.0, step = 5601 (0.529 sec)\n",
      "INFO:tensorflow:global_step/sec: 188.494\n",
      "INFO:tensorflow:loss = 3839284700.0, step = 5701 (0.530 sec)\n",
      "INFO:tensorflow:global_step/sec: 187.303\n",
      "INFO:tensorflow:loss = 6412090000.0, step = 5801 (0.534 sec)\n",
      "INFO:tensorflow:Saving checkpoints for 5860 into /var/folders/x2/rwr8_g2x0_v7z00l90vswnwc0000gn/T/tmpbcibyij8/model.ckpt.\n",
      "INFO:tensorflow:Loss for final step: 2681448700.0.\n"
     ]
    },
    {
     "data": {
      "text/plain": [
       "<tensorflow.python.estimator.canned.dnn.DNNRegressor at 0x132a1dc18>"
      ]
     },
     "execution_count": 83,
     "metadata": {},
     "output_type": "execute_result"
    }
   ],
   "source": [
    "train_input_fn = numpy_input_fn(\n",
    "    x={'x': x_train}, \n",
    "    y=y_train,     \n",
    "    batch_size=128,\n",
    "    num_epochs=1,\n",
    "    shuffle=True,\n",
    "    queue_capacity=1000,\n",
    "    num_threads=1)\n",
    "#returns input function that would feed dict of numpy arrays into the model.\n",
    "\n",
    "\n",
    "regressor = DNNRegressor(feature_columns=feature_columns, hidden_units=[1024, 512, 256])\n",
    "                         \n",
    "regressor.train(input_fn=train_input_fn, steps=20000)"
   ]
  },
  {
   "cell_type": "markdown",
   "metadata": {},
   "source": [
    "## Predicting "
   ]
  },
  {
   "cell_type": "code",
   "execution_count": 84,
   "metadata": {},
   "outputs": [
    {
     "name": "stdout",
     "output_type": "stream",
     "text": [
      "INFO:tensorflow:Calling model_fn.\n",
      "INFO:tensorflow:Done calling model_fn.\n",
      "INFO:tensorflow:Graph was finalized.\n",
      "INFO:tensorflow:Restoring parameters from /var/folders/x2/rwr8_g2x0_v7z00l90vswnwc0000gn/T/tmpbcibyij8/model.ckpt-5860\n",
      "INFO:tensorflow:Running local_init_op.\n",
      "INFO:tensorflow:Done running local_init_op.\n"
     ]
    }
   ],
   "source": [
    "x_transformed = scaler.transform(x_test)\n",
    "test_input_fn = numpy_input_fn(x={'x': x_transformed}, y=y_test, num_epochs=1, shuffle=False)\n",
    "predictions = regressor.predict(input_fn=test_input_fn)\n",
    "y_predicted = np.array(list(p['predictions'] for p in predictions))\n",
    "y_predicted = y_predicted.reshape(np.array(y_test).shape)"
   ]
  },
  {
   "cell_type": "markdown",
   "metadata": {},
   "source": [
    "## Evaluation"
   ]
  },
  {
   "cell_type": "code",
   "execution_count": 85,
   "metadata": {},
   "outputs": [
    {
     "name": "stdout",
     "output_type": "stream",
     "text": [
      "INFO:tensorflow:Calling model_fn.\n",
      "INFO:tensorflow:Done calling model_fn.\n",
      "INFO:tensorflow:Starting evaluation at 2018-10-26-17:11:23\n",
      "INFO:tensorflow:Graph was finalized.\n",
      "INFO:tensorflow:Restoring parameters from /var/folders/x2/rwr8_g2x0_v7z00l90vswnwc0000gn/T/tmpbcibyij8/model.ckpt-5860\n",
      "INFO:tensorflow:Running local_init_op.\n",
      "INFO:tensorflow:Done running local_init_op.\n",
      "INFO:tensorflow:Finished evaluation at 2018-10-26-17:11:27\n",
      "INFO:tensorflow:Saving dict for global step 5860: average_loss = 47202290.0, global_step = 5860, label/mean = 533685.6, loss = 6039187000.0, prediction/mean = 534146.7\n",
      "INFO:tensorflow:Saving 'checkpoint_path' summary for global step 5860: /var/folders/x2/rwr8_g2x0_v7z00l90vswnwc0000gn/T/tmpbcibyij8/model.ckpt-5860\n"
     ]
    },
    {
     "data": {
      "text/plain": [
       "{'average_loss': 47202290.0,\n",
       " 'global_step': 5860,\n",
       " 'label/mean': 533685.6,\n",
       " 'loss': 6039187000.0,\n",
       " 'prediction/mean': 534146.7}"
      ]
     },
     "execution_count": 85,
     "metadata": {},
     "output_type": "execute_result"
    }
   ],
   "source": [
    "regressor.evaluate(input_fn = test_input_fn)"
   ]
  },
  {
   "cell_type": "code",
   "execution_count": 86,
   "metadata": {},
   "outputs": [
    {
     "name": "stdout",
     "output_type": "stream",
     "text": [
      "RMSE = 6870.390697\n"
     ]
    }
   ],
   "source": [
    "score_sklearn = metrics.mean_squared_error(y_predicted, y_test)\n",
    "print('RMSE = {0:f}'.format(score_sklearn**(0.5)))"
   ]
  },
  {
   "cell_type": "code",
   "execution_count": 67,
   "metadata": {},
   "outputs": [],
   "source": [
    "def compute_area(sides):\n",
    "  # slice the input to get the sides\n",
    "  a = sides[:,0]  # 5.0, 2.3\n",
    "  b = sides[:,1]  # 3.0, 4.1\n",
    "  c = sides[:,2]  # 7.1, 4.8\n",
    "  \n",
    "  # Heron's formula\n",
    "  s = (a + b + c) * 0.5   # (a + b) is a short-cut to tf.add(a, b)\n",
    "  areasq = s * (s - a) * (s - b) * (s - c) # (a * b) is a short-cut to tf.multiply(a, b), not tf.matmul(a, b)\n",
    "  return tf.sqrt(areasq)"
   ]
  },
  {
   "cell_type": "code",
   "execution_count": 68,
   "metadata": {},
   "outputs": [
    {
     "name": "stdout",
     "output_type": "stream",
     "text": [
      "[6.278497 4.709139]\n"
     ]
    }
   ],
   "source": [
    "with tf.Session() as sess:\n",
    "  sides = tf.placeholder(tf.float32, shape=(None, 3))  # batchsize number of triangles, 3 sides\n",
    "  area = compute_area(sides)\n",
    "  result = sess.run(area, feed_dict = {\n",
    "      sides: [\n",
    "        [5.0, 3.0, 7.1],\n",
    "        [2.3, 4.1, 4.8]\n",
    "      ]\n",
    "    })\n",
    "  print(result)"
   ]
  },
  {
   "cell_type": "code",
   "execution_count": null,
   "metadata": {},
   "outputs": [],
   "source": []
  }
 ],
 "metadata": {
  "kernelspec": {
   "display_name": "Python 3",
   "language": "python",
   "name": "python3"
  },
  "language_info": {
   "codemirror_mode": {
    "name": "ipython",
    "version": 3
   },
   "file_extension": ".py",
   "mimetype": "text/x-python",
   "name": "python",
   "nbconvert_exporter": "python",
   "pygments_lexer": "ipython3",
   "version": "3.6.5"
  }
 },
 "nbformat": 4,
 "nbformat_minor": 2
}
