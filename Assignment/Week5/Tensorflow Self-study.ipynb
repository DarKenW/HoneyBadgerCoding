{
 "cells": [
  {
   "cell_type": "code",
   "execution_count": 7,
   "metadata": {},
   "outputs": [
    {
     "name": "stdout",
     "output_type": "stream",
     "text": [
      "1.11.0\n"
     ]
    }
   ],
   "source": [
    "import tensorflow as tf\n",
    "import numpy as np\n",
    "\n",
    "print(tf.__version__)"
   ]
  },
  {
   "cell_type": "code",
   "execution_count": 8,
   "metadata": {},
   "outputs": [],
   "source": [
    "sess = tf.Session()  #creat a instance of a session object from tf.Session class."
   ]
  },
  {
   "cell_type": "markdown",
   "metadata": {},
   "source": [
    "## 生成matrix"
   ]
  },
  {
   "cell_type": "code",
   "execution_count": 9,
   "metadata": {},
   "outputs": [
    {
     "data": {
      "text/plain": [
       "array([[1, 1, 1],\n",
       "       [1, 1, 1]], dtype=int32)"
      ]
     },
     "execution_count": 9,
     "metadata": {},
     "output_type": "execute_result"
    }
   ],
   "source": [
    "x = tf.ones([2, 3], tf.int32)  #注意 tf.int32\n",
    "sess.run(x)    #无论什么tf method, 都得用 sess 来 run"
   ]
  },
  {
   "cell_type": "code",
   "execution_count": 10,
   "metadata": {},
   "outputs": [
    {
     "data": {
      "text/plain": [
       "array([[1, 1, 1],\n",
       "       [1, 1, 1]], dtype=int32)"
      ]
     },
     "execution_count": 10,
     "metadata": {},
     "output_type": "execute_result"
    }
   ],
   "source": [
    "tensor=[[1, 2, 3], [4, 5, 6]] \n",
    "x = tf.ones_like(tensor)    #生成形如 tensor 的 identity matrix\n",
    "sess.run(x)"
   ]
  },
  {
   "cell_type": "code",
   "execution_count": 11,
   "metadata": {},
   "outputs": [
    {
     "data": {
      "text/plain": [
       "array([[2, 2, 2],\n",
       "       [2, 2, 2]], dtype=int32)"
      ]
     },
     "execution_count": 11,
     "metadata": {},
     "output_type": "execute_result"
    }
   ],
   "source": [
    "x = tf.fill([2,3],2)   #按照2*3形状 fill 数字2\n",
    "sess.run(x)"
   ]
  },
  {
   "cell_type": "code",
   "execution_count": 12,
   "metadata": {},
   "outputs": [
    {
     "data": {
      "text/plain": [
       "666"
      ]
     },
     "execution_count": 12,
     "metadata": {},
     "output_type": "execute_result"
    }
   ],
   "source": [
    "x = tf.constant(666)  #生成 constant\n",
    "sess.run(x)"
   ]
  },
  {
   "cell_type": "code",
   "execution_count": 13,
   "metadata": {},
   "outputs": [
    {
     "data": {
      "text/plain": [
       "array([1, 2, 3], dtype=int32)"
      ]
     },
     "execution_count": 13,
     "metadata": {},
     "output_type": "execute_result"
    }
   ],
   "source": [
    "x = tf.constant([1,2,3])  \n",
    "sess.run(x)"
   ]
  },
  {
   "cell_type": "code",
   "execution_count": 14,
   "metadata": {},
   "outputs": [
    {
     "data": {
      "text/plain": [
       "array([[1., 2.],\n",
       "       [3., 3.],\n",
       "       [3., 3.]], dtype=float32)"
      ]
     },
     "execution_count": 14,
     "metadata": {},
     "output_type": "execute_result"
    }
   ],
   "source": [
    "x = tf.constant([1,2,3],tf.float32, shape=[3,2])  #constant 变换矩阵形状\n",
    "#or x = tf.constant([1,2,3], shape=[3,2],dtype = tf.float32)\n",
    "sess.run(x)"
   ]
  },
  {
   "cell_type": "code",
   "execution_count": 15,
   "metadata": {},
   "outputs": [
    {
     "name": "stdout",
     "output_type": "stream",
     "text": [
      "[[1. 2.]\n",
      " [3. 3.]\n",
      " [3. 3.]]\n"
     ]
    }
   ],
   "source": [
    "print(sess.run(x))      #显示纯矩阵"
   ]
  },
  {
   "cell_type": "code",
   "execution_count": 16,
   "metadata": {},
   "outputs": [
    {
     "data": {
      "text/plain": [
       "array([[ 0.51340485, -0.255814  ,  0.6519913 ,  1.3923638 ,  0.37256798]],\n",
       "      dtype=float32)"
      ]
     },
     "execution_count": 16,
     "metadata": {},
     "output_type": "execute_result"
    }
   ],
   "source": [
    "x = tf.random_normal(shape=[1,5],mean=0.0,stddev=1.0,dtype=tf.float32,seed = 1234,name=None)   #生成 randn normal dist\n",
    "sess.run(x)"
   ]
  },
  {
   "cell_type": "code",
   "execution_count": 17,
   "metadata": {},
   "outputs": [
    {
     "data": {
      "text/plain": [
       "array([[8.919983 , 7.104417 , 4.483529 , 5.7645235, 1.3839138]],\n",
       "      dtype=float32)"
      ]
     },
     "execution_count": 17,
     "metadata": {},
     "output_type": "execute_result"
    }
   ],
   "source": [
    "x = tf.random_uniform(shape=[1,5],minval=0, maxval=10,dtype=tf.float32,seed=None,name=None)  #生成随机数\n",
    "sess.run(x)"
   ]
  },
  {
   "cell_type": "code",
   "execution_count": 18,
   "metadata": {},
   "outputs": [
    {
     "data": {
      "text/plain": [
       "array([[2, 0, 4, 5, 8]], dtype=int32)"
      ]
     },
     "execution_count": 18,
     "metadata": {},
     "output_type": "execute_result"
    }
   ],
   "source": [
    "x = tf.random_uniform(shape=[1,5],minval=0, maxval=10,dtype=tf.int32,seed=None,name=None)  #需要随机整数改变 dtype 就好\n",
    "sess.run(x)"
   ]
  },
  {
   "cell_type": "code",
   "execution_count": 19,
   "metadata": {},
   "outputs": [],
   "source": [
    "# help(tf.random_uniform) 查看 tf.random_uniform 帮助"
   ]
  },
  {
   "cell_type": "code",
   "execution_count": 20,
   "metadata": {},
   "outputs": [
    {
     "data": {
      "text/plain": [
       "array([10., 11., 12.], dtype=float32)"
      ]
     },
     "execution_count": 20,
     "metadata": {},
     "output_type": "execute_result"
    }
   ],
   "source": [
    "x = tf.linspace(10.0, 12.0, 3, name=\"linspace\")\n",
    "sess.run(x)"
   ]
  },
  {
   "cell_type": "code",
   "execution_count": 21,
   "metadata": {},
   "outputs": [
    {
     "name": "stdout",
     "output_type": "stream",
     "text": [
      "[0 3 6 9]\n"
     ]
    }
   ],
   "source": [
    "x = tf.range(start = 0, limit = 10, delta=3, dtype=None, name='range')\n",
    "\n",
    "with tf.Session() as sess:\n",
    "      result = sess.run(x)\n",
    "      print(result)"
   ]
  },
  {
   "cell_type": "markdown",
   "metadata": {},
   "source": [
    "## matrix 变换"
   ]
  },
  {
   "cell_type": "code",
   "execution_count": 22,
   "metadata": {},
   "outputs": [
    {
     "name": "stdout",
     "output_type": "stream",
     "text": [
      "Tensor(\"Shape:0\", shape=(2,), dtype=int32)\n",
      "[2 3]\n",
      "[2 3]\n"
     ]
    }
   ],
   "source": [
    "labels = [[1,2,3],[3,4,5]]\n",
    "\n",
    "shape = tf.shape(labels)\n",
    "print(shape)\n",
    "\n",
    "print(tf.Session().run(tf.shape(labels)))\n",
    "\n",
    "with tf.Session() as sess:\n",
    "      result = sess.run(tf.shape(labels))\n",
    "      print(result)"
   ]
  },
  {
   "cell_type": "code",
   "execution_count": 23,
   "metadata": {},
   "outputs": [
    {
     "name": "stdout",
     "output_type": "stream",
     "text": [
      "[4]\n"
     ]
    }
   ],
   "source": [
    "\n",
    "print(tf.Session().run(tf.shape(x)))"
   ]
  },
  {
   "cell_type": "code",
   "execution_count": 24,
   "metadata": {},
   "outputs": [
    {
     "name": "stdout",
     "output_type": "stream",
     "text": [
      "[3]\n",
      "\n",
      "\n",
      "[[1 2 3]]\n",
      "[1 3]\n",
      "\n",
      "\n",
      "[[[1 2 3]]]\n",
      "[1 1 3]\n",
      "\n",
      "\n",
      "[[1]\n",
      " [2]\n",
      " [3]]\n",
      "[3 1]\n"
     ]
    }
   ],
   "source": [
    "labels = [1,2,3]\n",
    "print(tf.Session().run(tf.shape(labels)))\n",
    "print('\\n')\n",
    "\n",
    "x = tf.expand_dims(labels,0)    #升维操作\n",
    "print(tf.Session().run(x))\n",
    "print(tf.Session().run(tf.shape(x)))\n",
    "print('\\n')\n",
    "\n",
    "x = tf.expand_dims(x,0)   #再升一维\n",
    "print(tf.Session().run(x))\n",
    "print(tf.Session().run(tf.shape(x)))\n",
    "print('\\n')\n",
    "\n",
    "x = tf.expand_dims(labels,1)\n",
    "print(tf.Session().run(x))\n",
    "print(tf.Session().run(tf.shape(x)))"
   ]
  },
  {
   "cell_type": "code",
   "execution_count": 25,
   "metadata": {},
   "outputs": [
    {
     "name": "stdout",
     "output_type": "stream",
     "text": [
      "[[1 4]\n",
      " [2 5]\n",
      " [3 6]]\n",
      "\n",
      "\n",
      "[[1 2 3]\n",
      " [4 5 6]]\n"
     ]
    }
   ],
   "source": [
    "x =  [1, 4]\n",
    "y =  [2, 5]\n",
    "z =  [3, 6]\n",
    "s = tf.stack([x, y, z])   # Pack along first dim.\n",
    "print(tf.Session().run(s))\n",
    "print('\\n')\n",
    "s = tf.stack([x, y, z], axis=1) \n",
    "print(tf.Session().run(s))"
   ]
  },
  {
   "cell_type": "code",
   "execution_count": 26,
   "metadata": {},
   "outputs": [
    {
     "name": "stdout",
     "output_type": "stream",
     "text": [
      "[[ 1  2  3]\n",
      " [ 4  5  6]\n",
      " [ 7  8  9]\n",
      " [10 11 12]]\n",
      "\n",
      "\n",
      "[[[ 1  2  3]\n",
      "  [ 4  5  6]]\n",
      "\n",
      " [[ 7  8  9]\n",
      "  [10 11 12]]]\n",
      "\n",
      "\n",
      "[[ 1  2  3  7  8  9]\n",
      " [ 4  5  6 10 11 12]]\n"
     ]
    }
   ],
   "source": [
    "t1 = [[1, 2, 3], [4, 5, 6]]\n",
    "t2 = [[7, 8, 9], [10, 11, 12]]\n",
    "s = tf.concat([t1, t2],0)     #体会 stack 和 concat 的不同之处\n",
    "s1 = tf.stack([t1,t2])\n",
    "print(tf.Session().run(s))\n",
    "print('\\n')\n",
    "\n",
    "print(tf.Session().run(s1))\n",
    "print('\\n')\n",
    "s = tf.concat([t1, t2],1) \n",
    "print(tf.Session().run(s))"
   ]
  },
  {
   "cell_type": "code",
   "execution_count": 27,
   "metadata": {},
   "outputs": [
    {
     "name": "stdout",
     "output_type": "stream",
     "text": [
      "[[1 2 3]\n",
      " [4 5 6]\n",
      " [7 8 9]]\n",
      "\n",
      "\n",
      "[[1 1 2 2]\n",
      " [3 3 4 4]]\n",
      "\n",
      "\n",
      "[1 1 1 2 2 2 3 3 3 4 4 4 5 5 5 6 6 6]\n",
      "\n",
      "\n",
      "[[1 1 1 2 2 2 3 3 3]\n",
      " [4 4 4 5 5 5 6 6 6]]\n",
      "\n",
      "\n",
      "[[1 1 1]\n",
      " [2 2 2]\n",
      " [3 3 3]\n",
      " [4 4 4]\n",
      " [5 5 5]\n",
      " [6 6 6]]\n",
      "\n",
      "\n",
      "[[[1 1 1]\n",
      "  [2 2 2]\n",
      "  [3 3 3]]\n",
      "\n",
      " [[4 4 4]\n",
      "  [5 5 5]\n",
      "  [6 6 6]]]\n",
      "\n",
      "\n"
     ]
    }
   ],
   "source": [
    "t= [1, 2, 3, 4, 5, 6, 7, 8, 9]\n",
    "# tensor 't' has shape [9]\n",
    "print(tf.Session().run(tf.reshape(t, [3, 3])))\n",
    "print('\\n')\n",
    "\n",
    "t = [[[1, 1], [2, 2]],\n",
    "    [[3, 3], [4, 4]]]\n",
    "# tensor 't' has shape [2, 2, 2]\n",
    "print(tf.Session().run(tf.reshape(t, [2, 4])))\n",
    "print('\\n')\n",
    "\n",
    "\n",
    "t = [[[1, 1, 1],[2, 2, 2]],[[3, 3, 3],\n",
    "      [4, 4, 4]],[[5, 5, 5],[6, 6, 6]]]\n",
    "# tensor 't' has shape [3, 2, 3]\n",
    "\n",
    "\n",
    "print(tf.Session().run(tf.reshape(t, [-1]))) #pass '[-1]' to flatten 't'\n",
    "print('\\n')\n",
    "\n",
    "print(tf.Session().run(tf.reshape(t, [2,-1])))\n",
    "print('\\n')\n",
    "\n",
    "print(tf.Session().run(tf.reshape(t, [-1, 3])))  #按照每行3个 flatten\n",
    "print('\\n')      \n",
    "\n",
    "print(tf.Session().run(tf.reshape(t, [2, -1, 3]))) #先分两半,再按照每行三个 flatten\n",
    "print('\\n')"
   ]
  },
  {
   "cell_type": "code",
   "execution_count": 28,
   "metadata": {},
   "outputs": [
    {
     "ename": "SyntaxError",
     "evalue": "invalid syntax (<ipython-input-28-795a07381c07>, line 6)",
     "output_type": "error",
     "traceback": [
      "\u001b[0;36m  File \u001b[0;32m\"<ipython-input-28-795a07381c07>\"\u001b[0;36m, line \u001b[0;32m6\u001b[0m\n\u001b[0;31m    name=None)  #稀疏矩阵转密集矩阵\u001b[0m\n\u001b[0m                          ^\u001b[0m\n\u001b[0;31mSyntaxError\u001b[0m\u001b[0;31m:\u001b[0m invalid syntax\n"
     ]
    }
   ],
   "source": [
    "def sparse_to_dense(sparse_indices,\n",
    "                    output_shape,\n",
    "                    sparse_values,\n",
    "                    default_value=0,\n",
    "                    validate_indices=True,\n",
    "                    name=None)  #稀疏矩阵转密集矩阵"
   ]
  },
  {
   "cell_type": "code",
   "execution_count": 29,
   "metadata": {},
   "outputs": [
    {
     "name": "stdout",
     "output_type": "stream",
     "text": [
      "[[ 1  2]\n",
      " [ 3  4]\n",
      " [ 5  6]\n",
      " [ 7  8]\n",
      " [ 9 10]]\n",
      "[[ 1  2]\n",
      " [ 3  4]\n",
      " [ 9 10]\n",
      " [ 5  6]\n",
      " [ 7  8]]\n"
     ]
    }
   ],
   "source": [
    "a=[[1,2],[3,4],[5,6],[7,8],[9,10]]\n",
    "a = tf.constant(a)  \n",
    "x = tf.random_shuffle(a, seed = 10)  #沿着value的第一维进行随机重新排列\n",
    "print(tf.Session().run(a))\n",
    "print(tf.Session().run(x))"
   ]
  },
  {
   "cell_type": "code",
   "execution_count": 30,
   "metadata": {},
   "outputs": [
    {
     "name": "stdout",
     "output_type": "stream",
     "text": [
      "[[ 1  2]\n",
      " [ 3  4]\n",
      " [ 9 10]\n",
      " [ 5  6]\n",
      " [ 7  8]]\n",
      "\n",
      "\n",
      "WARNING:tensorflow:From <ipython-input-30-dcf467c21a6b>:7: calling argmax (from tensorflow.python.ops.math_ops) with dimension is deprecated and will be removed in a future version.\n",
      "Instructions for updating:\n",
      "Use the `axis` argument instead\n",
      "WARNING:tensorflow:From <ipython-input-30-dcf467c21a6b>:9: calling argmin (from tensorflow.python.ops.math_ops) with dimension is deprecated and will be removed in a future version.\n",
      "Instructions for updating:\n",
      "Use the `axis` argument instead\n",
      "[2 2]\n",
      "[1 1 1 1 1]\n",
      "[0 0]\n",
      "[0 0 0 0 0]\n"
     ]
    }
   ],
   "source": [
    "# a=tf.get_variable(name='a',\n",
    "#                   shape=[3,4],\n",
    "#                   dtype=tf.float32,\n",
    "#                   initializer=tf.random_uniform_initializer(minval=-1,maxval=1))\n",
    "print(tf.Session().run(x))\n",
    "print('\\n')\n",
    "b=tf.argmax(input=x,dimension=0)   # 上面 cell 中, x 竖直方向最大值的位置\n",
    "c=tf.argmax(input=x,dimension=1)   # 上面 cell 中, x 水平方向最大值的位置\n",
    "d=tf.argmin(input=x,dimension=0)   # 上面 cell 中, x 竖直方向最小值的位置\n",
    "e=tf.argmin(input=x,dimension=1)   # 上面 cell 中, x 水平方向最小值的位置\n",
    "print(tf.Session().run(b))\n",
    "print(tf.Session().run(c))\n",
    "print(tf.Session().run(d))\n",
    "print(tf.Session().run(e))"
   ]
  },
  {
   "cell_type": "code",
   "execution_count": 31,
   "metadata": {},
   "outputs": [
    {
     "name": "stdout",
     "output_type": "stream",
     "text": [
      "[[ 1  2]\n",
      " [ 3  4]\n",
      " [ 5  6]\n",
      " [ 7  8]\n",
      " [ 9 10]]\n",
      "[[ 1  2]\n",
      " [ 3  4]\n",
      " [ 9 10]\n",
      " [ 5  6]\n",
      " [ 7  8]]\n",
      "\n",
      "\n",
      "[[ True  True]\n",
      " [ True  True]\n",
      " [False False]\n",
      " [False False]\n",
      " [False False]]\n"
     ]
    }
   ],
   "source": [
    "print(tf.Session().run(a))\n",
    "print(tf.Session().run(x))\n",
    "print('\\n')\n",
    "print(tf.Session().run(tf.equal(a,x, name=None)))    #比较 a 和 x 每行是否 equal"
   ]
  },
  {
   "cell_type": "code",
   "execution_count": 32,
   "metadata": {},
   "outputs": [
    {
     "data": {
      "text/plain": [
       "array([1, 2], dtype=int32)"
      ]
     },
     "execution_count": 32,
     "metadata": {},
     "output_type": "execute_result"
    }
   ],
   "source": [
    "x = tf.constant([1.8, 2.2], dtype=tf.float32)\n",
    "tf.Session().run(tf.cast(x, tf.int32))    #cast 变换类型"
   ]
  },
  {
   "cell_type": "code",
   "execution_count": 33,
   "metadata": {},
   "outputs": [
    {
     "name": "stdout",
     "output_type": "stream",
     "text": [
      "[[1 2 3]\n",
      " [4 5 6]]\n",
      "\n",
      "\n",
      "[[ 7  8]\n",
      " [ 9 10]\n",
      " [11 12]]\n",
      "\n",
      "\n",
      "[[ 58  64]\n",
      " [139 154]]\n"
     ]
    }
   ],
   "source": [
    "a = tf.constant([1, 2, 3, 4, 5, 6], shape=[2, 3])\n",
    "print(tf.Session().run(a))\n",
    "print('\\n')\n",
    "b = tf.constant([7, 8, 9, 10, 11, 12], shape=[3, 2])\n",
    "print(tf.Session().run(b))\n",
    "print('\\n')\n",
    "c = tf.matmul(a, b)           # 矩阵乘法 matrix multiplication\n",
    "print(tf.Session().run(c))    #2*3 matrix * 3*2 matrix = 2*2 matrix"
   ]
  },
  {
   "cell_type": "code",
   "execution_count": 34,
   "metadata": {},
   "outputs": [
    {
     "name": "stdout",
     "output_type": "stream",
     "text": [
      "[[1 2 3]\n",
      " [4 5 6]]\n",
      "\n",
      "\n",
      "[[ 7  8  9]\n",
      " [10 11 12]]\n",
      "\n",
      "\n",
      "[[ 7 16 27]\n",
      " [40 55 72]]\n"
     ]
    }
   ],
   "source": [
    "a = tf.constant([1, 2, 3, 4, 5, 6], shape=[2, 3])\n",
    "print(tf.Session().run(a))\n",
    "print('\\n')\n",
    "b = tf.constant([7, 8, 9, 10, 11, 12], shape=[2, 3])\n",
    "print(tf.Session().run(b))\n",
    "print('\\n')\n",
    "c = tf.multiply(a, b)           # 矩阵element-wise multiplication乘法, 每个位置相乘\n",
    "print(tf.Session().run(c))      #2*3 matrix * 2*3 matrix = 2*3 matrix"
   ]
  },
  {
   "cell_type": "code",
   "execution_count": 35,
   "metadata": {},
   "outputs": [
    {
     "name": "stdout",
     "output_type": "stream",
     "text": [
      "[47 71 99]\n"
     ]
    }
   ],
   "source": [
    "d = tf.reduce_sum(c,axis=0)    #vertical 方向相加\n",
    "print(tf.Session().run(d)) "
   ]
  },
  {
   "cell_type": "code",
   "execution_count": 36,
   "metadata": {},
   "outputs": [
    {
     "name": "stdout",
     "output_type": "stream",
     "text": [
      "[ 50 167]\n"
     ]
    }
   ],
   "source": [
    "d = tf.reduce_sum(c,axis=1)    ## horizontal 方向相加\n",
    "print(tf.Session().run(d)) "
   ]
  },
  {
   "cell_type": "code",
   "execution_count": 64,
   "metadata": {},
   "outputs": [
    {
     "name": "stdout",
     "output_type": "stream",
     "text": [
      "[1. 2. 3. 4. 5.]\n",
      "[1 2 3 4]\n"
     ]
    }
   ],
   "source": [
    "sess = tf.InteractiveSession()\n",
    "x = tf.linspace(start=1.0,stop=5.0,num=5,name=None)  # 注意1.0和5.0, 均分区间\n",
    "y = tf.range(start=1,limit=5,delta=1)\n",
    "print(sess.run(x))\n",
    "print(sess.run(y))"
   ]
  },
  {
   "cell_type": "markdown",
   "metadata": {},
   "source": [
    "## Variables and Placeholders"
   ]
  },
  {
   "cell_type": "code",
   "execution_count": 37,
   "metadata": {},
   "outputs": [],
   "source": [
    "#placeholder & variable\n",
    "W = tf.Variable(tf.zeros([784, 10]))   #variable来训练模型时的存储和更新参数w和 b。用于表示算法迭代过程中的中间参数, 需要指定初始值\n",
    "b = tf.Variable(tf.zeros([10]))\n",
    "\n",
    "input_data = tf.placeholder(tf.float32, [None, 10])   #placeholder 实例通常用来为算法的input_data作占位符, 不需要指定初始值"
   ]
  },
  {
   "cell_type": "code",
   "execution_count": 40,
   "metadata": {},
   "outputs": [
    {
     "name": "stdout",
     "output_type": "stream",
     "text": [
      "14.0\n",
      "[1. 1. 3. 5.]\n"
     ]
    }
   ],
   "source": [
    "c = tf.Variable(3,dtype=tf.float32)\n",
    "d = tf.placeholder(dtype = tf.float32,shape=None)\n",
    "\n",
    "\n",
    "#feed_dict is just a dictionary that maps graph elements like variables,constants or placeholders to values. \n",
    "#We use it to overwrite the existing values of tensors. \n",
    "#We can also use it to change variable values when running them.\n",
    "sess = tf.Session()\n",
    "sess.run(tf.global_variables_initializer())\n",
    "print(sess.run(c,feed_dict = {c:14}))    #overwrite the existing values of tensors.  \n",
    "print(sess.run(d,feed_dict = {d:[1,1,3,5]}))"
   ]
  },
  {
   "cell_type": "markdown",
   "metadata": {},
   "source": [
    "## Heron's Formula in TensorFlow"
   ]
  },
  {
   "cell_type": "code",
   "execution_count": 62,
   "metadata": {},
   "outputs": [
    {
     "name": "stdout",
     "output_type": "stream",
     "text": [
      "[6.278497 4.709139]\n"
     ]
    }
   ],
   "source": [
    "#先定义函数\n",
    "#再定义placeholder\n",
    "#再feed data\n",
    "\n",
    "def compute_area(sides):\n",
    "  # slice the input to get the sides\n",
    "  a = sides[:,0]  # 5.0, 2.3\n",
    "  b = sides[:,1]  # 3.0, 4.1\n",
    "  c = sides[:,2]  # 7.1, 4.8\n",
    "  \n",
    "  # Heron's formula\n",
    "  s = (a + b + c) * 0.5   # (a + b) is a short-cut to tf.add(a, b)\n",
    "  areasq = s * (s - a) * (s - b) * (s - c) # (a * b) is a short-cut to tf.multiply(a, b), not tf.matmul(a, b)\n",
    "  return tf.sqrt(areasq)\n",
    "\n",
    "\n",
    "with tf.Session() as sess:\n",
    "  sides = tf.placeholder(tf.float32, shape=(None, 3))  # batchsize number of triangles, 3 sides\n",
    "  area = compute_area(sides)\n",
    "  result = sess.run(area, feed_dict = {\n",
    "      sides: [\n",
    "        [5.0, 3.0, 7.1],\n",
    "        [2.3, 4.1, 4.8]\n",
    "      ]\n",
    "    })\n",
    "  print(result)"
   ]
  },
  {
   "cell_type": "markdown",
   "metadata": {},
   "source": [
    "## Machine Learning using tf.estimator"
   ]
  },
  {
   "cell_type": "code",
   "execution_count": null,
   "metadata": {},
   "outputs": [],
   "source": [
    "import datalab.bigquery as bq\n",
    "import tensorflow as tf\n",
    "import pandas as pd\n",
    "import numpy as np\n",
    "import shutil\n",
    "\n",
    "print(tf.__version__)\n",
    "\n",
    "\n",
    "# In CSV, label is the first column, after the features, followed by the key\n",
    "CSV_COLUMNS = ['fare_amount', 'pickuplon','pickuplat','dropofflon','dropofflat','passengers', 'key']\n",
    "FEATURES = CSV_COLUMNS[1:len(CSV_COLUMNS) - 1]\n",
    "LABEL = CSV_COLUMNS[0]\n",
    "\n",
    "#生成 pandas df 数据\n",
    "df_train = pd.read_csv('./taxi-train.csv', header = None, names = CSV_COLUMNS)\n",
    "df_valid = pd.read_csv('./taxi-valid.csv', header = None, names = CSV_COLUMNS)\n",
    "df_test = pd.read_csv('./taxi-test.csv', header = None, names = CSV_COLUMNS)"
   ]
  },
  {
   "cell_type": "markdown",
   "metadata": {},
   "source": [
    "### Train and eval input functions to read from Pandas Dataframe"
   ]
  },
  {
   "cell_type": "code",
   "execution_count": 63,
   "metadata": {},
   "outputs": [],
   "source": [
    "def make_train_input_fn(df, num_epochs):\n",
    "  return tf.estimator.inputs.pandas_input_fn(\n",
    "    x = df,\n",
    "    y = df[LABEL],\n",
    "    batch_size = 128,\n",
    "    num_epochs = num_epochs,\n",
    "    shuffle = True,\n",
    "    queue_capacity = 1000\n",
    "  )\n",
    "\n",
    "\n",
    "def make_eval_input_fn(df):\n",
    "  return tf.estimator.inputs.pandas_input_fn(\n",
    "    x = df,\n",
    "    y = df[LABEL],\n",
    "    batch_size = 128,\n",
    "    shuffle = False,\n",
    "    queue_capacity = 1000\n",
    "  )\n",
    "\n",
    "\n",
    "def make_prediction_input_fn(df):\n",
    "  return tf.estimator.inputs.pandas_input_fn(\n",
    "    x = df,\n",
    "    y = None,              #predition dataset没有 label\n",
    "    batch_size = 128,\n",
    "    shuffle = False,\n",
    "    queue_capacity = 1000\n",
    "  )\n",
    "\n",
    "def make_feature_cols()   #告知哪些 columns 是 numeric features, 本例全部只有numeric, create feature columns for estimator\n",
    "  input_columns = [tf.feature_column.numeric_column(k) for k in FEATURES]\n",
    "  return input_columns"
   ]
  },
  {
   "cell_type": "markdown",
   "metadata": {},
   "source": [
    "### Linear Regression with tf.Estimator framework"
   ]
  },
  {
   "cell_type": "code",
   "execution_count": null,
   "metadata": {},
   "outputs": [],
   "source": [
    "tf.logging.set_verbosity(tf.logging.INFO)\n",
    "\n",
    "OUTDIR = 'taxi_trained'\n",
    "shutil.rmtree(OUTDIR, ignore_errors = True) # start fresh each time\n",
    "\n",
    "#Train a linear regression model to predict label value given observation of feature values.\n",
    "model = tf.estimator.LinearRegressor(\n",
    "      feature_columns = make_feature_cols(), model_dir = OUTDIR)\n",
    "\n",
    "model.train(input_fn = make_train_input_fn(df_train, num_epochs = 10))\n",
    "\n",
    "\n",
    "def print_rmse(model, df):\n",
    "  metrics = model.evaluate(input_fn = make_eval_input_fn(df))    #检验一下 rmse\n",
    "  print('RMSE on dataset = {}'.format(np.sqrt(metrics['average_loss'])))\n",
    "print_rmse(model, df_valid)\n",
    "\n",
    "predictions = model.predict(input_fn = make_prediction_input_fn(df_test))    #正式计算 prediction\n",
    "for items in predictions:\n",
    "  print(items)"
   ]
  },
  {
   "cell_type": "markdown",
   "metadata": {},
   "source": [
    "### Deep Neural Network regression"
   ]
  },
  {
   "cell_type": "code",
   "execution_count": null,
   "metadata": {},
   "outputs": [],
   "source": [
    "tf.logging.set_verbosity(tf.logging.INFO)\n",
    "shutil.rmtree(OUTDIR, ignore_errors = True) # start fresh each time\n",
    "\n",
    "#Train a linear regression model to predict label value given observation of feature values.\n",
    "model = tf.estimator.DNNRegressor(hidden_units = [32, 8, 2],\n",
    "      feature_columns = make_feature_cols(), model_dir = OUTDIR)\n",
    "model.train(input_fn = make_train_input_fn(df_train, num_epochs = 100));\n",
    "\n",
    "print_rmse(model, df_valid)"
   ]
  },
  {
   "cell_type": "code",
   "execution_count": null,
   "metadata": {},
   "outputs": [],
   "source": []
  },
  {
   "cell_type": "code",
   "execution_count": null,
   "metadata": {},
   "outputs": [],
   "source": []
  },
  {
   "cell_type": "code",
   "execution_count": null,
   "metadata": {},
   "outputs": [],
   "source": []
  },
  {
   "cell_type": "code",
   "execution_count": null,
   "metadata": {},
   "outputs": [],
   "source": []
  },
  {
   "cell_type": "code",
   "execution_count": null,
   "metadata": {},
   "outputs": [],
   "source": []
  },
  {
   "cell_type": "code",
   "execution_count": null,
   "metadata": {},
   "outputs": [],
   "source": []
  },
  {
   "cell_type": "code",
   "execution_count": null,
   "metadata": {},
   "outputs": [],
   "source": []
  },
  {
   "cell_type": "code",
   "execution_count": null,
   "metadata": {},
   "outputs": [],
   "source": []
  },
  {
   "cell_type": "code",
   "execution_count": null,
   "metadata": {},
   "outputs": [],
   "source": []
  },
  {
   "cell_type": "code",
   "execution_count": null,
   "metadata": {},
   "outputs": [],
   "source": []
  }
 ],
 "metadata": {
  "kernelspec": {
   "display_name": "Python 3",
   "language": "python",
   "name": "python3"
  },
  "language_info": {
   "codemirror_mode": {
    "name": "ipython",
    "version": 3
   },
   "file_extension": ".py",
   "mimetype": "text/x-python",
   "name": "python",
   "nbconvert_exporter": "python",
   "pygments_lexer": "ipython3",
   "version": "3.6.5"
  }
 },
 "nbformat": 4,
 "nbformat_minor": 2
}
