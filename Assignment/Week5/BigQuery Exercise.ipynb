{
 "cells": [
  {
   "cell_type": "markdown",
   "metadata": {},
   "source": [
    "## Bigquery Exercise\n",
    "If a NCAA basketball team is at home and behind 6 points with only 6 minutes remaining in the game, what is the probability that the team will comeback and win the game?\n",
    "\n",
    "https://bigquery.cloud.google.com/table/bigquery-public-data:ncaa_basketball"
   ]
  },
  {
   "cell_type": "code",
   "execution_count": 233,
   "metadata": {},
   "outputs": [],
   "source": [
    "# #sample sql code \n",
    "# query=\"\"\"\n",
    "# SELECT\n",
    "#   weight_pounds,\n",
    "#   is_male,\n",
    "#   mother_age,\n",
    "#   mother_race,\n",
    "#   plurality,\n",
    "#   gestation_weeks,\n",
    "#   mother_married,\n",
    "#   ever_born,\n",
    "#   cigarette_use,\n",
    "#   alcohol_use,\n",
    "#   FARM_FINGERPRINT(CONCAT(CAST(YEAR AS STRING), CAST(month AS STRING))) AS hashmonth\n",
    "# FROM\n",
    "#   publicdata.samples.natality\n",
    "# WHERE year > 2000\n",
    "# \"\"\"\n",
    "# import google.datalab.bigquery as bq\n",
    "# df = bq.Query(query + \" LIMIT 100\").execute().result().to_dataframe()\n",
    "# df.head()"
   ]
  },
  {
   "cell_type": "code",
   "execution_count": 238,
   "metadata": {},
   "outputs": [],
   "source": [
    "import google.datalab.bigquery as bq\n",
    "import pandas as pd\n",
    "import numpy as np"
   ]
  },
  {
   "cell_type": "code",
   "execution_count": 239,
   "metadata": {},
   "outputs": [
    {
     "data": {
      "text/html": [
       "<div>\n",
       "<style scoped>\n",
       "    .dataframe tbody tr th:only-of-type {\n",
       "        vertical-align: middle;\n",
       "    }\n",
       "\n",
       "    .dataframe tbody tr th {\n",
       "        vertical-align: top;\n",
       "    }\n",
       "\n",
       "    .dataframe thead th {\n",
       "        text-align: right;\n",
       "    }\n",
       "</style>\n",
       "<table border=\"1\" class=\"dataframe\">\n",
       "  <thead>\n",
       "    <tr style=\"text-align: right;\">\n",
       "      <th></th>\n",
       "      <th>full_name</th>\n",
       "      <th>team_id</th>\n",
       "    </tr>\n",
       "  </thead>\n",
       "  <tbody>\n",
       "    <tr>\n",
       "      <th>0</th>\n",
       "      <td>Nick Mersch</td>\n",
       "      <td>0496c4c9-37a7-48db-ae81-c42eeb2de5fc</td>\n",
       "    </tr>\n",
       "    <tr>\n",
       "      <th>1</th>\n",
       "      <td>John Noce</td>\n",
       "      <td>0496c4c9-37a7-48db-ae81-c42eeb2de5fc</td>\n",
       "    </tr>\n",
       "    <tr>\n",
       "      <th>2</th>\n",
       "      <td>Kevin Hyland</td>\n",
       "      <td>0496c4c9-37a7-48db-ae81-c42eeb2de5fc</td>\n",
       "    </tr>\n",
       "    <tr>\n",
       "      <th>3</th>\n",
       "      <td>Christian Comenge</td>\n",
       "      <td>0496c4c9-37a7-48db-ae81-c42eeb2de5fc</td>\n",
       "    </tr>\n",
       "    <tr>\n",
       "      <th>4</th>\n",
       "      <td>Britton Goldsmith</td>\n",
       "      <td>0717335e-2875-4009-b0ff-3b7b0399ff8a</td>\n",
       "    </tr>\n",
       "  </tbody>\n",
       "</table>\n",
       "</div>"
      ],
      "text/plain": [
       "           full_name                               team_id\n",
       "0        Nick Mersch  0496c4c9-37a7-48db-ae81-c42eeb2de5fc\n",
       "1          John Noce  0496c4c9-37a7-48db-ae81-c42eeb2de5fc\n",
       "2       Kevin Hyland  0496c4c9-37a7-48db-ae81-c42eeb2de5fc\n",
       "3  Christian Comenge  0496c4c9-37a7-48db-ae81-c42eeb2de5fc\n",
       "4  Britton Goldsmith  0717335e-2875-4009-b0ff-3b7b0399ff8a"
      ]
     },
     "execution_count": 239,
     "metadata": {},
     "output_type": "execute_result"
    }
   ],
   "source": [
    "player_team = \"\"\"\n",
    "SELECT full_name, team_id\n",
    "FROM `bigquery-public-data.ncaa_basketball.mbb_players_games_sr`\n",
    "LIMIT 100\n",
    "\"\"\"\n",
    "player_team = bq.Query(player_team).execute().result().to_dataframe()\n",
    "player_team.head()"
   ]
  },
  {
   "cell_type": "code",
   "execution_count": 242,
   "metadata": {},
   "outputs": [
    {
     "data": {
      "text/html": [
       "<div>\n",
       "<style scoped>\n",
       "    .dataframe tbody tr th:only-of-type {\n",
       "        vertical-align: middle;\n",
       "    }\n",
       "\n",
       "    .dataframe tbody tr th {\n",
       "        vertical-align: top;\n",
       "    }\n",
       "\n",
       "    .dataframe thead th {\n",
       "        text-align: right;\n",
       "    }\n",
       "</style>\n",
       "<table border=\"1\" class=\"dataframe\">\n",
       "  <thead>\n",
       "    <tr style=\"text-align: right;\">\n",
       "      <th></th>\n",
       "      <th>game_id</th>\n",
       "      <th>home_id</th>\n",
       "      <th>away_id</th>\n",
       "      <th>possession_team_id</th>\n",
       "      <th>points_scored</th>\n",
       "    </tr>\n",
       "  </thead>\n",
       "  <tbody>\n",
       "    <tr>\n",
       "      <th>0</th>\n",
       "      <td>07e3e7a6-e178-4610-a8e7-51ab0f5df03e</td>\n",
       "      <td>18e89867-9201-41ce-ba19-fadddf92fa17</td>\n",
       "      <td>0095032d-6143-44f2-8974-f6815fc56c5b</td>\n",
       "      <td>0095032d-6143-44f2-8974-f6815fc56c5b</td>\n",
       "      <td>2.0</td>\n",
       "    </tr>\n",
       "    <tr>\n",
       "      <th>1</th>\n",
       "      <td>07e3e7a6-e178-4610-a8e7-51ab0f5df03e</td>\n",
       "      <td>18e89867-9201-41ce-ba19-fadddf92fa17</td>\n",
       "      <td>0095032d-6143-44f2-8974-f6815fc56c5b</td>\n",
       "      <td>0095032d-6143-44f2-8974-f6815fc56c5b</td>\n",
       "      <td>2.0</td>\n",
       "    </tr>\n",
       "    <tr>\n",
       "      <th>2</th>\n",
       "      <td>07e3e7a6-e178-4610-a8e7-51ab0f5df03e</td>\n",
       "      <td>18e89867-9201-41ce-ba19-fadddf92fa17</td>\n",
       "      <td>0095032d-6143-44f2-8974-f6815fc56c5b</td>\n",
       "      <td>0095032d-6143-44f2-8974-f6815fc56c5b</td>\n",
       "      <td>2.0</td>\n",
       "    </tr>\n",
       "    <tr>\n",
       "      <th>3</th>\n",
       "      <td>07e3e7a6-e178-4610-a8e7-51ab0f5df03e</td>\n",
       "      <td>18e89867-9201-41ce-ba19-fadddf92fa17</td>\n",
       "      <td>0095032d-6143-44f2-8974-f6815fc56c5b</td>\n",
       "      <td>0095032d-6143-44f2-8974-f6815fc56c5b</td>\n",
       "      <td>1.0</td>\n",
       "    </tr>\n",
       "    <tr>\n",
       "      <th>4</th>\n",
       "      <td>07e3e7a6-e178-4610-a8e7-51ab0f5df03e</td>\n",
       "      <td>18e89867-9201-41ce-ba19-fadddf92fa17</td>\n",
       "      <td>0095032d-6143-44f2-8974-f6815fc56c5b</td>\n",
       "      <td>0095032d-6143-44f2-8974-f6815fc56c5b</td>\n",
       "      <td>2.0</td>\n",
       "    </tr>\n",
       "  </tbody>\n",
       "</table>\n",
       "</div>"
      ],
      "text/plain": [
       "                                game_id                               home_id  \\\n",
       "0  07e3e7a6-e178-4610-a8e7-51ab0f5df03e  18e89867-9201-41ce-ba19-fadddf92fa17   \n",
       "1  07e3e7a6-e178-4610-a8e7-51ab0f5df03e  18e89867-9201-41ce-ba19-fadddf92fa17   \n",
       "2  07e3e7a6-e178-4610-a8e7-51ab0f5df03e  18e89867-9201-41ce-ba19-fadddf92fa17   \n",
       "3  07e3e7a6-e178-4610-a8e7-51ab0f5df03e  18e89867-9201-41ce-ba19-fadddf92fa17   \n",
       "4  07e3e7a6-e178-4610-a8e7-51ab0f5df03e  18e89867-9201-41ce-ba19-fadddf92fa17   \n",
       "\n",
       "                                away_id                    possession_team_id  \\\n",
       "0  0095032d-6143-44f2-8974-f6815fc56c5b  0095032d-6143-44f2-8974-f6815fc56c5b   \n",
       "1  0095032d-6143-44f2-8974-f6815fc56c5b  0095032d-6143-44f2-8974-f6815fc56c5b   \n",
       "2  0095032d-6143-44f2-8974-f6815fc56c5b  0095032d-6143-44f2-8974-f6815fc56c5b   \n",
       "3  0095032d-6143-44f2-8974-f6815fc56c5b  0095032d-6143-44f2-8974-f6815fc56c5b   \n",
       "4  0095032d-6143-44f2-8974-f6815fc56c5b  0095032d-6143-44f2-8974-f6815fc56c5b   \n",
       "\n",
       "   points_scored  \n",
       "0            2.0  \n",
       "1            2.0  \n",
       "2            2.0  \n",
       "3            1.0  \n",
       "4            2.0  "
      ]
     },
     "execution_count": 242,
     "metadata": {},
     "output_type": "execute_result"
    }
   ],
   "source": [
    "#%%bq query -n cyclesharing\n",
    "#   ` -> wild card \n",
    "query = \"\"\"\n",
    "SELECT game_id, home_id, away_id, possession_team_id, points_scored\n",
    " FROM `bigquery-public-data.ncaa_basketball.mbb_pbp_sr` \n",
    "  WHERE  elapsed_time_sec  <= (40-6)*60  AND period = 2  AND possession_team_id IS NOT NULL AND points_scored IS NOT NULL\n",
    "\"\"\"\n",
    "\n",
    "df = bq.Query(query).execute().result().to_dataframe()\n",
    "df.head()"
   ]
  },
  {
   "cell_type": "code",
   "execution_count": 243,
   "metadata": {},
   "outputs": [
    {
     "data": {
      "text/html": [
       "<div>\n",
       "<style scoped>\n",
       "    .dataframe tbody tr th:only-of-type {\n",
       "        vertical-align: middle;\n",
       "    }\n",
       "\n",
       "    .dataframe tbody tr th {\n",
       "        vertical-align: top;\n",
       "    }\n",
       "\n",
       "    .dataframe thead th {\n",
       "        text-align: right;\n",
       "    }\n",
       "</style>\n",
       "<table border=\"1\" class=\"dataframe\">\n",
       "  <thead>\n",
       "    <tr style=\"text-align: right;\">\n",
       "      <th></th>\n",
       "      <th>game_id</th>\n",
       "      <th>home_id</th>\n",
       "      <th>away_id</th>\n",
       "      <th>possession_team_id</th>\n",
       "      <th>points_scored</th>\n",
       "      <th>home_or_away_score</th>\n",
       "    </tr>\n",
       "  </thead>\n",
       "  <tbody>\n",
       "    <tr>\n",
       "      <th>0</th>\n",
       "      <td>07e3e7a6-e178-4610-a8e7-51ab0f5df03e</td>\n",
       "      <td>18e89867-9201-41ce-ba19-fadddf92fa17</td>\n",
       "      <td>0095032d-6143-44f2-8974-f6815fc56c5b</td>\n",
       "      <td>0095032d-6143-44f2-8974-f6815fc56c5b</td>\n",
       "      <td>2.0</td>\n",
       "      <td>home</td>\n",
       "    </tr>\n",
       "    <tr>\n",
       "      <th>1</th>\n",
       "      <td>07e3e7a6-e178-4610-a8e7-51ab0f5df03e</td>\n",
       "      <td>18e89867-9201-41ce-ba19-fadddf92fa17</td>\n",
       "      <td>0095032d-6143-44f2-8974-f6815fc56c5b</td>\n",
       "      <td>0095032d-6143-44f2-8974-f6815fc56c5b</td>\n",
       "      <td>2.0</td>\n",
       "      <td>home</td>\n",
       "    </tr>\n",
       "    <tr>\n",
       "      <th>2</th>\n",
       "      <td>07e3e7a6-e178-4610-a8e7-51ab0f5df03e</td>\n",
       "      <td>18e89867-9201-41ce-ba19-fadddf92fa17</td>\n",
       "      <td>0095032d-6143-44f2-8974-f6815fc56c5b</td>\n",
       "      <td>0095032d-6143-44f2-8974-f6815fc56c5b</td>\n",
       "      <td>2.0</td>\n",
       "      <td>home</td>\n",
       "    </tr>\n",
       "    <tr>\n",
       "      <th>3</th>\n",
       "      <td>07e3e7a6-e178-4610-a8e7-51ab0f5df03e</td>\n",
       "      <td>18e89867-9201-41ce-ba19-fadddf92fa17</td>\n",
       "      <td>0095032d-6143-44f2-8974-f6815fc56c5b</td>\n",
       "      <td>0095032d-6143-44f2-8974-f6815fc56c5b</td>\n",
       "      <td>1.0</td>\n",
       "      <td>home</td>\n",
       "    </tr>\n",
       "    <tr>\n",
       "      <th>4</th>\n",
       "      <td>07e3e7a6-e178-4610-a8e7-51ab0f5df03e</td>\n",
       "      <td>18e89867-9201-41ce-ba19-fadddf92fa17</td>\n",
       "      <td>0095032d-6143-44f2-8974-f6815fc56c5b</td>\n",
       "      <td>0095032d-6143-44f2-8974-f6815fc56c5b</td>\n",
       "      <td>2.0</td>\n",
       "      <td>home</td>\n",
       "    </tr>\n",
       "  </tbody>\n",
       "</table>\n",
       "</div>"
      ],
      "text/plain": [
       "                                game_id                               home_id  \\\n",
       "0  07e3e7a6-e178-4610-a8e7-51ab0f5df03e  18e89867-9201-41ce-ba19-fadddf92fa17   \n",
       "1  07e3e7a6-e178-4610-a8e7-51ab0f5df03e  18e89867-9201-41ce-ba19-fadddf92fa17   \n",
       "2  07e3e7a6-e178-4610-a8e7-51ab0f5df03e  18e89867-9201-41ce-ba19-fadddf92fa17   \n",
       "3  07e3e7a6-e178-4610-a8e7-51ab0f5df03e  18e89867-9201-41ce-ba19-fadddf92fa17   \n",
       "4  07e3e7a6-e178-4610-a8e7-51ab0f5df03e  18e89867-9201-41ce-ba19-fadddf92fa17   \n",
       "\n",
       "                                away_id                    possession_team_id  \\\n",
       "0  0095032d-6143-44f2-8974-f6815fc56c5b  0095032d-6143-44f2-8974-f6815fc56c5b   \n",
       "1  0095032d-6143-44f2-8974-f6815fc56c5b  0095032d-6143-44f2-8974-f6815fc56c5b   \n",
       "2  0095032d-6143-44f2-8974-f6815fc56c5b  0095032d-6143-44f2-8974-f6815fc56c5b   \n",
       "3  0095032d-6143-44f2-8974-f6815fc56c5b  0095032d-6143-44f2-8974-f6815fc56c5b   \n",
       "4  0095032d-6143-44f2-8974-f6815fc56c5b  0095032d-6143-44f2-8974-f6815fc56c5b   \n",
       "\n",
       "   points_scored home_or_away_score  \n",
       "0            2.0               home  \n",
       "1            2.0               home  \n",
       "2            2.0               home  \n",
       "3            1.0               home  \n",
       "4            2.0               home  "
      ]
     },
     "execution_count": 243,
     "metadata": {},
     "output_type": "execute_result"
    }
   ],
   "source": [
    "def home_or_away_score(row):\n",
    "    if row['possession_team_id'] == row['home_id']:\n",
    "      return 'away'\n",
    "    else: \n",
    "      return 'home'\n",
    "  \n",
    "df['home_or_away_score'] = df.apply(home_or_away_score, axis=1)\n",
    "df.head()"
   ]
  },
  {
   "cell_type": "code",
   "execution_count": 244,
   "metadata": {},
   "outputs": [
    {
     "data": {
      "text/html": [
       "<div>\n",
       "<style scoped>\n",
       "    .dataframe tbody tr th:only-of-type {\n",
       "        vertical-align: middle;\n",
       "    }\n",
       "\n",
       "    .dataframe tbody tr th {\n",
       "        vertical-align: top;\n",
       "    }\n",
       "\n",
       "    .dataframe thead th {\n",
       "        text-align: right;\n",
       "    }\n",
       "</style>\n",
       "<table border=\"1\" class=\"dataframe\">\n",
       "  <thead>\n",
       "    <tr style=\"text-align: right;\">\n",
       "      <th></th>\n",
       "      <th></th>\n",
       "      <th>points_scored</th>\n",
       "    </tr>\n",
       "    <tr>\n",
       "      <th>game_id</th>\n",
       "      <th>home_or_away_score</th>\n",
       "      <th></th>\n",
       "    </tr>\n",
       "  </thead>\n",
       "  <tbody>\n",
       "    <tr>\n",
       "      <th rowspan=\"2\" valign=\"top\">000872e5-f02a-4b64-ac73-b6b1a7ad10ec</th>\n",
       "      <th>away</th>\n",
       "      <td>17.0</td>\n",
       "    </tr>\n",
       "    <tr>\n",
       "      <th>home</th>\n",
       "      <td>15.0</td>\n",
       "    </tr>\n",
       "    <tr>\n",
       "      <th rowspan=\"2\" valign=\"top\">000918c3-b8bf-472a-9a12-94a1984700eb</th>\n",
       "      <th>away</th>\n",
       "      <td>29.0</td>\n",
       "    </tr>\n",
       "    <tr>\n",
       "      <th>home</th>\n",
       "      <td>20.0</td>\n",
       "    </tr>\n",
       "    <tr>\n",
       "      <th rowspan=\"2\" valign=\"top\">000b3698-3ce9-44bd-954b-65703a2c6ef1</th>\n",
       "      <th>away</th>\n",
       "      <td>18.0</td>\n",
       "    </tr>\n",
       "    <tr>\n",
       "      <th>home</th>\n",
       "      <td>12.0</td>\n",
       "    </tr>\n",
       "    <tr>\n",
       "      <th rowspan=\"2\" valign=\"top\">00114857-a305-499f-95d2-2b1762266681</th>\n",
       "      <th>away</th>\n",
       "      <td>17.0</td>\n",
       "    </tr>\n",
       "    <tr>\n",
       "      <th>home</th>\n",
       "      <td>14.0</td>\n",
       "    </tr>\n",
       "    <tr>\n",
       "      <th rowspan=\"2\" valign=\"top\">0012eab2-237c-4df1-846b-36430530867f</th>\n",
       "      <th>away</th>\n",
       "      <td>26.0</td>\n",
       "    </tr>\n",
       "    <tr>\n",
       "      <th>home</th>\n",
       "      <td>24.0</td>\n",
       "    </tr>\n",
       "  </tbody>\n",
       "</table>\n",
       "</div>"
      ],
      "text/plain": [
       "                                                         points_scored\n",
       "game_id                              home_or_away_score               \n",
       "000872e5-f02a-4b64-ac73-b6b1a7ad10ec away                         17.0\n",
       "                                     home                         15.0\n",
       "000918c3-b8bf-472a-9a12-94a1984700eb away                         29.0\n",
       "                                     home                         20.0\n",
       "000b3698-3ce9-44bd-954b-65703a2c6ef1 away                         18.0\n",
       "                                     home                         12.0\n",
       "00114857-a305-499f-95d2-2b1762266681 away                         17.0\n",
       "                                     home                         14.0\n",
       "0012eab2-237c-4df1-846b-36430530867f away                         26.0\n",
       "                                     home                         24.0"
      ]
     },
     "execution_count": 244,
     "metadata": {},
     "output_type": "execute_result"
    }
   ],
   "source": [
    "grouped_df = df.groupby( [ \"game_id\", \"home_or_away_score\"]).sum()\n",
    "grouped_df.head(10) "
   ]
  },
  {
   "cell_type": "code",
   "execution_count": 245,
   "metadata": {},
   "outputs": [],
   "source": [
    "grouped_df.reset_index(inplace=True)"
   ]
  },
  {
   "cell_type": "code",
   "execution_count": 246,
   "metadata": {},
   "outputs": [
    {
     "data": {
      "text/html": [
       "<div>\n",
       "<style scoped>\n",
       "    .dataframe tbody tr th:only-of-type {\n",
       "        vertical-align: middle;\n",
       "    }\n",
       "\n",
       "    .dataframe tbody tr th {\n",
       "        vertical-align: top;\n",
       "    }\n",
       "\n",
       "    .dataframe thead th {\n",
       "        text-align: right;\n",
       "    }\n",
       "</style>\n",
       "<table border=\"1\" class=\"dataframe\">\n",
       "  <thead>\n",
       "    <tr style=\"text-align: right;\">\n",
       "      <th></th>\n",
       "      <th>game_id</th>\n",
       "      <th>home_or_away_score</th>\n",
       "      <th>points_scored</th>\n",
       "    </tr>\n",
       "  </thead>\n",
       "  <tbody>\n",
       "    <tr>\n",
       "      <th>0</th>\n",
       "      <td>000872e5-f02a-4b64-ac73-b6b1a7ad10ec</td>\n",
       "      <td>away</td>\n",
       "      <td>17.0</td>\n",
       "    </tr>\n",
       "    <tr>\n",
       "      <th>1</th>\n",
       "      <td>000872e5-f02a-4b64-ac73-b6b1a7ad10ec</td>\n",
       "      <td>home</td>\n",
       "      <td>15.0</td>\n",
       "    </tr>\n",
       "    <tr>\n",
       "      <th>2</th>\n",
       "      <td>000918c3-b8bf-472a-9a12-94a1984700eb</td>\n",
       "      <td>away</td>\n",
       "      <td>29.0</td>\n",
       "    </tr>\n",
       "    <tr>\n",
       "      <th>3</th>\n",
       "      <td>000918c3-b8bf-472a-9a12-94a1984700eb</td>\n",
       "      <td>home</td>\n",
       "      <td>20.0</td>\n",
       "    </tr>\n",
       "    <tr>\n",
       "      <th>4</th>\n",
       "      <td>000b3698-3ce9-44bd-954b-65703a2c6ef1</td>\n",
       "      <td>away</td>\n",
       "      <td>18.0</td>\n",
       "    </tr>\n",
       "    <tr>\n",
       "      <th>5</th>\n",
       "      <td>000b3698-3ce9-44bd-954b-65703a2c6ef1</td>\n",
       "      <td>home</td>\n",
       "      <td>12.0</td>\n",
       "    </tr>\n",
       "    <tr>\n",
       "      <th>6</th>\n",
       "      <td>00114857-a305-499f-95d2-2b1762266681</td>\n",
       "      <td>away</td>\n",
       "      <td>17.0</td>\n",
       "    </tr>\n",
       "    <tr>\n",
       "      <th>7</th>\n",
       "      <td>00114857-a305-499f-95d2-2b1762266681</td>\n",
       "      <td>home</td>\n",
       "      <td>14.0</td>\n",
       "    </tr>\n",
       "    <tr>\n",
       "      <th>8</th>\n",
       "      <td>0012eab2-237c-4df1-846b-36430530867f</td>\n",
       "      <td>away</td>\n",
       "      <td>26.0</td>\n",
       "    </tr>\n",
       "    <tr>\n",
       "      <th>9</th>\n",
       "      <td>0012eab2-237c-4df1-846b-36430530867f</td>\n",
       "      <td>home</td>\n",
       "      <td>24.0</td>\n",
       "    </tr>\n",
       "  </tbody>\n",
       "</table>\n",
       "</div>"
      ],
      "text/plain": [
       "                                game_id home_or_away_score  points_scored\n",
       "0  000872e5-f02a-4b64-ac73-b6b1a7ad10ec               away           17.0\n",
       "1  000872e5-f02a-4b64-ac73-b6b1a7ad10ec               home           15.0\n",
       "2  000918c3-b8bf-472a-9a12-94a1984700eb               away           29.0\n",
       "3  000918c3-b8bf-472a-9a12-94a1984700eb               home           20.0\n",
       "4  000b3698-3ce9-44bd-954b-65703a2c6ef1               away           18.0\n",
       "5  000b3698-3ce9-44bd-954b-65703a2c6ef1               home           12.0\n",
       "6  00114857-a305-499f-95d2-2b1762266681               away           17.0\n",
       "7  00114857-a305-499f-95d2-2b1762266681               home           14.0\n",
       "8  0012eab2-237c-4df1-846b-36430530867f               away           26.0\n",
       "9  0012eab2-237c-4df1-846b-36430530867f               home           24.0"
      ]
     },
     "execution_count": 246,
     "metadata": {},
     "output_type": "execute_result"
    }
   ],
   "source": [
    "grouped_df.head(10)"
   ]
  },
  {
   "cell_type": "code",
   "execution_count": 247,
   "metadata": {},
   "outputs": [
    {
     "data": {
      "text/plain": [
       "0    000872e5-f02a-4b64-ac73-b6b1a7ad10ec\n",
       "1    000918c3-b8bf-472a-9a12-94a1984700eb\n",
       "2    000b3698-3ce9-44bd-954b-65703a2c6ef1\n",
       "3    00114857-a305-499f-95d2-2b1762266681\n",
       "4    0012eab2-237c-4df1-846b-36430530867f\n",
       "Name: game_id, dtype: object"
      ]
     },
     "execution_count": 247,
     "metadata": {},
     "output_type": "execute_result"
    }
   ],
   "source": [
    "game_id = grouped_df.iloc[::2, 0].reset_index(drop=True)\n",
    "game_id.head()"
   ]
  },
  {
   "cell_type": "code",
   "execution_count": 248,
   "metadata": {},
   "outputs": [
    {
     "data": {
      "text/plain": [
       "0    17.0\n",
       "1    29.0\n",
       "2    18.0\n",
       "3    17.0\n",
       "4    26.0\n",
       "Name: points_scored, dtype: float64"
      ]
     },
     "execution_count": 248,
     "metadata": {},
     "output_type": "execute_result"
    }
   ],
   "source": [
    "away_score = grouped_df.iloc[::2, 2].reset_index(drop=True)\n",
    "away_score.head()"
   ]
  },
  {
   "cell_type": "code",
   "execution_count": 249,
   "metadata": {},
   "outputs": [
    {
     "data": {
      "text/plain": [
       "0    15.0\n",
       "1    20.0\n",
       "2    12.0\n",
       "3    14.0\n",
       "4    24.0\n",
       "Name: points_scored, dtype: float64"
      ]
     },
     "execution_count": 249,
     "metadata": {},
     "output_type": "execute_result"
    }
   ],
   "source": [
    "home_score = grouped_df.iloc[1::2, 2].reset_index(drop=True)\n",
    "home_score.head()"
   ]
  },
  {
   "cell_type": "code",
   "execution_count": 250,
   "metadata": {},
   "outputs": [
    {
     "data": {
      "text/plain": [
       "0    2.0\n",
       "1    9.0\n",
       "2    6.0\n",
       "3    3.0\n",
       "4    2.0\n",
       "Name: points_scored, dtype: float64"
      ]
     },
     "execution_count": 250,
     "metadata": {},
     "output_type": "execute_result"
    }
   ],
   "source": [
    "diff = np.subtract(away_score, home_score).reset_index(drop=True)\n",
    "diff.head()"
   ]
  },
  {
   "cell_type": "code",
   "execution_count": 251,
   "metadata": {},
   "outputs": [
    {
     "data": {
      "text/html": [
       "<div>\n",
       "<style scoped>\n",
       "    .dataframe tbody tr th:only-of-type {\n",
       "        vertical-align: middle;\n",
       "    }\n",
       "\n",
       "    .dataframe tbody tr th {\n",
       "        vertical-align: top;\n",
       "    }\n",
       "\n",
       "    .dataframe thead th {\n",
       "        text-align: right;\n",
       "    }\n",
       "</style>\n",
       "<table border=\"1\" class=\"dataframe\">\n",
       "  <thead>\n",
       "    <tr style=\"text-align: right;\">\n",
       "      <th></th>\n",
       "      <th>diff</th>\n",
       "      <th>game_id</th>\n",
       "    </tr>\n",
       "  </thead>\n",
       "  <tbody>\n",
       "    <tr>\n",
       "      <th>0</th>\n",
       "      <td>6.0</td>\n",
       "      <td>000b3698-3ce9-44bd-954b-65703a2c6ef1</td>\n",
       "    </tr>\n",
       "    <tr>\n",
       "      <th>1</th>\n",
       "      <td>6.0</td>\n",
       "      <td>00323329-7205-46c6-9add-26d1422d4b73</td>\n",
       "    </tr>\n",
       "    <tr>\n",
       "      <th>2</th>\n",
       "      <td>6.0</td>\n",
       "      <td>00488111-6f5a-406c-ada5-4dc4b4c9a2f5</td>\n",
       "    </tr>\n",
       "    <tr>\n",
       "      <th>3</th>\n",
       "      <td>6.0</td>\n",
       "      <td>00c9a08b-dc98-45f9-811f-998807ffc53d</td>\n",
       "    </tr>\n",
       "    <tr>\n",
       "      <th>4</th>\n",
       "      <td>6.0</td>\n",
       "      <td>01571a1e-306f-42e8-8f19-f8ec4ffe9cde</td>\n",
       "    </tr>\n",
       "  </tbody>\n",
       "</table>\n",
       "</div>"
      ],
      "text/plain": [
       "   diff                               game_id\n",
       "0   6.0  000b3698-3ce9-44bd-954b-65703a2c6ef1\n",
       "1   6.0  00323329-7205-46c6-9add-26d1422d4b73\n",
       "2   6.0  00488111-6f5a-406c-ada5-4dc4b4c9a2f5\n",
       "3   6.0  00c9a08b-dc98-45f9-811f-998807ffc53d\n",
       "4   6.0  01571a1e-306f-42e8-8f19-f8ec4ffe9cde"
      ]
     },
     "execution_count": 251,
     "metadata": {},
     "output_type": "execute_result"
    }
   ],
   "source": [
    "finale = pd.DataFrame({\"game_id\" : game_id, \"diff\" : diff})\n",
    "finale = finale[finale['diff']==6].reset_index(drop=True)\n",
    "finale.head()"
   ]
  },
  {
   "cell_type": "code",
   "execution_count": 252,
   "metadata": {},
   "outputs": [
    {
     "data": {
      "text/plain": [
       "350"
      ]
     },
     "execution_count": 252,
     "metadata": {},
     "output_type": "execute_result"
    }
   ],
   "source": [
    "total_matches = len(finale)\n",
    "total_matches"
   ]
  },
  {
   "cell_type": "code",
   "execution_count": 253,
   "metadata": {},
   "outputs": [
    {
     "data": {
      "text/html": [
       "<div>\n",
       "<style scoped>\n",
       "    .dataframe tbody tr th:only-of-type {\n",
       "        vertical-align: middle;\n",
       "    }\n",
       "\n",
       "    .dataframe tbody tr th {\n",
       "        vertical-align: top;\n",
       "    }\n",
       "\n",
       "    .dataframe thead th {\n",
       "        text-align: right;\n",
       "    }\n",
       "</style>\n",
       "<table border=\"1\" class=\"dataframe\">\n",
       "  <thead>\n",
       "    <tr style=\"text-align: right;\">\n",
       "      <th></th>\n",
       "      <th>game_id</th>\n",
       "    </tr>\n",
       "  </thead>\n",
       "  <tbody>\n",
       "    <tr>\n",
       "      <th>0</th>\n",
       "      <td>d6617923-0b23-49e4-af9b-9e4d0243e45c</td>\n",
       "    </tr>\n",
       "    <tr>\n",
       "      <th>1</th>\n",
       "      <td>ffb463a4-dd3c-4ed9-b503-311b95ef0295</td>\n",
       "    </tr>\n",
       "    <tr>\n",
       "      <th>2</th>\n",
       "      <td>d9cf6c1e-2125-4dbe-9c34-d0f8de911b10</td>\n",
       "    </tr>\n",
       "    <tr>\n",
       "      <th>3</th>\n",
       "      <td>c4e04822-4888-4ac1-b79f-183b9be8060f</td>\n",
       "    </tr>\n",
       "    <tr>\n",
       "      <th>4</th>\n",
       "      <td>dab342a9-2f3b-4d23-90ef-3ab447df03d4</td>\n",
       "    </tr>\n",
       "  </tbody>\n",
       "</table>\n",
       "</div>"
      ],
      "text/plain": [
       "                                game_id\n",
       "0  d6617923-0b23-49e4-af9b-9e4d0243e45c\n",
       "1  ffb463a4-dd3c-4ed9-b503-311b95ef0295\n",
       "2  d9cf6c1e-2125-4dbe-9c34-d0f8de911b10\n",
       "3  c4e04822-4888-4ac1-b79f-183b9be8060f\n",
       "4  dab342a9-2f3b-4d23-90ef-3ab447df03d4"
      ]
     },
     "execution_count": 253,
     "metadata": {},
     "output_type": "execute_result"
    }
   ],
   "source": [
    "home_win = \"\"\"\n",
    "  SELECT game_id\n",
    "FROM `bigquery-public-data.ncaa_basketball.mbb_games_sr`\n",
    "WHERE h_points_game > a_points_game\n",
    "\"\"\"\n",
    "\n",
    "home_win = bq.Query(home_win).execute().result().to_dataframe()\n",
    "home_win.head()"
   ]
  },
  {
   "cell_type": "code",
   "execution_count": 254,
   "metadata": {},
   "outputs": [
    {
     "data": {
      "text/plain": [
       "190"
      ]
     },
     "execution_count": 254,
     "metadata": {},
     "output_type": "execute_result"
    }
   ],
   "source": [
    "merged_Frame = pd.merge(home_win,finale, on = 'game_id')\n",
    "len(merged_Frame)"
   ]
  },
  {
   "cell_type": "code",
   "execution_count": 255,
   "metadata": {},
   "outputs": [
    {
     "name": "stdout",
     "output_type": "stream",
     "text": [
      "The probability is 54.0 %\n"
     ]
    }
   ],
   "source": [
    "print(\"The probability is\",round(190/350, 2)*100,\"%\")"
   ]
  },
  {
   "cell_type": "code",
   "execution_count": null,
   "metadata": {},
   "outputs": [],
   "source": []
  },
  {
   "cell_type": "code",
   "execution_count": null,
   "metadata": {},
   "outputs": [],
   "source": []
  }
 ],
 "metadata": {
  "kernelspec": {
   "display_name": "Python 3",
   "language": "python",
   "name": "python3"
  },
  "language_info": {
   "codemirror_mode": {
    "name": "ipython",
    "version": 3
   },
   "file_extension": ".py",
   "mimetype": "text/x-python",
   "name": "python",
   "nbconvert_exporter": "python",
   "pygments_lexer": "ipython3",
   "version": "3.5.5"
  }
 },
 "nbformat": 4,
 "nbformat_minor": 2
}
