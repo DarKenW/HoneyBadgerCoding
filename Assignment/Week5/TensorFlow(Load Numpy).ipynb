{
 "cells": [
  {
   "cell_type": "markdown",
   "metadata": {},
   "source": [
    "# Tensorflow HW"
   ]
  },
  {
   "cell_type": "markdown",
   "metadata": {},
   "source": [
    "Using the DNN regressor in TF, construct a Neural Network capable of finding the volume of a cylinder given a radius (r) and (h). Simulate the data, which will be comprised of r,h, and V. Generate more data if the results are poor as measure by RMSE."
   ]
  },
  {
   "cell_type": "code",
   "execution_count": 77,
   "metadata": {},
   "outputs": [],
   "source": [
    "import tensorflow as tf\n",
    "from tensorflow.estimator import DNNRegressor \n",
    "from tensorflow.estimator.inputs import numpy_input_fn \n",
    "from sklearn import preprocessing, model_selection, metrics\n",
    "from tensorflow.python.training import optimizer\n",
    "import pandas as pd\n",
    "import random\n",
    "import numpy as np"
   ]
  },
  {
   "cell_type": "markdown",
   "metadata": {},
   "source": [
    "## Data preparation"
   ]
  },
  {
   "cell_type": "code",
   "execution_count": 78,
   "metadata": {},
   "outputs": [],
   "source": [
    "# generate the data and added some noise to it. + np.random.rand(999)\n",
    "radius =  np.random.uniform(1, 100, 1000000) \n",
    "height = np.random.uniform(1, 100, 1000000) \n",
    "volume = np.pi * radius**2 * height"
   ]
  },
  {
   "cell_type": "code",
   "execution_count": 79,
   "metadata": {},
   "outputs": [],
   "source": [
    "X = pd.DataFrame({\"radius\": radius, \"height\": height})\n",
    "y = volume"
   ]
  },
  {
   "cell_type": "code",
   "execution_count": 80,
   "metadata": {},
   "outputs": [],
   "source": [
    "x_train, x_test, y_train, y_test = model_selection.train_test_split(X, y, test_size=0.25, random_state=42)"
   ]
  },
  {
   "cell_type": "code",
   "execution_count": 81,
   "metadata": {},
   "outputs": [],
   "source": [
    "scaler = preprocessing.StandardScaler()\n",
    "x_train = scaler.fit_transform(x_train)"
   ]
  },
  {
   "cell_type": "code",
   "execution_count": 82,
   "metadata": {},
   "outputs": [],
   "source": [
    "#machine learning models take numbers as input and outputs numbers for efficient implementation. \n",
    "#In Tensorflow, the models take Dense Tensors as input and outputs Dense Tensors\\\n",
    "#we only get numeric column here\n",
    "feature_columns = [tf.feature_column.numeric_column('x', shape=np.array(x_train).shape[1:])]"
   ]
  },
  {
   "cell_type": "markdown",
   "metadata": {},
   "source": [
    "## Training model"
   ]
  },
  {
   "cell_type": "code",
   "execution_count": 88,
   "metadata": {},
   "outputs": [
    {
     "name": "stdout",
     "output_type": "stream",
     "text": [
      "INFO:tensorflow:Using default config.\n",
      "WARNING:tensorflow:Using temporary folder as model directory: /var/folders/x2/rwr8_g2x0_v7z00l90vswnwc0000gn/T/tmp4vzh3lpf\n",
      "INFO:tensorflow:Using config: {'_model_dir': '/var/folders/x2/rwr8_g2x0_v7z00l90vswnwc0000gn/T/tmp4vzh3lpf', '_tf_random_seed': None, '_save_summary_steps': 100, '_save_checkpoints_steps': None, '_save_checkpoints_secs': 600, '_session_config': allow_soft_placement: true\n",
      "graph_options {\n",
      "  rewrite_options {\n",
      "    meta_optimizer_iterations: ONE\n",
      "  }\n",
      "}\n",
      ", '_keep_checkpoint_max': 5, '_keep_checkpoint_every_n_hours': 10000, '_log_step_count_steps': 100, '_train_distribute': None, '_device_fn': None, '_protocol': None, '_eval_distribute': None, '_experimental_distribute': None, '_service': None, '_cluster_spec': <tensorflow.python.training.server_lib.ClusterSpec object at 0x12e1366d8>, '_task_type': 'worker', '_task_id': 0, '_global_id_in_cluster': 0, '_master': '', '_evaluation_master': '', '_is_chief': True, '_num_ps_replicas': 0, '_num_worker_replicas': 1}\n",
      "INFO:tensorflow:Calling model_fn.\n",
      "INFO:tensorflow:Done calling model_fn.\n",
      "INFO:tensorflow:Create CheckpointSaverHook.\n",
      "INFO:tensorflow:Graph was finalized.\n",
      "INFO:tensorflow:Running local_init_op.\n",
      "INFO:tensorflow:Done running local_init_op.\n",
      "INFO:tensorflow:Saving checkpoints for 0 into /var/folders/x2/rwr8_g2x0_v7z00l90vswnwc0000gn/T/tmp4vzh3lpf/model.ckpt.\n",
      "INFO:tensorflow:loss = 72446384000000.0, step = 1\n",
      "INFO:tensorflow:global_step/sec: 161.632\n",
      "INFO:tensorflow:loss = 2023040200000.0, step = 101 (0.624 sec)\n",
      "INFO:tensorflow:global_step/sec: 170.005\n",
      "INFO:tensorflow:loss = 1066117370000.0, step = 201 (0.581 sec)\n",
      "INFO:tensorflow:global_step/sec: 180.771\n",
      "INFO:tensorflow:loss = 532600230000.0, step = 301 (0.553 sec)\n",
      "INFO:tensorflow:global_step/sec: 156.047\n",
      "INFO:tensorflow:loss = 884467200000.0, step = 401 (0.641 sec)\n",
      "INFO:tensorflow:global_step/sec: 170.864\n",
      "INFO:tensorflow:loss = 354668350000.0, step = 501 (0.585 sec)\n",
      "INFO:tensorflow:global_step/sec: 164.434\n",
      "INFO:tensorflow:loss = 328780150000.0, step = 601 (0.608 sec)\n",
      "INFO:tensorflow:global_step/sec: 168.294\n",
      "INFO:tensorflow:loss = 279961600000.0, step = 701 (0.594 sec)\n",
      "INFO:tensorflow:global_step/sec: 175.96\n",
      "INFO:tensorflow:loss = 210997220000.0, step = 801 (0.568 sec)\n",
      "INFO:tensorflow:global_step/sec: 167.974\n",
      "INFO:tensorflow:loss = 310523130000.0, step = 901 (0.595 sec)\n",
      "INFO:tensorflow:global_step/sec: 172.534\n",
      "INFO:tensorflow:loss = 159405020000.0, step = 1001 (0.580 sec)\n",
      "INFO:tensorflow:global_step/sec: 174.129\n",
      "INFO:tensorflow:loss = 235706140000.0, step = 1101 (0.574 sec)\n",
      "INFO:tensorflow:global_step/sec: 166.252\n",
      "INFO:tensorflow:loss = 126632130000.0, step = 1201 (0.602 sec)\n",
      "INFO:tensorflow:global_step/sec: 161.957\n",
      "INFO:tensorflow:loss = 146532070000.0, step = 1301 (0.617 sec)\n",
      "INFO:tensorflow:global_step/sec: 156.429\n",
      "INFO:tensorflow:loss = 95534250000.0, step = 1401 (0.640 sec)\n",
      "INFO:tensorflow:global_step/sec: 146.367\n",
      "INFO:tensorflow:loss = 119425500000.0, step = 1501 (0.684 sec)\n",
      "INFO:tensorflow:global_step/sec: 151.481\n",
      "INFO:tensorflow:loss = 156598260000.0, step = 1601 (0.658 sec)\n",
      "INFO:tensorflow:global_step/sec: 139.18\n",
      "INFO:tensorflow:loss = 67468690000.0, step = 1701 (0.719 sec)\n",
      "INFO:tensorflow:global_step/sec: 150.721\n",
      "INFO:tensorflow:loss = 63238365000.0, step = 1801 (0.662 sec)\n",
      "INFO:tensorflow:global_step/sec: 145.983\n",
      "INFO:tensorflow:loss = 92395586000.0, step = 1901 (0.685 sec)\n",
      "INFO:tensorflow:global_step/sec: 160.986\n",
      "INFO:tensorflow:loss = 100612380000.0, step = 2001 (0.621 sec)\n",
      "INFO:tensorflow:global_step/sec: 154.915\n",
      "INFO:tensorflow:loss = 82558980000.0, step = 2101 (0.646 sec)\n",
      "INFO:tensorflow:global_step/sec: 153.95\n",
      "INFO:tensorflow:loss = 165899140000.0, step = 2201 (0.649 sec)\n",
      "INFO:tensorflow:global_step/sec: 170.421\n",
      "INFO:tensorflow:loss = 137234880000.0, step = 2301 (0.587 sec)\n",
      "INFO:tensorflow:global_step/sec: 149.623\n",
      "INFO:tensorflow:loss = 81553015000.0, step = 2401 (0.668 sec)\n",
      "INFO:tensorflow:global_step/sec: 124.154\n",
      "INFO:tensorflow:loss = 98303160000.0, step = 2501 (0.807 sec)\n",
      "INFO:tensorflow:global_step/sec: 155.029\n",
      "INFO:tensorflow:loss = 98820194000.0, step = 2601 (0.644 sec)\n",
      "INFO:tensorflow:global_step/sec: 147.939\n",
      "INFO:tensorflow:loss = 98737080000.0, step = 2701 (0.676 sec)\n",
      "INFO:tensorflow:global_step/sec: 133.791\n",
      "INFO:tensorflow:loss = 120515400000.0, step = 2801 (0.747 sec)\n",
      "INFO:tensorflow:global_step/sec: 123.914\n",
      "INFO:tensorflow:loss = 50577187000.0, step = 2901 (0.807 sec)\n",
      "INFO:tensorflow:global_step/sec: 119.127\n",
      "INFO:tensorflow:loss = 89935160000.0, step = 3001 (0.839 sec)\n",
      "INFO:tensorflow:global_step/sec: 154.326\n",
      "INFO:tensorflow:loss = 95596634000.0, step = 3101 (0.648 sec)\n",
      "INFO:tensorflow:global_step/sec: 130.19\n",
      "INFO:tensorflow:loss = 104225560000.0, step = 3201 (0.768 sec)\n",
      "INFO:tensorflow:global_step/sec: 147.5\n",
      "INFO:tensorflow:loss = 70910345000.0, step = 3301 (0.678 sec)\n",
      "INFO:tensorflow:global_step/sec: 156.073\n",
      "INFO:tensorflow:loss = 94088020000.0, step = 3401 (0.641 sec)\n",
      "INFO:tensorflow:global_step/sec: 155.28\n",
      "INFO:tensorflow:loss = 63677825000.0, step = 3501 (0.645 sec)\n",
      "INFO:tensorflow:global_step/sec: 118.635\n",
      "INFO:tensorflow:loss = 78801860000.0, step = 3601 (0.842 sec)\n",
      "INFO:tensorflow:global_step/sec: 111.714\n",
      "INFO:tensorflow:loss = 82987370000.0, step = 3701 (0.896 sec)\n",
      "INFO:tensorflow:global_step/sec: 132.772\n",
      "INFO:tensorflow:loss = 75319650000.0, step = 3801 (0.752 sec)\n",
      "INFO:tensorflow:global_step/sec: 161.546\n",
      "INFO:tensorflow:loss = 86175660000.0, step = 3901 (0.619 sec)\n",
      "INFO:tensorflow:global_step/sec: 169.645\n",
      "INFO:tensorflow:loss = 72062600000.0, step = 4001 (0.589 sec)\n",
      "INFO:tensorflow:global_step/sec: 173.623\n",
      "INFO:tensorflow:loss = 69144580000.0, step = 4101 (0.576 sec)\n",
      "INFO:tensorflow:global_step/sec: 163.755\n",
      "INFO:tensorflow:loss = 55608570000.0, step = 4201 (0.611 sec)\n",
      "INFO:tensorflow:global_step/sec: 176.871\n",
      "INFO:tensorflow:loss = 88038700000.0, step = 4301 (0.566 sec)\n",
      "INFO:tensorflow:global_step/sec: 177.495\n",
      "INFO:tensorflow:loss = 78689030000.0, step = 4401 (0.563 sec)\n",
      "INFO:tensorflow:global_step/sec: 165.208\n",
      "INFO:tensorflow:loss = 56476766000.0, step = 4501 (0.606 sec)\n",
      "INFO:tensorflow:global_step/sec: 165.943\n",
      "INFO:tensorflow:loss = 75087560000.0, step = 4601 (0.602 sec)\n",
      "INFO:tensorflow:global_step/sec: 175.513\n",
      "INFO:tensorflow:loss = 69495020000.0, step = 4701 (0.570 sec)\n",
      "INFO:tensorflow:global_step/sec: 172.625\n",
      "INFO:tensorflow:loss = 64612385000.0, step = 4801 (0.579 sec)\n",
      "INFO:tensorflow:global_step/sec: 177.062\n",
      "INFO:tensorflow:loss = 57646195000.0, step = 4901 (0.565 sec)\n",
      "INFO:tensorflow:global_step/sec: 175.648\n",
      "INFO:tensorflow:loss = 62979596000.0, step = 5001 (0.569 sec)\n",
      "INFO:tensorflow:global_step/sec: 177.973\n",
      "INFO:tensorflow:loss = 58366775000.0, step = 5101 (0.562 sec)\n",
      "INFO:tensorflow:global_step/sec: 178.3\n",
      "INFO:tensorflow:loss = 55348847000.0, step = 5201 (0.561 sec)\n",
      "INFO:tensorflow:global_step/sec: 178.469\n",
      "INFO:tensorflow:loss = 70822216000.0, step = 5301 (0.560 sec)\n",
      "INFO:tensorflow:global_step/sec: 177.32\n",
      "INFO:tensorflow:loss = 48014643000.0, step = 5401 (0.564 sec)\n",
      "INFO:tensorflow:global_step/sec: 177.669\n",
      "INFO:tensorflow:loss = 47345620000.0, step = 5501 (0.563 sec)\n",
      "INFO:tensorflow:global_step/sec: 168.466\n",
      "INFO:tensorflow:loss = 65846470000.0, step = 5601 (0.593 sec)\n",
      "INFO:tensorflow:global_step/sec: 178.355\n",
      "INFO:tensorflow:loss = 58380720000.0, step = 5701 (0.561 sec)\n",
      "INFO:tensorflow:global_step/sec: 176.632\n",
      "INFO:tensorflow:loss = 47565990000.0, step = 5801 (0.566 sec)\n",
      "INFO:tensorflow:Saving checkpoints for 5860 into /var/folders/x2/rwr8_g2x0_v7z00l90vswnwc0000gn/T/tmp4vzh3lpf/model.ckpt.\n",
      "INFO:tensorflow:Loss for final step: 12811426000.0.\n"
     ]
    },
    {
     "data": {
      "text/plain": [
       "<tensorflow.python.estimator.canned.dnn.DNNRegressor at 0x12e136c88>"
      ]
     },
     "execution_count": 88,
     "metadata": {},
     "output_type": "execute_result"
    }
   ],
   "source": [
    "train_input_fn = numpy_input_fn(\n",
    "    x={'x': x_train}, \n",
    "    y=y_train,     \n",
    "    batch_size=128,\n",
    "    num_epochs=1,\n",
    "    shuffle=True,\n",
    "    queue_capacity=1000,\n",
    "    num_threads=1)\n",
    "#returns input function that would feed dict of numpy arrays into the model.\n",
    "\n",
    "\n",
    "regressor = DNNRegressor(feature_columns=feature_columns, hidden_units=[1024, 512, 256],\n",
    "                        optimizer=tf.train.AdagradOptimizer(learning_rate=0.05)   #添加 optimizer\n",
    ")\n",
    "                         \n",
    "regressor.train(input_fn=train_input_fn, steps=20000) "
   ]
  },
  {
   "cell_type": "markdown",
   "metadata": {},
   "source": [
    "## Predicting "
   ]
  },
  {
   "cell_type": "code",
   "execution_count": 89,
   "metadata": {},
   "outputs": [
    {
     "name": "stdout",
     "output_type": "stream",
     "text": [
      "INFO:tensorflow:Calling model_fn.\n",
      "INFO:tensorflow:Done calling model_fn.\n",
      "INFO:tensorflow:Graph was finalized.\n",
      "INFO:tensorflow:Restoring parameters from /var/folders/x2/rwr8_g2x0_v7z00l90vswnwc0000gn/T/tmp4vzh3lpf/model.ckpt-5860\n",
      "INFO:tensorflow:Running local_init_op.\n",
      "INFO:tensorflow:Done running local_init_op.\n"
     ]
    }
   ],
   "source": [
    "x_transformed = scaler.transform(x_test)\n",
    "test_input_fn = numpy_input_fn(x={'x': x_transformed}, y=y_test, num_epochs=1, shuffle=False)\n",
    "predictions = regressor.predict(input_fn=test_input_fn)\n",
    "y_predicted = np.array(list(p['predictions'] for p in predictions))\n",
    "y_predicted = y_predicted.reshape(np.array(y_test).shape)"
   ]
  },
  {
   "cell_type": "markdown",
   "metadata": {},
   "source": [
    "## Evaluation"
   ]
  },
  {
   "cell_type": "code",
   "execution_count": 90,
   "metadata": {},
   "outputs": [
    {
     "name": "stdout",
     "output_type": "stream",
     "text": [
      "INFO:tensorflow:Calling model_fn.\n",
      "INFO:tensorflow:Done calling model_fn.\n",
      "INFO:tensorflow:Starting evaluation at 2018-10-28-02:50:07\n",
      "INFO:tensorflow:Graph was finalized.\n",
      "INFO:tensorflow:Restoring parameters from /var/folders/x2/rwr8_g2x0_v7z00l90vswnwc0000gn/T/tmp4vzh3lpf/model.ckpt-5860\n",
      "INFO:tensorflow:Running local_init_op.\n",
      "INFO:tensorflow:Done running local_init_op.\n",
      "INFO:tensorflow:Finished evaluation at 2018-10-28-02:50:12\n",
      "INFO:tensorflow:Saving dict for global step 5860: average_loss = 395605250.0, global_step = 5860, label/mean = 533685.6, loss = 50614796000.0, prediction/mean = 534677.8\n",
      "INFO:tensorflow:Saving 'checkpoint_path' summary for global step 5860: /var/folders/x2/rwr8_g2x0_v7z00l90vswnwc0000gn/T/tmp4vzh3lpf/model.ckpt-5860\n"
     ]
    },
    {
     "data": {
      "text/plain": [
       "{'average_loss': 395605250.0,\n",
       " 'global_step': 5860,\n",
       " 'label/mean': 533685.6,\n",
       " 'loss': 50614796000.0,\n",
       " 'prediction/mean': 534677.8}"
      ]
     },
     "execution_count": 90,
     "metadata": {},
     "output_type": "execute_result"
    }
   ],
   "source": [
    "regressor.evaluate(input_fn = test_input_fn)"
   ]
  },
  {
   "cell_type": "code",
   "execution_count": 91,
   "metadata": {},
   "outputs": [
    {
     "name": "stdout",
     "output_type": "stream",
     "text": [
      "RMSE = 19889.834221\n"
     ]
    }
   ],
   "source": [
    "score_sklearn = metrics.mean_squared_error(y_predicted, y_test)\n",
    "print('RMSE = {0:f}'.format(score_sklearn**(0.5)))"
   ]
  },
  {
   "cell_type": "code",
   "execution_count": null,
   "metadata": {},
   "outputs": [],
   "source": []
  }
 ],
 "metadata": {
  "kernelspec": {
   "display_name": "Python 3",
   "language": "python",
   "name": "python3"
  },
  "language_info": {
   "codemirror_mode": {
    "name": "ipython",
    "version": 3
   },
   "file_extension": ".py",
   "mimetype": "text/x-python",
   "name": "python",
   "nbconvert_exporter": "python",
   "pygments_lexer": "ipython3",
   "version": "3.6.5"
  }
 },
 "nbformat": 4,
 "nbformat_minor": 2
}
